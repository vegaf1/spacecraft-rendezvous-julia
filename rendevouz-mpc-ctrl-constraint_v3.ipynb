{
 "cells": [
  {
   "cell_type": "code",
   "execution_count": 1,
   "metadata": {},
   "outputs": [
    {
     "name": "stderr",
     "output_type": "stream",
     "text": [
      "WARNING: Method definition isapprox(IntervalSets.AbstractInterval{T} where T, IntervalSets.AbstractInterval{T} where T) in module IntervalSets at /home/faustovega/.julia/packages/IntervalSets/kyCuf/src/IntervalSets.jl:296 overwritten in module DomainSets at /home/faustovega/.julia/packages/DomainSets/aafhp/src/domains/interval.jl:52.\n",
      "ERROR: Method overwriting is not permitted during Module precompilation. Use `__precompile__(false)` to opt-out of precompilation.\n",
      "WARNING: Method definition isapprox(IntervalSets.AbstractInterval{T} where T, IntervalSets.AbstractInterval{T} where T) in module IntervalSets at /home/faustovega/.julia/packages/IntervalSets/kyCuf/src/IntervalSets.jl:296 overwritten in module DomainSets at /home/faustovega/.julia/packages/DomainSets/aafhp/src/domains/interval.jl:52.\n",
      "ERROR: Method overwriting is not permitted during Module precompilation. Use `__precompile__(false)` to opt-out of precompilation.\n",
      "WARNING: Method definition isapprox(IntervalSets.AbstractInterval{T} where T, IntervalSets.AbstractInterval{T} where T) in module IntervalSets at /home/faustovega/.julia/packages/IntervalSets/kyCuf/src/IntervalSets.jl:296 overwritten in module DomainSets at /home/faustovega/.julia/packages/DomainSets/aafhp/src/domains/interval.jl:52.\n",
      "ERROR: Method overwriting is not permitted during Module precompilation. Use `__precompile__(false)` to opt-out of precompilation.\n",
      "WARNING: Method definition isapprox(IntervalSets.AbstractInterval{T} where T, IntervalSets.AbstractInterval{T} where T) in module IntervalSets at /home/faustovega/.julia/packages/IntervalSets/kyCuf/src/IntervalSets.jl:296 overwritten in module DomainSets at /home/faustovega/.julia/packages/DomainSets/aafhp/src/domains/interval.jl:52.\n",
      "ERROR: Method overwriting is not permitted during Module precompilation. Use `__precompile__(false)` to opt-out of precompilation.\n",
      "WARNING: Method definition isapprox(IntervalSets.AbstractInterval{T} where T, IntervalSets.AbstractInterval{T} where T) in module IntervalSets at /home/faustovega/.julia/packages/IntervalSets/kyCuf/src/IntervalSets.jl:296 overwritten in module DomainSets at /home/faustovega/.julia/packages/DomainSets/aafhp/src/domains/interval.jl:52.\n",
      "ERROR: Method overwriting is not permitted during Module precompilation. Use `__precompile__(false)` to opt-out of precompilation.\n",
      "WARNING: method definition for namespace_expr at /home/faustovega/.julia/packages/ModelingToolkit/H0KaK/src/systems/abstractsystem.jl:405 declares type variable T but does not use it.\n",
      "WARNING: both DiffEqJump and DelayDiffEq export \"first_tstop\"; uses of it in module DifferentialEquations must be qualified\n",
      "WARNING: both DiffEqJump and DelayDiffEq export \"has_tstop\"; uses of it in module DifferentialEquations must be qualified\n",
      "WARNING: both DiffEqJump and DelayDiffEq export \"pop_tstop!\"; uses of it in module DifferentialEquations must be qualified\n"
     ]
    }
   ],
   "source": [
    "using LinearAlgebra\n",
    "using ForwardDiff\n",
    "using SatelliteDynamics\n",
    "using DifferentialEquations\n",
    "using Plots\n",
    "using ECOS, Convex\n",
    "using Mosek, MosekTools"
   ]
  },
  {
   "cell_type": "code",
   "execution_count": 2,
   "metadata": {},
   "outputs": [],
   "source": [
    "#need to find a way to sample the larger part of the trajectory at a different frequency...\n",
    "\n",
    "#because currently the amount of knot points is huge..."
   ]
  },
  {
   "cell_type": "code",
   "execution_count": 3,
   "metadata": {},
   "outputs": [
    {
     "data": {
      "text/plain": [
       "6-element Vector{Float64}:\n",
       "  6.885635e6\n",
       "  0.001089\n",
       " 97.43\n",
       "  0.0\n",
       "  0.0\n",
       "  0.016667"
      ]
     },
     "metadata": {},
     "output_type": "display_data"
    }
   ],
   "source": [
    "#From RoadsMPC slide deck\n",
    "#values are in m and degrees \n",
    "#orbits elements of und roads 1\n",
    "#last is the true anomaly \n",
    "elements1 = [6885.635e3, 0.001089, 97.43, 0, 0, 0]\n",
    "\n",
    "#orbital elements of und roads 2\n",
    "#last is the true anomaly\n",
    "elements2 = [6885.635e3, 0.001089, 97.43, 0, 0, 0.016667]"
   ]
  },
  {
   "cell_type": "code",
   "execution_count": 4,
   "metadata": {},
   "outputs": [],
   "source": [
    "#convert the true anomaly to mean anomaly to be able to do the conversion and degrees to radians"
   ]
  },
  {
   "cell_type": "code",
   "execution_count": 5,
   "metadata": {},
   "outputs": [
    {
     "data": {
      "text/plain": [
       "degrees_to_rad (generic function with 1 method)"
      ]
     },
     "metadata": {},
     "output_type": "display_data"
    }
   ],
   "source": [
    "function degrees_to_rad(x)\n",
    "\n",
    "    return x*pi/180\n",
    "    \n",
    "end"
   ]
  },
  {
   "cell_type": "code",
   "execution_count": 6,
   "metadata": {},
   "outputs": [
    {
     "data": {
      "text/plain": [
       "true_anom_to_eccentric_anom (generic function with 1 method)"
      ]
     },
     "metadata": {},
     "output_type": "display_data"
    }
   ],
   "source": [
    "#v is true anomaly \n",
    "#e is the eccentricity\n",
    "function true_anom_to_eccentric_anom(v, e)\n",
    "\n",
    "    E = 2*atand(sqrt((1-e)/(1+e))*tand(v/2))\n",
    "\n",
    "    #eccentric anomaly\n",
    "    return E\n",
    "\n",
    "end"
   ]
  },
  {
   "cell_type": "code",
   "execution_count": 7,
   "metadata": {},
   "outputs": [
    {
     "data": {
      "text/plain": [
       "eccentric_anom_to_mean_anom (generic function with 1 method)"
      ]
     },
     "metadata": {},
     "output_type": "display_data"
    }
   ],
   "source": [
    "function eccentric_anom_to_mean_anom(E, e)\n",
    "\n",
    "    M = E - e*sind(E)\n",
    "\n",
    "    #mean anomaly\n",
    "    return M\n",
    "\n",
    "end"
   ]
  },
  {
   "cell_type": "code",
   "execution_count": 8,
   "metadata": {},
   "outputs": [
    {
     "data": {
      "text/plain": [
       "0.0"
      ]
     },
     "metadata": {},
     "output_type": "display_data"
    }
   ],
   "source": [
    "#eccentric anomaly sat 1\n",
    "E1 = true_anom_to_eccentric_anom(elements1[end], elements1[2])\n",
    "\n",
    "#mean anomaly sat 1\n",
    "M1 = eccentric_anom_to_mean_anom(E1, elements1[2])"
   ]
  },
  {
   "cell_type": "code",
   "execution_count": 9,
   "metadata": {},
   "outputs": [
    {
     "data": {
      "text/plain": [
       "0.016648543070573774"
      ]
     },
     "metadata": {},
     "output_type": "display_data"
    }
   ],
   "source": [
    "#eccentric anomaly sat 2\n",
    "E2 = true_anom_to_eccentric_anom(elements2[end], elements2[2])\n",
    "\n",
    "#eccentric anomaly sat 2\n",
    "M2  = eccentric_anom_to_mean_anom(E2, elements2[2])"
   ]
  },
  {
   "cell_type": "code",
   "execution_count": 10,
   "metadata": {},
   "outputs": [
    {
     "data": {
      "text/plain": [
       "6-element Vector{Float64}:\n",
       " 6.885635e6\n",
       " 0.001089\n",
       " 1.7004742902180754\n",
       " 0.0\n",
       " 0.0\n",
       " 0.00029057189224159907"
      ]
     },
     "metadata": {},
     "output_type": "display_data"
    }
   ],
   "source": [
    "#get all the units consistent (m, radians)\n",
    "\n",
    "elements1_m = [elements1[1:2]; degrees_to_rad(elements1[3]); degrees_to_rad(elements1[4]); degrees_to_rad(elements1[5]); degrees_to_rad(M1)]\n",
    "\n",
    "elements2_m = [elements2[1:2]; degrees_to_rad(elements2[3]); degrees_to_rad(elements2[4]); degrees_to_rad(elements2[5]); degrees_to_rad(M2)]"
   ]
  },
  {
   "cell_type": "code",
   "execution_count": 11,
   "metadata": {},
   "outputs": [
    {
     "data": {
      "text/plain": [
       "6-element Vector{Float64}:\n",
       "    6.878136543485e6\n",
       "    0.0\n",
       "    0.0\n",
       "    0.0\n",
       " -984.9589353739226\n",
       " 7552.79897887146"
      ]
     },
     "metadata": {},
     "output_type": "display_data"
    }
   ],
   "source": [
    "#state satellite 1 (target)\n",
    "\n",
    "x_1 = sOSCtoCART(elements1_m, use_degrees=false)"
   ]
  },
  {
   "cell_type": "code",
   "execution_count": 12,
   "metadata": {},
   "outputs": [
    {
     "data": {
      "text/plain": [
       "6-element Vector{Float64}:\n",
       "    6.878136252166805e6\n",
       " -259.0113696278884\n",
       " 1986.134383662354\n",
       "   -2.2156282462577286\n",
       " -984.9588936567426\n",
       " 7552.798658978454"
      ]
     },
     "metadata": {},
     "output_type": "display_data"
    }
   ],
   "source": [
    "#state satellite 2 (chaser)\n",
    "\n",
    "x_2 = sOSCtoCART(elements2_m, use_degrees=false)"
   ]
  },
  {
   "cell_type": "code",
   "execution_count": 13,
   "metadata": {},
   "outputs": [
    {
     "data": {
      "text/plain": [
       "6-element Vector{Float64}:\n",
       "   -0.2913181949406862\n",
       " -259.0113696278884\n",
       " 1986.134383662354\n",
       "   -2.2156282462577286\n",
       "    4.171718001089175e-5\n",
       "   -0.0003198930062353611"
      ]
     },
     "metadata": {},
     "output_type": "display_data"
    }
   ],
   "source": [
    "#relative state of chaser wrt target\n",
    "#this is in ECI frame\n",
    "difference = x_2 - x_1 "
   ]
  },
  {
   "cell_type": "code",
   "execution_count": 14,
   "metadata": {},
   "outputs": [
    {
     "data": {
      "text/plain": [
       "6-element StaticArraysCore.SVector{6, Float64} with indices SOneTo(6):\n",
       "   -0.2913181949406862\n",
       " 2002.9519913273894\n",
       "    2.7017514072632172e-14\n",
       "    0.002412819262479271\n",
       "   -1.5962127995240716e-12\n",
       "    3.511794450825904e-14"
      ]
     },
     "metadata": {},
     "output_type": "display_data"
    }
   ],
   "source": [
    "#this is in the RTN frame of the target (primary observing satellite) \n",
    "initial_difference = sECItoRTN(x_1, x_2) "
   ]
  },
  {
   "cell_type": "code",
   "execution_count": 15,
   "metadata": {},
   "outputs": [
    {
     "data": {
      "text/plain": [
       "0.0001"
      ]
     },
     "metadata": {},
     "output_type": "display_data"
    }
   ],
   "source": [
    "#unit scaling to make the numerics better (no overshoot)\n",
    "position_scale = 100\n",
    "time_scale = 1000\n",
    "\n",
    "velocity_scale = position_scale/time_scale\n",
    "acceleration_scale = position_scale/(time_scale)^2"
   ]
  },
  {
   "cell_type": "code",
   "execution_count": 16,
   "metadata": {},
   "outputs": [
    {
     "data": {
      "text/plain": [
       "3.986e14"
      ]
     },
     "metadata": {},
     "output_type": "display_data"
    }
   ],
   "source": [
    "#mu - gravitational parameter (m3/s2)\n",
    "mu = 3.986e14"
   ]
  },
  {
   "cell_type": "code",
   "execution_count": 17,
   "metadata": {},
   "outputs": [
    {
     "data": {
      "text/plain": [
       "3.986e14"
      ]
     },
     "metadata": {},
     "output_type": "display_data"
    }
   ],
   "source": [
    "mu_scaled = mu/(position_scale^3/time_scale^2)"
   ]
  },
  {
   "cell_type": "code",
   "execution_count": 18,
   "metadata": {},
   "outputs": [
    {
     "data": {
      "text/plain": [
       "5686.266596687438"
      ]
     },
     "metadata": {},
     "output_type": "display_data"
    }
   ],
   "source": [
    "#target orbit period in seconds\n",
    "T = 2*pi*sqrt((elements1[1]^3)/(mu))"
   ]
  },
  {
   "cell_type": "code",
   "execution_count": 19,
   "metadata": {},
   "outputs": [
    {
     "data": {
      "text/plain": [
       "6.885635e6"
      ]
     },
     "metadata": {},
     "output_type": "display_data"
    }
   ],
   "source": [
    "#semi major axis of target satellite (meters)\n",
    "a = elements1[1]"
   ]
  },
  {
   "cell_type": "code",
   "execution_count": 20,
   "metadata": {},
   "outputs": [
    {
     "data": {
      "text/plain": [
       "68856.35"
      ]
     },
     "metadata": {},
     "output_type": "display_data"
    }
   ],
   "source": [
    "#scaled semi major axis\n",
    "a_scaled = a/position_scale"
   ]
  },
  {
   "cell_type": "code",
   "execution_count": 21,
   "metadata": {},
   "outputs": [
    {
     "data": {
      "text/plain": [
       "0.0011049755055170796"
      ]
     },
     "metadata": {},
     "output_type": "display_data"
    }
   ],
   "source": [
    "#constant mean motion of target n = sqrt(mu/a^3)\n",
    "#units: rad/s\n",
    "n = sqrt(mu/a^3)"
   ]
  },
  {
   "cell_type": "code",
   "execution_count": 22,
   "metadata": {},
   "outputs": [
    {
     "data": {
      "text/plain": [
       "1.1049755055170793"
      ]
     },
     "metadata": {},
     "output_type": "display_data"
    }
   ],
   "source": [
    "n_scaled = sqrt(mu_scaled/a_scaled^3)"
   ]
  },
  {
   "cell_type": "code",
   "execution_count": 23,
   "metadata": {},
   "outputs": [
    {
     "data": {
      "text/plain": [
       "3"
      ]
     },
     "metadata": {},
     "output_type": "display_data"
    }
   ],
   "source": [
    "#number of states\n",
    "nx = 6\n",
    "\n",
    "#number of control inputs\n",
    "nu = 3"
   ]
  },
  {
   "cell_type": "code",
   "execution_count": 24,
   "metadata": {},
   "outputs": [
    {
     "data": {
      "text/plain": [
       "1"
      ]
     },
     "metadata": {},
     "output_type": "display_data"
    }
   ],
   "source": [
    "#timestep for first 120 steps\n",
    "dt_120 = 1"
   ]
  },
  {
   "cell_type": "code",
   "execution_count": 25,
   "metadata": {},
   "outputs": [
    {
     "data": {
      "text/plain": [
       "0.001"
      ]
     },
     "metadata": {},
     "output_type": "display_data"
    }
   ],
   "source": [
    "dt_120_scaled = dt_120/time_scale "
   ]
  },
  {
   "cell_type": "code",
   "execution_count": 26,
   "metadata": {},
   "outputs": [
    {
     "data": {
      "text/plain": [
       "60"
      ]
     },
     "metadata": {},
     "output_type": "display_data"
    }
   ],
   "source": [
    "dt_92 = 60"
   ]
  },
  {
   "cell_type": "code",
   "execution_count": 27,
   "metadata": {},
   "outputs": [
    {
     "data": {
      "text/plain": [
       "0.06"
      ]
     },
     "metadata": {},
     "output_type": "display_data"
    }
   ],
   "source": [
    "dt_92_scaled = dt_92/time_scale"
   ]
  },
  {
   "cell_type": "code",
   "execution_count": 28,
   "metadata": {},
   "outputs": [],
   "source": [
    "#when sampling at 1 second\n",
    "#N = 94*60+1"
   ]
  },
  {
   "cell_type": "code",
   "execution_count": 29,
   "metadata": {},
   "outputs": [
    {
     "data": {
      "text/plain": [
       "272"
      ]
     },
     "metadata": {},
     "output_type": "display_data"
    }
   ],
   "source": [
    "# #this is a 5 orbits for dt=60\n",
    "\n",
    "# #one orbit \n",
    "N_120 = 181\n",
    "N_92 = 91\n",
    "\n",
    "total_N = N_120 + N_92\n",
    "\n",
    "# total_N = 212\n",
    "# #2 orbit look ahead? \n",
    "# #N = 188"
   ]
  },
  {
   "cell_type": "code",
   "execution_count": 30,
   "metadata": {},
   "outputs": [
    {
     "data": {
      "text/plain": [
       "6-element Vector{Float64}:\n",
       " 0.0\n",
       " 0.0\n",
       " 0.0\n",
       " 0.0\n",
       " 0.0\n",
       " 0.0"
      ]
     },
     "metadata": {},
     "output_type": "display_data"
    }
   ],
   "source": [
    "x0_target = zeros(nx) "
   ]
  },
  {
   "cell_type": "code",
   "execution_count": 31,
   "metadata": {},
   "outputs": [
    {
     "data": {
      "text/plain": [
       "6-element StaticArraysCore.SVector{6, Float64} with indices SOneTo(6):\n",
       "   -0.2913181949406862\n",
       " 2002.9519913273894\n",
       "    2.7017514072632172e-14\n",
       "    0.002412819262479271\n",
       "   -1.5962127995240716e-12\n",
       "    3.511794450825904e-14"
      ]
     },
     "metadata": {},
     "output_type": "display_data"
    }
   ],
   "source": [
    "#this is in RTN frame\n",
    "# m and s\n",
    "x0_chaser = initial_difference"
   ]
  },
  {
   "cell_type": "code",
   "execution_count": 32,
   "metadata": {},
   "outputs": [
    {
     "data": {
      "text/plain": [
       "-0.002209951011034159"
      ]
     },
     "metadata": {},
     "output_type": "display_data"
    }
   ],
   "source": [
    "A = zeros(nx, nx)\n",
    "A[1:3, 4:6] = I(3)\n",
    "A[4, 1] = 3*n^2\n",
    "A[6, 3] = -n^2\n",
    "A[4, 5] = 2*n\n",
    "A[5, 4] = -2*n"
   ]
  },
  {
   "cell_type": "code",
   "execution_count": 33,
   "metadata": {},
   "outputs": [
    {
     "data": {
      "text/plain": [
       "-2.2099510110341587"
      ]
     },
     "metadata": {},
     "output_type": "display_data"
    }
   ],
   "source": [
    "A_scaled = zeros(nx, nx)\n",
    "A_scaled[1:3, 4:6] = I(3)\n",
    "A_scaled[4, 1] = 3*n_scaled^2\n",
    "A_scaled[6, 3] = -n_scaled^2\n",
    "A_scaled[4, 5] = 2*n_scaled\n",
    "A_scaled[5, 4] = -2*n_scaled"
   ]
  },
  {
   "cell_type": "code",
   "execution_count": 34,
   "metadata": {},
   "outputs": [
    {
     "data": {
      "text/plain": [
       "5.22"
      ]
     },
     "metadata": {},
     "output_type": "display_data"
    }
   ],
   "source": [
    "#mass of the satellite (kg) from data\n",
    "m = 5.22"
   ]
  },
  {
   "cell_type": "code",
   "execution_count": 35,
   "metadata": {},
   "outputs": [
    {
     "data": {
      "text/plain": [
       "0.0046"
      ]
     },
     "metadata": {},
     "output_type": "display_data"
    }
   ],
   "source": [
    "#in m/s2. L1 norm \n",
    "umax = 4.6e-3"
   ]
  },
  {
   "cell_type": "code",
   "execution_count": 36,
   "metadata": {},
   "outputs": [
    {
     "data": {
      "text/plain": [
       "46.0"
      ]
     },
     "metadata": {},
     "output_type": "display_data"
    }
   ],
   "source": [
    "umax_scaled = umax/acceleration_scale "
   ]
  },
  {
   "cell_type": "code",
   "execution_count": 37,
   "metadata": {},
   "outputs": [
    {
     "data": {
      "text/plain": [
       "6×3 Matrix{Float64}:\n",
       " 0.0  0.0  0.0\n",
       " 0.0  0.0  0.0\n",
       " 0.0  0.0  0.0\n",
       " 1.0  0.0  0.0\n",
       " 0.0  1.0  0.0\n",
       " 0.0  0.0  1.0"
      ]
     },
     "metadata": {},
     "output_type": "display_data"
    }
   ],
   "source": [
    "#si units\n",
    "B = [zeros(3,3); I(3)]"
   ]
  },
  {
   "cell_type": "code",
   "execution_count": 38,
   "metadata": {},
   "outputs": [
    {
     "data": {
      "text/plain": [
       "spacecraft_dynamics (generic function with 1 method)"
      ]
     },
     "metadata": {},
     "output_type": "display_data"
    }
   ],
   "source": [
    "#continous dynamics\n",
    "function spacecraft_dynamics(x,u)\n",
    "\n",
    "    xdot = A*x + B*u\n",
    "\n",
    "    return xdot\n",
    "\n",
    "end"
   ]
  },
  {
   "cell_type": "code",
   "execution_count": 39,
   "metadata": {},
   "outputs": [
    {
     "data": {
      "text/plain": [
       "0.001"
      ]
     },
     "metadata": {},
     "output_type": "display_data"
    }
   ],
   "source": [
    "dt_120_scaled "
   ]
  },
  {
   "cell_type": "code",
   "execution_count": 40,
   "metadata": {},
   "outputs": [
    {
     "data": {
      "text/plain": [
       "0.06"
      ]
     },
     "metadata": {},
     "output_type": "display_data"
    }
   ],
   "source": [
    "dt_92_scaled"
   ]
  },
  {
   "cell_type": "code",
   "execution_count": 41,
   "metadata": {},
   "outputs": [
    {
     "data": {
      "text/plain": [
       "9×9 Matrix{Float64}:\n",
       "  1.0         0.0   0.0         …   5.0e-7       3.68325e-10  0.0\n",
       " -1.34914e-9  1.0   0.0            -3.68325e-10  5.0e-7       0.0\n",
       "  0.0         0.0   0.999999        0.0          0.0          5.0e-7\n",
       "  0.00366291  0.0   0.0             0.001        1.10498e-6   0.0\n",
       " -4.04743e-6  0.0   0.0            -1.10498e-6   0.000999999  0.0\n",
       "  0.0         0.0  -0.00122097  …   0.0          0.0          0.001\n",
       "  0.0         0.0   0.0             1.0          0.0          0.0\n",
       "  0.0         0.0   0.0             0.0          1.0          0.0\n",
       "  0.0         0.0   0.0             0.0          0.0          1.0"
      ]
     },
     "metadata": {},
     "output_type": "display_data"
    }
   ],
   "source": [
    "#discretize the dynamics model \n",
    "#for 1 Hz\n",
    "H_scaled_120 = exp(dt_120_scaled*[A_scaled B; zeros(nu, nx+nu)])"
   ]
  },
  {
   "cell_type": "code",
   "execution_count": 42,
   "metadata": {},
   "outputs": [
    {
     "data": {
      "text/plain": [
       "9×9 Matrix{Float64}:\n",
       "  1.00659      0.0   0.0        …   0.00179934  7.95408e-5  0.0\n",
       " -0.000291351  1.0   0.0           -7.95408e-5  0.00179736  0.0\n",
       "  0.0          0.0   0.997803       0.0         0.0         0.00179934\n",
       "  0.219614     0.0   0.0            0.0599561   0.00397645  0.0\n",
       " -0.0145654    0.0   0.0           -0.00397645  0.0598242   0.0\n",
       "  0.0          0.0  -0.0732046  …   0.0         0.0         0.0599561\n",
       "  0.0          0.0   0.0            1.0         0.0         0.0\n",
       "  0.0          0.0   0.0            0.0         1.0         0.0\n",
       "  0.0          0.0   0.0            0.0         0.0         1.0"
      ]
     },
     "metadata": {},
     "output_type": "display_data"
    }
   ],
   "source": [
    "#discretize the dynamics model \n",
    "#for dt=60 s ~ 0.017 Hz\n",
    "H_scaled_92 = exp(dt_92_scaled*[A_scaled B; zeros(nu, nx+nu)])"
   ]
  },
  {
   "cell_type": "code",
   "execution_count": 43,
   "metadata": {},
   "outputs": [
    {
     "data": {
      "text/plain": [
       "6×3 Matrix{Float64}:\n",
       "  5.0e-7       3.68325e-10  0.0\n",
       " -3.68325e-10  5.0e-7       0.0\n",
       "  0.0          0.0          5.0e-7\n",
       "  0.001        1.10498e-6   0.0\n",
       " -1.10498e-6   0.000999999  0.0\n",
       "  0.0          0.0          0.001"
      ]
     },
     "metadata": {},
     "output_type": "display_data"
    }
   ],
   "source": [
    "#Scaled Discrete Dynamics Matrices for dt = 1 s\n",
    "Ad_scaled_120  = H_scaled_120[1:nx, 1:nx]\n",
    "Bd_scaled_120 = H_scaled_120[1:nx, (nx+1):end]"
   ]
  },
  {
   "cell_type": "code",
   "execution_count": 44,
   "metadata": {},
   "outputs": [
    {
     "data": {
      "text/plain": [
       "6×3 Matrix{Float64}:\n",
       "  0.00179934  7.95408e-5  0.0\n",
       " -7.95408e-5  0.00179736  0.0\n",
       "  0.0         0.0         0.00179934\n",
       "  0.0599561   0.00397645  0.0\n",
       " -0.00397645  0.0598242   0.0\n",
       "  0.0         0.0         0.0599561"
      ]
     },
     "metadata": {},
     "output_type": "display_data"
    }
   ],
   "source": [
    "#Scaled Discrete Dynamics Matrices for dt= 60 s\n",
    "Ad_scaled_92 = H_scaled_92[1:nx, 1:nx]\n",
    "Bd_scaled_92 = H_scaled_92[1:nx, (nx+1):end]"
   ]
  },
  {
   "cell_type": "code",
   "execution_count": 45,
   "metadata": {},
   "outputs": [
    {
     "data": {
      "text/plain": [
       "spacecraft_dynamics_discrete_scaled (generic function with 1 method)"
      ]
     },
     "metadata": {},
     "output_type": "display_data"
    }
   ],
   "source": [
    "function spacecraft_dynamics_discrete_scaled(x_scaled, u_scaled, Ad_scaled, Bd_scaled)\n",
    "\n",
    "    xnext_scaled = Ad_scaled*x_scaled + Bd_scaled*u_scaled\n",
    "\n",
    "    return xnext_scaled\n",
    "\n",
    "end"
   ]
  },
  {
   "cell_type": "code",
   "execution_count": 46,
   "metadata": {},
   "outputs": [
    {
     "data": {
      "text/plain": [
       "sim_one_min (generic function with 1 method)"
      ]
     },
     "metadata": {},
     "output_type": "display_data"
    }
   ],
   "source": [
    "#simulate for 1 minute\n",
    "\n",
    "\n",
    "#x scaled will be a vector\n",
    "\n",
    "#u scaled will be a control trajectory (3x60)\n",
    "\n",
    "\n",
    "function sim_one_min(x_scaled, u_traj, Ad_scaled_120, Bd_scaled_120)\n",
    "\n",
    "    all_x = zeros(6, 61)\n",
    "    all_x[:,1] = x_scaled\n",
    "\n",
    "    for i=1:size(u_traj)[2]\n",
    "\n",
    "        all_x[:,i+1] = spacecraft_dynamics_discrete_scaled(all_x[:,i], u_traj[:,i], Ad_scaled_120, Bd_scaled_120)\n",
    "\n",
    "    end\n",
    "\n",
    "    xnext = all_x[:,end]\n",
    "\n",
    "    return xnext\n",
    "\n",
    "end"
   ]
  },
  {
   "cell_type": "code",
   "execution_count": 47,
   "metadata": {},
   "outputs": [
    {
     "data": {
      "text/plain": [
       "6-element StaticArraysCore.SVector{6, Float64} with indices SOneTo(6):\n",
       "   -0.2913181949406862\n",
       " 2002.9519913273894\n",
       "    2.7017514072632172e-14\n",
       "    0.002412819262479271\n",
       "   -1.5962127995240716e-12\n",
       "    3.511794450825904e-14"
      ]
     },
     "metadata": {},
     "output_type": "display_data"
    }
   ],
   "source": [
    "x_initial = x0_chaser"
   ]
  },
  {
   "cell_type": "code",
   "execution_count": 48,
   "metadata": {},
   "outputs": [
    {
     "data": {
      "text/plain": [
       "6-element Vector{Float64}:\n",
       " -0.002913181949406862\n",
       " 20.029519913273894\n",
       "  2.701751407263217e-16\n",
       "  0.02412819262479271\n",
       " -1.5962127995240716e-11\n",
       "  3.511794450825904e-13"
      ]
     },
     "metadata": {},
     "output_type": "display_data"
    }
   ],
   "source": [
    "x_initial_scaled = [x0_chaser[1:3]/position_scale; x0_chaser[4:6]/velocity_scale] "
   ]
  },
  {
   "cell_type": "code",
   "execution_count": 49,
   "metadata": {},
   "outputs": [
    {
     "data": {
      "text/plain": [
       "6-element Vector{Float64}:\n",
       " 0.0\n",
       " 0.0\n",
       " 0.0\n",
       " 0.0\n",
       " 0.0\n",
       " 0.0"
      ]
     },
     "metadata": {},
     "output_type": "display_data"
    }
   ],
   "source": [
    "x_goal = x0_target"
   ]
  },
  {
   "cell_type": "code",
   "execution_count": 50,
   "metadata": {},
   "outputs": [
    {
     "data": {
      "text/plain": [
       "121×180 Matrix{Float64}:\n",
       " 0.0  0.0  0.0  0.0  0.0  0.0  0.0  0.0  …  0.0  0.0  0.0  0.0  0.0  0.0  0.0\n",
       " 0.0  0.0  0.0  0.0  0.0  0.0  0.0  0.0     0.0  0.0  0.0  0.0  0.0  0.0  0.0\n",
       " 0.0  0.0  0.0  0.0  0.0  0.0  0.0  0.0     0.0  0.0  0.0  0.0  0.0  0.0  0.0\n",
       " 0.0  0.0  0.0  0.0  0.0  0.0  0.0  0.0     0.0  0.0  0.0  0.0  0.0  0.0  0.0\n",
       " 0.0  0.0  0.0  0.0  0.0  0.0  0.0  0.0     0.0  0.0  0.0  0.0  0.0  0.0  0.0\n",
       " 0.0  0.0  0.0  0.0  0.0  0.0  0.0  0.0  …  0.0  0.0  0.0  0.0  0.0  0.0  0.0\n",
       " 0.0  0.0  0.0  0.0  0.0  0.0  0.0  0.0     0.0  0.0  0.0  0.0  0.0  0.0  0.0\n",
       " 0.0  0.0  0.0  0.0  0.0  0.0  0.0  0.0     0.0  0.0  0.0  0.0  0.0  0.0  0.0\n",
       " 0.0  0.0  0.0  0.0  0.0  0.0  0.0  0.0     0.0  0.0  0.0  0.0  0.0  0.0  0.0\n",
       " 0.0  0.0  0.0  0.0  0.0  0.0  0.0  0.0     0.0  0.0  0.0  0.0  0.0  0.0  0.0\n",
       " ⋮                        ⋮              ⋱            ⋮                   \n",
       " 0.0  0.0  0.0  0.0  0.0  0.0  0.0  0.0     0.0  0.0  0.0  0.0  0.0  0.0  0.0\n",
       " 0.0  0.0  0.0  0.0  0.0  0.0  0.0  0.0     0.0  0.0  0.0  0.0  0.0  0.0  0.0\n",
       " 0.0  0.0  0.0  0.0  0.0  0.0  0.0  0.0     0.0  0.0  0.0  0.0  0.0  0.0  0.0\n",
       " 0.0  0.0  0.0  0.0  0.0  0.0  0.0  0.0  …  0.0  0.0  0.0  0.0  0.0  0.0  0.0\n",
       " 0.0  0.0  0.0  0.0  0.0  0.0  0.0  0.0     0.0  0.0  0.0  0.0  0.0  0.0  0.0\n",
       " 0.0  0.0  0.0  0.0  0.0  0.0  0.0  0.0     0.0  0.0  0.0  0.0  0.0  0.0  0.0\n",
       " 0.0  0.0  0.0  0.0  0.0  0.0  0.0  0.0     0.0  0.0  0.0  0.0  0.0  0.0  0.0\n",
       " 0.0  0.0  0.0  0.0  0.0  0.0  0.0  0.0     0.0  0.0  0.0  0.0  0.0  0.0  0.0\n",
       " 0.0  0.0  0.0  0.0  0.0  0.0  0.0  0.0  …  0.0  0.0  0.0  0.0  0.0  0.0  0.0"
      ]
     },
     "metadata": {},
     "output_type": "display_data"
    }
   ],
   "source": [
    "C = zeros(N_120-1-59, N_120-1)"
   ]
  },
  {
   "cell_type": "code",
   "execution_count": 51,
   "metadata": {},
   "outputs": [],
   "source": [
    "for i=1:size(C)[1]\n",
    "\n",
    "    C[i, i:i+59] = ones(60)\n",
    "    \n",
    "end"
   ]
  },
  {
   "cell_type": "code",
   "execution_count": 52,
   "metadata": {},
   "outputs": [
    {
     "data": {
      "text/plain": [
       "121×180 Matrix{Float64}:\n",
       " 1.0  1.0  1.0  1.0  1.0  1.0  1.0  1.0  …  0.0  0.0  0.0  0.0  0.0  0.0  0.0\n",
       " 0.0  1.0  1.0  1.0  1.0  1.0  1.0  1.0     0.0  0.0  0.0  0.0  0.0  0.0  0.0\n",
       " 0.0  0.0  1.0  1.0  1.0  1.0  1.0  1.0     0.0  0.0  0.0  0.0  0.0  0.0  0.0\n",
       " 0.0  0.0  0.0  1.0  1.0  1.0  1.0  1.0     0.0  0.0  0.0  0.0  0.0  0.0  0.0\n",
       " 0.0  0.0  0.0  0.0  1.0  1.0  1.0  1.0     0.0  0.0  0.0  0.0  0.0  0.0  0.0\n",
       " 0.0  0.0  0.0  0.0  0.0  1.0  1.0  1.0  …  0.0  0.0  0.0  0.0  0.0  0.0  0.0\n",
       " 0.0  0.0  0.0  0.0  0.0  0.0  1.0  1.0     0.0  0.0  0.0  0.0  0.0  0.0  0.0\n",
       " 0.0  0.0  0.0  0.0  0.0  0.0  0.0  1.0     0.0  0.0  0.0  0.0  0.0  0.0  0.0\n",
       " 0.0  0.0  0.0  0.0  0.0  0.0  0.0  0.0     0.0  0.0  0.0  0.0  0.0  0.0  0.0\n",
       " 0.0  0.0  0.0  0.0  0.0  0.0  0.0  0.0     0.0  0.0  0.0  0.0  0.0  0.0  0.0\n",
       " ⋮                        ⋮              ⋱            ⋮                   \n",
       " 0.0  0.0  0.0  0.0  0.0  0.0  0.0  0.0     0.0  0.0  0.0  0.0  0.0  0.0  0.0\n",
       " 0.0  0.0  0.0  0.0  0.0  0.0  0.0  0.0     0.0  0.0  0.0  0.0  0.0  0.0  0.0\n",
       " 0.0  0.0  0.0  0.0  0.0  0.0  0.0  0.0     1.0  0.0  0.0  0.0  0.0  0.0  0.0\n",
       " 0.0  0.0  0.0  0.0  0.0  0.0  0.0  0.0  …  1.0  1.0  0.0  0.0  0.0  0.0  0.0\n",
       " 0.0  0.0  0.0  0.0  0.0  0.0  0.0  0.0     1.0  1.0  1.0  0.0  0.0  0.0  0.0\n",
       " 0.0  0.0  0.0  0.0  0.0  0.0  0.0  0.0     1.0  1.0  1.0  1.0  0.0  0.0  0.0\n",
       " 0.0  0.0  0.0  0.0  0.0  0.0  0.0  0.0     1.0  1.0  1.0  1.0  1.0  0.0  0.0\n",
       " 0.0  0.0  0.0  0.0  0.0  0.0  0.0  0.0     1.0  1.0  1.0  1.0  1.0  1.0  0.0\n",
       " 0.0  0.0  0.0  0.0  0.0  0.0  0.0  0.0  …  1.0  1.0  1.0  1.0  1.0  1.0  1.0"
      ]
     },
     "metadata": {},
     "output_type": "display_data"
    }
   ],
   "source": [
    "C"
   ]
  },
  {
   "cell_type": "code",
   "execution_count": 53,
   "metadata": {},
   "outputs": [
    {
     "data": {
      "text/plain": [
       "update_prob (generic function with 1 method)"
      ]
     },
     "metadata": {},
     "output_type": "display_data"
    }
   ],
   "source": [
    "function update_prob(x_initial_k, C_k)\n",
    "\n",
    "\n",
    "    X = Convex.Variable(nx, total_N)\n",
    "    U = Convex.Variable(nu, total_N-1)\n",
    "    \n",
    "    #Initial State Constraint\n",
    "    cons = Constraint[X[:,1] == x_initial_k]\n",
    "\n",
    "    #Dynamics Constraint\n",
    "    # for k=1:(N-1)\n",
    "\n",
    "    #     push!(cons, X[:,k+1] - (Ad_scaled_120*X[:,k] + Bd_scaled_120*U[:,k]) == zeros(6))\n",
    "\n",
    "    # end\n",
    "\n",
    "\n",
    "\n",
    "    #for the first 2 minutes sampled at 1 Hz\n",
    "    for k=1:N_120-1\n",
    "\n",
    "        push!(cons, X[:,k+1] - (Ad_scaled_120*X[:,k] + Bd_scaled_120*U[:,k]) == zeros(6))\n",
    "\n",
    "    end\n",
    "\n",
    "    #for the remaining of the trajectory \n",
    "    for k=N_120:total_N - 1\n",
    "\n",
    "        push!(cons, X[:,k+1] - (Ad_scaled_92*X[:,k] + Bd_scaled_92*U[:,k]) == zeros(6))\n",
    "\n",
    "    end\n",
    "\n",
    "\n",
    "    # for k=1:60\n",
    "\n",
    "    #     push!(cons, sum(U[:,k:k+59]) <= umax/acceleration_scale)\n",
    "        \n",
    "    # end\n",
    "\n",
    "\n",
    "    \n",
    "    #control constraint for first 2 minutes\n",
    "    push!(cons, C_k*([1 1 1]*abs(U[:, 1:N_120-1]))' <= umax/acceleration_scale*ones(size(C)[1]))\n",
    "\n",
    "\n",
    "    #add in thrust constraints\n",
    "\n",
    "    #try both l1 and l2\n",
    "\n",
    "    # for k=N_2_min:N_2_min + N_92_min - 1\n",
    "\n",
    "    #    #L2 thrust constraint\n",
    "    #    #push!(cons, norm(U[:,k],2) <= umax/acceleration_scale)\n",
    "\n",
    "    # #    #L1 thrust constraint\n",
    "    # #works when bound is 1\n",
    "\n",
    "    #push!(cons, norm(U[:,k],1) <= (umax/60/acceleration_scale))\n",
    "\n",
    "    # #push!(cons, U[:,k] == zeros(3))\n",
    "\n",
    "    # end\n",
    "\n",
    "    #control constraint (testing)\n",
    "    for k=N_120:(total_N-1)\n",
    "\n",
    "       push!(cons, norm(U[:,k], 1) <= umax/60/acceleration_scale)\n",
    "       \n",
    "\n",
    "    end\n",
    "\n",
    "\n",
    "    #slow progress... (kinda working?)\n",
    "    #the constraint with C gives a similar solution, however, it is faster \n",
    "    # for k=1:(N-1)-59\n",
    "\n",
    "    #     #slow progress\n",
    "    #     push!(cons, sum(abs(U[:,k:k+59])) <= umax/acceleration_scale)\n",
    "\n",
    "    # end\n",
    "\n",
    "\n",
    "\n",
    "\n",
    "    \n",
    "    #not working\n",
    "    # for k=1:N-1-59\n",
    "\n",
    "    #     normz_60 = 0\n",
    "\n",
    "    #     for j = k:k+59\n",
    "\n",
    "    #         normz_60 += norm(U[:,j], 1) \n",
    "\n",
    "    #     end\n",
    "\n",
    "    #     push!(cons, normz_60 <= umax/acceleration_scale)\n",
    "\n",
    "    # end\n",
    "    \n",
    "\n",
    "    return cons, X, U\n",
    "\n",
    "end"
   ]
  },
  {
   "cell_type": "code",
   "execution_count": 54,
   "metadata": {},
   "outputs": [
    {
     "data": {
      "text/plain": [
       "solve_prob (generic function with 1 method)"
      ]
     },
     "metadata": {},
     "output_type": "display_data"
    }
   ],
   "source": [
    "function solve_prob(cons, X, U, N)\n",
    "\n",
    "\n",
    "    #objective \n",
    "    obj = 0\n",
    "\n",
    "    #weights depending how conservative you want to be on fuel vs reaching the goal\n",
    "    #sensative to these weights. with beta as 100 it wouldn't solve...\n",
    "\n",
    "    #these weights do something (need tuning)\n",
    "    # beta_120 = 0.1\n",
    "    # alpha_120 = 100\n",
    "\n",
    "    # beta_92 = 100\n",
    "    # alpha_92 = 1\n",
    "    # alpha_92_end = 1000\n",
    "\n",
    "    #works kinda (converges to zero kinda)\n",
    "    # beta_120 = 0.1\n",
    "    # alpha_120 = 1\n",
    "\n",
    "    # beta_92 = 100\n",
    "    # alpha_92 = 1\n",
    "    # alpha_92_end = 1\n",
    "\n",
    "\n",
    "    #these work the best\n",
    "    beta_120 = 0.1\n",
    "    alpha_120 = 1\n",
    "\n",
    "    beta_92 = 1\n",
    "    alpha_92 = 100\n",
    "    alpha_92_end = 100\n",
    "\n",
    "\n",
    "    \n",
    "\n",
    "    #testing (not working)\n",
    "    # beta_120 = 1\n",
    "    # alpha_120 = 1\n",
    "\n",
    "    # beta_92 = 1000\n",
    "    # alpha_92 = 1\n",
    "    # alpha_92_end = 1\n",
    "\n",
    "    #trying old weights (the satellite finds it optimal to just do nothing...)\n",
    "    # beta_120 = 1\n",
    "    # alpha_120 = 1\n",
    "\n",
    "    # beta_92 = 1\n",
    "    # alpha_92 = 1\n",
    "    # alpha_92_end = 1\n",
    "\n",
    "    #Initial 2 minute trajectory\n",
    "    for k=1:N_120-1\n",
    "\n",
    "        obj += beta_120*norm(U[:,k], 1) + alpha_120*norm(X[:,k], 2)\n",
    "\n",
    "    end\n",
    "\n",
    "    #Rest of the trajectory\n",
    "    for k=N_120:total_N - 1\n",
    "\n",
    "        obj += beta_92*norm(U[:,k], 1) + alpha_92*norm(X[:,k], 2)\n",
    "\n",
    "    end\n",
    "\n",
    "    #terminal cost\n",
    "    obj += alpha_92_end*norm(X[:,N], 2)\n",
    "\n",
    "\n",
    "\n",
    "    #working previous cost (all trajectory)\n",
    "    # for k=1:total_N-1\n",
    "    #     #trying L2 cost on controls (doesn't work, all zeros)\n",
    "        \n",
    "    #     #L1 gets a solution but it is not completely correct...\n",
    "    #     obj += beta*norm(U[:,k], 1) + alpha*norm(X[:,k], 2)\n",
    "\n",
    "    # end\n",
    "\n",
    "    # #terminal cost\n",
    "    # obj += alpha*norm(X[:,total_N], 2)\n",
    "\n",
    "    prob = minimize(obj, cons)\n",
    "\n",
    "    #solve with ECOS\n",
    "    #Convex.solve!(prob, ()-> ECOS.Optimizer(), silent_solver=true);\n",
    "\n",
    "    Convex.solve!(prob, ()-> Mosek.Optimizer(), silent_solver = true)\n",
    "\n",
    "    Xm = X.value\n",
    "    Um = U.value\n",
    "\n",
    "    return Xm, Um\n",
    "\n",
    "end"
   ]
  },
  {
   "cell_type": "code",
   "execution_count": 55,
   "metadata": {},
   "outputs": [
    {
     "data": {
      "text/plain": [
       "400"
      ]
     },
     "metadata": {},
     "output_type": "display_data"
    }
   ],
   "source": [
    "#iterations = 1000\n",
    "num_orbits = 3\n",
    "\n",
    "#iterations = N*num_orbits/60\n",
    "\n",
    "iterations = 400"
   ]
  },
  {
   "cell_type": "code",
   "execution_count": 56,
   "metadata": {},
   "outputs": [],
   "source": [
    "#set up in Convex.jl"
   ]
  },
  {
   "cell_type": "code",
   "execution_count": 57,
   "metadata": {},
   "outputs": [
    {
     "data": {
      "text/plain": [
       "6-element Vector{Float64}:\n",
       " -0.002913181949406862\n",
       " 20.029519913273894\n",
       "  2.701751407263217e-16\n",
       "  0.02412819262479271\n",
       " -1.5962127995240716e-11\n",
       "  3.511794450825904e-13"
      ]
     },
     "metadata": {},
     "output_type": "display_data"
    }
   ],
   "source": [
    "xhist = zeros(nx, iterations)\n",
    "uhist = zeros(nu, (iterations-1)*60)\n",
    "\n",
    "xhist[:,1] = x_initial_scaled"
   ]
  },
  {
   "cell_type": "code",
   "execution_count": 58,
   "metadata": {},
   "outputs": [
    {
     "data": {
      "text/plain": [
       "121×180 Matrix{Float64}:\n",
       " 1.0  1.0  1.0  1.0  1.0  1.0  1.0  1.0  …  0.0  0.0  0.0  0.0  0.0  0.0  0.0\n",
       " 0.0  1.0  1.0  1.0  1.0  1.0  1.0  1.0     0.0  0.0  0.0  0.0  0.0  0.0  0.0\n",
       " 0.0  0.0  1.0  1.0  1.0  1.0  1.0  1.0     0.0  0.0  0.0  0.0  0.0  0.0  0.0\n",
       " 0.0  0.0  0.0  1.0  1.0  1.0  1.0  1.0     0.0  0.0  0.0  0.0  0.0  0.0  0.0\n",
       " 0.0  0.0  0.0  0.0  1.0  1.0  1.0  1.0     0.0  0.0  0.0  0.0  0.0  0.0  0.0\n",
       " 0.0  0.0  0.0  0.0  0.0  1.0  1.0  1.0  …  0.0  0.0  0.0  0.0  0.0  0.0  0.0\n",
       " 0.0  0.0  0.0  0.0  0.0  0.0  1.0  1.0     0.0  0.0  0.0  0.0  0.0  0.0  0.0\n",
       " 0.0  0.0  0.0  0.0  0.0  0.0  0.0  1.0     0.0  0.0  0.0  0.0  0.0  0.0  0.0\n",
       " 0.0  0.0  0.0  0.0  0.0  0.0  0.0  0.0     0.0  0.0  0.0  0.0  0.0  0.0  0.0\n",
       " 0.0  0.0  0.0  0.0  0.0  0.0  0.0  0.0     0.0  0.0  0.0  0.0  0.0  0.0  0.0\n",
       " ⋮                        ⋮              ⋱            ⋮                   \n",
       " 0.0  0.0  0.0  0.0  0.0  0.0  0.0  0.0     0.0  0.0  0.0  0.0  0.0  0.0  0.0\n",
       " 0.0  0.0  0.0  0.0  0.0  0.0  0.0  0.0     0.0  0.0  0.0  0.0  0.0  0.0  0.0\n",
       " 0.0  0.0  0.0  0.0  0.0  0.0  0.0  0.0     1.0  0.0  0.0  0.0  0.0  0.0  0.0\n",
       " 0.0  0.0  0.0  0.0  0.0  0.0  0.0  0.0  …  1.0  1.0  0.0  0.0  0.0  0.0  0.0\n",
       " 0.0  0.0  0.0  0.0  0.0  0.0  0.0  0.0     1.0  1.0  1.0  0.0  0.0  0.0  0.0\n",
       " 0.0  0.0  0.0  0.0  0.0  0.0  0.0  0.0     1.0  1.0  1.0  1.0  0.0  0.0  0.0\n",
       " 0.0  0.0  0.0  0.0  0.0  0.0  0.0  0.0     1.0  1.0  1.0  1.0  1.0  0.0  0.0\n",
       " 0.0  0.0  0.0  0.0  0.0  0.0  0.0  0.0     1.0  1.0  1.0  1.0  1.0  1.0  0.0\n",
       " 0.0  0.0  0.0  0.0  0.0  0.0  0.0  0.0  …  1.0  1.0  1.0  1.0  1.0  1.0  1.0"
      ]
     },
     "metadata": {},
     "output_type": "display_data"
    }
   ],
   "source": [
    "C_k = C"
   ]
  },
  {
   "cell_type": "code",
   "execution_count": 59,
   "metadata": {},
   "outputs": [
    {
     "data": {
      "text/plain": [
       "3×60×399 Array{Float64, 3}:\n",
       "[:, :, 1] =\n",
       " 0.0  0.0  0.0  0.0  0.0  0.0  0.0  0.0  …  0.0  0.0  0.0  0.0  0.0  0.0  0.0\n",
       " 0.0  0.0  0.0  0.0  0.0  0.0  0.0  0.0     0.0  0.0  0.0  0.0  0.0  0.0  0.0\n",
       " 0.0  0.0  0.0  0.0  0.0  0.0  0.0  0.0     0.0  0.0  0.0  0.0  0.0  0.0  0.0\n",
       "\n",
       "[:, :, 2] =\n",
       " 0.0  0.0  0.0  0.0  0.0  0.0  0.0  0.0  …  0.0  0.0  0.0  0.0  0.0  0.0  0.0\n",
       " 0.0  0.0  0.0  0.0  0.0  0.0  0.0  0.0     0.0  0.0  0.0  0.0  0.0  0.0  0.0\n",
       " 0.0  0.0  0.0  0.0  0.0  0.0  0.0  0.0     0.0  0.0  0.0  0.0  0.0  0.0  0.0\n",
       "\n",
       "[:, :, 3] =\n",
       " 0.0  0.0  0.0  0.0  0.0  0.0  0.0  0.0  …  0.0  0.0  0.0  0.0  0.0  0.0  0.0\n",
       " 0.0  0.0  0.0  0.0  0.0  0.0  0.0  0.0     0.0  0.0  0.0  0.0  0.0  0.0  0.0\n",
       " 0.0  0.0  0.0  0.0  0.0  0.0  0.0  0.0     0.0  0.0  0.0  0.0  0.0  0.0  0.0\n",
       "\n",
       ";;; … \n",
       "\n",
       "[:, :, 397] =\n",
       " 0.0  0.0  0.0  0.0  0.0  0.0  0.0  0.0  …  0.0  0.0  0.0  0.0  0.0  0.0  0.0\n",
       " 0.0  0.0  0.0  0.0  0.0  0.0  0.0  0.0     0.0  0.0  0.0  0.0  0.0  0.0  0.0\n",
       " 0.0  0.0  0.0  0.0  0.0  0.0  0.0  0.0     0.0  0.0  0.0  0.0  0.0  0.0  0.0\n",
       "\n",
       "[:, :, 398] =\n",
       " 0.0  0.0  0.0  0.0  0.0  0.0  0.0  0.0  …  0.0  0.0  0.0  0.0  0.0  0.0  0.0\n",
       " 0.0  0.0  0.0  0.0  0.0  0.0  0.0  0.0     0.0  0.0  0.0  0.0  0.0  0.0  0.0\n",
       " 0.0  0.0  0.0  0.0  0.0  0.0  0.0  0.0     0.0  0.0  0.0  0.0  0.0  0.0  0.0\n",
       "\n",
       "[:, :, 399] =\n",
       " 0.0  0.0  0.0  0.0  0.0  0.0  0.0  0.0  …  0.0  0.0  0.0  0.0  0.0  0.0  0.0\n",
       " 0.0  0.0  0.0  0.0  0.0  0.0  0.0  0.0     0.0  0.0  0.0  0.0  0.0  0.0  0.0\n",
       " 0.0  0.0  0.0  0.0  0.0  0.0  0.0  0.0     0.0  0.0  0.0  0.0  0.0  0.0  0.0"
      ]
     },
     "metadata": {},
     "output_type": "display_data"
    }
   ],
   "source": [
    "uhist_all = zeros(3, 60, iterations-1)"
   ]
  },
  {
   "cell_type": "code",
   "execution_count": 60,
   "metadata": {},
   "outputs": [
    {
     "data": {
      "text/plain": [
       "121×180×400 Array{Float64, 3}:\n",
       "[:, :, 1] =\n",
       " 0.0  0.0  0.0  0.0  0.0  0.0  0.0  0.0  …  0.0  0.0  0.0  0.0  0.0  0.0  0.0\n",
       " 0.0  0.0  0.0  0.0  0.0  0.0  0.0  0.0     0.0  0.0  0.0  0.0  0.0  0.0  0.0\n",
       " 0.0  0.0  0.0  0.0  0.0  0.0  0.0  0.0     0.0  0.0  0.0  0.0  0.0  0.0  0.0\n",
       " 0.0  0.0  0.0  0.0  0.0  0.0  0.0  0.0     0.0  0.0  0.0  0.0  0.0  0.0  0.0\n",
       " 0.0  0.0  0.0  0.0  0.0  0.0  0.0  0.0     0.0  0.0  0.0  0.0  0.0  0.0  0.0\n",
       " 0.0  0.0  0.0  0.0  0.0  0.0  0.0  0.0  …  0.0  0.0  0.0  0.0  0.0  0.0  0.0\n",
       " 0.0  0.0  0.0  0.0  0.0  0.0  0.0  0.0     0.0  0.0  0.0  0.0  0.0  0.0  0.0\n",
       " 0.0  0.0  0.0  0.0  0.0  0.0  0.0  0.0     0.0  0.0  0.0  0.0  0.0  0.0  0.0\n",
       " 0.0  0.0  0.0  0.0  0.0  0.0  0.0  0.0     0.0  0.0  0.0  0.0  0.0  0.0  0.0\n",
       " 0.0  0.0  0.0  0.0  0.0  0.0  0.0  0.0     0.0  0.0  0.0  0.0  0.0  0.0  0.0\n",
       " ⋮                        ⋮              ⋱            ⋮                   \n",
       " 0.0  0.0  0.0  0.0  0.0  0.0  0.0  0.0     0.0  0.0  0.0  0.0  0.0  0.0  0.0\n",
       " 0.0  0.0  0.0  0.0  0.0  0.0  0.0  0.0     0.0  0.0  0.0  0.0  0.0  0.0  0.0\n",
       " 0.0  0.0  0.0  0.0  0.0  0.0  0.0  0.0     0.0  0.0  0.0  0.0  0.0  0.0  0.0\n",
       " 0.0  0.0  0.0  0.0  0.0  0.0  0.0  0.0  …  0.0  0.0  0.0  0.0  0.0  0.0  0.0\n",
       " 0.0  0.0  0.0  0.0  0.0  0.0  0.0  0.0     0.0  0.0  0.0  0.0  0.0  0.0  0.0\n",
       " 0.0  0.0  0.0  0.0  0.0  0.0  0.0  0.0     0.0  0.0  0.0  0.0  0.0  0.0  0.0\n",
       " 0.0  0.0  0.0  0.0  0.0  0.0  0.0  0.0     0.0  0.0  0.0  0.0  0.0  0.0  0.0\n",
       " 0.0  0.0  0.0  0.0  0.0  0.0  0.0  0.0     0.0  0.0  0.0  0.0  0.0  0.0  0.0\n",
       " 0.0  0.0  0.0  0.0  0.0  0.0  0.0  0.0  …  0.0  0.0  0.0  0.0  0.0  0.0  0.0\n",
       "\n",
       "[:, :, 2] =\n",
       " 0.0  0.0  0.0  0.0  0.0  0.0  0.0  0.0  …  0.0  0.0  0.0  0.0  0.0  0.0  0.0\n",
       " 0.0  0.0  0.0  0.0  0.0  0.0  0.0  0.0     0.0  0.0  0.0  0.0  0.0  0.0  0.0\n",
       " 0.0  0.0  0.0  0.0  0.0  0.0  0.0  0.0     0.0  0.0  0.0  0.0  0.0  0.0  0.0\n",
       " 0.0  0.0  0.0  0.0  0.0  0.0  0.0  0.0     0.0  0.0  0.0  0.0  0.0  0.0  0.0\n",
       " 0.0  0.0  0.0  0.0  0.0  0.0  0.0  0.0     0.0  0.0  0.0  0.0  0.0  0.0  0.0\n",
       " 0.0  0.0  0.0  0.0  0.0  0.0  0.0  0.0  …  0.0  0.0  0.0  0.0  0.0  0.0  0.0\n",
       " 0.0  0.0  0.0  0.0  0.0  0.0  0.0  0.0     0.0  0.0  0.0  0.0  0.0  0.0  0.0\n",
       " 0.0  0.0  0.0  0.0  0.0  0.0  0.0  0.0     0.0  0.0  0.0  0.0  0.0  0.0  0.0\n",
       " 0.0  0.0  0.0  0.0  0.0  0.0  0.0  0.0     0.0  0.0  0.0  0.0  0.0  0.0  0.0\n",
       " 0.0  0.0  0.0  0.0  0.0  0.0  0.0  0.0     0.0  0.0  0.0  0.0  0.0  0.0  0.0\n",
       " ⋮                        ⋮              ⋱            ⋮                   \n",
       " 0.0  0.0  0.0  0.0  0.0  0.0  0.0  0.0     0.0  0.0  0.0  0.0  0.0  0.0  0.0\n",
       " 0.0  0.0  0.0  0.0  0.0  0.0  0.0  0.0     0.0  0.0  0.0  0.0  0.0  0.0  0.0\n",
       " 0.0  0.0  0.0  0.0  0.0  0.0  0.0  0.0     0.0  0.0  0.0  0.0  0.0  0.0  0.0\n",
       " 0.0  0.0  0.0  0.0  0.0  0.0  0.0  0.0  …  0.0  0.0  0.0  0.0  0.0  0.0  0.0\n",
       " 0.0  0.0  0.0  0.0  0.0  0.0  0.0  0.0     0.0  0.0  0.0  0.0  0.0  0.0  0.0\n",
       " 0.0  0.0  0.0  0.0  0.0  0.0  0.0  0.0     0.0  0.0  0.0  0.0  0.0  0.0  0.0\n",
       " 0.0  0.0  0.0  0.0  0.0  0.0  0.0  0.0     0.0  0.0  0.0  0.0  0.0  0.0  0.0\n",
       " 0.0  0.0  0.0  0.0  0.0  0.0  0.0  0.0     0.0  0.0  0.0  0.0  0.0  0.0  0.0\n",
       " 0.0  0.0  0.0  0.0  0.0  0.0  0.0  0.0  …  0.0  0.0  0.0  0.0  0.0  0.0  0.0\n",
       "\n",
       "[:, :, 3] =\n",
       " 0.0  0.0  0.0  0.0  0.0  0.0  0.0  0.0  …  0.0  0.0  0.0  0.0  0.0  0.0  0.0\n",
       " 0.0  0.0  0.0  0.0  0.0  0.0  0.0  0.0     0.0  0.0  0.0  0.0  0.0  0.0  0.0\n",
       " 0.0  0.0  0.0  0.0  0.0  0.0  0.0  0.0     0.0  0.0  0.0  0.0  0.0  0.0  0.0\n",
       " 0.0  0.0  0.0  0.0  0.0  0.0  0.0  0.0     0.0  0.0  0.0  0.0  0.0  0.0  0.0\n",
       " 0.0  0.0  0.0  0.0  0.0  0.0  0.0  0.0     0.0  0.0  0.0  0.0  0.0  0.0  0.0\n",
       " 0.0  0.0  0.0  0.0  0.0  0.0  0.0  0.0  …  0.0  0.0  0.0  0.0  0.0  0.0  0.0\n",
       " 0.0  0.0  0.0  0.0  0.0  0.0  0.0  0.0     0.0  0.0  0.0  0.0  0.0  0.0  0.0\n",
       " 0.0  0.0  0.0  0.0  0.0  0.0  0.0  0.0     0.0  0.0  0.0  0.0  0.0  0.0  0.0\n",
       " 0.0  0.0  0.0  0.0  0.0  0.0  0.0  0.0     0.0  0.0  0.0  0.0  0.0  0.0  0.0\n",
       " 0.0  0.0  0.0  0.0  0.0  0.0  0.0  0.0     0.0  0.0  0.0  0.0  0.0  0.0  0.0\n",
       " ⋮                        ⋮              ⋱            ⋮                   \n",
       " 0.0  0.0  0.0  0.0  0.0  0.0  0.0  0.0     0.0  0.0  0.0  0.0  0.0  0.0  0.0\n",
       " 0.0  0.0  0.0  0.0  0.0  0.0  0.0  0.0     0.0  0.0  0.0  0.0  0.0  0.0  0.0\n",
       " 0.0  0.0  0.0  0.0  0.0  0.0  0.0  0.0     0.0  0.0  0.0  0.0  0.0  0.0  0.0\n",
       " 0.0  0.0  0.0  0.0  0.0  0.0  0.0  0.0  …  0.0  0.0  0.0  0.0  0.0  0.0  0.0\n",
       " 0.0  0.0  0.0  0.0  0.0  0.0  0.0  0.0     0.0  0.0  0.0  0.0  0.0  0.0  0.0\n",
       " 0.0  0.0  0.0  0.0  0.0  0.0  0.0  0.0     0.0  0.0  0.0  0.0  0.0  0.0  0.0\n",
       " 0.0  0.0  0.0  0.0  0.0  0.0  0.0  0.0     0.0  0.0  0.0  0.0  0.0  0.0  0.0\n",
       " 0.0  0.0  0.0  0.0  0.0  0.0  0.0  0.0     0.0  0.0  0.0  0.0  0.0  0.0  0.0\n",
       " 0.0  0.0  0.0  0.0  0.0  0.0  0.0  0.0  …  0.0  0.0  0.0  0.0  0.0  0.0  0.0\n",
       "\n",
       ";;; … \n",
       "\n",
       "[:, :, 398] =\n",
       " 0.0  0.0  0.0  0.0  0.0  0.0  0.0  0.0  …  0.0  0.0  0.0  0.0  0.0  0.0  0.0\n",
       " 0.0  0.0  0.0  0.0  0.0  0.0  0.0  0.0     0.0  0.0  0.0  0.0  0.0  0.0  0.0\n",
       " 0.0  0.0  0.0  0.0  0.0  0.0  0.0  0.0     0.0  0.0  0.0  0.0  0.0  0.0  0.0\n",
       " 0.0  0.0  0.0  0.0  0.0  0.0  0.0  0.0     0.0  0.0  0.0  0.0  0.0  0.0  0.0\n",
       " 0.0  0.0  0.0  0.0  0.0  0.0  0.0  0.0     0.0  0.0  0.0  0.0  0.0  0.0  0.0\n",
       " 0.0  0.0  0.0  0.0  0.0  0.0  0.0  0.0  …  0.0  0.0  0.0  0.0  0.0  0.0  0.0\n",
       " 0.0  0.0  0.0  0.0  0.0  0.0  0.0  0.0     0.0  0.0  0.0  0.0  0.0  0.0  0.0\n",
       " 0.0  0.0  0.0  0.0  0.0  0.0  0.0  0.0     0.0  0.0  0.0  0.0  0.0  0.0  0.0\n",
       " 0.0  0.0  0.0  0.0  0.0  0.0  0.0  0.0     0.0  0.0  0.0  0.0  0.0  0.0  0.0\n",
       " 0.0  0.0  0.0  0.0  0.0  0.0  0.0  0.0     0.0  0.0  0.0  0.0  0.0  0.0  0.0\n",
       " ⋮                        ⋮              ⋱            ⋮                   \n",
       " 0.0  0.0  0.0  0.0  0.0  0.0  0.0  0.0     0.0  0.0  0.0  0.0  0.0  0.0  0.0\n",
       " 0.0  0.0  0.0  0.0  0.0  0.0  0.0  0.0     0.0  0.0  0.0  0.0  0.0  0.0  0.0\n",
       " 0.0  0.0  0.0  0.0  0.0  0.0  0.0  0.0     0.0  0.0  0.0  0.0  0.0  0.0  0.0\n",
       " 0.0  0.0  0.0  0.0  0.0  0.0  0.0  0.0  …  0.0  0.0  0.0  0.0  0.0  0.0  0.0\n",
       " 0.0  0.0  0.0  0.0  0.0  0.0  0.0  0.0     0.0  0.0  0.0  0.0  0.0  0.0  0.0\n",
       " 0.0  0.0  0.0  0.0  0.0  0.0  0.0  0.0     0.0  0.0  0.0  0.0  0.0  0.0  0.0\n",
       " 0.0  0.0  0.0  0.0  0.0  0.0  0.0  0.0     0.0  0.0  0.0  0.0  0.0  0.0  0.0\n",
       " 0.0  0.0  0.0  0.0  0.0  0.0  0.0  0.0     0.0  0.0  0.0  0.0  0.0  0.0  0.0\n",
       " 0.0  0.0  0.0  0.0  0.0  0.0  0.0  0.0  …  0.0  0.0  0.0  0.0  0.0  0.0  0.0\n",
       "\n",
       "[:, :, 399] =\n",
       " 0.0  0.0  0.0  0.0  0.0  0.0  0.0  0.0  …  0.0  0.0  0.0  0.0  0.0  0.0  0.0\n",
       " 0.0  0.0  0.0  0.0  0.0  0.0  0.0  0.0     0.0  0.0  0.0  0.0  0.0  0.0  0.0\n",
       " 0.0  0.0  0.0  0.0  0.0  0.0  0.0  0.0     0.0  0.0  0.0  0.0  0.0  0.0  0.0\n",
       " 0.0  0.0  0.0  0.0  0.0  0.0  0.0  0.0     0.0  0.0  0.0  0.0  0.0  0.0  0.0\n",
       " 0.0  0.0  0.0  0.0  0.0  0.0  0.0  0.0     0.0  0.0  0.0  0.0  0.0  0.0  0.0\n",
       " 0.0  0.0  0.0  0.0  0.0  0.0  0.0  0.0  …  0.0  0.0  0.0  0.0  0.0  0.0  0.0\n",
       " 0.0  0.0  0.0  0.0  0.0  0.0  0.0  0.0     0.0  0.0  0.0  0.0  0.0  0.0  0.0\n",
       " 0.0  0.0  0.0  0.0  0.0  0.0  0.0  0.0     0.0  0.0  0.0  0.0  0.0  0.0  0.0\n",
       " 0.0  0.0  0.0  0.0  0.0  0.0  0.0  0.0     0.0  0.0  0.0  0.0  0.0  0.0  0.0\n",
       " 0.0  0.0  0.0  0.0  0.0  0.0  0.0  0.0     0.0  0.0  0.0  0.0  0.0  0.0  0.0\n",
       " ⋮                        ⋮              ⋱            ⋮                   \n",
       " 0.0  0.0  0.0  0.0  0.0  0.0  0.0  0.0     0.0  0.0  0.0  0.0  0.0  0.0  0.0\n",
       " 0.0  0.0  0.0  0.0  0.0  0.0  0.0  0.0     0.0  0.0  0.0  0.0  0.0  0.0  0.0\n",
       " 0.0  0.0  0.0  0.0  0.0  0.0  0.0  0.0     0.0  0.0  0.0  0.0  0.0  0.0  0.0\n",
       " 0.0  0.0  0.0  0.0  0.0  0.0  0.0  0.0  …  0.0  0.0  0.0  0.0  0.0  0.0  0.0\n",
       " 0.0  0.0  0.0  0.0  0.0  0.0  0.0  0.0     0.0  0.0  0.0  0.0  0.0  0.0  0.0\n",
       " 0.0  0.0  0.0  0.0  0.0  0.0  0.0  0.0     0.0  0.0  0.0  0.0  0.0  0.0  0.0\n",
       " 0.0  0.0  0.0  0.0  0.0  0.0  0.0  0.0     0.0  0.0  0.0  0.0  0.0  0.0  0.0\n",
       " 0.0  0.0  0.0  0.0  0.0  0.0  0.0  0.0     0.0  0.0  0.0  0.0  0.0  0.0  0.0\n",
       " 0.0  0.0  0.0  0.0  0.0  0.0  0.0  0.0  …  0.0  0.0  0.0  0.0  0.0  0.0  0.0\n",
       "\n",
       "[:, :, 400] =\n",
       " 0.0  0.0  0.0  0.0  0.0  0.0  0.0  0.0  …  0.0  0.0  0.0  0.0  0.0  0.0  0.0\n",
       " 0.0  0.0  0.0  0.0  0.0  0.0  0.0  0.0     0.0  0.0  0.0  0.0  0.0  0.0  0.0\n",
       " 0.0  0.0  0.0  0.0  0.0  0.0  0.0  0.0     0.0  0.0  0.0  0.0  0.0  0.0  0.0\n",
       " 0.0  0.0  0.0  0.0  0.0  0.0  0.0  0.0     0.0  0.0  0.0  0.0  0.0  0.0  0.0\n",
       " 0.0  0.0  0.0  0.0  0.0  0.0  0.0  0.0     0.0  0.0  0.0  0.0  0.0  0.0  0.0\n",
       " 0.0  0.0  0.0  0.0  0.0  0.0  0.0  0.0  …  0.0  0.0  0.0  0.0  0.0  0.0  0.0\n",
       " 0.0  0.0  0.0  0.0  0.0  0.0  0.0  0.0     0.0  0.0  0.0  0.0  0.0  0.0  0.0\n",
       " 0.0  0.0  0.0  0.0  0.0  0.0  0.0  0.0     0.0  0.0  0.0  0.0  0.0  0.0  0.0\n",
       " 0.0  0.0  0.0  0.0  0.0  0.0  0.0  0.0     0.0  0.0  0.0  0.0  0.0  0.0  0.0\n",
       " 0.0  0.0  0.0  0.0  0.0  0.0  0.0  0.0     0.0  0.0  0.0  0.0  0.0  0.0  0.0\n",
       " ⋮                        ⋮              ⋱            ⋮                   \n",
       " 0.0  0.0  0.0  0.0  0.0  0.0  0.0  0.0     0.0  0.0  0.0  0.0  0.0  0.0  0.0\n",
       " 0.0  0.0  0.0  0.0  0.0  0.0  0.0  0.0     0.0  0.0  0.0  0.0  0.0  0.0  0.0\n",
       " 0.0  0.0  0.0  0.0  0.0  0.0  0.0  0.0     0.0  0.0  0.0  0.0  0.0  0.0  0.0\n",
       " 0.0  0.0  0.0  0.0  0.0  0.0  0.0  0.0  …  0.0  0.0  0.0  0.0  0.0  0.0  0.0\n",
       " 0.0  0.0  0.0  0.0  0.0  0.0  0.0  0.0     0.0  0.0  0.0  0.0  0.0  0.0  0.0\n",
       " 0.0  0.0  0.0  0.0  0.0  0.0  0.0  0.0     0.0  0.0  0.0  0.0  0.0  0.0  0.0\n",
       " 0.0  0.0  0.0  0.0  0.0  0.0  0.0  0.0     0.0  0.0  0.0  0.0  0.0  0.0  0.0\n",
       " 0.0  0.0  0.0  0.0  0.0  0.0  0.0  0.0     0.0  0.0  0.0  0.0  0.0  0.0  0.0\n",
       " 0.0  0.0  0.0  0.0  0.0  0.0  0.0  0.0  …  0.0  0.0  0.0  0.0  0.0  0.0  0.0"
      ]
     },
     "metadata": {},
     "output_type": "display_data"
    }
   ],
   "source": [
    "all_C_k = zeros(121, 180, iterations)"
   ]
  },
  {
   "cell_type": "code",
   "execution_count": 61,
   "metadata": {},
   "outputs": [
    {
     "name": "stdout",
     "output_type": "stream",
     "text": [
      "this is control index: 1\n",
      "Minute: "
     ]
    },
    {
     "name": "stderr",
     "output_type": "stream",
     "text": [
      "┌ Warning: Problem status SLOW_PROGRESS; solution may be inaccurate.\n",
      "└ @ Convex /home/faustovega/.julia/packages/Convex/b2S4H/src/solution.jl:342\n"
     ]
    },
    {
     "name": "stdout",
     "output_type": "stream",
     "text": [
      "1 done\n",
      "this is control index: 1\n",
      "Minute: 2 done\n",
      "this is control index: "
     ]
    },
    {
     "name": "stderr",
     "output_type": "stream",
     "text": [
      "┌ Warning: Problem status SLOW_PROGRESS; solution may be inaccurate.\n",
      "└ @ Convex /home/faustovega/.julia/packages/Convex/b2S4H/src/solution.jl:342\n"
     ]
    },
    {
     "name": "stdout",
     "output_type": "stream",
     "text": [
      "1\n",
      "Minute: 3 done\n",
      "this is control index: 1\n",
      "Minute: 4 done\n"
     ]
    },
    {
     "name": "stderr",
     "output_type": "stream",
     "text": [
      "┌ Warning: Problem status SLOW_PROGRESS; solution may be inaccurate.\n",
      "└ @ Convex /home/faustovega/.julia/packages/Convex/b2S4H/src/solution.jl:342\n"
     ]
    },
    {
     "name": "stdout",
     "output_type": "stream",
     "text": [
      "this is control index: 1\n",
      "Minute: 5 done\n"
     ]
    },
    {
     "name": "stderr",
     "output_type": "stream",
     "text": [
      "┌ Warning: Problem status SLOW_PROGRESS; solution may be inaccurate.\n",
      "└ @ Convex /home/faustovega/.julia/packages/Convex/b2S4H/src/solution.jl:342\n"
     ]
    },
    {
     "name": "stdout",
     "output_type": "stream",
     "text": [
      "this is control index: 1\n",
      "Minute: 6 done\n"
     ]
    },
    {
     "name": "stderr",
     "output_type": "stream",
     "text": [
      "┌ Warning: Problem status SLOW_PROGRESS; solution may be inaccurate.\n",
      "└ @ Convex /home/faustovega/.julia/packages/Convex/b2S4H/src/solution.jl:342\n"
     ]
    },
    {
     "name": "stdout",
     "output_type": "stream",
     "text": [
      "this is control index: 1\n",
      "Minute: 7 done\n",
      "this is control index: "
     ]
    },
    {
     "name": "stderr",
     "output_type": "stream",
     "text": [
      "┌ Warning: Problem status SLOW_PROGRESS; solution may be inaccurate.\n",
      "└ @ Convex /home/faustovega/.julia/packages/Convex/b2S4H/src/solution.jl:342\n"
     ]
    },
    {
     "name": "stdout",
     "output_type": "stream",
     "text": [
      "1\n",
      "Minute: 8 done\n",
      "this is control index: 1\n",
      "Minute: 9 done\n",
      "this is control index: "
     ]
    },
    {
     "name": "stderr",
     "output_type": "stream",
     "text": [
      "┌ Warning: Problem status SLOW_PROGRESS; solution may be inaccurate.\n",
      "└ @ Convex /home/faustovega/.julia/packages/Convex/b2S4H/src/solution.jl:342\n"
     ]
    },
    {
     "name": "stdout",
     "output_type": "stream",
     "text": [
      "1\n",
      "Minute: 10 done\n",
      "this is control index: 1\n",
      "Minute: 11 done\n",
      "this is control index: 1\n",
      "Minute: 12 done\n",
      "this is control index: "
     ]
    },
    {
     "name": "stderr",
     "output_type": "stream",
     "text": [
      "┌ Warning: Problem status SLOW_PROGRESS; solution may be inaccurate.\n",
      "└ @ Convex /home/faustovega/.julia/packages/Convex/b2S4H/src/solution.jl:342\n"
     ]
    },
    {
     "name": "stdout",
     "output_type": "stream",
     "text": [
      "1\n",
      "Minute: 13 done\n",
      "this is control index: 1\n",
      "Minute: 14 done\n",
      "this is control index: 1\n",
      "Minute: 15 done\n",
      "this is control index: 1\n",
      "Minute: 16 done\n"
     ]
    },
    {
     "name": "stderr",
     "output_type": "stream",
     "text": [
      "┌ Warning: Problem status SLOW_PROGRESS; solution may be inaccurate.\n",
      "└ @ Convex /home/faustovega/.julia/packages/Convex/b2S4H/src/solution.jl:342\n"
     ]
    },
    {
     "name": "stdout",
     "output_type": "stream",
     "text": [
      "this is control index: 1\n",
      "Minute: 17 done\n"
     ]
    },
    {
     "name": "stderr",
     "output_type": "stream",
     "text": [
      "┌ Warning: Problem status SLOW_PROGRESS; solution may be inaccurate.\n",
      "└ @ Convex /home/faustovega/.julia/packages/Convex/b2S4H/src/solution.jl:342\n"
     ]
    },
    {
     "name": "stdout",
     "output_type": "stream",
     "text": [
      "this is control index: 1\n",
      "Minute: 18 done\n"
     ]
    },
    {
     "name": "stderr",
     "output_type": "stream",
     "text": [
      "┌ Warning: Problem status SLOW_PROGRESS; solution may be inaccurate.\n",
      "└ @ Convex /home/faustovega/.julia/packages/Convex/b2S4H/src/solution.jl:342\n"
     ]
    },
    {
     "name": "stdout",
     "output_type": "stream",
     "text": [
      "this is control index: 1\n",
      "Minute: 19 done\n"
     ]
    },
    {
     "name": "stderr",
     "output_type": "stream",
     "text": [
      "┌ Warning: Problem status SLOW_PROGRESS; solution may be inaccurate.\n",
      "└ @ Convex /home/faustovega/.julia/packages/Convex/b2S4H/src/solution.jl:342\n"
     ]
    },
    {
     "name": "stdout",
     "output_type": "stream",
     "text": [
      "this is control index: 1\n",
      "Minute: 20 done\n",
      "this is control index: "
     ]
    },
    {
     "name": "stderr",
     "output_type": "stream",
     "text": [
      "┌ Warning: Problem status SLOW_PROGRESS; solution may be inaccurate.\n",
      "└ @ Convex /home/faustovega/.julia/packages/Convex/b2S4H/src/solution.jl:342\n"
     ]
    },
    {
     "name": "stdout",
     "output_type": "stream",
     "text": [
      "1\n",
      "Minute: 21 done\n",
      "this is control index: 1\n",
      "Minute: 22 done\n"
     ]
    },
    {
     "name": "stderr",
     "output_type": "stream",
     "text": [
      "┌ Warning: Problem status SLOW_PROGRESS; solution may be inaccurate.\n",
      "└ @ Convex /home/faustovega/.julia/packages/Convex/b2S4H/src/solution.jl:342\n"
     ]
    },
    {
     "name": "stdout",
     "output_type": "stream",
     "text": [
      "this is control index: 1\n",
      "Minute: 23 done\n"
     ]
    },
    {
     "name": "stderr",
     "output_type": "stream",
     "text": [
      "┌ Warning: Problem status SLOW_PROGRESS; solution may be inaccurate.\n",
      "└ @ Convex /home/faustovega/.julia/packages/Convex/b2S4H/src/solution.jl:342\n"
     ]
    },
    {
     "name": "stdout",
     "output_type": "stream",
     "text": [
      "this is control index: 1\n",
      "Minute: 24 done\n",
      "this is control index: "
     ]
    },
    {
     "name": "stderr",
     "output_type": "stream",
     "text": [
      "┌ Warning: Problem status SLOW_PROGRESS; solution may be inaccurate.\n",
      "└ @ Convex /home/faustovega/.julia/packages/Convex/b2S4H/src/solution.jl:342\n"
     ]
    },
    {
     "name": "stdout",
     "output_type": "stream",
     "text": [
      "1\n",
      "Minute: 25 done\n",
      "this is control index: 1\n",
      "Minute: 26 done\n",
      "this is control index: 1\n",
      "Minute: 27 done\n",
      "this is control index: 1\n",
      "Minute: 28 done\n",
      "this is control index: "
     ]
    },
    {
     "name": "stderr",
     "output_type": "stream",
     "text": [
      "┌ Warning: Problem status SLOW_PROGRESS; solution may be inaccurate.\n",
      "└ @ Convex /home/faustovega/.julia/packages/Convex/b2S4H/src/solution.jl:342\n"
     ]
    },
    {
     "name": "stdout",
     "output_type": "stream",
     "text": [
      "1\n",
      "Minute: 29 done\n",
      "this is control index: 1\n",
      "Minute: 30 done\n",
      "this is control index: "
     ]
    },
    {
     "name": "stderr",
     "output_type": "stream",
     "text": [
      "┌ Warning: Problem status SLOW_PROGRESS; solution may be inaccurate.\n",
      "└ @ Convex /home/faustovega/.julia/packages/Convex/b2S4H/src/solution.jl:342\n"
     ]
    },
    {
     "name": "stdout",
     "output_type": "stream",
     "text": [
      "1\n",
      "Minute: 31 done\n",
      "this is control index: 1\n",
      "Minute: 32 done\n",
      "this is control index: 1\n",
      "Minute: 33 done\n",
      "this is control index: "
     ]
    },
    {
     "name": "stderr",
     "output_type": "stream",
     "text": [
      "┌ Warning: Problem status SLOW_PROGRESS; solution may be inaccurate.\n",
      "└ @ Convex /home/faustovega/.julia/packages/Convex/b2S4H/src/solution.jl:342\n"
     ]
    },
    {
     "name": "stdout",
     "output_type": "stream",
     "text": [
      "1\n",
      "Minute: 34 done\n",
      "this is control index: 1\n",
      "Minute: 35 done\n"
     ]
    },
    {
     "name": "stderr",
     "output_type": "stream",
     "text": [
      "┌ Warning: Problem status SLOW_PROGRESS; solution may be inaccurate.\n",
      "└ @ Convex /home/faustovega/.julia/packages/Convex/b2S4H/src/solution.jl:342\n"
     ]
    },
    {
     "name": "stdout",
     "output_type": "stream",
     "text": [
      "this is control index: 1\n",
      "Minute: 36 done\n"
     ]
    },
    {
     "name": "stderr",
     "output_type": "stream",
     "text": [
      "┌ Warning: Problem status SLOW_PROGRESS; solution may be inaccurate.\n",
      "└ @ Convex /home/faustovega/.julia/packages/Convex/b2S4H/src/solution.jl:342\n"
     ]
    },
    {
     "name": "stdout",
     "output_type": "stream",
     "text": [
      "this is control index: 1\n",
      "Minute: 37 done\n",
      "this is control index: "
     ]
    },
    {
     "name": "stderr",
     "output_type": "stream",
     "text": [
      "┌ Warning: Problem status SLOW_PROGRESS; solution may be inaccurate.\n",
      "└ @ Convex /home/faustovega/.julia/packages/Convex/b2S4H/src/solution.jl:342\n"
     ]
    },
    {
     "name": "stdout",
     "output_type": "stream",
     "text": [
      "1\n",
      "Minute: 38 done\n",
      "this is control index: 1\n",
      "Minute: 39 done\n",
      "this is control index: 1\n",
      "Minute: 40 done\n",
      "this is control index: "
     ]
    },
    {
     "name": "stderr",
     "output_type": "stream",
     "text": [
      "┌ Warning: Problem status SLOW_PROGRESS; solution may be inaccurate.\n",
      "└ @ Convex /home/faustovega/.julia/packages/Convex/b2S4H/src/solution.jl:342\n"
     ]
    },
    {
     "name": "stdout",
     "output_type": "stream",
     "text": [
      "1\n",
      "Minute: 41 done\n",
      "this is control index: 1\n",
      "Minute: 42 done\n",
      "this is control index: 1\n",
      "Minute: 43 done\n",
      "this is control index: 1\n",
      "Minute: 44 done\n",
      "this is control index: 1\n",
      "Minute: 45 done\n",
      "this is control index: 1\n",
      "Minute: 46 done\n",
      "this is control index: 1\n",
      "Minute: 47 done\n",
      "this is control index: "
     ]
    },
    {
     "name": "stderr",
     "output_type": "stream",
     "text": [
      "┌ Warning: Problem status SLOW_PROGRESS; solution may be inaccurate.\n",
      "└ @ Convex /home/faustovega/.julia/packages/Convex/b2S4H/src/solution.jl:342\n"
     ]
    },
    {
     "name": "stdout",
     "output_type": "stream",
     "text": [
      "1\n",
      "Minute: 48 done\n",
      "this is control index: 1\n",
      "Minute: 49 done\n",
      "this is control index: "
     ]
    },
    {
     "name": "stderr",
     "output_type": "stream",
     "text": [
      "┌ Warning: Problem status SLOW_PROGRESS; solution may be inaccurate.\n",
      "└ @ Convex /home/faustovega/.julia/packages/Convex/b2S4H/src/solution.jl:342\n"
     ]
    },
    {
     "name": "stdout",
     "output_type": "stream",
     "text": [
      "1\n",
      "Minute: 50 done\n",
      "this is control index: 1\n",
      "Minute: 51 done\n",
      "this is control index: 1\n",
      "Minute: 52 done\n",
      "this is control index: 1\n",
      "Minute: 53 done\n",
      "this is control index: 1\n",
      "Minute: 54 done\n",
      "this is control index: 1\n",
      "Minute: 55 done\n",
      "this is control index: 1\n",
      "Minute: 56 done\n",
      "this is control index: 1\n",
      "Minute: 57 done\n",
      "this is control index: 1\n",
      "Minute: 58 done\n",
      "this is control index: 1\n",
      "Minute: 59 done\n",
      "this is control index: 1\n",
      "Minute: 60 done\n",
      "this is control index: 60\n",
      "Minute: 61 done\n",
      "this is control index: 60\n",
      "Minute: 62 done\n",
      "this is control index: 60\n",
      "Minute: 63 done\n",
      "this is control index: 60\n",
      "Minute: 64 done\n",
      "this is control index: 60\n",
      "Minute: 65 done\n",
      "this is control index: "
     ]
    },
    {
     "name": "stderr",
     "output_type": "stream",
     "text": [
      "┌ Warning: Problem status SLOW_PROGRESS; solution may be inaccurate.\n",
      "└ @ Convex /home/faustovega/.julia/packages/Convex/b2S4H/src/solution.jl:342\n"
     ]
    },
    {
     "name": "stdout",
     "output_type": "stream",
     "text": [
      "60\n",
      "Minute: 66 done\n",
      "this is control index: 60\n",
      "Minute: 67 done\n",
      "this is control index: 60\n",
      "Minute: 68 done\n",
      "this is control index: 60\n",
      "Minute: 69 done\n",
      "this is control index: 60\n",
      "Minute: 70 done\n",
      "this is control index: 60\n",
      "Minute: 71 done\n",
      "this is control index: 60\n",
      "Minute: 72 done\n",
      "this is control index: 60\n",
      "Minute: 73 done\n",
      "this is control index: 60\n",
      "Minute: 74 done\n",
      "this is control index: 60\n",
      "Minute: 75 done\n",
      "this is control index: 60\n",
      "Minute: 76 done\n",
      "this is control index: 60\n",
      "Minute: 77 done\n",
      "this is control index: 60\n",
      "Minute: 78 done\n",
      "this is control index: 60\n",
      "Minute: 79 done\n",
      "this is control index: 60\n",
      "Minute: 80 done\n",
      "this is control index: "
     ]
    },
    {
     "name": "stderr",
     "output_type": "stream",
     "text": [
      "┌ Warning: Problem status SLOW_PROGRESS; solution may be inaccurate.\n",
      "└ @ Convex /home/faustovega/.julia/packages/Convex/b2S4H/src/solution.jl:342\n"
     ]
    },
    {
     "name": "stdout",
     "output_type": "stream",
     "text": [
      "60\n",
      "Minute: 81 done\n",
      "this is control index: 60\n",
      "Minute: 82 done\n",
      "this is control index: 60\n",
      "Minute: 83 done\n",
      "this is control index: "
     ]
    },
    {
     "name": "stderr",
     "output_type": "stream",
     "text": [
      "┌ Warning: Problem status SLOW_PROGRESS; solution may be inaccurate.\n",
      "└ @ Convex /home/faustovega/.julia/packages/Convex/b2S4H/src/solution.jl:342\n"
     ]
    },
    {
     "name": "stdout",
     "output_type": "stream",
     "text": [
      "60\n",
      "Minute: 84 done\n",
      "this is control index: 60\n",
      "Minute: 85 done\n",
      "this is control index: 60\n",
      "Minute: 86 done\n",
      "this is control index: 60\n",
      "Minute: 87 done\n",
      "this is control index: 60\n",
      "Minute: 88 done\n",
      "this is control index: 60\n",
      "Minute: 89 done\n",
      "this is control index: 60\n",
      "Minute: 90 done\n",
      "this is control index: "
     ]
    },
    {
     "name": "stderr",
     "output_type": "stream",
     "text": [
      "┌ Warning: Problem status SLOW_PROGRESS; solution may be inaccurate.\n",
      "└ @ Convex /home/faustovega/.julia/packages/Convex/b2S4H/src/solution.jl:342\n"
     ]
    },
    {
     "name": "stdout",
     "output_type": "stream",
     "text": [
      "60\n",
      "Minute: 91 done\n",
      "this is control index: 60\n",
      "Minute: 92 done\n",
      "this is control index: 60\n",
      "Minute: 93 done\n",
      "this is control index: 60\n",
      "Minute: 94 done\n",
      "this is control index: "
     ]
    },
    {
     "name": "stderr",
     "output_type": "stream",
     "text": [
      "┌ Warning: Problem status SLOW_PROGRESS; solution may be inaccurate.\n",
      "└ @ Convex /home/faustovega/.julia/packages/Convex/b2S4H/src/solution.jl:342\n"
     ]
    },
    {
     "name": "stdout",
     "output_type": "stream",
     "text": [
      "60\n",
      "Minute: 95 done\n",
      "this is control index: 60\n",
      "Minute: 96 done\n",
      "this is control index: 60\n",
      "Minute: 97 done\n",
      "this is control index: 60\n",
      "Minute: 98 done\n",
      "this is control index: 60\n",
      "Minute: 99 done\n",
      "this is control index: 60\n",
      "Minute: 100 done\n",
      "this is control index: 60\n",
      "Minute: 101 done\n",
      "this is control index: 60\n",
      "Minute: 102 done\n",
      "this is control index: 60\n",
      "Minute: 103 done\n",
      "this is control index: "
     ]
    },
    {
     "name": "stderr",
     "output_type": "stream",
     "text": [
      "┌ Warning: Problem status SLOW_PROGRESS; solution may be inaccurate.\n",
      "└ @ Convex /home/faustovega/.julia/packages/Convex/b2S4H/src/solution.jl:342\n"
     ]
    },
    {
     "name": "stdout",
     "output_type": "stream",
     "text": [
      "60\n",
      "Minute: 104 done\n",
      "this is control index: 60\n",
      "Minute: 105 done\n",
      "this is control index: 60\n",
      "Minute: 106 done\n",
      "this is control index: 60\n",
      "Minute: 107 done\n",
      "this is control index: "
     ]
    },
    {
     "name": "stderr",
     "output_type": "stream",
     "text": [
      "┌ Warning: Problem status SLOW_PROGRESS; solution may be inaccurate.\n",
      "└ @ Convex /home/faustovega/.julia/packages/Convex/b2S4H/src/solution.jl:342\n"
     ]
    },
    {
     "name": "stdout",
     "output_type": "stream",
     "text": [
      "60\n",
      "Minute: 108 done\n",
      "this is control index: 60\n",
      "Minute: 109 done\n",
      "this is control index: 1\n",
      "Minute: 110 done\n",
      "this is control index: 1\n",
      "Minute: 111 done\n",
      "this is control index: 1\n",
      "Minute: 112 done\n",
      "this is control index: 1\n",
      "Minute: 113 done\n",
      "this is control index: 1\n",
      "Minute: 114 done\n",
      "this is control index: 1\n",
      "Minute: 115 done\n",
      "this is control index: 1\n",
      "Minute: 116 done\n",
      "this is control index: 1\n",
      "Minute: 117 done\n",
      "this is control index: 1\n",
      "Minute: 118 done\n",
      "this is control index: 1\n",
      "Minute: 119 done\n",
      "this is control index: 1\n",
      "Minute: 120 done\n",
      "this is control index: 1\n",
      "Minute: 121 done\n",
      "this is control index: 1\n",
      "Minute: 122 done\n",
      "this is control index: 1\n",
      "Minute: 123 done\n",
      "this is control index: 1\n",
      "Minute: 124 done\n",
      "this is control index: 1\n",
      "Minute: 125 done\n",
      "this is control index: 1\n",
      "Minute: 126 done\n",
      "this is control index: 1\n",
      "Minute: 127 done\n",
      "this is control index: 1\n",
      "Minute: 128 done\n",
      "this is control index: 1\n",
      "Minute: 129 done\n",
      "this is control index: 1\n",
      "Minute: 130 done\n",
      "this is control index: 1\n",
      "Minute: 131 done\n",
      "this is control index: 1\n",
      "Minute: 132 done\n",
      "this is control index: 1\n",
      "Minute: 133 done\n",
      "this is control index: 1\n",
      "Minute: 134 done\n",
      "this is control index: 1\n",
      "Minute: 135 done\n",
      "this is control index: 1\n",
      "Minute: 136 done\n",
      "this is control index: 1\n",
      "Minute: 137 done\n",
      "this is control index: 1\n",
      "Minute: 138 done\n",
      "this is control index: 1\n",
      "Minute: 139 done\n",
      "this is control index: 1\n",
      "Minute: 140 done\n",
      "this is control index: 1\n",
      "Minute: 141 done\n",
      "this is control index: 19\n",
      "Minute: 142 done\n",
      "this is control index: 1\n",
      "Minute: 143 done\n",
      "this is control index: 1\n",
      "Minute: 144 done\n",
      "this is control index: 5\n",
      "Minute: 145 done\n",
      "this is control index: 1\n",
      "Minute: 146 done\n",
      "this is control index: 1\n",
      "Minute: 147 done\n",
      "this is control index: 1\n",
      "Minute: 148 done\n",
      "this is control index: 10\n",
      "Minute: 149 done\n",
      "this is control index: 2\n",
      "Minute: 150 done\n",
      "this is control index: 7\n",
      "Minute: 151 done\n",
      "this is control index: 1\n",
      "Minute: 152 done\n",
      "this is control index: 1\n",
      "Minute: 153 done\n",
      "this is control index: 1\n",
      "Minute: 154 done\n",
      "this is control index: 1\n",
      "Minute: 155 done\n",
      "this is control index: 1\n",
      "Minute: 156 done\n",
      "this is control index: 2\n",
      "Minute: 157 done\n",
      "this is control index: 3\n",
      "Minute: 158 done\n",
      "this is control index: 2\n",
      "Minute: 159 done\n",
      "this is control index: 28\n",
      "Minute: 160 done\n",
      "this is control index: 1\n",
      "Minute: 161 done\n",
      "this is control index: 46\n",
      "Minute: 162 done\n",
      "this is control index: 3\n",
      "Minute: 163 done\n",
      "this is control index: 2\n",
      "Minute: 164 done\n",
      "this is control index: 1\n",
      "Minute: 165 done\n",
      "this is control index: 16\n",
      "Minute: 166 done\n",
      "this is control index: 4\n",
      "Minute: 167 done\n",
      "this is control index: 3\n",
      "Minute: 168 done\n",
      "this is control index: 2\n",
      "Minute: 169 done\n",
      "this is control index: 1\n",
      "Minute: 170 done\n",
      "this is control index: 1\n",
      "Minute: 171 done\n",
      "this is control index: 1\n",
      "Minute: 172 done\n",
      "this is control index: 1\n",
      "Minute: 173 done\n",
      "this is control index: 2\n",
      "Minute: 174 done\n",
      "this is control index: 4\n",
      "Minute: 175 done\n",
      "this is control index: 1\n",
      "Minute: 176 done\n",
      "this is control index: 1\n",
      "Minute: 177 done\n",
      "this is control index: 1\n",
      "Minute: 178 done\n",
      "this is control index: 2\n",
      "Minute: 179 done\n",
      "this is control index: 1\n",
      "Minute: 180 done\n",
      "this is control index: 2\n",
      "Minute: 181 done\n",
      "this is control index: 1\n",
      "Minute: 182 done\n",
      "this is control index: 2\n",
      "Minute: 183 done\n",
      "this is control index: 4\n",
      "Minute: 184 done\n",
      "this is control index: 1\n",
      "Minute: 185 done\n",
      "this is control index: 1\n",
      "Minute: 186 done\n",
      "this is control index: 5\n",
      "Minute: 187 done\n",
      "this is control index: 1\n",
      "Minute: 188 done\n",
      "this is control index: 3\n",
      "Minute: 189 done\n",
      "this is control index: 5\n",
      "Minute: 190 done\n",
      "this is control index: 2\n",
      "Minute: 191 done\n",
      "this is control index: 6\n",
      "Minute: 192 done\n",
      "this is control index: 1\n",
      "Minute: 193 done\n",
      "this is control index: 5\n",
      "Minute: 194 done\n",
      "this is control index: 1\n",
      "Minute: 195 done\n",
      "this is control index: 1\n",
      "Minute: 196 done\n",
      "this is control index: 1\n",
      "Minute: 197 done\n",
      "this is control index: 4\n",
      "Minute: 198 done\n",
      "this is control index: 1\n",
      "Minute: 199 done\n",
      "this is control index: 3\n",
      "Minute: 200 done\n",
      "this is control index: 2\n",
      "Minute: 201 done\n",
      "this is control index: 1\n",
      "Minute: 202 done\n",
      "this is control index: 3\n",
      "Minute: 203 done\n",
      "this is control index: 2\n",
      "Minute: 204 done\n",
      "this is control index: 1\n",
      "Minute: 205 done\n",
      "this is control index: 3\n",
      "Minute: 206 done\n",
      "this is control index: 1\n",
      "Minute: 207 done\n",
      "this is control index: 1\n",
      "Minute: 208 done\n",
      "this is control index: 5\n",
      "Minute: 209 done\n",
      "this is control index: 1\n",
      "Minute: 210 done\n",
      "this is control index: 1\n",
      "Minute: 211 done\n",
      "this is control index: 1\n",
      "Minute: 212 done\n",
      "this is control index: 1\n",
      "Minute: 213 done\n",
      "this is control index: 4\n",
      "Minute: 214 done\n",
      "this is control index: 1\n",
      "Minute: 215 done\n",
      "this is control index: 1\n",
      "Minute: 216 done\n",
      "this is control index: 1\n",
      "Minute: 217 done\n",
      "this is control index: 2\n",
      "Minute: 218 done\n",
      "this is control index: 1\n",
      "Minute: 219 done\n",
      "this is control index: 1\n",
      "Minute: 220 done\n",
      "this is control index: 1\n",
      "Minute: 221 done\n",
      "this is control index: 1\n",
      "Minute: 222 done\n",
      "this is control index: 5\n",
      "Minute: 223 done\n",
      "this is control index: 1\n",
      "Minute: 224 done\n",
      "this is control index: 1\n",
      "Minute: 225 done\n",
      "this is control index: 1\n",
      "Minute: 226 done\n",
      "this is control index: 10\n",
      "Minute: 227 done\n",
      "this is control index: 4\n",
      "Minute: 228 done\n",
      "this is control index: 7\n",
      "Minute: 229 done\n",
      "this is control index: 4\n",
      "Minute: 230 done\n",
      "this is control index: 2\n",
      "Minute: 231 done\n",
      "this is control index: 1\n",
      "Minute: 232 done\n",
      "this is control index: 8\n",
      "Minute: 233 done\n",
      "this is control index: 3\n",
      "Minute: 234 done\n",
      "this is control index: 1\n",
      "Minute: 235 done\n",
      "this is control index: 17\n",
      "Minute: 236 done\n",
      "this is control index: 5\n",
      "Minute: 237 done\n",
      "this is control index: 5\n",
      "Minute: 238 done\n",
      "this is control index: 2\n",
      "Minute: 239 done\n",
      "this is control index: 4\n",
      "Minute: 240 done\n",
      "this is control index: 7\n",
      "Minute: 241 done\n",
      "this is control index: 2\n",
      "Minute: 242 done\n",
      "this is control index: 1\n",
      "Minute: 243 done\n",
      "this is control index: 2\n",
      "Minute: 244 done\n",
      "this is control index: 3\n",
      "Minute: 245 done\n",
      "this is control index: 1\n",
      "Minute: 246 done\n",
      "this is control index: 2\n",
      "Minute: 247 done\n",
      "this is control index: 1\n",
      "Minute: 248 done\n",
      "this is control index: 3\n",
      "Minute: 249 done\n",
      "this is control index: 1\n",
      "Minute: 250 done\n",
      "this is control index: 1\n",
      "Minute: 251 done\n",
      "this is control index: 1\n",
      "Minute: 252 done\n",
      "this is control index: 1\n",
      "Minute: 253 done\n",
      "this is control index: 1\n",
      "Minute: 254 done\n",
      "this is control index: 21\n",
      "Minute: 255 done\n",
      "this is control index: 1\n",
      "Minute: 256 done\n",
      "this is control index: 1\n",
      "Minute: 257 done\n",
      "this is control index: 1\n",
      "Minute: 258 done\n",
      "this is control index: 2\n",
      "Minute: 259 done\n",
      "this is control index: 53\n",
      "Minute: 260 done\n",
      "this is control index: 2\n",
      "Minute: 261 done\n",
      "this is control index: 5\n",
      "Minute: 262 done\n",
      "this is control index: 1\n",
      "Minute: 263 done\n",
      "this is control index: 2\n",
      "Minute: 264 done\n",
      "this is control index: 2\n",
      "Minute: 265 done\n",
      "this is control index: 2\n",
      "Minute: 266 done\n",
      "this is control index: 2\n",
      "Minute: 267 done\n",
      "this is control index: 3\n",
      "Minute: 268 done\n",
      "this is control index: 10\n",
      "Minute: 269 done\n",
      "this is control index: "
     ]
    },
    {
     "name": "stderr",
     "output_type": "stream",
     "text": [
      "┌ Warning: Problem status SLOW_PROGRESS; solution may be inaccurate.\n",
      "└ @ Convex /home/faustovega/.julia/packages/Convex/b2S4H/src/solution.jl:342\n"
     ]
    },
    {
     "name": "stdout",
     "output_type": "stream",
     "text": [
      "3\n",
      "Minute: 270 done\n",
      "this is control index: 2\n",
      "Minute: 271 done\n",
      "this is control index: 1\n",
      "Minute: 272 done\n",
      "this is control index: 1\n",
      "Minute: 273 done\n",
      "this is control index: 1\n",
      "Minute: 274 done\n",
      "this is control index: 2\n",
      "Minute: 275 done\n",
      "this is control index: 2\n",
      "Minute: 276 done\n",
      "this is control index: 3\n",
      "Minute: 277 done\n",
      "this is control index: 3\n",
      "Minute: 278 done\n",
      "this is control index: 1\n",
      "Minute: 279 done\n",
      "this is control index: 3\n",
      "Minute: 280 done\n",
      "this is control index: 8\n",
      "Minute: 281 done\n",
      "this is control index: 2\n",
      "Minute: 282 done\n",
      "this is control index: 3\n",
      "Minute: 283 done\n",
      "this is control index: 2\n",
      "Minute: 284 done\n",
      "this is control index: 1\n",
      "Minute: 285 done\n",
      "this is control index: 2\n",
      "Minute: 286 done\n",
      "this is control index: 1\n",
      "Minute: 287 done\n",
      "this is control index: 1\n",
      "Minute: 288 done\n",
      "this is control index: 3\n",
      "Minute: 289 done\n",
      "this is control index: 2\n",
      "Minute: 290 done\n",
      "this is control index: 1\n",
      "Minute: 291 done\n",
      "this is control index: 1\n",
      "Minute: 292 done\n",
      "this is control index: 1\n",
      "Minute: 293 done\n",
      "this is control index: 4\n",
      "Minute: 294 done\n",
      "this is control index: 1\n",
      "Minute: 295 done\n",
      "this is control index: 4\n",
      "Minute: 296 done\n",
      "this is control index: 1\n",
      "Minute: 297 done\n",
      "this is control index: 1\n",
      "Minute: 298 done\n",
      "this is control index: 1\n",
      "Minute: 299 done\n",
      "this is control index: 1\n",
      "Minute: 300 done\n",
      "this is control index: 2\n",
      "Minute: 301 done\n",
      "this is control index: 1\n",
      "Minute: 302 done\n",
      "this is control index: 43\n",
      "Minute: 303 done\n",
      "this is control index: 1\n",
      "Minute: 304 done\n",
      "this is control index: 3\n",
      "Minute: 305 done\n",
      "this is control index: 3\n",
      "Minute: 306 done\n",
      "this is control index: 1\n",
      "Minute: 307 done\n",
      "this is control index: "
     ]
    }
   ],
   "source": [
    "for i=1:iterations-1\n",
    "\n",
    "#for i=1:iterations-1\n",
    "\n",
    "#for 60 second constraint\n",
    "#for i in iters_odd \n",
    "\n",
    "#took 50 minutes for 10 iterations. output was just zero controls...\n",
    "#for i=1:10\n",
    "\n",
    "# i=1\n",
    "\n",
    "    all_C_k[:,:, i] = C_k\n",
    "    \n",
    "    cons, X, U = update_prob(xhist[:,i], C_k)\n",
    "\n",
    "    Xm, Um = solve_prob(cons, X, U, total_N)\n",
    "\n",
    "    #take one step \n",
    "    #uhist[:,i] = Um[:,1]\n",
    "\n",
    "    u_traj = Um[:,1:60]\n",
    "\n",
    "    uhist_all[:,:, i] = u_traj\n",
    "\n",
    "    uhist[:, (i-1)*60+1: (i-1)*60+60] = Um[:,1:60]\n",
    "\n",
    "    max_sum = vec(sum(abs.(u_traj), dims=1))\n",
    "\n",
    "    control_index = findmax(max_sum)[2]\n",
    "\n",
    "    println(\"this is control index: \", control_index)\n",
    "    \n",
    "    #modify the C to repect the 60 second constraint\n",
    "    #commenting out this logic \n",
    "    if control_index ==1\n",
    "\n",
    "        C_k = C\n",
    "\n",
    "    else\n",
    "        #println(\"this is control index: \", control_index)\n",
    "        C_k = C\n",
    "\n",
    "        #changing rows\n",
    "        #C_k[1:control_index-1, :] = zeros(control_index-1, N_120-1)\n",
    "\n",
    "        #changing columns\n",
    "        C_k[:, 1:control_index-1] = zeros( 121 ,control_index-1)\n",
    "\n",
    "    end\n",
    "\n",
    "    #uhist[:,i+1] = Um[:,2]\n",
    "\n",
    "    xhist[:,i+1] = sim_one_min(xhist[:,i], u_traj, Ad_scaled_120, Bd_scaled_120)\n",
    "\n",
    "    println(\"Minute: \", i, \" done\")\n",
    "\n",
    "    #xhist[:,i+1] = spacecraft_dynamics_discrete_scaled(xhist[:,i], uhist[:,i])\n",
    "\n",
    "    #xhist[:,i+2] = spacecraft_dynamics_discrete(xhist[:,i+1], uhist[:,i+1])\n",
    "\n",
    "end"
   ]
  },
  {
   "cell_type": "code",
   "execution_count": null,
   "metadata": {},
   "outputs": [],
   "source": [
    "all_C_k[:,:,109]"
   ]
  },
  {
   "cell_type": "code",
   "execution_count": null,
   "metadata": {},
   "outputs": [],
   "source": [
    "#all_C_k[:,:,109]"
   ]
  },
  {
   "cell_type": "code",
   "execution_count": null,
   "metadata": {},
   "outputs": [],
   "source": [
    "all_C_k[:,:,110]"
   ]
  },
  {
   "cell_type": "code",
   "execution_count": null,
   "metadata": {},
   "outputs": [],
   "source": [
    "all_C_k[1:60,:,110]"
   ]
  },
  {
   "cell_type": "code",
   "execution_count": null,
   "metadata": {},
   "outputs": [],
   "source": [
    "uhist_all[:,:, 109]"
   ]
  },
  {
   "cell_type": "code",
   "execution_count": null,
   "metadata": {},
   "outputs": [],
   "source": [
    "uhist_all[:,:, 110]"
   ]
  },
  {
   "cell_type": "code",
   "execution_count": null,
   "metadata": {},
   "outputs": [],
   "source": [
    "plot(sum(abs.(uhist_all[:,:, 64]), dims=1)')"
   ]
  },
  {
   "cell_type": "code",
   "execution_count": null,
   "metadata": {},
   "outputs": [],
   "source": [
    "plot([uhist_all[:,:,109] uhist_all[:,:, 110]]')"
   ]
  },
  {
   "cell_type": "code",
   "execution_count": null,
   "metadata": {},
   "outputs": [],
   "source": [
    "test = uhist[:, 3600-59:3661]"
   ]
  },
  {
   "cell_type": "code",
   "execution_count": null,
   "metadata": {},
   "outputs": [],
   "source": [
    "plot(test') "
   ]
  },
  {
   "cell_type": "code",
   "execution_count": null,
   "metadata": {},
   "outputs": [],
   "source": [
    "uhist_all[:,:, 50]"
   ]
  },
  {
   "cell_type": "code",
   "execution_count": null,
   "metadata": {},
   "outputs": [],
   "source": [
    "uhist_all[:,:, 51]"
   ]
  },
  {
   "cell_type": "code",
   "execution_count": null,
   "metadata": {},
   "outputs": [],
   "source": [
    "C_k "
   ]
  },
  {
   "cell_type": "code",
   "execution_count": null,
   "metadata": {},
   "outputs": [],
   "source": [
    "index = 2\n",
    "C_k_new = C\n",
    "C_k_new[1:index-1, :] = zeros(180)"
   ]
  },
  {
   "cell_type": "code",
   "execution_count": null,
   "metadata": {},
   "outputs": [],
   "source": [
    "C_k_new "
   ]
  },
  {
   "cell_type": "code",
   "execution_count": null,
   "metadata": {},
   "outputs": [],
   "source": [
    "xhist "
   ]
  },
  {
   "cell_type": "code",
   "execution_count": null,
   "metadata": {},
   "outputs": [],
   "source": [
    "plot(xhist' )"
   ]
  },
  {
   "cell_type": "code",
   "execution_count": null,
   "metadata": {},
   "outputs": [],
   "source": [
    "156*60"
   ]
  },
  {
   "cell_type": "code",
   "execution_count": null,
   "metadata": {},
   "outputs": [],
   "source": [
    "54*60"
   ]
  },
  {
   "cell_type": "code",
   "execution_count": null,
   "metadata": {},
   "outputs": [],
   "source": [
    "55*60"
   ]
  },
  {
   "cell_type": "code",
   "execution_count": null,
   "metadata": {},
   "outputs": [],
   "source": [
    "plot(uhist[:, 3200:3350]')"
   ]
  },
  {
   "cell_type": "code",
   "execution_count": null,
   "metadata": {},
   "outputs": [],
   "source": [
    "uhist[:, 3001]"
   ]
  },
  {
   "cell_type": "code",
   "execution_count": null,
   "metadata": {},
   "outputs": [],
   "source": [
    "uhist[:, 3061]"
   ]
  },
  {
   "cell_type": "code",
   "execution_count": null,
   "metadata": {},
   "outputs": [],
   "source": [
    "uhist[:, 3181]"
   ]
  },
  {
   "cell_type": "code",
   "execution_count": null,
   "metadata": {},
   "outputs": [],
   "source": [
    "plot(uhist[:,1:360]')"
   ]
  },
  {
   "cell_type": "code",
   "execution_count": null,
   "metadata": {},
   "outputs": [],
   "source": [
    "plot(uhist[:, 1:300]')"
   ]
  },
  {
   "cell_type": "code",
   "execution_count": null,
   "metadata": {},
   "outputs": [],
   "source": [
    "xhist_si = [xhist[1:3, :]*position_scale; xhist[4:6, :]*velocity_scale]  "
   ]
  },
  {
   "cell_type": "code",
   "execution_count": null,
   "metadata": {},
   "outputs": [],
   "source": [
    "#rescale uhist into m/s2\n",
    "\n",
    "uhist_si = uhist*acceleration_scale "
   ]
  },
  {
   "cell_type": "code",
   "execution_count": null,
   "metadata": {},
   "outputs": [],
   "source": [
    "max_sum = vec(sum(uhist_si[:,1:60], dims=1))\n",
    "\n",
    "findmax(max_sum)[2]"
   ]
  },
  {
   "cell_type": "code",
   "execution_count": null,
   "metadata": {},
   "outputs": [],
   "source": [
    "plot(xhist_si[1,:], xhist_si[2,:], xhist_si[3,:], label = \"Chaser Trajectory\", zlim = (-1,1))\n",
    "\n",
    "scatter!([xhist_si[1,1]], [xhist_si[2,1]], [xhist_si[3,1]], label = \"Initial State\")\n",
    "scatter!([xhist_si[1,end]], [xhist_si[2,end]], [xhist_si[3,end]], label = \"End State\")\n",
    "\n",
    "scatter!([0], [0], [0], label= \"Target\")"
   ]
  },
  {
   "cell_type": "code",
   "execution_count": null,
   "metadata": {},
   "outputs": [],
   "source": [
    "plot(xhist_si[2,:], xhist_si[1,:], xlabel= \"Tangential (m)\", ylabel=\"Radial (m)\")"
   ]
  },
  {
   "cell_type": "code",
   "execution_count": null,
   "metadata": {},
   "outputs": [],
   "source": [
    "plot(xhist_si[3,:], xhist_si[1,:], xlabel= \"Normal (m)\", ylabel=\"Radial (m)\", label=false)"
   ]
  },
  {
   "cell_type": "code",
   "execution_count": null,
   "metadata": {},
   "outputs": [],
   "source": [
    "plot(xhist_si[1,:], title=\"Positions\") \n",
    "plot!(xhist_si[2,:])\n",
    "plot!(xhist_si[3,:])"
   ]
  },
  {
   "cell_type": "code",
   "execution_count": null,
   "metadata": {},
   "outputs": [],
   "source": [
    "plot(xhist_si[4,:], title=\"Velocities\") \n",
    "plot!(xhist_si[5,:])\n",
    "plot!(xhist_si[6,:])"
   ]
  },
  {
   "cell_type": "code",
   "execution_count": null,
   "metadata": {},
   "outputs": [],
   "source": [
    "uhist_si "
   ]
  },
  {
   "cell_type": "code",
   "execution_count": null,
   "metadata": {},
   "outputs": [],
   "source": [
    "uhist_si[:, 1:60]"
   ]
  },
  {
   "cell_type": "code",
   "execution_count": null,
   "metadata": {},
   "outputs": [],
   "source": [
    "plot(uhist_si[2, :])"
   ]
  },
  {
   "cell_type": "code",
   "execution_count": null,
   "metadata": {},
   "outputs": [],
   "source": [
    "plot(uhist_si[2,3000:3100])"
   ]
  },
  {
   "cell_type": "code",
   "execution_count": null,
   "metadata": {},
   "outputs": [],
   "source": [
    "uhist_si[:,3000]"
   ]
  },
  {
   "cell_type": "code",
   "execution_count": null,
   "metadata": {},
   "outputs": [],
   "source": []
  },
  {
   "cell_type": "code",
   "execution_count": null,
   "metadata": {},
   "outputs": [],
   "source": [
    "50*60"
   ]
  },
  {
   "cell_type": "code",
   "execution_count": null,
   "metadata": {},
   "outputs": [],
   "source": [
    "plot(uhist_si[1,:], title = \"Controls\")\n",
    "plot!(uhist_si[2,:])\n",
    "plot!(uhist_si[3,:])"
   ]
  },
  {
   "cell_type": "code",
   "execution_count": null,
   "metadata": {},
   "outputs": [],
   "source": [
    "C "
   ]
  },
  {
   "cell_type": "code",
   "execution_count": null,
   "metadata": {},
   "outputs": [],
   "source": [
    "plot(uhist_si[1,1:10000], title = \"Controls\", label=\"u_x\", xlabel = \"Time (s)\", ylabel = \"Acceleration (m/s2)\")\n",
    "plot!(uhist_si[2,1:10000], label=\"u_y\")\n",
    "plot!(uhist_si[3,1:10000], label=\"u_z\")"
   ]
  },
  {
   "cell_type": "code",
   "execution_count": null,
   "metadata": {},
   "outputs": [],
   "source": [
    "plot(uhist_si[1,7000:7500], title = \"Controls\")\n",
    "plot!(uhist_si[2,7000:7500])\n",
    "plot!(uhist_si[3,7000:7500])"
   ]
  },
  {
   "cell_type": "code",
   "execution_count": null,
   "metadata": {},
   "outputs": [],
   "source": []
  },
  {
   "cell_type": "code",
   "execution_count": null,
   "metadata": {},
   "outputs": [],
   "source": [
    "plot(uhist_si[2, 1:360])"
   ]
  },
  {
   "cell_type": "code",
   "execution_count": null,
   "metadata": {},
   "outputs": [],
   "source": [
    "#units: m/s2\n",
    "fuel_usage_accel = sum(abs.(vec(uhist_si)))"
   ]
  },
  {
   "cell_type": "code",
   "execution_count": null,
   "metadata": {},
   "outputs": [],
   "source": [
    "#these are 1 second impulses\n",
    "#units: m/s\n",
    "delta_v = 1*fuel_usage_accel "
   ]
  },
  {
   "cell_type": "code",
   "execution_count": null,
   "metadata": {},
   "outputs": [],
   "source": [
    "no_control = zeros(nx, iterations)"
   ]
  },
  {
   "cell_type": "code",
   "execution_count": null,
   "metadata": {},
   "outputs": [],
   "source": [
    "no_control[:,1] = x0_chaser"
   ]
  },
  {
   "cell_type": "code",
   "execution_count": null,
   "metadata": {},
   "outputs": [],
   "source": [
    "for i = 1:iterations-1\n",
    "\n",
    "    no_control[:, i+1] = Ad*no_control[:,i]\n",
    "\n",
    "end"
   ]
  },
  {
   "cell_type": "code",
   "execution_count": null,
   "metadata": {},
   "outputs": [],
   "source": [
    "# plot(no_control[1,:], no_control[2,:], no_control[3,:], zlims=(-1,1))\n",
    "# scatter!([0], [0], [0])"
   ]
  },
  {
   "cell_type": "code",
   "execution_count": null,
   "metadata": {},
   "outputs": [],
   "source": [
    "plot(no_control[2,:], no_control[1,:])"
   ]
  },
  {
   "cell_type": "code",
   "execution_count": null,
   "metadata": {},
   "outputs": [],
   "source": [
    "plot(no_control[3,:], no_control[1,:])"
   ]
  },
  {
   "cell_type": "code",
   "execution_count": null,
   "metadata": {},
   "outputs": [],
   "source": [
    "Ad_scaled "
   ]
  },
  {
   "cell_type": "code",
   "execution_count": null,
   "metadata": {},
   "outputs": [],
   "source": []
  },
  {
   "cell_type": "code",
   "execution_count": null,
   "metadata": {},
   "outputs": [],
   "source": []
  }
 ],
 "metadata": {
  "kernelspec": {
   "display_name": "Julia 1.10.0",
   "language": "julia",
   "name": "julia-1.10"
  },
  "language_info": {
   "file_extension": ".jl",
   "mimetype": "application/julia",
   "name": "julia",
   "version": "1.10.0"
  }
 },
 "nbformat": 4,
 "nbformat_minor": 2
}
