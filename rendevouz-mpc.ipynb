{
 "cells": [
  {
   "cell_type": "code",
   "execution_count": null,
   "metadata": {},
   "outputs": [],
   "source": [
    "using LinearAlgebra\n",
    "using ForwardDiff\n",
    "using SatelliteDynamics\n",
    "using DifferentialEquations\n",
    "using Plots\n",
    "using ECOS, Convex\n",
    "using Mosek, MosekTools"
   ]
  },
  {
   "cell_type": "code",
   "execution_count": null,
   "metadata": {},
   "outputs": [],
   "source": [
    "#From RoadsMPC slide deck\n",
    "#values are in m and degrees \n",
    "#orbits elements of und roads 1\n",
    "#last is the true anomaly \n",
    "elements1 = [6885.635e3, 0.001089, 97.43, 0, 0, 0]\n",
    "\n",
    "#orbital elements of und roads 2\n",
    "#last is the true anomaly\n",
    "elements2 = [6885.635e3, 0.001089, 97.43, 0, 0, 0.016667]"
   ]
  },
  {
   "cell_type": "code",
   "execution_count": null,
   "metadata": {},
   "outputs": [],
   "source": [
    "#convert the true anomaly to mean anomaly to be able to do the conversion and degrees to radians"
   ]
  },
  {
   "cell_type": "code",
   "execution_count": null,
   "metadata": {},
   "outputs": [],
   "source": [
    "function degrees_to_rad(x)\n",
    "\n",
    "    return x*pi/180\n",
    "    \n",
    "end"
   ]
  },
  {
   "cell_type": "code",
   "execution_count": null,
   "metadata": {},
   "outputs": [],
   "source": [
    "#v is true anomaly \n",
    "#e is the eccentricity\n",
    "function true_anom_to_eccentric_anom(v, e)\n",
    "\n",
    "    E = 2*atand(sqrt((1-e)/(1+e))*tand(v/2))\n",
    "\n",
    "    #eccentric anomaly\n",
    "    return E\n",
    "\n",
    "end"
   ]
  },
  {
   "cell_type": "code",
   "execution_count": null,
   "metadata": {},
   "outputs": [],
   "source": [
    "function eccentric_anom_to_mean_anom(E, e)\n",
    "\n",
    "    M = E - e*sind(E)\n",
    "\n",
    "    #mean anomaly\n",
    "    return M\n",
    "\n",
    "end"
   ]
  },
  {
   "cell_type": "code",
   "execution_count": null,
   "metadata": {},
   "outputs": [],
   "source": [
    "#eccentric anomaly sat 1\n",
    "E1 = true_anom_to_eccentric_anom(elements1[end], elements1[2])\n",
    "\n",
    "#mean anomaly sat 1\n",
    "M1 = eccentric_anom_to_mean_anom(E1, elements1[2])"
   ]
  },
  {
   "cell_type": "code",
   "execution_count": null,
   "metadata": {},
   "outputs": [],
   "source": [
    "#eccentric anomaly sat 2\n",
    "E2 = true_anom_to_eccentric_anom(elements2[end], elements2[2])\n",
    "\n",
    "#eccentric anomaly sat 2\n",
    "M2  = eccentric_anom_to_mean_anom(E2, elements2[2])"
   ]
  },
  {
   "cell_type": "code",
   "execution_count": null,
   "metadata": {},
   "outputs": [],
   "source": [
    "#get all the units consistent (m, radians)\n",
    "\n",
    "elements1_m = [elements1[1:2]; degrees_to_rad(elements1[3]); degrees_to_rad(elements1[4]); degrees_to_rad(elements1[5]); degrees_to_rad(M1)]\n",
    "\n",
    "elements2_m = [elements2[1:2]; degrees_to_rad(elements2[3]); degrees_to_rad(elements2[4]); degrees_to_rad(elements2[5]); degrees_to_rad(M2)]"
   ]
  },
  {
   "cell_type": "code",
   "execution_count": null,
   "metadata": {},
   "outputs": [],
   "source": [
    "#state satellite 1 (target)\n",
    "\n",
    "x_1 = sOSCtoCART(elements1_m, use_degrees=false)"
   ]
  },
  {
   "cell_type": "code",
   "execution_count": null,
   "metadata": {},
   "outputs": [],
   "source": [
    "#state satellite 2 (chaser)\n",
    "\n",
    "x_2 = sOSCtoCART(elements2_m, use_degrees=false)"
   ]
  },
  {
   "cell_type": "code",
   "execution_count": null,
   "metadata": {},
   "outputs": [],
   "source": [
    "#relative state of chaser wrt target\n",
    "#this is in ECI frame\n",
    "difference = x_2 - x_1 "
   ]
  },
  {
   "cell_type": "code",
   "execution_count": null,
   "metadata": {},
   "outputs": [],
   "source": [
    "#this is in the RTN frame of the target (primary observing satellite) \n",
    "initial_difference = sECItoRTN(x_1, x_2) "
   ]
  },
  {
   "cell_type": "code",
   "execution_count": null,
   "metadata": {},
   "outputs": [],
   "source": [
    "#unit scaling to make the numerics better (no overshoot)\n",
    "position_scale = 100\n",
    "time_scale = 1000\n",
    "\n",
    "velocity_scale = position_scale/time_scale\n",
    "acceleration_scale = position_scale/(time_scale)^2"
   ]
  },
  {
   "cell_type": "code",
   "execution_count": null,
   "metadata": {},
   "outputs": [],
   "source": [
    "#mu - gravitational parameter (m3/s2)\n",
    "mu = 3.986e14"
   ]
  },
  {
   "cell_type": "code",
   "execution_count": null,
   "metadata": {},
   "outputs": [],
   "source": [
    "mu_scaled = mu/(position_scale^3/time_scale^2)"
   ]
  },
  {
   "cell_type": "code",
   "execution_count": null,
   "metadata": {},
   "outputs": [],
   "source": [
    "#target orbit period in seconds\n",
    "T = 2*pi*sqrt((elements1[1]^3)/(mu))"
   ]
  },
  {
   "cell_type": "code",
   "execution_count": null,
   "metadata": {},
   "outputs": [],
   "source": [
    "#semi major axis of target satellite (meters)\n",
    "a = elements1[1]"
   ]
  },
  {
   "cell_type": "code",
   "execution_count": null,
   "metadata": {},
   "outputs": [],
   "source": [
    "#scaled semi major axis\n",
    "a_scaled = a/position_scale"
   ]
  },
  {
   "cell_type": "code",
   "execution_count": null,
   "metadata": {},
   "outputs": [],
   "source": [
    "#constant mean motion of target n = sqrt(mu/a^3)\n",
    "#units: rad/s\n",
    "n = sqrt(mu/a^3)"
   ]
  },
  {
   "cell_type": "code",
   "execution_count": null,
   "metadata": {},
   "outputs": [],
   "source": [
    "n_scaled = sqrt(mu_scaled/a_scaled^3)"
   ]
  },
  {
   "cell_type": "code",
   "execution_count": null,
   "metadata": {},
   "outputs": [],
   "source": [
    "#number of states\n",
    "nx = 6\n",
    "\n",
    "#number of control inputs\n",
    "nu = 3"
   ]
  },
  {
   "cell_type": "code",
   "execution_count": null,
   "metadata": {},
   "outputs": [],
   "source": [
    "#timestep\n",
    "dt = 60"
   ]
  },
  {
   "cell_type": "code",
   "execution_count": null,
   "metadata": {},
   "outputs": [],
   "source": [
    "dt_scaled = dt/time_scale "
   ]
  },
  {
   "cell_type": "code",
   "execution_count": null,
   "metadata": {},
   "outputs": [],
   "source": [
    "#this is a 5 orbits for dt=60\n",
    "\n",
    "#worked with 470 for some reason? \n",
    "#N = 470\n",
    "#one orbit \n",
    "N = 94\n",
    "\n",
    "#2 orbit look ahead? \n",
    "#N = 188"
   ]
  },
  {
   "cell_type": "code",
   "execution_count": null,
   "metadata": {},
   "outputs": [],
   "source": [
    "thist = LinRange(1, N*dt, N)"
   ]
  },
  {
   "cell_type": "code",
   "execution_count": null,
   "metadata": {},
   "outputs": [],
   "source": [
    "x0_target = zeros(nx) "
   ]
  },
  {
   "cell_type": "code",
   "execution_count": null,
   "metadata": {},
   "outputs": [],
   "source": [
    "#this is in RTN frame\n",
    "# m and s\n",
    "x0_chaser = initial_difference"
   ]
  },
  {
   "cell_type": "code",
   "execution_count": null,
   "metadata": {},
   "outputs": [],
   "source": [
    "A = zeros(nx, nx)\n",
    "A[1:3, 4:6] = I(3)\n",
    "A[4, 1] = 3*n^2\n",
    "A[6, 3] = -n^2\n",
    "A[4, 5] = 2*n\n",
    "A[5, 4] = -2*n"
   ]
  },
  {
   "cell_type": "code",
   "execution_count": null,
   "metadata": {},
   "outputs": [],
   "source": [
    "A_scaled = zeros(nx, nx)\n",
    "A_scaled[1:3, 4:6] = I(3)\n",
    "A_scaled[4, 1] = 3*n_scaled^2\n",
    "A_scaled[6, 3] = -n_scaled^2\n",
    "A_scaled[4, 5] = 2*n_scaled\n",
    "A_scaled[5, 4] = -2*n_scaled"
   ]
  },
  {
   "cell_type": "code",
   "execution_count": null,
   "metadata": {},
   "outputs": [],
   "source": [
    "#mass of the satellite (kg) from data\n",
    "m = 5.22"
   ]
  },
  {
   "cell_type": "code",
   "execution_count": null,
   "metadata": {},
   "outputs": [],
   "source": [
    "#in m/s2. L1 norm \n",
    "umax = 4.6e-3"
   ]
  },
  {
   "cell_type": "code",
   "execution_count": null,
   "metadata": {},
   "outputs": [],
   "source": [
    "umax_scaled = umax/acceleration_scale "
   ]
  },
  {
   "cell_type": "code",
   "execution_count": null,
   "metadata": {},
   "outputs": [],
   "source": [
    "#si units\n",
    "B = [zeros(3,3); I(3)]"
   ]
  },
  {
   "cell_type": "code",
   "execution_count": null,
   "metadata": {},
   "outputs": [],
   "source": [
    "#continous dynamics\n",
    "function spacecraft_dynamics(x,u)\n",
    "\n",
    "    xdot = A*x + B*u\n",
    "\n",
    "    return xdot\n",
    "\n",
    "end"
   ]
  },
  {
   "cell_type": "code",
   "execution_count": null,
   "metadata": {},
   "outputs": [],
   "source": [
    "#discretize the dynamics model \n",
    "H_scaled = exp(dt_scaled*[A_scaled B; zeros(nu, nx+nu)])"
   ]
  },
  {
   "cell_type": "code",
   "execution_count": null,
   "metadata": {},
   "outputs": [],
   "source": [
    "#Scaled Discrete Dynamics Matrices\n",
    "Ad_scaled  = H_scaled[1:nx, 1:nx]\n",
    "Bd_scaled = H_scaled[1:nx, (nx+1):end]"
   ]
  },
  {
   "cell_type": "code",
   "execution_count": null,
   "metadata": {},
   "outputs": [],
   "source": [
    "#discretize the dynamics model \n",
    "H = exp(dt*[A B; zeros(nu, nx+nu)])"
   ]
  },
  {
   "cell_type": "code",
   "execution_count": null,
   "metadata": {},
   "outputs": [],
   "source": [
    "#Discrete Dynamics Matrices\n",
    "Ad  = H[1:nx, 1:nx]\n",
    "Bd = H[1:nx, (nx+1):end]"
   ]
  },
  {
   "cell_type": "code",
   "execution_count": null,
   "metadata": {},
   "outputs": [],
   "source": [
    "#discrete dynamics\n",
    "function spacecraft_dynamics_discrete(x,u)\n",
    "\n",
    "    xnext = Ad*x + Bd*u\n",
    "\n",
    "    return xnext\n",
    "\n",
    "end"
   ]
  },
  {
   "cell_type": "code",
   "execution_count": null,
   "metadata": {},
   "outputs": [],
   "source": [
    "function spacecraft_dynamics_discrete_scaled(x_scaled, u_scaled)\n",
    "\n",
    "    xnext_scaled = Ad_scaled*x_scaled + Bd_scaled*u_scaled\n",
    "\n",
    "    return xnext_scaled\n",
    "\n",
    "end"
   ]
  },
  {
   "cell_type": "code",
   "execution_count": null,
   "metadata": {},
   "outputs": [],
   "source": [
    "N_h = N"
   ]
  },
  {
   "cell_type": "code",
   "execution_count": null,
   "metadata": {},
   "outputs": [],
   "source": [
    "x_initial = x0_chaser"
   ]
  },
  {
   "cell_type": "code",
   "execution_count": null,
   "metadata": {},
   "outputs": [],
   "source": [
    "x_initial_scaled = [x0_chaser[1:3]/position_scale; x0_chaser[4:6]/velocity_scale] "
   ]
  },
  {
   "cell_type": "code",
   "execution_count": null,
   "metadata": {},
   "outputs": [],
   "source": [
    "x_goal = x0_target"
   ]
  },
  {
   "cell_type": "code",
   "execution_count": null,
   "metadata": {},
   "outputs": [],
   "source": [
    "function update_prob(x_initial_k)\n",
    "\n",
    "\n",
    "    X = Convex.Variable(nx, N_h)\n",
    "    U = Convex.Variable(nu, N_h-1)\n",
    "    \n",
    "    #Initial State Constraint\n",
    "    cons = Constraint[X[:,1] == x_initial_k]\n",
    "\n",
    "    #Dynamics Constraint\n",
    "    for k=1:(N_h-1)\n",
    "\n",
    "        push!(cons, X[:,k+1] - (Ad_scaled*X[:,k] + Bd_scaled*U[:,k]) == zeros(6))\n",
    "\n",
    "    end\n",
    "\n",
    "    #add in thrust constraints\n",
    "\n",
    "    #try both l1 and l2\n",
    "    for k=1:(N_h-1)\n",
    "\n",
    "       #L2 thrust constraint\n",
    "       #push!(cons, norm(U[:,k],2) <= umax/acceleration_scale)\n",
    "\n",
    "    #    #L1 thrust constraint\n",
    "    #works when bound is 1\n",
    "       push!(cons, norm(U[:,k],1) <= (umax/60/acceleration_scale))\n",
    "\n",
    "\n",
    "       #bound constraints (working)\n",
    "    #    push!(cons, U[1,k] <= 4.6e-3)\n",
    "    #    push!(cons, U[2,k] <= 4.6e-3)\n",
    "    #    push!(cons, U[3,k] <= 4.6e-3)\n",
    "    #    push!(cons, U[1,k] >= -4.6e-3)\n",
    "    #    push!(cons, U[2,k] >= -4.6e-3)\n",
    "    #    push!(cons, U[3,k] >= -4.6e-3)\n",
    "\n",
    "    end\n",
    "\n",
    "\n",
    "    #60 seconds between each control constraint \n",
    "    # for k=1:(N_h-1)\n",
    "\n",
    "    #     if (k%2) == 0\n",
    "\n",
    "    #         push!(cons, U[:,k] == zeros(3))\n",
    "\n",
    "    #     else\n",
    "    #         continue\n",
    "    #     end\n",
    "\n",
    "\n",
    "    # end\n",
    "\n",
    "\n",
    "\n",
    "    return cons, X, U\n",
    "\n",
    "end"
   ]
  },
  {
   "cell_type": "code",
   "execution_count": null,
   "metadata": {},
   "outputs": [],
   "source": [
    "function solve_prob(cons, X, U, N)\n",
    "\n",
    "\n",
    "    #objective \n",
    "    obj = 0\n",
    "\n",
    "    #weights depending how conservative you want to be on fuel vs reaching the goal\n",
    "    #sensative to these weights. with beta as 100 it wouldn't solve...\n",
    "    beta = 1\n",
    "    alpha = 1\n",
    "\n",
    "    for k=1:N-1\n",
    "        obj += beta*norm(U[:,k], 1) + alpha*norm(X[:,k], 2)\n",
    "    end\n",
    "\n",
    "    #terminal cost\n",
    "    obj += alpha*norm(X[:,N], 2)\n",
    "\n",
    "    prob = minimize(obj, cons)\n",
    "\n",
    "    #solve with ECOS\n",
    "    #Convex.solve!(prob, ()-> ECOS.Optimizer(), silent_solver=true);\n",
    "\n",
    "    Convex.solve!(prob, ()-> Mosek.Optimizer(), silent_solver = true)\n",
    "\n",
    "    Xm = X.value\n",
    "    Um = U.value\n",
    "\n",
    "    return Xm, Um\n",
    "\n",
    "end"
   ]
  },
  {
   "cell_type": "code",
   "execution_count": null,
   "metadata": {},
   "outputs": [],
   "source": [
    "#iterations = 1000\n",
    "num_orbits = 3\n",
    "\n",
    "iterations = N*num_orbits"
   ]
  },
  {
   "cell_type": "code",
   "execution_count": null,
   "metadata": {},
   "outputs": [],
   "source": [
    "#set up in Convex.jl"
   ]
  },
  {
   "cell_type": "code",
   "execution_count": null,
   "metadata": {},
   "outputs": [],
   "source": [
    "xhist = zeros(nx, iterations)\n",
    "uhist = zeros(nu, iterations-1)\n",
    "\n",
    "xhist[:,1] = x_initial_scaled"
   ]
  },
  {
   "cell_type": "code",
   "execution_count": null,
   "metadata": {},
   "outputs": [],
   "source": [
    "#for 60 seconds constraint\n",
    "iters_odd = 1:2:iterations-2"
   ]
  },
  {
   "cell_type": "code",
   "execution_count": null,
   "metadata": {},
   "outputs": [],
   "source": [
    "for i=1:iterations-1\n",
    "\n",
    "#test\n",
    "#for i=1\n",
    "\n",
    "#for 60 second constraint\n",
    "#for i in iters_odd \n",
    "    cons, X, U = update_prob(xhist[:,i])\n",
    "\n",
    "    Xm, Um = solve_prob(cons, X, U, N_h)\n",
    "\n",
    "    #take one step \n",
    "    uhist[:,i] = Um[:,1]\n",
    "\n",
    "    #uhist[:,i+1] = Um[:,2]\n",
    "\n",
    "    xhist[:,i+1] = spacecraft_dynamics_discrete_scaled(xhist[:,i], uhist[:,i])\n",
    "\n",
    "    #xhist[:,i+2] = spacecraft_dynamics_discrete(xhist[:,i+1], uhist[:,i+1])\n",
    "\n",
    "end"
   ]
  },
  {
   "cell_type": "code",
   "execution_count": null,
   "metadata": {},
   "outputs": [],
   "source": [
    "plot(Xm')"
   ]
  },
  {
   "cell_type": "code",
   "execution_count": null,
   "metadata": {},
   "outputs": [],
   "source": [
    "xhist_si = [xhist[1:3, :]*position_scale; xhist[4:6, :]*velocity_scale]  "
   ]
  },
  {
   "cell_type": "code",
   "execution_count": null,
   "metadata": {},
   "outputs": [],
   "source": [
    "#rescale uhist into m/s2\n",
    "\n",
    "uhist_si = uhist*acceleration_scale "
   ]
  },
  {
   "cell_type": "code",
   "execution_count": null,
   "metadata": {},
   "outputs": [],
   "source": [
    "plot(xhist_si[1,:], xhist_si[2,:], xhist_si[3,:], label = \"Chaser Trajectory\", zlim = (-1,1))\n",
    "\n",
    "scatter!([xhist_si[1,1]], [xhist_si[2,1]], [xhist_si[3,1]], label = \"Initial State\")\n",
    "scatter!([xhist_si[1,end]], [xhist_si[2,end]], [xhist_si[3,end]], label = \"End State\")\n",
    "\n",
    "scatter!([0], [0], [0], label= \"Target\")"
   ]
  },
  {
   "cell_type": "code",
   "execution_count": null,
   "metadata": {},
   "outputs": [],
   "source": [
    "plot(xhist_si[2,:], xhist_si[1,:], xlabel= \"Tangential (m)\", ylabel=\"Radial (m)\")"
   ]
  },
  {
   "cell_type": "code",
   "execution_count": null,
   "metadata": {},
   "outputs": [],
   "source": [
    "plot(xhist_si[3,:], xhist_si[1,:], xlabel= \"Normal (m)\", ylabel=\"Radial (m)\", label=false)"
   ]
  },
  {
   "cell_type": "code",
   "execution_count": null,
   "metadata": {},
   "outputs": [],
   "source": [
    "plot(xhist_si[1,:], title=\"Positions\") \n",
    "plot!(xhist_si[2,:])\n",
    "plot!(xhist_si[3,:])"
   ]
  },
  {
   "cell_type": "code",
   "execution_count": null,
   "metadata": {},
   "outputs": [],
   "source": [
    "plot(xhist_si[4,:], title=\"Velocities\") \n",
    "plot!(xhist_si[5,:])\n",
    "plot!(xhist_si[6,:])"
   ]
  },
  {
   "cell_type": "code",
   "execution_count": null,
   "metadata": {},
   "outputs": [],
   "source": [
    "plot(uhist_si[1,:], title = \"Controls\")\n",
    "plot!(uhist_si[2,:])\n",
    "plot!(uhist_si[3,:])"
   ]
  },
  {
   "cell_type": "code",
   "execution_count": null,
   "metadata": {},
   "outputs": [],
   "source": [
    "fuel_usage_accel = sum(abs.(vec(uhist_si)))"
   ]
  },
  {
   "cell_type": "code",
   "execution_count": null,
   "metadata": {},
   "outputs": [],
   "source": [
    "delta_v = dt*fuel_usage_accel "
   ]
  },
  {
   "cell_type": "code",
   "execution_count": null,
   "metadata": {},
   "outputs": [],
   "source": [
    "no_control = zeros(nx, iterations)"
   ]
  },
  {
   "cell_type": "code",
   "execution_count": null,
   "metadata": {},
   "outputs": [],
   "source": [
    "no_control[:,1] = x0_chaser"
   ]
  },
  {
   "cell_type": "code",
   "execution_count": null,
   "metadata": {},
   "outputs": [],
   "source": [
    "for i = 1:iterations-1\n",
    "\n",
    "    no_control[:, i+1] = Ad*no_control[:,i]\n",
    "\n",
    "end"
   ]
  },
  {
   "cell_type": "code",
   "execution_count": null,
   "metadata": {},
   "outputs": [],
   "source": [
    "# plot(no_control[1,:], no_control[2,:], no_control[3,:], zlims=(-1,1))\n",
    "# scatter!([0], [0], [0])"
   ]
  },
  {
   "cell_type": "code",
   "execution_count": null,
   "metadata": {},
   "outputs": [],
   "source": [
    "plot(no_control[2,:], no_control[1,:])"
   ]
  },
  {
   "cell_type": "code",
   "execution_count": null,
   "metadata": {},
   "outputs": [],
   "source": [
    "plot(no_control[3,:], no_control[1,:])"
   ]
  },
  {
   "cell_type": "code",
   "execution_count": null,
   "metadata": {},
   "outputs": [],
   "source": []
  }
 ],
 "metadata": {
  "kernelspec": {
   "display_name": "Julia 1.10.0",
   "language": "julia",
   "name": "julia-1.10"
  },
  "language_info": {
   "file_extension": ".jl",
   "mimetype": "application/julia",
   "name": "julia",
   "version": "1.10.0"
  }
 },
 "nbformat": 4,
 "nbformat_minor": 2
}
