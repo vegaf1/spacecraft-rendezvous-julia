{
 "cells": [
  {
   "cell_type": "code",
   "execution_count": 83,
   "metadata": {},
   "outputs": [],
   "source": [
    "using LinearAlgebra\n",
    "using ForwardDiff\n",
    "using SatelliteDynamics\n",
    "using DifferentialEquations\n",
    "using Plots\n",
    "using ECOS, Convex\n",
    "using Mosek, MosekTools"
   ]
  },
  {
   "cell_type": "code",
   "execution_count": 84,
   "metadata": {},
   "outputs": [
    {
     "data": {
      "text/plain": [
       "6-element Vector{Float64}:\n",
       "  6.885635e6\n",
       "  0.001089\n",
       " 97.43\n",
       "  0.0\n",
       "  0.0\n",
       "  0.016667"
      ]
     },
     "metadata": {},
     "output_type": "display_data"
    }
   ],
   "source": [
    "#From slide deck\n",
    "\n",
    "#values are in km and degrees \n",
    "\n",
    "#orbits elements of und roads 1\n",
    "#last is the true anomaly \n",
    "elements1 = [6885.635e3, 0.001089, 97.43, 0, 0, 0]\n",
    "\n",
    "\n",
    "#orbital elements of und roads 2\n",
    "#last is the true anomaly\n",
    "elements2 = [6885.635e3, 0.001089, 97.43, 0, 0, 0.016667]"
   ]
  },
  {
   "cell_type": "code",
   "execution_count": 85,
   "metadata": {},
   "outputs": [],
   "source": [
    "#convert the true anomaly to mean anomaly to be able to do the conversion and degrees to radians"
   ]
  },
  {
   "cell_type": "code",
   "execution_count": 86,
   "metadata": {},
   "outputs": [
    {
     "data": {
      "text/plain": [
       "degrees_to_rad (generic function with 1 method)"
      ]
     },
     "metadata": {},
     "output_type": "display_data"
    }
   ],
   "source": [
    "function degrees_to_rad(x)\n",
    "\n",
    "    return x*pi/180\n",
    "    \n",
    "end"
   ]
  },
  {
   "cell_type": "code",
   "execution_count": 87,
   "metadata": {},
   "outputs": [
    {
     "data": {
      "text/plain": [
       "true_anom_to_eccentric_anom (generic function with 1 method)"
      ]
     },
     "metadata": {},
     "output_type": "display_data"
    }
   ],
   "source": [
    "#v is true anomaly \n",
    "#e is the eccentricity\n",
    "function true_anom_to_eccentric_anom(v, e)\n",
    "\n",
    "    E = 2*atand(sqrt((1-e)/(1+e))*tand(v/2))\n",
    "\n",
    "    #eccentric anomaly\n",
    "    return E\n",
    "\n",
    "end"
   ]
  },
  {
   "cell_type": "code",
   "execution_count": 88,
   "metadata": {},
   "outputs": [
    {
     "data": {
      "text/plain": [
       "eccentric_anom_to_mean_anom (generic function with 1 method)"
      ]
     },
     "metadata": {},
     "output_type": "display_data"
    }
   ],
   "source": [
    "function eccentric_anom_to_mean_anom(E, e)\n",
    "\n",
    "    M = E - e*sind(E)\n",
    "\n",
    "    #mean anomaly\n",
    "    return M\n",
    "\n",
    "end"
   ]
  },
  {
   "cell_type": "code",
   "execution_count": 89,
   "metadata": {},
   "outputs": [
    {
     "data": {
      "text/plain": [
       "0.0"
      ]
     },
     "metadata": {},
     "output_type": "display_data"
    }
   ],
   "source": [
    "#eccentric anomaly sat 1\n",
    "E1 = true_anom_to_eccentric_anom(elements1[end], elements1[2])\n",
    "\n",
    "#mean anomaly sat 1\n",
    "M1 = eccentric_anom_to_mean_anom(E1, elements1[2])"
   ]
  },
  {
   "cell_type": "code",
   "execution_count": 90,
   "metadata": {},
   "outputs": [
    {
     "data": {
      "text/plain": [
       "0.016648543070573774"
      ]
     },
     "metadata": {},
     "output_type": "display_data"
    }
   ],
   "source": [
    "#eccentric anomaly sat 2\n",
    "E2 = true_anom_to_eccentric_anom(elements2[end], elements2[2])\n",
    "\n",
    "#eccentric anomaly sat 2\n",
    "M2  = eccentric_anom_to_mean_anom(E2, elements2[2])"
   ]
  },
  {
   "cell_type": "code",
   "execution_count": 91,
   "metadata": {},
   "outputs": [
    {
     "data": {
      "text/plain": [
       "6-element Vector{Float64}:\n",
       " 6.885635e6\n",
       " 0.001089\n",
       " 1.7004742902180754\n",
       " 0.0\n",
       " 0.0\n",
       " 0.00029057189224159907"
      ]
     },
     "metadata": {},
     "output_type": "display_data"
    }
   ],
   "source": [
    "#get all the units consistent (m, radians)\n",
    "#need to change the inclanation to radians, the rest are zeros\n",
    "\n",
    "elements1_m = [elements1[1:2]; degrees_to_rad(elements1[3]); elements1[4:5]; degrees_to_rad(M1)]\n",
    "\n",
    "elements2_m = [elements2[1:2]; degrees_to_rad(elements2[3]); elements2[4:5]; degrees_to_rad(M2)]"
   ]
  },
  {
   "cell_type": "code",
   "execution_count": 92,
   "metadata": {},
   "outputs": [
    {
     "data": {
      "text/plain": [
       "6-element Vector{Float64}:\n",
       "    6.878136543485e6\n",
       "    0.0\n",
       "    0.0\n",
       "    0.0\n",
       " -984.9589353739226\n",
       " 7552.79897887146"
      ]
     },
     "metadata": {},
     "output_type": "display_data"
    }
   ],
   "source": [
    "#state satellite 1 (target)\n",
    "\n",
    "x_1 = sOSCtoCART(elements1_m, use_degrees=false)"
   ]
  },
  {
   "cell_type": "code",
   "execution_count": 93,
   "metadata": {},
   "outputs": [
    {
     "data": {
      "text/plain": [
       "6-element Vector{Float64}:\n",
       "    6.878136252166805e6\n",
       " -259.0113696278884\n",
       " 1986.134383662354\n",
       "   -2.2156282462577286\n",
       " -984.9588936567426\n",
       " 7552.798658978454"
      ]
     },
     "metadata": {},
     "output_type": "display_data"
    }
   ],
   "source": [
    "#state satellite 2 (chaser)\n",
    "\n",
    "x_2 = sOSCtoCART(elements2_m, use_degrees=false)"
   ]
  },
  {
   "cell_type": "code",
   "execution_count": 94,
   "metadata": {},
   "outputs": [
    {
     "data": {
      "text/plain": [
       "6-element Vector{Float64}:\n",
       "   -0.2913181949406862\n",
       " -259.0113696278884\n",
       " 1986.134383662354\n",
       "   -2.2156282462577286\n",
       "    4.171718001089175e-5\n",
       "   -0.0003198930062353611"
      ]
     },
     "metadata": {},
     "output_type": "display_data"
    }
   ],
   "source": [
    "#relative state of chaser wrt target\n",
    "#this is in ECI frame\n",
    "difference = x_2 - x_1 "
   ]
  },
  {
   "cell_type": "code",
   "execution_count": 95,
   "metadata": {},
   "outputs": [
    {
     "data": {
      "text/plain": [
       "6-element StaticArraysCore.SVector{6, Float64} with indices SOneTo(6):\n",
       "   -0.2913181949406862\n",
       " 2002.9519913273894\n",
       "    2.7017514072632172e-14\n",
       "    0.002412819262479271\n",
       "   -1.5962127995240716e-12\n",
       "    3.511794450825904e-14"
      ]
     },
     "metadata": {},
     "output_type": "display_data"
    }
   ],
   "source": [
    "#this is in the LVLH (RTN) frame of the target (primary observing satellite) \n",
    "initial_difference = sECItoRTN(x_1, x_2) "
   ]
  },
  {
   "cell_type": "code",
   "execution_count": 96,
   "metadata": {},
   "outputs": [
    {
     "data": {
      "text/plain": [
       "6.878136543485e6"
      ]
     },
     "metadata": {},
     "output_type": "display_data"
    }
   ],
   "source": [
    "position_scale = norm(x_1[1:3])"
   ]
  },
  {
   "cell_type": "code",
   "execution_count": 97,
   "metadata": {},
   "outputs": [],
   "source": [
    "#bake in the scaling into the B matrix\n",
    "#have 4.66 mm/s2 be equal to 1 distance_unit/time_unit"
   ]
  },
  {
   "cell_type": "code",
   "execution_count": 98,
   "metadata": {},
   "outputs": [],
   "source": [
    "#u is scaled to 1"
   ]
  },
  {
   "cell_type": "code",
   "execution_count": 99,
   "metadata": {},
   "outputs": [
    {
     "data": {
      "text/plain": [
       "0.06826419266350404"
      ]
     },
     "metadata": {},
     "output_type": "display_data"
    }
   ],
   "source": [
    "#first attempt is by only scaling time\n",
    "tu = sqrt(4.66e-3)"
   ]
  },
  {
   "cell_type": "code",
   "execution_count": 100,
   "metadata": {},
   "outputs": [],
   "source": [
    "#scale the distance by the l2 norm of the target\n",
    "\n",
    "#scale the time by the period of the target"
   ]
  },
  {
   "cell_type": "code",
   "execution_count": 101,
   "metadata": {},
   "outputs": [],
   "source": [
    "# velocity_scale = 1/tu\n",
    "# acceleration_scale = 1/(tu)^2"
   ]
  },
  {
   "cell_type": "code",
   "execution_count": 102,
   "metadata": {},
   "outputs": [],
   "source": [
    "#this is what goes in the B matrix (not working)\n",
    "#1/acceleration_scale"
   ]
  },
  {
   "cell_type": "code",
   "execution_count": 103,
   "metadata": {},
   "outputs": [],
   "source": [
    "#to get it to equal 1 you multiply"
   ]
  },
  {
   "cell_type": "code",
   "execution_count": 104,
   "metadata": {},
   "outputs": [
    {
     "data": {
      "text/plain": [
       "3.986e14"
      ]
     },
     "metadata": {},
     "output_type": "display_data"
    }
   ],
   "source": [
    "#mu - gravitational parameter (m3/s2)\n",
    "mu = 3.986e14"
   ]
  },
  {
   "cell_type": "code",
   "execution_count": 105,
   "metadata": {},
   "outputs": [
    {
     "data": {
      "text/plain": [
       "6.371e6"
      ]
     },
     "metadata": {},
     "output_type": "display_data"
    }
   ],
   "source": [
    "#radius of Earth (m)\n",
    "r_e = 6.371e6"
   ]
  },
  {
   "cell_type": "code",
   "execution_count": 106,
   "metadata": {},
   "outputs": [
    {
     "data": {
      "text/plain": [
       "6.85635e6"
      ]
     },
     "metadata": {},
     "output_type": "display_data"
    }
   ],
   "source": [
    "#sma from ppt (m)\n",
    "a = 6.85635e6"
   ]
  },
  {
   "cell_type": "code",
   "execution_count": 107,
   "metadata": {},
   "outputs": [
    {
     "data": {
      "text/plain": [
       "0.0011120624547982091"
      ]
     },
     "metadata": {},
     "output_type": "display_data"
    }
   ],
   "source": [
    "#constant mean motion of target n = sqrt(mu/a^3)\n",
    "#units: rad/s\n",
    "n = sqrt(mu/a^3)"
   ]
  },
  {
   "cell_type": "code",
   "execution_count": 108,
   "metadata": {},
   "outputs": [
    {
     "data": {
      "text/plain": [
       "3"
      ]
     },
     "metadata": {},
     "output_type": "display_data"
    }
   ],
   "source": [
    "#number of states\n",
    "nx = 6\n",
    "\n",
    "#number of control inputs\n",
    "nu = 3"
   ]
  },
  {
   "cell_type": "code",
   "execution_count": 109,
   "metadata": {},
   "outputs": [
    {
     "data": {
      "text/plain": [
       "94"
      ]
     },
     "metadata": {},
     "output_type": "display_data"
    }
   ],
   "source": [
    "#this is a whole orbit for dt=60\n",
    "N = 94\n",
    "\n",
    "#this is a whole orbit for dt=1\n",
    "#N = 5650"
   ]
  },
  {
   "cell_type": "code",
   "execution_count": 110,
   "metadata": {},
   "outputs": [
    {
     "data": {
      "text/plain": [
       "5650.029168838104"
      ]
     },
     "metadata": {},
     "output_type": "display_data"
    }
   ],
   "source": [
    "#target orbit period in seconds\n",
    "\n",
    "#this a is of the target orbit \n",
    "\n",
    "T = 2*pi*sqrt((a^3)/(mu))"
   ]
  },
  {
   "cell_type": "code",
   "execution_count": 111,
   "metadata": {},
   "outputs": [
    {
     "data": {
      "text/plain": [
       "5650.029168838104"
      ]
     },
     "metadata": {},
     "output_type": "display_data"
    }
   ],
   "source": [
    "#time scale\n",
    "time_scale = T"
   ]
  },
  {
   "cell_type": "code",
   "execution_count": 112,
   "metadata": {},
   "outputs": [
    {
     "data": {
      "text/plain": [
       "0.2154613681741382"
      ]
     },
     "metadata": {},
     "output_type": "display_data"
    }
   ],
   "source": [
    "velocity_scale = position_scale/time_scale \n",
    "\n",
    "acceleration_scale = position_scale/(time_scale^2)"
   ]
  },
  {
   "cell_type": "code",
   "execution_count": 113,
   "metadata": {},
   "outputs": [
    {
     "data": {
      "text/plain": [
       "1.9682419710886172e-7"
      ]
     },
     "metadata": {},
     "output_type": "display_data"
    }
   ],
   "source": [
    "n_scaled = n/time_scale "
   ]
  },
  {
   "cell_type": "code",
   "execution_count": 114,
   "metadata": {},
   "outputs": [],
   "source": [
    "#update code to use the scaled units!"
   ]
  },
  {
   "cell_type": "code",
   "execution_count": 115,
   "metadata": {},
   "outputs": [
    {
     "data": {
      "text/plain": [
       "60"
      ]
     },
     "metadata": {},
     "output_type": "display_data"
    }
   ],
   "source": [
    "#timestep \n",
    "#works better with 1 second...\n",
    "#dt = 1\n",
    "\n",
    "#trying out\n",
    "dt = 60"
   ]
  },
  {
   "cell_type": "code",
   "execution_count": 116,
   "metadata": {},
   "outputs": [
    {
     "data": {
      "text/plain": [
       "0.00017699023670804238"
      ]
     },
     "metadata": {},
     "output_type": "display_data"
    }
   ],
   "source": [
    "dt_scaled = 1/time_scale "
   ]
  },
  {
   "cell_type": "code",
   "execution_count": 117,
   "metadata": {},
   "outputs": [
    {
     "data": {
      "text/plain": [
       "94-element LinRange{Float64, Int64}:\n",
       " 1.0, 61.6344, 122.269, 182.903, 243.538, …, 5458.1, 5518.73, 5579.37, 5640.0"
      ]
     },
     "metadata": {},
     "output_type": "display_data"
    }
   ],
   "source": [
    "thist = LinRange(1, N*dt, N)"
   ]
  },
  {
   "cell_type": "code",
   "execution_count": 118,
   "metadata": {},
   "outputs": [
    {
     "data": {
      "text/plain": [
       "6-element Vector{Float64}:\n",
       " 0.0\n",
       " 0.0\n",
       " 0.0\n",
       " 0.0\n",
       " 0.0\n",
       " 0.0"
      ]
     },
     "metadata": {},
     "output_type": "display_data"
    }
   ],
   "source": [
    "x0_target = zeros(nx) "
   ]
  },
  {
   "cell_type": "code",
   "execution_count": 119,
   "metadata": {},
   "outputs": [
    {
     "data": {
      "text/plain": [
       "6-element StaticArraysCore.SVector{6, Float64} with indices SOneTo(6):\n",
       "   -0.2913181949406862\n",
       " 2002.9519913273894\n",
       "    2.7017514072632172e-14\n",
       "    0.002412819262479271\n",
       "   -1.5962127995240716e-12\n",
       "    3.511794450825904e-14"
      ]
     },
     "metadata": {},
     "output_type": "display_data"
    }
   ],
   "source": [
    "#using the true data from the ppt\n",
    "#relative state of the chaser wrt target \n",
    "#in the target RTN frame\n",
    "x0_chaser = initial_difference"
   ]
  },
  {
   "cell_type": "code",
   "execution_count": 120,
   "metadata": {},
   "outputs": [
    {
     "data": {
      "text/plain": [
       "6-element Vector{Float64}:\n",
       " -4.235423258885781e-8\n",
       "  0.0002912056163270841\n",
       "  3.928028166033324e-21\n",
       "  1.9820047371777003e-6\n",
       " -1.3112052690384923e-15\n",
       "  2.884755334048192e-17"
      ]
     },
     "metadata": {},
     "output_type": "display_data"
    }
   ],
   "source": [
    "x0_chaser_scaled = [x0_chaser[1:3]/position_scale; x0_chaser[4:6]/velocity_scale] "
   ]
  },
  {
   "cell_type": "code",
   "execution_count": 121,
   "metadata": {},
   "outputs": [
    {
     "data": {
      "text/plain": [
       "-0.0022241249095964182"
      ]
     },
     "metadata": {},
     "output_type": "display_data"
    }
   ],
   "source": [
    "A = zeros(nx, nx)\n",
    "A[1:3, 4:6] = I(3)\n",
    "A[4, 1] = 3*n^2\n",
    "A[6, 3] = -n^2\n",
    "A[4, 5] = 2*n\n",
    "A[5, 4] = -2*n"
   ]
  },
  {
   "cell_type": "code",
   "execution_count": 122,
   "metadata": {},
   "outputs": [
    {
     "data": {
      "text/plain": [
       "-3.9364839421772345e-7"
      ]
     },
     "metadata": {},
     "output_type": "display_data"
    }
   ],
   "source": [
    "A_scaled = zeros(nx, nx)\n",
    "A_scaled[1:3, 4:6] = I(3)\n",
    "A_scaled[4, 1] = 3*n_scaled^2\n",
    "A_scaled[6, 3] = -n_scaled^2\n",
    "A_scaled[4, 5] = 2*n_scaled\n",
    "A_scaled[5, 4] = -2*n_scaled"
   ]
  },
  {
   "cell_type": "code",
   "execution_count": 123,
   "metadata": {},
   "outputs": [
    {
     "data": {
      "text/plain": [
       "5.22"
      ]
     },
     "metadata": {},
     "output_type": "display_data"
    }
   ],
   "source": [
    "#mass of the satellite (kg) from data\n",
    "m = 5.22"
   ]
  },
  {
   "cell_type": "code",
   "execution_count": 124,
   "metadata": {},
   "outputs": [
    {
     "data": {
      "text/plain": [
       "6×3 Matrix{Float64}:\n",
       " 0.0  0.0  0.0\n",
       " 0.0  0.0  0.0\n",
       " 0.0  0.0  0.0\n",
       " 1.0  0.0  0.0\n",
       " 0.0  1.0  0.0\n",
       " 0.0  0.0  1.0"
      ]
     },
     "metadata": {},
     "output_type": "display_data"
    }
   ],
   "source": [
    "#si units\n",
    "B = [zeros(3,3); I(3)]\n",
    "\n",
    "#scaled\n",
    "#B = [zeros(3,3); 1/acceleration_scale*I(3)]\n",
    "\n",
    "#trying new\n",
    "#this maps an l1 norm of 1 to 4.66e-3 (bug, not working)\n",
    "\n",
    "#B = [zeros(3,3); 1/acceleration_scale*I(3)]"
   ]
  },
  {
   "cell_type": "code",
   "execution_count": 125,
   "metadata": {},
   "outputs": [
    {
     "data": {
      "text/plain": [
       "spacecraft_dynamics (generic function with 1 method)"
      ]
     },
     "metadata": {},
     "output_type": "display_data"
    }
   ],
   "source": [
    "#continous dynamics\n",
    "function spacecraft_dynamics(x,u)\n",
    "\n",
    "    xdot = A*x + B*u\n",
    "\n",
    "    return xdot\n",
    "\n",
    "end"
   ]
  },
  {
   "cell_type": "code",
   "execution_count": 126,
   "metadata": {},
   "outputs": [
    {
     "data": {
      "text/plain": [
       "9×9 Matrix{Float64}:\n",
       "  1.0          0.0   0.0           0.00017699   …  3.63752e-19  0.0\n",
       " -4.2275e-32   1.0   0.0          -6.16563e-15     1.56628e-8   0.0\n",
       "  0.0          0.0   1.0           0.0             0.0          1.56628e-8\n",
       "  2.05697e-17  0.0   0.0           1.0             6.16563e-15  0.0\n",
       " -7.16565e-28  0.0   0.0          -6.96719e-11     0.00017699   0.0\n",
       "  0.0          0.0  -6.85656e-18   0.0          …  0.0          0.00017699\n",
       "  0.0          0.0   0.0           0.0             0.0          0.0\n",
       "  0.0          0.0   0.0           0.0             1.0          0.0\n",
       "  0.0          0.0   0.0           0.0             0.0          1.0"
      ]
     },
     "metadata": {},
     "output_type": "display_data"
    }
   ],
   "source": [
    "#discretize the dynamics model \n",
    "H_scaled = exp(dt_scaled*[A_scaled B; zeros(nu, nx+nu)])"
   ]
  },
  {
   "cell_type": "code",
   "execution_count": 127,
   "metadata": {},
   "outputs": [
    {
     "data": {
      "text/plain": [
       "6×3 Matrix{Float64}:\n",
       "  1.56628e-8   3.63752e-19  0.0\n",
       " -3.63752e-19  1.56628e-8   0.0\n",
       "  0.0          0.0          1.56628e-8\n",
       "  0.00017699   6.16563e-15  0.0\n",
       " -6.16563e-15  0.00017699   0.0\n",
       "  0.0          0.0          0.00017699"
      ]
     },
     "metadata": {},
     "output_type": "display_data"
    }
   ],
   "source": [
    "#Scaled Discrete Dynamics Matrices\n",
    "Ad_scaled  = H_scaled[1:nx, 1:nx]\n",
    "Bd_scaled = H_scaled[1:nx, (nx+1):end]"
   ]
  },
  {
   "cell_type": "code",
   "execution_count": 128,
   "metadata": {},
   "outputs": [
    {
     "data": {
      "text/plain": [
       "9×9 Matrix{Float64}:\n",
       "  1.00668      0.0   0.0         …  1799.33       80.0507      0.0\n",
       " -0.000296992  1.0   0.0             -80.0507   1797.33        0.0\n",
       "  0.0          0.0   0.997775          0.0         0.0      1799.33\n",
       "  0.000222438  0.0   0.0              59.9555      4.00194     0.0\n",
       " -1.48474e-5   0.0   0.0              -4.00194    59.822       0.0\n",
       "  0.0          0.0  -7.41459e-5  …     0.0         0.0        59.9555\n",
       "  0.0          0.0   0.0               1.0         0.0         0.0\n",
       "  0.0          0.0   0.0               0.0         1.0         0.0\n",
       "  0.0          0.0   0.0               0.0         0.0         1.0"
      ]
     },
     "metadata": {},
     "output_type": "display_data"
    }
   ],
   "source": [
    "#discretize the dynamics model \n",
    "H = exp(dt*[A B; zeros(nu, nx+nu)])"
   ]
  },
  {
   "cell_type": "code",
   "execution_count": 129,
   "metadata": {},
   "outputs": [
    {
     "data": {
      "text/plain": [
       "6×3 Matrix{Float64}:\n",
       " 1799.33       80.0507      0.0\n",
       "  -80.0507   1797.33        0.0\n",
       "    0.0         0.0      1799.33\n",
       "   59.9555      4.00194     0.0\n",
       "   -4.00194    59.822       0.0\n",
       "    0.0         0.0        59.9555"
      ]
     },
     "metadata": {},
     "output_type": "display_data"
    }
   ],
   "source": [
    "#Discrete Dynamics Matrices\n",
    "Ad  = H[1:nx, 1:nx]\n",
    "Bd = H[1:nx, (nx+1):end]"
   ]
  },
  {
   "cell_type": "code",
   "execution_count": 130,
   "metadata": {},
   "outputs": [
    {
     "data": {
      "text/plain": [
       "6×6 Matrix{Float64}:\n",
       "  1.0          0.0   0.0           0.00017699   6.16563e-15  0.0\n",
       " -4.2275e-32   1.0   0.0          -6.16563e-15  0.00017699   0.0\n",
       "  0.0          0.0   1.0           0.0          0.0          0.00017699\n",
       "  2.05697e-17  0.0   0.0           1.0          6.96719e-11  0.0\n",
       " -7.16565e-28  0.0   0.0          -6.96719e-11  1.0          0.0\n",
       "  0.0          0.0  -6.85656e-18   0.0          0.0          1.0"
      ]
     },
     "metadata": {},
     "output_type": "display_data"
    }
   ],
   "source": [
    "Ad_scaled "
   ]
  },
  {
   "cell_type": "code",
   "execution_count": 131,
   "metadata": {},
   "outputs": [
    {
     "data": {
      "text/plain": [
       "spacecraft_dynamics_discrete (generic function with 1 method)"
      ]
     },
     "metadata": {},
     "output_type": "display_data"
    }
   ],
   "source": [
    "#discrete dynamics\n",
    "function spacecraft_dynamics_discrete(x,u)\n",
    "\n",
    "    xnext = Ad*x + Bd*u\n",
    "\n",
    "    return xnext\n",
    "\n",
    "end"
   ]
  },
  {
   "cell_type": "code",
   "execution_count": 132,
   "metadata": {},
   "outputs": [
    {
     "data": {
      "text/plain": [
       "0.2154613681741382"
      ]
     },
     "metadata": {},
     "output_type": "display_data"
    }
   ],
   "source": [
    "acceleration_scale "
   ]
  },
  {
   "cell_type": "code",
   "execution_count": 133,
   "metadata": {},
   "outputs": [
    {
     "data": {
      "text/plain": [
       "0.0216280070970019"
      ]
     },
     "metadata": {},
     "output_type": "display_data"
    }
   ],
   "source": [
    "4.66e-3/acceleration_scale "
   ]
  },
  {
   "cell_type": "code",
   "execution_count": 134,
   "metadata": {},
   "outputs": [
    {
     "data": {
      "text/plain": [
       "94"
      ]
     },
     "metadata": {},
     "output_type": "display_data"
    }
   ],
   "source": [
    "#both of these horizons are 1 orbit...\n",
    "\n",
    "#when dt is a minute\n",
    "#N_h = 94\n",
    "\n",
    "#when dt is a second\n",
    "#N_h = 5650\n",
    "\n",
    "\n",
    "N_h = N"
   ]
  },
  {
   "cell_type": "code",
   "execution_count": 135,
   "metadata": {},
   "outputs": [
    {
     "data": {
      "text/plain": [
       "6-element StaticArraysCore.SVector{6, Float64} with indices SOneTo(6):\n",
       "   -0.2913181949406862\n",
       " 2002.9519913273894\n",
       "    2.7017514072632172e-14\n",
       "    0.002412819262479271\n",
       "   -1.5962127995240716e-12\n",
       "    3.511794450825904e-14"
      ]
     },
     "metadata": {},
     "output_type": "display_data"
    }
   ],
   "source": [
    "x_initial = x0_chaser"
   ]
  },
  {
   "cell_type": "code",
   "execution_count": 136,
   "metadata": {},
   "outputs": [
    {
     "data": {
      "text/plain": [
       "6-element Vector{Float64}:\n",
       " 0.0\n",
       " 0.0\n",
       " 0.0\n",
       " 0.0\n",
       " 0.0\n",
       " 0.0"
      ]
     },
     "metadata": {},
     "output_type": "display_data"
    }
   ],
   "source": [
    "x_goal = x0_target"
   ]
  },
  {
   "cell_type": "code",
   "execution_count": 137,
   "metadata": {},
   "outputs": [
    {
     "data": {
      "text/plain": [
       "6-element Vector{Float64}:\n",
       "   -0.14860116219705305\n",
       " 2002.9424218890772\n",
       "    2.132470941681533e-12\n",
       "    0.002342650074188926\n",
       "   -0.0003174205091450142\n",
       "    3.5037796697226343e-14"
      ]
     },
     "metadata": {},
     "output_type": "display_data"
    }
   ],
   "source": [
    "test_og = Ad*x0_chaser"
   ]
  },
  {
   "cell_type": "code",
   "execution_count": null,
   "metadata": {},
   "outputs": [],
   "source": [
    "test = Ad_scaled*x0_chaser_scaled  "
   ]
  },
  {
   "cell_type": "code",
   "execution_count": null,
   "metadata": {},
   "outputs": [],
   "source": [
    "function update_prob(x_initial_k)\n",
    "\n",
    "\n",
    "    X = Convex.Variable(nx, N_h)\n",
    "    U = Convex.Variable(nu, N_h-1)\n",
    "    \n",
    "    #Initial State Constraint\n",
    "    cons = Constraint[X[:,1] == x_initial_k]\n",
    "\n",
    "    #Dynamics Constraint\n",
    "    for k=1:(N_h-1)\n",
    "\n",
    "        push!(cons, X[:,k+1] - (Ad*X[:,k] + Bd*U[:,k]) == zeros(6))\n",
    "\n",
    "    end\n",
    "\n",
    "    #add in thrust constraints\n",
    "\n",
    "    #try both l1 and l2\n",
    "    for k=1:(N_h-1)\n",
    "\n",
    "    #    #this thrust is small\n",
    "    #    #trying to increase it by an order of magnitude \n",
    "\n",
    "       #L1 works\n",
    "       push!(cons, norm(U[:,k],2) <= 4.6e-3)\n",
    "\n",
    "    #    #when scaled (not working)\n",
    "    #    #push!(cons, norm(U[:,k],1) <= 1.0)\n",
    "\n",
    "\n",
    "       #bound constraints (working)\n",
    "    #    push!(cons, U[1,k] <= 4.6e-3)\n",
    "    #    push!(cons, U[2,k] <= 4.6e-3)\n",
    "    #    push!(cons, U[3,k] <= 4.6e-3)\n",
    "    #    push!(cons, U[1,k] >= -4.6e-3)\n",
    "    #    push!(cons, U[2,k] >= -4.6e-3)\n",
    "    #    push!(cons, U[3,k] >= -4.6e-3)\n",
    "\n",
    "    end\n",
    "\n",
    "\n",
    "\n",
    "\n",
    "    return cons, X, U\n",
    "\n",
    "end"
   ]
  },
  {
   "cell_type": "code",
   "execution_count": null,
   "metadata": {},
   "outputs": [],
   "source": [
    "function solve_prob(cons, X, U, N)\n",
    "\n",
    "\n",
    "    #objective \n",
    "    obj = 0\n",
    "\n",
    "    #weights depending how conservative you want to be on fuel vs reaching the goal\n",
    "    beta = 100\n",
    "    alpha = 1\n",
    "\n",
    "    for k=1:N-1\n",
    "        obj += beta*norm(U[:,k], 1) + alpha*norm(X[:,k], 2)\n",
    "    end\n",
    "\n",
    "    #terminal cost\n",
    "    obj += alpha*norm(X[:,N], 2)\n",
    "\n",
    "    prob = minimize(obj, cons)\n",
    "\n",
    "    #solve with ECOS\n",
    "    #Convex.solve!(prob, ()-> ECOS.Optimizer(), silent_solver=true);\n",
    "\n",
    "    Convex.solve!(prob, ()-> Mosek.Optimizer(), silent_solver = true)\n",
    "\n",
    "    Xm = X.value\n",
    "    Um = U.value\n",
    "\n",
    "    return Xm, Um\n",
    "\n",
    "end"
   ]
  },
  {
   "cell_type": "code",
   "execution_count": null,
   "metadata": {},
   "outputs": [],
   "source": [
    "#iterations = 1000\n",
    "num_orbits = 2\n",
    "\n",
    "#50 orbits worth of data\n",
    "iterations = N*num_orbits"
   ]
  },
  {
   "cell_type": "code",
   "execution_count": null,
   "metadata": {},
   "outputs": [],
   "source": [
    "#set up in Convex.jl"
   ]
  },
  {
   "cell_type": "code",
   "execution_count": null,
   "metadata": {},
   "outputs": [],
   "source": [
    "xhist = zeros(nx, iterations)\n",
    "uhist = zeros(nu, iterations-1)\n",
    "\n",
    "xhist[:,1] = x_initial"
   ]
  },
  {
   "cell_type": "code",
   "execution_count": null,
   "metadata": {},
   "outputs": [],
   "source": [
    "# for i=1:iterations-1\n",
    "\n",
    "    i = 1\n",
    "    cons, X, U = update_prob(xhist[:,i])\n",
    "\n",
    "    Xm, Um = solve_prob(cons, X, U, N_h)\n",
    "\n",
    "    #take one step \n",
    "    uhist[:,i] = Um[:,1]\n",
    "\n",
    "    xhist[:,i+1] = spacecraft_dynamics_discrete(xhist[:,i], uhist[:,i])\n",
    "\n",
    "\n",
    "# end"
   ]
  },
  {
   "cell_type": "code",
   "execution_count": null,
   "metadata": {},
   "outputs": [],
   "source": [
    "all_norms = zeros(iterations-1)\n",
    "\n",
    "for i=1:iterations-1\n",
    "\n",
    "    all_norms[i] = norm(uhist[:,i],1)\n",
    "\n",
    "end"
   ]
  },
  {
   "cell_type": "code",
   "execution_count": null,
   "metadata": {},
   "outputs": [],
   "source": [
    "uhist "
   ]
  },
  {
   "cell_type": "code",
   "execution_count": null,
   "metadata": {},
   "outputs": [],
   "source": [
    "#does full on norm for all the iterations...\n",
    "plot(all_norms) \n",
    "#plot!(4.6e-3*ones(iterations))"
   ]
  },
  {
   "cell_type": "code",
   "execution_count": null,
   "metadata": {},
   "outputs": [],
   "source": [
    "all_norms \n"
   ]
  },
  {
   "cell_type": "code",
   "execution_count": null,
   "metadata": {},
   "outputs": [],
   "source": [
    "xhist "
   ]
  },
  {
   "cell_type": "code",
   "execution_count": null,
   "metadata": {},
   "outputs": [],
   "source": [
    "plot(xhist[1,:], xhist[2,:], xhist[3,:], label = \"Chaser Trajectory\")\n",
    "\n",
    "scatter!([xhist[1,1]], [xhist[2,1]], [xhist[3,1]], label = \"Initial State\")\n",
    "scatter!([xhist[1,end]], [xhist[2,end]], [xhist[3,end]], label = \"End State\")\n",
    "\n",
    "scatter!([0], [0], [0], label= \"Target\")"
   ]
  },
  {
   "cell_type": "code",
   "execution_count": null,
   "metadata": {},
   "outputs": [],
   "source": [
    "plot(xhist[2,:], xhist[1,:], xlabel= \"Tangential (m)\", ylabel=\"Radial (m)\")"
   ]
  },
  {
   "cell_type": "code",
   "execution_count": null,
   "metadata": {},
   "outputs": [],
   "source": [
    "plot(xhist[3,:], xhist[1,:], xlabel= \"Normal (m)\", ylabel=\"Radial (m)\", label=false)"
   ]
  },
  {
   "cell_type": "code",
   "execution_count": null,
   "metadata": {},
   "outputs": [],
   "source": [
    "plot(xhist[1,:], title=\"Positions\") \n",
    "plot!(xhist[2,:])\n",
    "plot!(xhist[3,:])"
   ]
  },
  {
   "cell_type": "code",
   "execution_count": null,
   "metadata": {},
   "outputs": [],
   "source": [
    "plot(xhist[4,:], title=\"Velocities\") \n",
    "plot!(xhist[5,:])\n",
    "plot!(xhist[6,:])"
   ]
  },
  {
   "cell_type": "code",
   "execution_count": null,
   "metadata": {},
   "outputs": [],
   "source": [
    "plot(uhist[1,:], title = \"Controls\")\n",
    "plot!(uhist[2,:])\n",
    "plot!(uhist[3,:])"
   ]
  },
  {
   "cell_type": "code",
   "execution_count": null,
   "metadata": {},
   "outputs": [],
   "source": [
    "plot(uhist[1,1:50], title = \"Controls\")\n",
    "plot!(uhist[2,1:50])\n",
    "plot!(uhist[3,1:50])"
   ]
  },
  {
   "cell_type": "code",
   "execution_count": null,
   "metadata": {},
   "outputs": [],
   "source": [
    "fuel_usage = sum(abs.(vec(uhist)))"
   ]
  },
  {
   "cell_type": "code",
   "execution_count": null,
   "metadata": {},
   "outputs": [],
   "source": [
    "dt*fuel_usage "
   ]
  },
  {
   "cell_type": "code",
   "execution_count": null,
   "metadata": {},
   "outputs": [],
   "source": [
    "no_control = zeros(nx, iterations)"
   ]
  },
  {
   "cell_type": "code",
   "execution_count": null,
   "metadata": {},
   "outputs": [],
   "source": [
    "no_control[:,1] = x0_chaser"
   ]
  },
  {
   "cell_type": "code",
   "execution_count": null,
   "metadata": {},
   "outputs": [],
   "source": [
    "for i = 1:iterations-1\n",
    "\n",
    "    no_control[:, i+1] = Ad*no_control[:,i]\n",
    "\n",
    "end"
   ]
  },
  {
   "cell_type": "code",
   "execution_count": null,
   "metadata": {},
   "outputs": [],
   "source": [
    "# plot(no_control[1,:], no_control[2,:], no_control[3,:], zlims=(-1,1))\n",
    "# scatter!([0], [0], [0])"
   ]
  },
  {
   "cell_type": "code",
   "execution_count": null,
   "metadata": {},
   "outputs": [],
   "source": [
    "plot(no_control[2,:], no_control[1,:])"
   ]
  },
  {
   "cell_type": "code",
   "execution_count": null,
   "metadata": {},
   "outputs": [],
   "source": [
    "plot(no_control[3,:], no_control[1,:])"
   ]
  },
  {
   "cell_type": "code",
   "execution_count": null,
   "metadata": {},
   "outputs": [],
   "source": []
  }
 ],
 "metadata": {
  "kernelspec": {
   "display_name": "Julia 1.10.0",
   "language": "julia",
   "name": "julia-1.10"
  },
  "language_info": {
   "file_extension": ".jl",
   "mimetype": "application/julia",
   "name": "julia",
   "version": "1.10.0"
  }
 },
 "nbformat": 4,
 "nbformat_minor": 2
}
