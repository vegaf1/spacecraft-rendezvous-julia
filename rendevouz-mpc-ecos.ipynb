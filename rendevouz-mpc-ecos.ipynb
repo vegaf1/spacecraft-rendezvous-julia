{
 "cells": [
  {
   "cell_type": "code",
   "execution_count": 1,
   "metadata": {},
   "outputs": [
    {
     "name": "stderr",
     "output_type": "stream",
     "text": [
      "WARNING: Method definition isapprox(IntervalSets.AbstractInterval{T} where T, IntervalSets.AbstractInterval{T} where T) in module IntervalSets at /home/faustovega/.julia/packages/IntervalSets/kyCuf/src/IntervalSets.jl:296 overwritten in module DomainSets at /home/faustovega/.julia/packages/DomainSets/aafhp/src/domains/interval.jl:52.\n",
      "ERROR: Method overwriting is not permitted during Module precompilation. Use `__precompile__(false)` to opt-out of precompilation.\n",
      "WARNING: Method definition isapprox(IntervalSets.AbstractInterval{T} where T, IntervalSets.AbstractInterval{T} where T) in module IntervalSets at /home/faustovega/.julia/packages/IntervalSets/kyCuf/src/IntervalSets.jl:296 overwritten in module DomainSets at /home/faustovega/.julia/packages/DomainSets/aafhp/src/domains/interval.jl:52.\n",
      "ERROR: Method overwriting is not permitted during Module precompilation. Use `__precompile__(false)` to opt-out of precompilation.\n",
      "WARNING: Method definition isapprox(IntervalSets.AbstractInterval{T} where T, IntervalSets.AbstractInterval{T} where T) in module IntervalSets at /home/faustovega/.julia/packages/IntervalSets/kyCuf/src/IntervalSets.jl:296 overwritten in module DomainSets at /home/faustovega/.julia/packages/DomainSets/aafhp/src/domains/interval.jl:52.\n",
      "ERROR: Method overwriting is not permitted during Module precompilation. Use `__precompile__(false)` to opt-out of precompilation.\n",
      "WARNING: Method definition isapprox(IntervalSets.AbstractInterval{T} where T, IntervalSets.AbstractInterval{T} where T) in module IntervalSets at /home/faustovega/.julia/packages/IntervalSets/kyCuf/src/IntervalSets.jl:296 overwritten in module DomainSets at /home/faustovega/.julia/packages/DomainSets/aafhp/src/domains/interval.jl:52.\n",
      "ERROR: Method overwriting is not permitted during Module precompilation. Use `__precompile__(false)` to opt-out of precompilation.\n",
      "WARNING: Method definition isapprox(IntervalSets.AbstractInterval{T} where T, IntervalSets.AbstractInterval{T} where T) in module IntervalSets at /home/faustovega/.julia/packages/IntervalSets/kyCuf/src/IntervalSets.jl:296 overwritten in module DomainSets at /home/faustovega/.julia/packages/DomainSets/aafhp/src/domains/interval.jl:52.\n",
      "ERROR: Method overwriting is not permitted during Module precompilation. Use `__precompile__(false)` to opt-out of precompilation.\n",
      "WARNING: method definition for namespace_expr at /home/faustovega/.julia/packages/ModelingToolkit/H0KaK/src/systems/abstractsystem.jl:405 declares type variable T but does not use it.\n",
      "WARNING: both DiffEqJump and DelayDiffEq export \"first_tstop\"; uses of it in module DifferentialEquations must be qualified\n",
      "WARNING: both DiffEqJump and DelayDiffEq export \"has_tstop\"; uses of it in module DifferentialEquations must be qualified\n",
      "WARNING: both DiffEqJump and DelayDiffEq export \"pop_tstop!\"; uses of it in module DifferentialEquations must be qualified\n"
     ]
    }
   ],
   "source": [
    "using LinearAlgebra\n",
    "using ForwardDiff\n",
    "using SatelliteDynamics\n",
    "using DifferentialEquations\n",
    "using Plots\n",
    "using ECOS, Convex\n",
    "using Mosek, MosekTools"
   ]
  },
  {
   "cell_type": "code",
   "execution_count": 2,
   "metadata": {},
   "outputs": [
    {
     "data": {
      "text/plain": [
       "6-element Vector{Float64}:\n",
       "  6.885635e6\n",
       "  0.001089\n",
       " 97.43\n",
       "  0.0\n",
       "  0.0\n",
       "  0.016667"
      ]
     },
     "metadata": {},
     "output_type": "display_data"
    }
   ],
   "source": [
    "#From RoadsMPC slide deck\n",
    "#values are in m and degrees \n",
    "#orbits elements of und roads 1\n",
    "#last is the true anomaly \n",
    "elements1 = [6885.635e3, 0.001089, 97.43, 0, 0, 0]\n",
    "\n",
    "#orbital elements of und roads 2\n",
    "#last is the true anomaly\n",
    "elements2 = [6885.635e3, 0.001089, 97.43, 0, 0, 0.016667]"
   ]
  },
  {
   "cell_type": "code",
   "execution_count": 3,
   "metadata": {},
   "outputs": [],
   "source": [
    "#convert the true anomaly to mean anomaly to be able to do the conversion and degrees to radians"
   ]
  },
  {
   "cell_type": "code",
   "execution_count": 4,
   "metadata": {},
   "outputs": [
    {
     "data": {
      "text/plain": [
       "degrees_to_rad (generic function with 1 method)"
      ]
     },
     "metadata": {},
     "output_type": "display_data"
    }
   ],
   "source": [
    "function degrees_to_rad(x)\n",
    "\n",
    "    return x*pi/180\n",
    "    \n",
    "end"
   ]
  },
  {
   "cell_type": "code",
   "execution_count": 5,
   "metadata": {},
   "outputs": [
    {
     "data": {
      "text/plain": [
       "true_anom_to_eccentric_anom (generic function with 1 method)"
      ]
     },
     "metadata": {},
     "output_type": "display_data"
    }
   ],
   "source": [
    "#v is true anomaly \n",
    "#e is the eccentricity\n",
    "function true_anom_to_eccentric_anom(v, e)\n",
    "\n",
    "    E = 2*atand(sqrt((1-e)/(1+e))*tand(v/2))\n",
    "\n",
    "    #eccentric anomaly\n",
    "    return E\n",
    "\n",
    "end"
   ]
  },
  {
   "cell_type": "code",
   "execution_count": 6,
   "metadata": {},
   "outputs": [
    {
     "data": {
      "text/plain": [
       "eccentric_anom_to_mean_anom (generic function with 1 method)"
      ]
     },
     "metadata": {},
     "output_type": "display_data"
    }
   ],
   "source": [
    "function eccentric_anom_to_mean_anom(E, e)\n",
    "\n",
    "    M = E - e*sind(E)\n",
    "\n",
    "    #mean anomaly\n",
    "    return M\n",
    "\n",
    "end"
   ]
  },
  {
   "cell_type": "code",
   "execution_count": 7,
   "metadata": {},
   "outputs": [
    {
     "data": {
      "text/plain": [
       "0.0"
      ]
     },
     "metadata": {},
     "output_type": "display_data"
    }
   ],
   "source": [
    "#eccentric anomaly sat 1\n",
    "E1 = true_anom_to_eccentric_anom(elements1[end], elements1[2])\n",
    "\n",
    "#mean anomaly sat 1\n",
    "M1 = eccentric_anom_to_mean_anom(E1, elements1[2])"
   ]
  },
  {
   "cell_type": "code",
   "execution_count": 8,
   "metadata": {},
   "outputs": [
    {
     "data": {
      "text/plain": [
       "0.016648543070573774"
      ]
     },
     "metadata": {},
     "output_type": "display_data"
    }
   ],
   "source": [
    "#eccentric anomaly sat 2\n",
    "E2 = true_anom_to_eccentric_anom(elements2[end], elements2[2])\n",
    "\n",
    "#eccentric anomaly sat 2\n",
    "M2  = eccentric_anom_to_mean_anom(E2, elements2[2])"
   ]
  },
  {
   "cell_type": "code",
   "execution_count": 9,
   "metadata": {},
   "outputs": [
    {
     "data": {
      "text/plain": [
       "6-element Vector{Float64}:\n",
       " 6.885635e6\n",
       " 0.001089\n",
       " 1.7004742902180754\n",
       " 0.0\n",
       " 0.0\n",
       " 0.00029057189224159907"
      ]
     },
     "metadata": {},
     "output_type": "display_data"
    }
   ],
   "source": [
    "#get all the units consistent (m, radians)\n",
    "\n",
    "elements1_m = [elements1[1:2]; degrees_to_rad(elements1[3]); degrees_to_rad(elements1[4]); degrees_to_rad(elements1[5]); degrees_to_rad(M1)]\n",
    "\n",
    "elements2_m = [elements2[1:2]; degrees_to_rad(elements2[3]); degrees_to_rad(elements2[4]); degrees_to_rad(elements2[5]); degrees_to_rad(M2)]"
   ]
  },
  {
   "cell_type": "code",
   "execution_count": 10,
   "metadata": {},
   "outputs": [
    {
     "data": {
      "text/plain": [
       "6-element Vector{Float64}:\n",
       "    6.878136543485e6\n",
       "    0.0\n",
       "    0.0\n",
       "    0.0\n",
       " -984.9589353739226\n",
       " 7552.79897887146"
      ]
     },
     "metadata": {},
     "output_type": "display_data"
    }
   ],
   "source": [
    "#state satellite 1 (target)\n",
    "\n",
    "x_1 = sOSCtoCART(elements1_m, use_degrees=false)"
   ]
  },
  {
   "cell_type": "code",
   "execution_count": 11,
   "metadata": {},
   "outputs": [
    {
     "data": {
      "text/plain": [
       "6-element Vector{Float64}:\n",
       "    6.878136252166805e6\n",
       " -259.0113696278884\n",
       " 1986.134383662354\n",
       "   -2.2156282462577286\n",
       " -984.9588936567426\n",
       " 7552.798658978454"
      ]
     },
     "metadata": {},
     "output_type": "display_data"
    }
   ],
   "source": [
    "#state satellite 2 (chaser)\n",
    "\n",
    "x_2 = sOSCtoCART(elements2_m, use_degrees=false)"
   ]
  },
  {
   "cell_type": "code",
   "execution_count": 12,
   "metadata": {},
   "outputs": [
    {
     "data": {
      "text/plain": [
       "6-element Vector{Float64}:\n",
       "   -0.2913181949406862\n",
       " -259.0113696278884\n",
       " 1986.134383662354\n",
       "   -2.2156282462577286\n",
       "    4.171718001089175e-5\n",
       "   -0.0003198930062353611"
      ]
     },
     "metadata": {},
     "output_type": "display_data"
    }
   ],
   "source": [
    "#relative state of chaser wrt target\n",
    "#this is in ECI frame\n",
    "difference = x_2 - x_1 "
   ]
  },
  {
   "cell_type": "code",
   "execution_count": 13,
   "metadata": {},
   "outputs": [
    {
     "data": {
      "text/plain": [
       "6-element StaticArraysCore.SVector{6, Float64} with indices SOneTo(6):\n",
       "   -0.2913181949406862\n",
       " 2002.9519913273894\n",
       "    2.7017514072632172e-14\n",
       "    0.002412819262479271\n",
       "   -1.5962127995240716e-12\n",
       "    3.511794450825904e-14"
      ]
     },
     "metadata": {},
     "output_type": "display_data"
    }
   ],
   "source": [
    "#this is in the LVLH (RTN) frame of the target (primary observing satellite) \n",
    "initial_difference = sECItoRTN(x_1, x_2) "
   ]
  },
  {
   "cell_type": "code",
   "execution_count": 14,
   "metadata": {},
   "outputs": [
    {
     "data": {
      "text/plain": [
       "0.0001"
      ]
     },
     "metadata": {},
     "output_type": "display_data"
    }
   ],
   "source": [
    "#unit scaling to make the numerics better (no overshoot)\n",
    "position_scale = 100\n",
    "time_scale = 1000\n",
    "\n",
    "velocity_scale = position_scale/time_scale\n",
    "acceleration_scale = position_scale/(time_scale)^2"
   ]
  },
  {
   "cell_type": "code",
   "execution_count": 15,
   "metadata": {},
   "outputs": [
    {
     "data": {
      "text/plain": [
       "3.986e14"
      ]
     },
     "metadata": {},
     "output_type": "display_data"
    }
   ],
   "source": [
    "#mu - gravitational parameter (m3/s2)\n",
    "mu = 3.986e14"
   ]
  },
  {
   "cell_type": "code",
   "execution_count": 16,
   "metadata": {},
   "outputs": [
    {
     "data": {
      "text/plain": [
       "3.986e14"
      ]
     },
     "metadata": {},
     "output_type": "display_data"
    }
   ],
   "source": [
    "mu_scaled = mu/(position_scale^3/time_scale^2)"
   ]
  },
  {
   "cell_type": "code",
   "execution_count": 17,
   "metadata": {},
   "outputs": [
    {
     "data": {
      "text/plain": [
       "5686.266596687438"
      ]
     },
     "metadata": {},
     "output_type": "display_data"
    }
   ],
   "source": [
    "#target orbit period in seconds\n",
    "T = 2*pi*sqrt((elements1[1]^3)/(mu))"
   ]
  },
  {
   "cell_type": "code",
   "execution_count": 18,
   "metadata": {},
   "outputs": [
    {
     "data": {
      "text/plain": [
       "6.885635e6"
      ]
     },
     "metadata": {},
     "output_type": "display_data"
    }
   ],
   "source": [
    "#semi major axis of target satellite (meters)\n",
    "a = elements1[1]"
   ]
  },
  {
   "cell_type": "code",
   "execution_count": 19,
   "metadata": {},
   "outputs": [
    {
     "data": {
      "text/plain": [
       "68856.35"
      ]
     },
     "metadata": {},
     "output_type": "display_data"
    }
   ],
   "source": [
    "#scaled semi major axis\n",
    "a_scaled = a/position_scale"
   ]
  },
  {
   "cell_type": "code",
   "execution_count": 20,
   "metadata": {},
   "outputs": [
    {
     "data": {
      "text/plain": [
       "0.0011049755055170796"
      ]
     },
     "metadata": {},
     "output_type": "display_data"
    }
   ],
   "source": [
    "#constant mean motion of target n = sqrt(mu/a^3)\n",
    "#units: rad/s\n",
    "n = sqrt(mu/a^3)"
   ]
  },
  {
   "cell_type": "code",
   "execution_count": 21,
   "metadata": {},
   "outputs": [
    {
     "data": {
      "text/plain": [
       "1.1049755055170793"
      ]
     },
     "metadata": {},
     "output_type": "display_data"
    }
   ],
   "source": [
    "n_scaled = sqrt(mu_scaled/a_scaled^3)"
   ]
  },
  {
   "cell_type": "code",
   "execution_count": 22,
   "metadata": {},
   "outputs": [
    {
     "data": {
      "text/plain": [
       "3"
      ]
     },
     "metadata": {},
     "output_type": "display_data"
    }
   ],
   "source": [
    "#number of states\n",
    "nx = 6\n",
    "\n",
    "#number of control inputs\n",
    "nu = 3"
   ]
  },
  {
   "cell_type": "code",
   "execution_count": 23,
   "metadata": {},
   "outputs": [
    {
     "data": {
      "text/plain": [
       "60"
      ]
     },
     "metadata": {},
     "output_type": "display_data"
    }
   ],
   "source": [
    "#timestep\n",
    "dt = 60"
   ]
  },
  {
   "cell_type": "code",
   "execution_count": 24,
   "metadata": {},
   "outputs": [
    {
     "data": {
      "text/plain": [
       "0.06"
      ]
     },
     "metadata": {},
     "output_type": "display_data"
    }
   ],
   "source": [
    "dt_scaled = dt/time_scale "
   ]
  },
  {
   "cell_type": "code",
   "execution_count": 25,
   "metadata": {},
   "outputs": [
    {
     "data": {
      "text/plain": [
       "94"
      ]
     },
     "metadata": {},
     "output_type": "display_data"
    }
   ],
   "source": [
    "#this is a 5 orbits for dt=60\n",
    "\n",
    "#worked with 470 for some reason? \n",
    "#N = 470\n",
    "#one orbit \n",
    "N = 94\n",
    "\n",
    "#2 orbit look ahead? \n",
    "#N = 188"
   ]
  },
  {
   "cell_type": "code",
   "execution_count": 26,
   "metadata": {},
   "outputs": [
    {
     "data": {
      "text/plain": [
       "94-element LinRange{Float64, Int64}:\n",
       " 1.0, 61.6344, 122.269, 182.903, 243.538, …, 5458.1, 5518.73, 5579.37, 5640.0"
      ]
     },
     "metadata": {},
     "output_type": "display_data"
    }
   ],
   "source": [
    "thist = LinRange(1, N*dt, N)"
   ]
  },
  {
   "cell_type": "code",
   "execution_count": 27,
   "metadata": {},
   "outputs": [
    {
     "data": {
      "text/plain": [
       "6-element Vector{Float64}:\n",
       " 0.0\n",
       " 0.0\n",
       " 0.0\n",
       " 0.0\n",
       " 0.0\n",
       " 0.0"
      ]
     },
     "metadata": {},
     "output_type": "display_data"
    }
   ],
   "source": [
    "x0_target = zeros(nx) "
   ]
  },
  {
   "cell_type": "code",
   "execution_count": 28,
   "metadata": {},
   "outputs": [
    {
     "data": {
      "text/plain": [
       "6-element StaticArraysCore.SVector{6, Float64} with indices SOneTo(6):\n",
       "   -0.2913181949406862\n",
       " 2002.9519913273894\n",
       "    2.7017514072632172e-14\n",
       "    0.002412819262479271\n",
       "   -1.5962127995240716e-12\n",
       "    3.511794450825904e-14"
      ]
     },
     "metadata": {},
     "output_type": "display_data"
    }
   ],
   "source": [
    "#using the true data from the ppt\n",
    "#relative state of the chaser wrt target \n",
    "#in the target RTN frame\n",
    "x0_chaser = initial_difference"
   ]
  },
  {
   "cell_type": "code",
   "execution_count": 29,
   "metadata": {},
   "outputs": [
    {
     "data": {
      "text/plain": [
       "-0.002209951011034159"
      ]
     },
     "metadata": {},
     "output_type": "display_data"
    }
   ],
   "source": [
    "A = zeros(nx, nx)\n",
    "A[1:3, 4:6] = I(3)\n",
    "A[4, 1] = 3*n^2\n",
    "A[6, 3] = -n^2\n",
    "A[4, 5] = 2*n\n",
    "A[5, 4] = -2*n"
   ]
  },
  {
   "cell_type": "code",
   "execution_count": 30,
   "metadata": {},
   "outputs": [
    {
     "data": {
      "text/plain": [
       "-2.2099510110341587"
      ]
     },
     "metadata": {},
     "output_type": "display_data"
    }
   ],
   "source": [
    "A_scaled = zeros(nx, nx)\n",
    "A_scaled[1:3, 4:6] = I(3)\n",
    "A_scaled[4, 1] = 3*n_scaled^2\n",
    "A_scaled[6, 3] = -n_scaled^2\n",
    "A_scaled[4, 5] = 2*n_scaled\n",
    "A_scaled[5, 4] = -2*n_scaled"
   ]
  },
  {
   "cell_type": "code",
   "execution_count": 31,
   "metadata": {},
   "outputs": [
    {
     "data": {
      "text/plain": [
       "5.22"
      ]
     },
     "metadata": {},
     "output_type": "display_data"
    }
   ],
   "source": [
    "#mass of the satellite (kg) from data\n",
    "m = 5.22"
   ]
  },
  {
   "cell_type": "code",
   "execution_count": 32,
   "metadata": {},
   "outputs": [
    {
     "data": {
      "text/plain": [
       "0.0046"
      ]
     },
     "metadata": {},
     "output_type": "display_data"
    }
   ],
   "source": [
    "#in m/s2. L1 norm \n",
    "umax = 4.6e-3"
   ]
  },
  {
   "cell_type": "code",
   "execution_count": 33,
   "metadata": {},
   "outputs": [
    {
     "data": {
      "text/plain": [
       "46.0"
      ]
     },
     "metadata": {},
     "output_type": "display_data"
    }
   ],
   "source": [
    "umax_scaled = umax/acceleration_scale "
   ]
  },
  {
   "cell_type": "code",
   "execution_count": 34,
   "metadata": {},
   "outputs": [
    {
     "data": {
      "text/plain": [
       "6×3 Matrix{Float64}:\n",
       " 0.0  0.0  0.0\n",
       " 0.0  0.0  0.0\n",
       " 0.0  0.0  0.0\n",
       " 1.0  0.0  0.0\n",
       " 0.0  1.0  0.0\n",
       " 0.0  0.0  1.0"
      ]
     },
     "metadata": {},
     "output_type": "display_data"
    }
   ],
   "source": [
    "#si units\n",
    "B = [zeros(3,3); I(3)]\n",
    "\n",
    "#scaled\n",
    "#B = [zeros(3,3); 1/acceleration_scale*I(3)]\n",
    "\n",
    "#trying new\n",
    "#this maps an l1 norm of 1 to 4.66e-3 (bug, not working)\n",
    "\n",
    "#B = [zeros(3,3); 1/acceleration_scale*I(3)]"
   ]
  },
  {
   "cell_type": "code",
   "execution_count": 35,
   "metadata": {},
   "outputs": [
    {
     "data": {
      "text/plain": [
       "spacecraft_dynamics (generic function with 1 method)"
      ]
     },
     "metadata": {},
     "output_type": "display_data"
    }
   ],
   "source": [
    "#continous dynamics\n",
    "function spacecraft_dynamics(x,u)\n",
    "\n",
    "    xdot = A*x + B*u\n",
    "\n",
    "    return xdot\n",
    "\n",
    "end"
   ]
  },
  {
   "cell_type": "code",
   "execution_count": 36,
   "metadata": {},
   "outputs": [
    {
     "data": {
      "text/plain": [
       "9×9 Matrix{Float64}:\n",
       "  1.00659      0.0   0.0        …   0.00179934  7.95408e-5  0.0\n",
       " -0.000291351  1.0   0.0           -7.95408e-5  0.00179736  0.0\n",
       "  0.0          0.0   0.997803       0.0         0.0         0.00179934\n",
       "  0.219614     0.0   0.0            0.0599561   0.00397645  0.0\n",
       " -0.0145654    0.0   0.0           -0.00397645  0.0598242   0.0\n",
       "  0.0          0.0  -0.0732046  …   0.0         0.0         0.0599561\n",
       "  0.0          0.0   0.0            1.0         0.0         0.0\n",
       "  0.0          0.0   0.0            0.0         1.0         0.0\n",
       "  0.0          0.0   0.0            0.0         0.0         1.0"
      ]
     },
     "metadata": {},
     "output_type": "display_data"
    }
   ],
   "source": [
    "#discretize the dynamics model \n",
    "H_scaled = exp(dt_scaled*[A_scaled B; zeros(nu, nx+nu)])"
   ]
  },
  {
   "cell_type": "code",
   "execution_count": 37,
   "metadata": {},
   "outputs": [
    {
     "data": {
      "text/plain": [
       "6×3 Matrix{Float64}:\n",
       "  0.00179934  7.95408e-5  0.0\n",
       " -7.95408e-5  0.00179736  0.0\n",
       "  0.0         0.0         0.00179934\n",
       "  0.0599561   0.00397645  0.0\n",
       " -0.00397645  0.0598242   0.0\n",
       "  0.0         0.0         0.0599561"
      ]
     },
     "metadata": {},
     "output_type": "display_data"
    }
   ],
   "source": [
    "#Scaled Discrete Dynamics Matrices\n",
    "Ad_scaled  = H_scaled[1:nx, 1:nx]\n",
    "Bd_scaled = H_scaled[1:nx, (nx+1):end]"
   ]
  },
  {
   "cell_type": "code",
   "execution_count": 38,
   "metadata": {},
   "outputs": [
    {
     "data": {
      "text/plain": [
       "9×9 Matrix{Float64}:\n",
       "  1.00659      0.0   0.0         …  1799.34       79.5408      0.0\n",
       " -0.000291351  1.0   0.0             -79.5408   1797.36        0.0\n",
       "  0.0          0.0   0.997803          0.0         0.0      1799.34\n",
       "  0.000219614  0.0   0.0              59.9561      3.97645     0.0\n",
       " -1.45654e-5   0.0   0.0              -3.97645    59.8242      0.0\n",
       "  0.0          0.0  -7.32046e-5  …     0.0         0.0        59.9561\n",
       "  0.0          0.0   0.0               1.0         0.0         0.0\n",
       "  0.0          0.0   0.0               0.0         1.0         0.0\n",
       "  0.0          0.0   0.0               0.0         0.0         1.0"
      ]
     },
     "metadata": {},
     "output_type": "display_data"
    }
   ],
   "source": [
    "#discretize the dynamics model \n",
    "H = exp(dt*[A B; zeros(nu, nx+nu)])"
   ]
  },
  {
   "cell_type": "code",
   "execution_count": 39,
   "metadata": {},
   "outputs": [
    {
     "data": {
      "text/plain": [
       "6×3 Matrix{Float64}:\n",
       " 1799.34       79.5408      0.0\n",
       "  -79.5408   1797.36        0.0\n",
       "    0.0         0.0      1799.34\n",
       "   59.9561      3.97645     0.0\n",
       "   -3.97645    59.8242      0.0\n",
       "    0.0         0.0        59.9561"
      ]
     },
     "metadata": {},
     "output_type": "display_data"
    }
   ],
   "source": [
    "#Discrete Dynamics Matrices\n",
    "Ad  = H[1:nx, 1:nx]\n",
    "Bd = H[1:nx, (nx+1):end]"
   ]
  },
  {
   "cell_type": "code",
   "execution_count": 40,
   "metadata": {},
   "outputs": [
    {
     "data": {
      "text/plain": [
       "spacecraft_dynamics_discrete (generic function with 1 method)"
      ]
     },
     "metadata": {},
     "output_type": "display_data"
    }
   ],
   "source": [
    "#discrete dynamics\n",
    "function spacecraft_dynamics_discrete(x,u)\n",
    "\n",
    "    xnext = Ad*x + Bd*u\n",
    "\n",
    "    return xnext\n",
    "\n",
    "end"
   ]
  },
  {
   "cell_type": "code",
   "execution_count": 41,
   "metadata": {},
   "outputs": [
    {
     "data": {
      "text/plain": [
       "spacecraft_dynamics_discrete_scaled (generic function with 1 method)"
      ]
     },
     "metadata": {},
     "output_type": "display_data"
    }
   ],
   "source": [
    "function spacecraft_dynamics_discrete_scaled(x_scaled, u_scaled)\n",
    "\n",
    "    xnext_scaled = Ad_scaled*x_scaled + Bd_scaled*u_scaled\n",
    "\n",
    "    return xnext_scaled\n",
    "\n",
    "end"
   ]
  },
  {
   "cell_type": "code",
   "execution_count": 42,
   "metadata": {},
   "outputs": [
    {
     "data": {
      "text/plain": [
       "94"
      ]
     },
     "metadata": {},
     "output_type": "display_data"
    }
   ],
   "source": [
    "N_h = N"
   ]
  },
  {
   "cell_type": "code",
   "execution_count": 43,
   "metadata": {},
   "outputs": [
    {
     "data": {
      "text/plain": [
       "6-element StaticArraysCore.SVector{6, Float64} with indices SOneTo(6):\n",
       "   -0.2913181949406862\n",
       " 2002.9519913273894\n",
       "    2.7017514072632172e-14\n",
       "    0.002412819262479271\n",
       "   -1.5962127995240716e-12\n",
       "    3.511794450825904e-14"
      ]
     },
     "metadata": {},
     "output_type": "display_data"
    }
   ],
   "source": [
    "x_initial = x0_chaser"
   ]
  },
  {
   "cell_type": "code",
   "execution_count": 44,
   "metadata": {},
   "outputs": [
    {
     "data": {
      "text/plain": [
       "6-element Vector{Float64}:\n",
       " -0.002913181949406862\n",
       " 20.029519913273894\n",
       "  2.701751407263217e-16\n",
       "  0.02412819262479271\n",
       " -1.5962127995240716e-11\n",
       "  3.511794450825904e-13"
      ]
     },
     "metadata": {},
     "output_type": "display_data"
    }
   ],
   "source": [
    "x_initial_scaled = [x0_chaser[1:3]/position_scale; x0_chaser[4:6]/velocity_scale] "
   ]
  },
  {
   "cell_type": "code",
   "execution_count": 45,
   "metadata": {},
   "outputs": [
    {
     "data": {
      "text/plain": [
       "6-element Vector{Float64}:\n",
       " 0.0\n",
       " 0.0\n",
       " 0.0\n",
       " 0.0\n",
       " 0.0\n",
       " 0.0"
      ]
     },
     "metadata": {},
     "output_type": "display_data"
    }
   ],
   "source": [
    "x_goal = x0_target"
   ]
  },
  {
   "cell_type": "code",
   "execution_count": 46,
   "metadata": {},
   "outputs": [
    {
     "data": {
      "text/plain": [
       "update_prob (generic function with 1 method)"
      ]
     },
     "metadata": {},
     "output_type": "display_data"
    }
   ],
   "source": [
    "function update_prob(x_initial_k)\n",
    "\n",
    "    X = Convex.Variable(nx, N_h)\n",
    "    U = Convex.Variable(nu, N_h-1)\n",
    "\n",
    "    #slack variables \n",
    "    #representing the L2 norm control constraint\n",
    "    t = Convex.Variable(1, N_h-1)\n",
    "\n",
    "    #for the L2 position cost \n",
    "    s = Convex.Variable(1, N_h)\n",
    "\n",
    "    #Initial State Constraint\n",
    "    cons = Constraint[X[:,1] == x_initial_k]\n",
    "\n",
    "    #Dynamics Constraint\n",
    "    for k=1:(N_h-1)\n",
    "\n",
    "        push!(cons, X[:,k+1] - (Ad_scaled*X[:,k] + Bd_scaled*U[:,k]) == zeros(6))\n",
    "\n",
    "    end\n",
    "\n",
    "    #try both l1 and l2\n",
    "    for k=1:(N_h-1)\n",
    "\n",
    "       #L1 works\n",
    "       push!(cons, norm(U[:,k],1) <= t[k])\n",
    "\n",
    "    end\n",
    "\n",
    "\n",
    "    #upper bound for the slack\n",
    "\n",
    "    #have no upper bound on slack (testing)\n",
    "    for k=1:(N_h-1)\n",
    "       push!(cons, t[k] <= umax/acceleration_scale)\n",
    "\n",
    "    end\n",
    "\n",
    "\n",
    "    #slack is the upper bound for the L2 norm cost on position\n",
    "    for k=1:N_h\n",
    "\n",
    "        push!(cons, norm(X[:,k],2) <= s[k])\n",
    "\n",
    "    end\n",
    "        \n",
    "\n",
    "\n",
    "    #need to implement in a way tiny mpc can do it...\n",
    "    # for k=1:(N_h-1)\n",
    "\n",
    "    #     if (k%2) == 0\n",
    "\n",
    "    #         push!(cons, U[:,k] == zeros(3))\n",
    "\n",
    "    #     else\n",
    "    #         continue\n",
    "    #     end\n",
    "\n",
    "\n",
    "    # end\n",
    "\n",
    "    return cons, X, U, t, s\n",
    "\n",
    "end"
   ]
  },
  {
   "cell_type": "code",
   "execution_count": 47,
   "metadata": {},
   "outputs": [
    {
     "data": {
      "text/plain": [
       "solve_prob (generic function with 1 method)"
      ]
     },
     "metadata": {},
     "output_type": "display_data"
    }
   ],
   "source": [
    "function solve_prob(cons, X, U, t, s, N)\n",
    "\n",
    "\n",
    "    #objective \n",
    "    obj = 0\n",
    "\n",
    "    #weights depending how conservative you want to be on fuel vs reaching the goal\n",
    "    beta = 1\n",
    "    alpha = 1\n",
    "\n",
    "    # for k=1:N-1\n",
    "    #     obj += beta*norm(U[:,k], 1) + alpha*norm(X[:,k], 2)\n",
    "    # end\n",
    "\n",
    "    # #terminal cost\n",
    "    # obj += alpha*norm(X[:,N], 2)\n",
    "\n",
    "\n",
    "    #cost function wrt slack variables\n",
    "    for k=1:N-1\n",
    "        obj += alpha*s[k] + beta*t[k]\n",
    "    end\n",
    "\n",
    "    #terminal cost\n",
    "    obj += alpha*s[N]\n",
    "\n",
    "    prob = minimize(obj, cons)\n",
    "\n",
    "    #solve with ECOS\n",
    "    #Convex.solve!(prob, ()-> ECOS.Optimizer(), silent_solver=true);\n",
    "\n",
    "    Convex.solve!(prob, ()-> Mosek.Optimizer(), silent_solver = true)\n",
    "\n",
    "    Xm = X.value\n",
    "    Um = U.value\n",
    "    tm = t.value\n",
    "    sm = s.value\n",
    "\n",
    "    return Xm, Um, tm, sm\n",
    "\n",
    "end"
   ]
  },
  {
   "cell_type": "code",
   "execution_count": 48,
   "metadata": {},
   "outputs": [
    {
     "data": {
      "text/plain": [
       "188"
      ]
     },
     "metadata": {},
     "output_type": "display_data"
    }
   ],
   "source": [
    "#iterations = 1000\n",
    "num_orbits = 2\n",
    "\n",
    "#50 orbits worth of data\n",
    "iterations = N*num_orbits"
   ]
  },
  {
   "cell_type": "code",
   "execution_count": 49,
   "metadata": {},
   "outputs": [],
   "source": [
    "#set up in Convex.jl"
   ]
  },
  {
   "cell_type": "code",
   "execution_count": 50,
   "metadata": {},
   "outputs": [
    {
     "data": {
      "text/plain": [
       "6-element Vector{Float64}:\n",
       " -0.002913181949406862\n",
       " 20.029519913273894\n",
       "  2.701751407263217e-16\n",
       "  0.02412819262479271\n",
       " -1.5962127995240716e-11\n",
       "  3.511794450825904e-13"
      ]
     },
     "metadata": {},
     "output_type": "display_data"
    }
   ],
   "source": [
    "xhist = zeros(nx, iterations)\n",
    "uhist = zeros(nu, iterations-1)\n",
    "\n",
    "thist = zeros(iterations-1)\n",
    "shist = zeros(iterations)\n",
    "\n",
    "xhist[:,1] = x_initial_scaled"
   ]
  },
  {
   "cell_type": "code",
   "execution_count": 51,
   "metadata": {},
   "outputs": [
    {
     "data": {
      "text/plain": [
       "1:2:185"
      ]
     },
     "metadata": {},
     "output_type": "display_data"
    }
   ],
   "source": [
    "iters_odd = 1:2:iterations-2"
   ]
  },
  {
   "cell_type": "code",
   "execution_count": 52,
   "metadata": {},
   "outputs": [],
   "source": [
    "#working with just 1 solve"
   ]
  },
  {
   "cell_type": "code",
   "execution_count": 53,
   "metadata": {},
   "outputs": [
    {
     "name": "stdout",
     "output_type": "stream",
     "text": [
      "Solved Iteration: 1\n",
      "Solved Iteration: 2\n",
      "Solved Iteration: 3\n",
      "Solved Iteration: 4\n",
      "Solved Iteration: 5\n",
      "Solved Iteration: 6\n",
      "Solved Iteration: 7\n",
      "Solved Iteration: 8\n",
      "Solved Iteration: 9\n",
      "Solved Iteration: 10\n",
      "Solved Iteration: 11\n",
      "Solved Iteration: 12\n",
      "Solved Iteration: 13\n",
      "Solved Iteration: 14\n",
      "Solved Iteration: 15\n",
      "Solved Iteration: 16\n",
      "Solved Iteration: 17\n",
      "Solved Iteration: 18\n",
      "Solved Iteration: 19\n",
      "Solved Iteration: 20\n",
      "Solved Iteration: 21\n",
      "Solved Iteration: 22\n",
      "Solved Iteration: 23\n",
      "Solved Iteration: 24\n",
      "Solved Iteration: 25\n",
      "Solved Iteration: 26\n",
      "Solved Iteration: 27\n",
      "Solved Iteration: 28\n",
      "Solved Iteration: 29\n",
      "Solved Iteration: 30\n",
      "Solved Iteration: 31\n",
      "Solved Iteration: 32\n",
      "Solved Iteration: 33\n",
      "Solved Iteration: 34\n",
      "Solved Iteration: 35\n",
      "Solved Iteration: 36\n",
      "Solved Iteration: 37\n",
      "Solved Iteration: 38\n",
      "Solved Iteration: 39\n",
      "Solved Iteration: 40\n",
      "Solved Iteration: 41\n",
      "Solved Iteration: 42\n",
      "Solved Iteration: 43\n",
      "Solved Iteration: 44\n",
      "Solved Iteration: 45\n",
      "Solved Iteration: 46\n",
      "Solved Iteration: 47\n",
      "Solved Iteration: 48\n",
      "Solved Iteration: 49\n",
      "Solved Iteration: 50\n",
      "Solved Iteration: 51\n",
      "Solved Iteration: 52\n",
      "Solved Iteration: 53\n",
      "Solved Iteration: 54\n",
      "Solved Iteration: 55\n",
      "Solved Iteration: 56\n",
      "Solved Iteration: 57\n",
      "Solved Iteration: 58\n",
      "Solved Iteration: 59\n",
      "Solved Iteration: 60\n",
      "Solved Iteration: 61\n",
      "Solved Iteration: 62\n",
      "Solved Iteration: 63\n",
      "Solved Iteration: 64\n",
      "Solved Iteration: 65\n",
      "Solved Iteration: 66\n",
      "Solved Iteration: 67\n",
      "Solved Iteration: 68\n",
      "Solved Iteration: 69\n",
      "Solved Iteration: 70\n",
      "Solved Iteration: 71\n",
      "Solved Iteration: 72\n",
      "Solved Iteration: 73\n",
      "Solved Iteration: 74\n",
      "Solved Iteration: 75\n",
      "Solved Iteration: 76\n",
      "Solved Iteration: 77\n",
      "Solved Iteration: 78\n",
      "Solved Iteration: 79\n",
      "Solved Iteration: 80\n",
      "Solved Iteration: 81\n",
      "Solved Iteration: 82\n",
      "Solved Iteration: 83\n",
      "Solved Iteration: 84\n",
      "Solved Iteration: 85\n",
      "Solved Iteration: 86\n",
      "Solved Iteration: 87\n",
      "Solved Iteration: 88\n",
      "Solved Iteration: 89\n",
      "Solved Iteration: 90\n",
      "Solved Iteration: 91\n",
      "Solved Iteration: 92\n",
      "Solved Iteration: 93\n",
      "Solved Iteration: 94\n",
      "Solved Iteration: 95\n",
      "Solved Iteration: 96\n",
      "Solved Iteration: 97\n",
      "Solved Iteration: 98\n",
      "Solved Iteration: 99\n",
      "Solved Iteration: 100\n",
      "Solved Iteration: 101\n",
      "Solved Iteration: 102\n",
      "Solved Iteration: 103\n",
      "Solved Iteration: 104\n",
      "Solved Iteration: 105\n",
      "Solved Iteration: 106\n",
      "Solved Iteration: 107\n",
      "Solved Iteration: 108\n",
      "Solved Iteration: 109\n",
      "Solved Iteration: 110\n",
      "Solved Iteration: 111\n",
      "Solved Iteration: 112\n",
      "Solved Iteration: 113\n",
      "Solved Iteration: 114\n",
      "Solved Iteration: 115\n",
      "Solved Iteration: 116\n",
      "Solved Iteration: 117\n",
      "Solved Iteration: 118\n",
      "Solved Iteration: 119\n",
      "Solved Iteration: 120\n",
      "Solved Iteration: 121\n",
      "Solved Iteration: 122\n",
      "Solved Iteration: 123\n",
      "Solved Iteration: 124\n",
      "Solved Iteration: 125\n",
      "Solved Iteration: 126\n",
      "Solved Iteration: 127\n",
      "Solved Iteration: 128\n",
      "Solved Iteration: 129\n",
      "Solved Iteration: 130\n",
      "Solved Iteration: 131\n",
      "Solved Iteration: 132\n",
      "Solved Iteration: 133\n",
      "Solved Iteration: 134\n",
      "Solved Iteration: 135\n",
      "Solved Iteration: 136\n",
      "Solved Iteration: 137\n",
      "Solved Iteration: 138\n",
      "Solved Iteration: 139\n",
      "Solved Iteration: 140\n",
      "Solved Iteration: 141\n",
      "Solved Iteration: 142\n",
      "Solved Iteration: 143\n",
      "Solved Iteration: 144\n",
      "Solved Iteration: 145\n",
      "Solved Iteration: 146\n",
      "Solved Iteration: 147\n",
      "Solved Iteration: 148\n",
      "Solved Iteration: 149\n",
      "Solved Iteration: 150\n",
      "Solved Iteration: 151\n",
      "Solved Iteration: 152\n",
      "Solved Iteration: 153\n",
      "Solved Iteration: 154\n",
      "Solved Iteration: 155\n",
      "Solved Iteration: 156\n",
      "Solved Iteration: 157\n",
      "Solved Iteration: 158\n",
      "Solved Iteration: 159\n",
      "Solved Iteration: 160\n",
      "Solved Iteration: 161\n",
      "Solved Iteration: 162\n",
      "Solved Iteration: 163\n",
      "Solved Iteration: 164\n",
      "Solved Iteration: 165\n",
      "Solved Iteration: 166\n",
      "Solved Iteration: 167\n",
      "Solved Iteration: 168\n",
      "Solved Iteration: 169\n",
      "Solved Iteration: 170\n",
      "Solved Iteration: 171\n",
      "Solved Iteration: 172\n",
      "Solved Iteration: 173\n",
      "Solved Iteration: 174\n",
      "Solved Iteration: 175\n",
      "Solved Iteration: 176\n",
      "Solved Iteration: 177\n",
      "Solved Iteration: 178\n",
      "Solved Iteration: 179\n",
      "Solved Iteration: 180\n",
      "Solved Iteration: 181\n",
      "Solved Iteration: 182\n",
      "Solved Iteration: 183\n",
      "Solved Iteration: 184\n",
      "Solved Iteration: 185\n",
      "Solved Iteration: 186\n",
      "Solved Iteration: 187\n"
     ]
    }
   ],
   "source": [
    "for i=1:iterations-1\n",
    "\n",
    "# for i in iters_odd\n",
    "\n",
    "#just 1 solve \n",
    "#i = 1\n",
    "    \n",
    "    cons, X, U, t, s = update_prob(xhist[:,i])\n",
    "\n",
    "    Xm, Um, tm, sm = solve_prob(cons, X, U, t, s, N_h)\n",
    "\n",
    "    println(\"Solved Iteration: \", i)\n",
    "\n",
    "    #take one step \n",
    "    uhist[:,i] = Um[:,1]\n",
    "\n",
    "    thist[i] = tm[1]\n",
    "\n",
    "    shist[i] = sm[1]\n",
    "\n",
    "    xhist[:,i+1] = spacecraft_dynamics_discrete_scaled(xhist[:,i], uhist[:,i])\n",
    "\n",
    "end"
   ]
  },
  {
   "cell_type": "code",
   "execution_count": 54,
   "metadata": {},
   "outputs": [
    {
     "data": {
      "text/plain": [
       "6-element Vector{Float64}:\n",
       "  0.007014936946872092\n",
       "  0.0013337306636172278\n",
       "  5.803680739518922e-8\n",
       " -0.01189445990561725\n",
       " -0.002752152853323607\n",
       "  5.145997386305071e-9"
      ]
     },
     "metadata": {},
     "output_type": "display_data"
    }
   ],
   "source": [
    "xhist[:,106]"
   ]
  },
  {
   "cell_type": "code",
   "execution_count": 55,
   "metadata": {},
   "outputs": [
    {
     "data": {
      "image/png": "[encoded data removed]",
      "image/svg+xml": [
       "<?xml version=\"1.0\" encoding=\"utf-8\"?>\n",
       "<svg xmlns=\"http://www.w3.org/2000/svg\" xmlns:xlink=\"http://www.w3.org/1999/xlink\" width=\"600\" height=\"400\" viewBox=\"0 0 2400 1600\">\n",
       "<defs>\n",
       "  <clipPath id=\"clip040\">\n",
       "    <rect x=\"0\" y=\"0\" width=\"2400\" height=\"1600\"/>\n",
       "  </clipPath>\n",
       "</defs>\n",
       "<path clip-path=\"url(#clip040)\" d=\"\n",
       "M0 1600 L2400 1600 L2400 0 L0 0  Z\n",
       "  \" fill=\"#ffffff\" fill-rule=\"evenodd\" fill-opacity=\"1\"/>\n",
       "<defs>\n",
       "  <clipPath id=\"clip041\">\n",
       "    <rect x=\"480\" y=\"0\" width=\"1681\" height=\"1600\"/>\n",
       "  </clipPath>\n",
       "</defs>\n",
       "<path clip-path=\"url(#clip040)\" d=\"\n",
       "M178.867 1486.45 L2352.76 1486.45 L2352.76 47.2441 L178.867 47.2441  Z\n",
       "  \" fill=\"#ffffff\" fill-rule=\"evenodd\" fill-opacity=\"1\"/>\n",
       "<defs>\n",
       "  <clipPath id=\"clip042\">\n",
       "    <rect x=\"178\" y=\"47\" width=\"2175\" height=\"1440\"/>\n",
       "  </clipPath>\n",
       "</defs>\n",
       "<polyline clip-path=\"url(#clip042)\" style=\"stroke:#000000; stroke-linecap:round; stroke-linejoin:round; stroke-width:2; stroke-opacity:0.1; fill:none\" points=\"\n",
       "  229.425,1486.45 229.425,47.2441 \n",
       "  \"/>\n",
       "<polyline clip-path=\"url(#clip042)\" style=\"stroke:#000000; stroke-linecap:round; stroke-linejoin:round; stroke-width:2; stroke-opacity:0.1; fill:none\" points=\"\n",
       "  777.777,1486.45 777.777,47.2441 \n",
       "  \"/>\n",
       "<polyline clip-path=\"url(#clip042)\" style=\"stroke:#000000; stroke-linecap:round; stroke-linejoin:round; stroke-width:2; stroke-opacity:0.1; fill:none\" points=\"\n",
       "  1326.13,1486.45 1326.13,47.2441 \n",
       "  \"/>\n",
       "<polyline clip-path=\"url(#clip042)\" style=\"stroke:#000000; stroke-linecap:round; stroke-linejoin:round; stroke-width:2; stroke-opacity:0.1; fill:none\" points=\"\n",
       "  1874.48,1486.45 1874.48,47.2441 \n",
       "  \"/>\n",
       "<polyline clip-path=\"url(#clip040)\" style=\"stroke:#000000; stroke-linecap:round; stroke-linejoin:round; stroke-width:4; stroke-opacity:1; fill:none\" points=\"\n",
       "  178.867,1486.45 2352.76,1486.45 \n",
       "  \"/>\n",
       "<polyline clip-path=\"url(#clip040)\" style=\"stroke:#000000; stroke-linecap:round; stroke-linejoin:round; stroke-width:4; stroke-opacity:1; fill:none\" points=\"\n",
       "  229.425,1486.45 229.425,1467.55 \n",
       "  \"/>\n",
       "<polyline clip-path=\"url(#clip040)\" style=\"stroke:#000000; stroke-linecap:round; stroke-linejoin:round; stroke-width:4; stroke-opacity:1; fill:none\" points=\"\n",
       "  777.777,1486.45 777.777,1467.55 \n",
       "  \"/>\n",
       "<polyline clip-path=\"url(#clip040)\" style=\"stroke:#000000; stroke-linecap:round; stroke-linejoin:round; stroke-width:4; stroke-opacity:1; fill:none\" points=\"\n",
       "  1326.13,1486.45 1326.13,1467.55 \n",
       "  \"/>\n",
       "<polyline clip-path=\"url(#clip040)\" style=\"stroke:#000000; stroke-linecap:round; stroke-linejoin:round; stroke-width:4; stroke-opacity:1; fill:none\" points=\"\n",
       "  1874.48,1486.45 1874.48,1467.55 \n",
       "  \"/>\n",
       "<path clip-path=\"url(#clip040)\" d=\"M229.425 1517.37 Q225.814 1517.37 223.985 1520.93 Q222.179 1524.47 222.179 1531.6 Q222.179 1538.71 223.985 1542.27 Q225.814 1545.82 229.425 1545.82 Q233.059 1545.82 234.865 1542.27 Q236.693 1538.71 236.693 1531.6 Q236.693 1524.47 234.865 1520.93 Q233.059 1517.37 229.425 1517.37 M229.425 1513.66 Q235.235 1513.66 238.29 1518.27 Q241.369 1522.85 241.369 1531.6 Q241.369 1540.33 238.29 1544.94 Q235.235 1549.52 229.425 1549.52 Q223.615 1549.52 220.536 1544.94 Q217.48 1540.33 217.48 1531.6 Q217.48 1522.85 220.536 1518.27 Q223.615 1513.66 229.425 1513.66 Z\" fill=\"#000000\" fill-rule=\"evenodd\" fill-opacity=\"1\" /><path clip-path=\"url(#clip040)\" d=\"M752.477 1514.29 L770.833 1514.29 L770.833 1518.22 L756.759 1518.22 L756.759 1526.7 Q757.778 1526.35 758.796 1526.19 Q759.815 1526 760.833 1526 Q766.62 1526 770 1529.17 Q773.379 1532.34 773.379 1537.76 Q773.379 1543.34 769.907 1546.44 Q766.435 1549.52 760.115 1549.52 Q757.94 1549.52 755.671 1549.15 Q753.426 1548.78 751.018 1548.04 L751.018 1543.34 Q753.102 1544.47 755.324 1545.03 Q757.546 1545.58 760.023 1545.58 Q764.027 1545.58 766.365 1543.48 Q768.703 1541.37 768.703 1537.76 Q768.703 1534.15 766.365 1532.04 Q764.027 1529.94 760.023 1529.94 Q758.148 1529.94 756.273 1530.35 Q754.421 1530.77 752.477 1531.65 L752.477 1514.29 Z\" fill=\"#000000\" fill-rule=\"evenodd\" fill-opacity=\"1\" /><path clip-path=\"url(#clip040)\" d=\"M792.592 1517.37 Q788.981 1517.37 787.152 1520.93 Q785.347 1524.47 785.347 1531.6 Q785.347 1538.71 787.152 1542.27 Q788.981 1545.82 792.592 1545.82 Q796.226 1545.82 798.032 1542.27 Q799.861 1538.71 799.861 1531.6 Q799.861 1524.47 798.032 1520.93 Q796.226 1517.37 792.592 1517.37 M792.592 1513.66 Q798.402 1513.66 801.458 1518.27 Q804.537 1522.85 804.537 1531.6 Q804.537 1540.33 801.458 1544.94 Q798.402 1549.52 792.592 1549.52 Q786.782 1549.52 783.703 1544.94 Q780.648 1540.33 780.648 1531.6 Q780.648 1522.85 783.703 1518.27 Q786.782 1513.66 792.592 1513.66 Z\" fill=\"#000000\" fill-rule=\"evenodd\" fill-opacity=\"1\" /><path clip-path=\"url(#clip040)\" d=\"M1285.74 1544.91 L1293.38 1544.91 L1293.38 1518.55 L1285.07 1520.21 L1285.07 1515.95 L1293.33 1514.29 L1298.01 1514.29 L1298.01 1544.91 L1305.64 1544.91 L1305.64 1548.85 L1285.74 1548.85 L1285.74 1544.91 Z\" fill=\"#000000\" fill-rule=\"evenodd\" fill-opacity=\"1\" /><path clip-path=\"url(#clip040)\" d=\"M1325.09 1517.37 Q1321.48 1517.37 1319.65 1520.93 Q1317.84 1524.47 1317.84 1531.6 Q1317.84 1538.71 1319.65 1542.27 Q1321.48 1545.82 1325.09 1545.82 Q1328.72 1545.82 1330.53 1542.27 Q1332.36 1538.71 1332.36 1531.6 Q1332.36 1524.47 1330.53 1520.93 Q1328.72 1517.37 1325.09 1517.37 M1325.09 1513.66 Q1330.9 1513.66 1333.95 1518.27 Q1337.03 1522.85 1337.03 1531.6 Q1337.03 1540.33 1333.95 1544.94 Q1330.9 1549.52 1325.09 1549.52 Q1319.28 1549.52 1316.2 1544.94 Q1313.14 1540.33 1313.14 1531.6 Q1313.14 1522.85 1316.2 1518.27 Q1319.28 1513.66 1325.09 1513.66 Z\" fill=\"#000000\" fill-rule=\"evenodd\" fill-opacity=\"1\" /><path clip-path=\"url(#clip040)\" d=\"M1355.25 1517.37 Q1351.64 1517.37 1349.81 1520.93 Q1348 1524.47 1348 1531.6 Q1348 1538.71 1349.81 1542.27 Q1351.64 1545.82 1355.25 1545.82 Q1358.88 1545.82 1360.69 1542.27 Q1362.52 1538.71 1362.52 1531.6 Q1362.52 1524.47 1360.69 1520.93 Q1358.88 1517.37 1355.25 1517.37 M1355.25 1513.66 Q1361.06 1513.66 1364.12 1518.27 Q1367.19 1522.85 1367.19 1531.6 Q1367.19 1540.33 1364.12 1544.94 Q1361.06 1549.52 1355.25 1549.52 Q1349.44 1549.52 1346.36 1544.94 Q1343.31 1540.33 1343.31 1531.6 Q1343.31 1522.85 1346.36 1518.27 Q1349.44 1513.66 1355.25 1513.66 Z\" fill=\"#000000\" fill-rule=\"evenodd\" fill-opacity=\"1\" /><path clip-path=\"url(#clip040)\" d=\"M1834.09 1544.91 L1841.73 1544.91 L1841.73 1518.55 L1833.42 1520.21 L1833.42 1515.95 L1841.68 1514.29 L1846.36 1514.29 L1846.36 1544.91 L1854 1544.91 L1854 1548.85 L1834.09 1548.85 L1834.09 1544.91 Z\" fill=\"#000000\" fill-rule=\"evenodd\" fill-opacity=\"1\" /><path clip-path=\"url(#clip040)\" d=\"M1863.49 1514.29 L1881.84 1514.29 L1881.84 1518.22 L1867.77 1518.22 L1867.77 1526.7 Q1868.79 1526.35 1869.81 1526.19 Q1870.83 1526 1871.84 1526 Q1877.63 1526 1881.01 1529.17 Q1884.39 1532.34 1884.39 1537.76 Q1884.39 1543.34 1880.92 1546.44 Q1877.45 1549.52 1871.13 1549.52 Q1868.95 1549.52 1866.68 1549.15 Q1864.44 1548.78 1862.03 1548.04 L1862.03 1543.34 Q1864.11 1544.47 1866.33 1545.03 Q1868.56 1545.58 1871.03 1545.58 Q1875.04 1545.58 1877.38 1543.48 Q1879.71 1541.37 1879.71 1537.76 Q1879.71 1534.15 1877.38 1532.04 Q1875.04 1529.94 1871.03 1529.94 Q1869.16 1529.94 1867.28 1530.35 Q1865.43 1530.77 1863.49 1531.65 L1863.49 1514.29 Z\" fill=\"#000000\" fill-rule=\"evenodd\" fill-opacity=\"1\" /><path clip-path=\"url(#clip040)\" d=\"M1903.6 1517.37 Q1899.99 1517.37 1898.16 1520.93 Q1896.36 1524.47 1896.36 1531.6 Q1896.36 1538.71 1898.16 1542.27 Q1899.99 1545.82 1903.6 1545.82 Q1907.24 1545.82 1909.04 1542.27 Q1910.87 1538.71 1910.87 1531.6 Q1910.87 1524.47 1909.04 1520.93 Q1907.24 1517.37 1903.6 1517.37 M1903.6 1513.66 Q1909.41 1513.66 1912.47 1518.27 Q1915.55 1522.85 1915.55 1531.6 Q1915.55 1540.33 1912.47 1544.94 Q1909.41 1549.52 1903.6 1549.52 Q1897.79 1549.52 1894.71 1544.94 Q1891.66 1540.33 1891.66 1531.6 Q1891.66 1522.85 1894.71 1518.27 Q1897.79 1513.66 1903.6 1513.66 Z\" fill=\"#000000\" fill-rule=\"evenodd\" fill-opacity=\"1\" /><polyline clip-path=\"url(#clip042)\" style=\"stroke:#000000; stroke-linecap:round; stroke-linejoin:round; stroke-width:2; stroke-opacity:0.1; fill:none\" points=\"\n",
       "  178.867,1410.48 2352.76,1410.48 \n",
       "  \"/>\n",
       "<polyline clip-path=\"url(#clip042)\" style=\"stroke:#000000; stroke-linecap:round; stroke-linejoin:round; stroke-width:2; stroke-opacity:0.1; fill:none\" points=\"\n",
       "  178.867,970.077 2352.76,970.077 \n",
       "  \"/>\n",
       "<polyline clip-path=\"url(#clip042)\" style=\"stroke:#000000; stroke-linecap:round; stroke-linejoin:round; stroke-width:2; stroke-opacity:0.1; fill:none\" points=\"\n",
       "  178.867,529.676 2352.76,529.676 \n",
       "  \"/>\n",
       "<polyline clip-path=\"url(#clip042)\" style=\"stroke:#000000; stroke-linecap:round; stroke-linejoin:round; stroke-width:2; stroke-opacity:0.1; fill:none\" points=\"\n",
       "  178.867,89.2763 2352.76,89.2763 \n",
       "  \"/>\n",
       "<polyline clip-path=\"url(#clip040)\" style=\"stroke:#000000; stroke-linecap:round; stroke-linejoin:round; stroke-width:4; stroke-opacity:1; fill:none\" points=\"\n",
       "  178.867,1486.45 178.867,47.2441 \n",
       "  \"/>\n",
       "<polyline clip-path=\"url(#clip040)\" style=\"stroke:#000000; stroke-linecap:round; stroke-linejoin:round; stroke-width:4; stroke-opacity:1; fill:none\" points=\"\n",
       "  178.867,1410.48 197.764,1410.48 \n",
       "  \"/>\n",
       "<polyline clip-path=\"url(#clip040)\" style=\"stroke:#000000; stroke-linecap:round; stroke-linejoin:round; stroke-width:4; stroke-opacity:1; fill:none\" points=\"\n",
       "  178.867,970.077 197.764,970.077 \n",
       "  \"/>\n",
       "<polyline clip-path=\"url(#clip040)\" style=\"stroke:#000000; stroke-linecap:round; stroke-linejoin:round; stroke-width:4; stroke-opacity:1; fill:none\" points=\"\n",
       "  178.867,529.676 197.764,529.676 \n",
       "  \"/>\n",
       "<polyline clip-path=\"url(#clip040)\" style=\"stroke:#000000; stroke-linecap:round; stroke-linejoin:round; stroke-width:4; stroke-opacity:1; fill:none\" points=\"\n",
       "  178.867,89.2763 197.764,89.2763 \n",
       "  \"/>\n",
       "<path clip-path=\"url(#clip040)\" d=\"M50.9921 1410.93 L80.6679 1410.93 L80.6679 1414.86 L50.9921 1414.86 L50.9921 1410.93 Z\" fill=\"#000000\" fill-rule=\"evenodd\" fill-opacity=\"1\" /><path clip-path=\"url(#clip040)\" d=\"M91.5706 1423.82 L99.2095 1423.82 L99.2095 1397.46 L90.8993 1399.12 L90.8993 1394.86 L99.1632 1393.2 L103.839 1393.2 L103.839 1423.82 L111.478 1423.82 L111.478 1427.76 L91.5706 1427.76 L91.5706 1423.82 Z\" fill=\"#000000\" fill-rule=\"evenodd\" fill-opacity=\"1\" /><path clip-path=\"url(#clip040)\" d=\"M130.922 1396.28 Q127.311 1396.28 125.482 1399.84 Q123.677 1403.38 123.677 1410.51 Q123.677 1417.62 125.482 1421.18 Q127.311 1424.72 130.922 1424.72 Q134.556 1424.72 136.362 1421.18 Q138.191 1417.62 138.191 1410.51 Q138.191 1403.38 136.362 1399.84 Q134.556 1396.28 130.922 1396.28 M130.922 1392.57 Q136.732 1392.57 139.788 1397.18 Q142.867 1401.76 142.867 1410.51 Q142.867 1419.24 139.788 1423.84 Q136.732 1428.43 130.922 1428.43 Q125.112 1428.43 122.033 1423.84 Q118.978 1419.24 118.978 1410.51 Q118.978 1401.76 122.033 1397.18 Q125.112 1392.57 130.922 1392.57 Z\" fill=\"#000000\" fill-rule=\"evenodd\" fill-opacity=\"1\" /><path clip-path=\"url(#clip040)\" d=\"M130.922 955.875 Q127.311 955.875 125.482 959.44 Q123.677 962.982 123.677 970.111 Q123.677 977.218 125.482 980.783 Q127.311 984.324 130.922 984.324 Q134.556 984.324 136.362 980.783 Q138.191 977.218 138.191 970.111 Q138.191 962.982 136.362 959.44 Q134.556 955.875 130.922 955.875 M130.922 952.172 Q136.732 952.172 139.788 956.778 Q142.867 961.361 142.867 970.111 Q142.867 978.838 139.788 983.445 Q136.732 988.028 130.922 988.028 Q125.112 988.028 122.033 983.445 Q118.978 978.838 118.978 970.111 Q118.978 961.361 122.033 956.778 Q125.112 952.172 130.922 952.172 Z\" fill=\"#000000\" fill-rule=\"evenodd\" fill-opacity=\"1\" /><path clip-path=\"url(#clip040)\" d=\"M91.5706 543.021 L99.2095 543.021 L99.2095 516.656 L90.8993 518.322 L90.8993 514.063 L99.1632 512.396 L103.839 512.396 L103.839 543.021 L111.478 543.021 L111.478 546.956 L91.5706 546.956 L91.5706 543.021 Z\" fill=\"#000000\" fill-rule=\"evenodd\" fill-opacity=\"1\" /><path clip-path=\"url(#clip040)\" d=\"M130.922 515.475 Q127.311 515.475 125.482 519.04 Q123.677 522.582 123.677 529.711 Q123.677 536.818 125.482 540.382 Q127.311 543.924 130.922 543.924 Q134.556 543.924 136.362 540.382 Q138.191 536.818 138.191 529.711 Q138.191 522.582 136.362 519.04 Q134.556 515.475 130.922 515.475 M130.922 511.771 Q136.732 511.771 139.788 516.378 Q142.867 520.961 142.867 529.711 Q142.867 538.438 139.788 543.044 Q136.732 547.628 130.922 547.628 Q125.112 547.628 122.033 543.044 Q118.978 538.438 118.978 529.711 Q118.978 520.961 122.033 516.378 Q125.112 511.771 130.922 511.771 Z\" fill=\"#000000\" fill-rule=\"evenodd\" fill-opacity=\"1\" /><path clip-path=\"url(#clip040)\" d=\"M94.7882 102.621 L111.108 102.621 L111.108 106.556 L89.1632 106.556 L89.1632 102.621 Q91.8252 99.8666 96.4085 95.237 Q101.015 90.5842 102.196 89.2416 Q104.441 86.7185 105.321 84.9824 Q106.223 83.2231 106.223 81.5333 Q106.223 78.7787 104.279 77.0426 Q102.358 75.3065 99.2558 75.3065 Q97.0567 75.3065 94.603 76.0704 Q92.1725 76.8343 89.3947 78.3852 L89.3947 73.663 Q92.2188 72.5287 94.6724 71.95 Q97.1261 71.3713 99.1632 71.3713 Q104.534 71.3713 107.728 74.0565 Q110.922 76.7417 110.922 81.2324 Q110.922 83.362 110.112 85.2833 Q109.325 87.1814 107.219 89.774 Q106.64 90.4453 103.538 93.6629 Q100.436 96.8573 94.7882 102.621 Z\" fill=\"#000000\" fill-rule=\"evenodd\" fill-opacity=\"1\" /><path clip-path=\"url(#clip040)\" d=\"M130.922 75.075 Q127.311 75.075 125.482 78.6398 Q123.677 82.1815 123.677 89.3111 Q123.677 96.4175 125.482 99.9823 Q127.311 103.524 130.922 103.524 Q134.556 103.524 136.362 99.9823 Q138.191 96.4175 138.191 89.3111 Q138.191 82.1815 136.362 78.6398 Q134.556 75.075 130.922 75.075 M130.922 71.3713 Q136.732 71.3713 139.788 75.9778 Q142.867 80.5611 142.867 89.3111 Q142.867 98.0379 139.788 102.644 Q136.732 107.228 130.922 107.228 Q125.112 107.228 122.033 102.644 Q118.978 98.0379 118.978 89.3111 Q118.978 80.5611 122.033 75.9778 Q125.112 71.3713 130.922 71.3713 Z\" fill=\"#000000\" fill-rule=\"evenodd\" fill-opacity=\"1\" /><polyline clip-path=\"url(#clip042)\" style=\"stroke:#009af9; stroke-linecap:round; stroke-linejoin:round; stroke-width:4; stroke-opacity:1; fill:none\" points=\"\n",
       "  240.392,970.205 251.359,966.497 262.326,955.516 273.293,940.963 284.26,926.57 295.227,912.406 306.194,898.534 317.161,885.014 328.128,871.907 339.095,859.269 \n",
       "  350.062,847.156 361.029,835.621 371.996,824.716 382.963,814.487 393.931,804.98 404.898,796.237 415.865,788.296 426.832,781.192 437.799,774.956 448.766,769.616 \n",
       "  459.733,765.195 470.7,761.712 481.667,759.183 492.634,757.618 503.601,757.026 514.568,757.408 525.535,758.762 536.502,761.084 547.469,764.362 558.436,768.494 \n",
       "  569.403,773.105 580.37,778.058 591.338,783.322 602.305,788.875 613.272,794.692 624.239,800.748 635.206,807.016 646.173,813.469 657.14,820.078 668.107,826.814 \n",
       "  679.074,833.648 690.041,840.549 701.008,847.488 711.975,854.433 722.942,861.355 733.909,868.223 744.876,875.006 755.843,881.675 766.81,888.2 777.777,894.554 \n",
       "  788.744,900.707 799.712,906.634 810.679,912.307 821.646,917.702 832.613,922.796 843.58,927.565 854.547,931.989 865.514,936.049 876.481,939.727 887.448,943.005 \n",
       "  898.415,945.878 909.382,948.37 920.349,950.542 931.316,952.449 942.283,954.133 953.25,955.629 964.217,956.964 975.184,958.161 986.151,959.238 997.118,960.21 \n",
       "  1008.09,961.089 1019.05,961.886 1030.02,962.61 1040.99,963.27 1051.95,963.87 1062.92,964.418 1073.89,964.918 1084.85,965.374 1095.82,965.791 1106.79,966.172 \n",
       "  1117.76,966.52 1128.72,966.838 1139.69,967.128 1150.66,967.393 1161.62,967.636 1172.59,967.857 1183.56,968.059 1194.53,968.243 1205.49,968.411 1216.46,968.564 \n",
       "  1227.43,968.703 1238.39,968.83 1249.36,968.946 1260.33,969.052 1271.29,969.147 1282.26,969.235 1293.23,969.314 1304.2,969.386 1315.16,969.451 1326.13,969.511 \n",
       "  1337.1,969.565 1348.06,969.614 1359.03,969.658 1370,969.698 1380.97,969.735 1391.93,969.768 1402.9,969.798 1413.87,969.825 1424.83,969.849 1435.8,969.871 \n",
       "  1446.77,969.891 1457.73,969.91 1468.7,969.926 1479.67,969.941 1490.64,969.954 1501.6,969.966 1512.57,969.977 1523.54,969.987 1534.5,969.996 1545.47,970.004 \n",
       "  1556.44,970.011 1567.41,970.018 1578.37,970.024 1589.34,970.029 1600.31,970.034 1611.27,970.038 1622.24,970.042 1633.21,970.045 1644.17,970.049 1655.14,970.051 \n",
       "  1666.11,970.054 1677.08,970.056 1688.04,970.058 1699.01,970.06 1709.98,970.062 1720.94,970.063 1731.91,970.065 1742.88,970.066 1753.85,970.067 1764.81,970.068 \n",
       "  1775.78,970.069 1786.75,970.07 1797.71,970.07 1808.68,970.071 1819.65,970.072 1830.61,970.072 1841.58,970.073 1852.55,970.073 1863.52,970.073 1874.48,970.074 \n",
       "  1885.45,970.074 1896.42,970.074 1907.38,970.075 1918.35,970.075 1929.32,970.075 1940.29,970.075 1951.25,970.075 1962.22,970.075 1973.19,970.076 1984.15,970.076 \n",
       "  1995.12,970.076 2006.09,970.076 2017.05,970.076 2028.02,970.076 2038.99,970.076 2049.96,970.076 2060.92,970.076 2071.89,970.076 2082.86,970.076 2093.82,970.076 \n",
       "  2104.79,970.076 2115.76,970.076 2126.72,970.076 2137.69,970.076 2148.66,970.076 2159.63,970.076 2170.59,970.076 2181.56,970.076 2192.53,970.077 2203.49,970.077 \n",
       "  2214.46,970.077 2225.43,970.077 2236.4,970.077 2247.36,970.077 2258.33,970.077 2269.3,970.077 2280.26,970.077 2291.23,970.077 \n",
       "  \"/>\n",
       "<polyline clip-path=\"url(#clip042)\" style=\"stroke:#e26f46; stroke-linecap:round; stroke-linejoin:round; stroke-width:4; stroke-opacity:1; fill:none\" points=\"\n",
       "  240.392,87.9763 251.359,88.1416 262.326,89.2811 273.293,92.3306 284.26,97.4359 295.227,104.435 306.194,113.294 317.161,123.969 328.128,136.411 339.095,150.559 \n",
       "  350.062,166.35 361.029,183.709 371.996,202.556 382.963,222.804 393.931,244.362 404.898,267.13 415.865,291.005 426.832,315.877 437.799,341.634 448.766,368.159 \n",
       "  459.733,395.332 470.7,423.028 481.667,451.124 492.634,479.49 503.601,508 514.568,536.524 525.535,564.933 536.502,593.097 547.469,620.891 558.436,646.209 \n",
       "  569.403,668.793 580.37,690.574 591.338,711.677 602.305,732.062 613.272,751.694 624.239,770.538 635.206,788.564 646.173,805.747 657.14,822.063 668.107,837.495 \n",
       "  679.074,852.026 690.041,865.646 701.008,878.349 711.975,890.131 722.942,900.993 733.909,910.94 744.876,919.982 755.843,928.132 766.81,935.407 777.777,941.827 \n",
       "  788.744,947.418 799.712,952.208 810.679,956.229 821.646,959.516 832.613,962.106 843.58,964.043 854.547,965.37 865.514,966.134 876.481,966.386 887.448,966.175 \n",
       "  898.415,965.701 909.382,965.322 920.349,965.181 931.316,965.2 942.283,965.33 953.25,965.531 964.217,965.777 975.184,966.05 986.151,966.334 997.118,966.621 \n",
       "  1008.09,966.903 1019.05,967.174 1030.02,967.433 1040.99,967.676 1051.95,967.904 1062.92,968.114 1073.89,968.308 1084.85,968.486 1095.82,968.648 1106.79,968.796 \n",
       "  1117.76,968.93 1128.72,969.051 1139.69,969.16 1150.66,969.258 1161.62,969.347 1172.59,969.426 1183.56,969.497 1194.53,969.561 1205.49,969.618 1216.46,969.669 \n",
       "  1227.43,969.714 1238.39,969.755 1249.36,969.791 1260.33,969.823 1271.29,969.852 1282.26,969.877 1293.23,969.9 1304.2,969.92 1315.16,969.938 1326.13,969.954 \n",
       "  1337.1,969.968 1348.06,969.981 1359.03,969.992 1370,970.001 1380.97,970.01 1391.93,970.018 1402.9,970.025 1413.87,970.031 1424.83,970.036 1435.8,970.041 \n",
       "  1446.77,970.045 1457.73,970.049 1468.7,970.052 1479.67,970.055 1490.64,970.057 1501.6,970.06 1512.57,970.062 1523.54,970.063 1534.5,970.065 1545.47,970.066 \n",
       "  1556.44,970.068 1567.41,970.069 1578.37,970.07 1589.34,970.07 1600.31,970.071 1611.27,970.072 1622.24,970.072 1633.21,970.073 1644.17,970.073 1655.14,970.074 \n",
       "  1666.11,970.074 1677.08,970.074 1688.04,970.075 1699.01,970.075 1709.98,970.075 1720.94,970.075 1731.91,970.075 1742.88,970.076 1753.85,970.076 1764.81,970.076 \n",
       "  1775.78,970.076 1786.75,970.076 1797.71,970.076 1808.68,970.076 1819.65,970.076 1830.61,970.076 1841.58,970.076 1852.55,970.076 1863.52,970.076 1874.48,970.076 \n",
       "  1885.45,970.076 1896.42,970.076 1907.38,970.076 1918.35,970.076 1929.32,970.076 1940.29,970.077 1951.25,970.077 1962.22,970.077 1973.19,970.077 1984.15,970.077 \n",
       "  1995.12,970.077 2006.09,970.077 2017.05,970.077 2028.02,970.077 2038.99,970.077 2049.96,970.077 2060.92,970.077 2071.89,970.077 2082.86,970.077 2093.82,970.077 \n",
       "  2104.79,970.077 2115.76,970.077 2126.72,970.077 2137.69,970.077 2148.66,970.077 2159.63,970.077 2170.59,970.077 2181.56,970.077 2192.53,970.077 2203.49,970.077 \n",
       "  2214.46,970.077 2225.43,970.077 2236.4,970.077 2247.36,970.077 2258.33,970.077 2269.3,970.077 2280.26,970.077 2291.23,970.077 \n",
       "  \"/>\n",
       "<polyline clip-path=\"url(#clip042)\" style=\"stroke:#3da44d; stroke-linecap:round; stroke-linejoin:round; stroke-width:4; stroke-opacity:1; fill:none\" points=\"\n",
       "  240.392,970.077 251.359,970.077 262.326,970.077 273.293,970.077 284.26,970.077 295.227,970.077 306.194,970.077 317.161,970.077 328.128,970.077 339.095,970.077 \n",
       "  350.062,970.077 361.029,970.077 371.996,970.077 382.963,970.077 393.931,970.077 404.898,970.077 415.865,970.077 426.832,970.077 437.799,970.077 448.766,970.077 \n",
       "  459.733,970.077 470.7,970.077 481.667,970.077 492.634,970.077 503.601,970.077 514.568,970.077 525.535,970.077 536.502,970.077 547.469,970.077 558.436,970.077 \n",
       "  569.403,970.077 580.37,970.077 591.338,970.077 602.305,970.077 613.272,970.077 624.239,970.077 635.206,970.077 646.173,970.077 657.14,970.077 668.107,970.077 \n",
       "  679.074,970.077 690.041,970.077 701.008,970.077 711.975,970.077 722.942,970.077 733.909,970.077 744.876,970.077 755.843,970.077 766.81,970.077 777.777,970.077 \n",
       "  788.744,970.077 799.712,970.077 810.679,970.077 821.646,970.077 832.613,970.077 843.58,970.077 854.547,970.077 865.514,970.077 876.481,970.077 887.448,970.077 \n",
       "  898.415,970.077 909.382,970.077 920.349,970.077 931.316,970.077 942.283,970.077 953.25,970.077 964.217,970.077 975.184,970.077 986.151,970.077 997.118,970.077 \n",
       "  1008.09,970.077 1019.05,970.077 1030.02,970.077 1040.99,970.077 1051.95,970.077 1062.92,970.077 1073.89,970.077 1084.85,970.077 1095.82,970.077 1106.79,970.077 \n",
       "  1117.76,970.077 1128.72,970.077 1139.69,970.077 1150.66,970.077 1161.62,970.077 1172.59,970.077 1183.56,970.077 1194.53,970.077 1205.49,970.077 1216.46,970.077 \n",
       "  1227.43,970.077 1238.39,970.077 1249.36,970.077 1260.33,970.077 1271.29,970.077 1282.26,970.077 1293.23,970.077 1304.2,970.077 1315.16,970.077 1326.13,970.077 \n",
       "  1337.1,970.077 1348.06,970.077 1359.03,970.077 1370,970.077 1380.97,970.077 1391.93,970.077 1402.9,970.077 1413.87,970.077 1424.83,970.077 1435.8,970.077 \n",
       "  1446.77,970.077 1457.73,970.077 1468.7,970.077 1479.67,970.077 1490.64,970.077 1501.6,970.077 1512.57,970.077 1523.54,970.077 1534.5,970.077 1545.47,970.077 \n",
       "  1556.44,970.077 1567.41,970.077 1578.37,970.077 1589.34,970.077 1600.31,970.077 1611.27,970.077 1622.24,970.077 1633.21,970.077 1644.17,970.077 1655.14,970.077 \n",
       "  1666.11,970.077 1677.08,970.077 1688.04,970.077 1699.01,970.077 1709.98,970.077 1720.94,970.077 1731.91,970.077 1742.88,970.077 1753.85,970.077 1764.81,970.077 \n",
       "  1775.78,970.077 1786.75,970.077 1797.71,970.077 1808.68,970.077 1819.65,970.077 1830.61,970.077 1841.58,970.077 1852.55,970.077 1863.52,970.077 1874.48,970.077 \n",
       "  1885.45,970.077 1896.42,970.077 1907.38,970.077 1918.35,970.077 1929.32,970.077 1940.29,970.077 1951.25,970.077 1962.22,970.077 1973.19,970.077 1984.15,970.077 \n",
       "  1995.12,970.077 2006.09,970.077 2017.05,970.077 2028.02,970.077 2038.99,970.077 2049.96,970.077 2060.92,970.077 2071.89,970.077 2082.86,970.077 2093.82,970.077 \n",
       "  2104.79,970.077 2115.76,970.077 2126.72,970.077 2137.69,970.077 2148.66,970.077 2159.63,970.077 2170.59,970.077 2181.56,970.077 2192.53,970.077 2203.49,970.077 \n",
       "  2214.46,970.077 2225.43,970.077 2236.4,970.077 2247.36,970.077 2258.33,970.077 2269.3,970.077 2280.26,970.077 2291.23,970.077 \n",
       "  \"/>\n",
       "<polyline clip-path=\"url(#clip042)\" style=\"stroke:#c271d2; stroke-linecap:round; stroke-linejoin:round; stroke-width:4; stroke-opacity:1; fill:none\" points=\"\n",
       "  240.392,969.014 251.359,847.583 262.326,726.69 273.293,728.628 284.26,731.927 295.227,736.272 306.194,741.645 317.161,748.021 328.128,755.372 339.095,763.668 \n",
       "  350.062,772.87 361.029,782.938 371.996,793.829 382.963,805.495 393.931,817.883 404.898,830.94 415.865,844.609 426.832,858.829 437.799,873.537 448.766,888.67 \n",
       "  459.733,904.161 470.7,919.941 481.667,935.941 492.634,952.091 503.601,968.321 514.568,984.558 525.535,1000.73 536.502,1016.77 547.469,1032.6 558.436,1043.79 \n",
       "  569.403,1049.89 580.37,1055.28 591.338,1060.29 602.305,1064.9 613.272,1069.09 624.239,1072.85 635.206,1076.16 646.173,1079 657.14,1081.37 668.107,1083.24 \n",
       "  679.074,1084.62 690.041,1085.49 701.008,1085.86 711.975,1085.72 722.942,1085.07 733.909,1083.92 744.876,1082.26 755.843,1080.11 766.81,1077.48 777.777,1074.38 \n",
       "  788.744,1070.82 799.712,1066.81 810.679,1062.38 821.646,1057.55 832.613,1052.33 843.58,1046.75 854.547,1040.83 865.514,1034.6 876.481,1028.09 887.448,1021.32 \n",
       "  898.415,1014.65 909.382,1008.77 920.349,1003.93 931.316,999.896 942.283,996.496 953.25,993.604 964.217,991.123 975.184,988.977 986.151,987.108 997.118,985.468 \n",
       "  1008.09,984.02 1019.05,982.734 1030.02,981.587 1040.99,980.557 1051.95,979.631 1062.92,978.793 1073.89,978.033 1084.85,977.343 1095.82,976.715 1106.79,976.142 \n",
       "  1117.76,975.618 1128.72,975.139 1139.69,974.701 1150.66,974.3 1161.62,973.933 1172.59,973.597 1183.56,973.289 1194.53,973.007 1205.49,972.749 1216.46,972.512 \n",
       "  1227.43,972.296 1238.39,972.098 1249.36,971.917 1260.33,971.751 1271.29,971.6 1282.26,971.462 1293.23,971.335 1304.2,971.22 1315.16,971.115 1326.13,971.02 \n",
       "  1337.1,970.932 1348.06,970.853 1359.03,970.781 1370,970.715 1380.97,970.655 1391.93,970.6 1402.9,970.551 1413.87,970.506 1424.83,970.465 1435.8,970.428 \n",
       "  1446.77,970.395 1457.73,970.364 1468.7,970.336 1479.67,970.311 1490.64,970.289 1501.6,970.268 1512.57,970.25 1523.54,970.233 1534.5,970.217 1545.47,970.204 \n",
       "  1556.44,970.191 1567.41,970.18 1578.37,970.17 1589.34,970.161 1600.31,970.152 1611.27,970.145 1622.24,970.138 1633.21,970.132 1644.17,970.126 1655.14,970.121 \n",
       "  1666.11,970.117 1677.08,970.113 1688.04,970.109 1699.01,970.106 1709.98,970.103 1720.94,970.1 1731.91,970.098 1742.88,970.096 1753.85,970.094 1764.81,970.092 \n",
       "  1775.78,970.091 1786.75,970.089 1797.71,970.088 1808.68,970.087 1819.65,970.086 1830.61,970.085 1841.58,970.084 1852.55,970.083 1863.52,970.082 1874.48,970.082 \n",
       "  1885.45,970.081 1896.42,970.081 1907.38,970.08 1918.35,970.08 1929.32,970.08 1940.29,970.079 1951.25,970.079 1962.22,970.079 1973.19,970.079 1984.15,970.078 \n",
       "  1995.12,970.078 2006.09,970.078 2017.05,970.078 2028.02,970.078 2038.99,970.078 2049.96,970.078 2060.92,970.077 2071.89,970.077 2082.86,970.077 2093.82,970.077 \n",
       "  2104.79,970.077 2115.76,970.077 2126.72,970.077 2137.69,970.077 2148.66,970.077 2159.63,970.077 2170.59,970.077 2181.56,970.077 2192.53,970.077 2203.49,970.077 \n",
       "  2214.46,970.077 2225.43,970.077 2236.4,970.077 2247.36,970.077 2258.33,970.077 2269.3,970.077 2280.26,970.077 2291.23,970.077 \n",
       "  \"/>\n",
       "<polyline clip-path=\"url(#clip042)\" style=\"stroke:#ac8d18; stroke-linecap:round; stroke-linejoin:round; stroke-width:4; stroke-opacity:1; fill:none\" points=\"\n",
       "  240.392,970.077 251.359,978.271 262.326,1002.54 273.293,1039.22 284.26,1071.03 295.227,1102.33 306.194,1132.99 317.161,1162.87 328.128,1191.83 339.095,1219.76 \n",
       "  350.062,1246.53 361.029,1272.02 371.996,1296.12 382.963,1318.73 393.931,1339.74 404.898,1359.06 415.865,1376.61 426.832,1392.31 437.799,1406.09 448.766,1417.89 \n",
       "  459.733,1427.66 470.7,1435.36 481.667,1440.95 492.634,1444.41 503.601,1445.72 514.568,1444.87 525.535,1441.88 536.502,1436.75 547.469,1429.5 558.436,1354.33 \n",
       "  569.403,1338.5 580.37,1327.56 591.338,1315.92 602.305,1303.65 613.272,1290.79 624.239,1277.41 635.206,1263.55 646.173,1249.29 657.14,1234.69 668.107,1219.8 \n",
       "  679.074,1204.7 690.041,1189.45 701.008,1174.11 711.975,1158.76 722.942,1143.47 733.909,1128.29 744.876,1113.3 755.843,1098.56 766.81,1084.14 777.777,1070.1 \n",
       "  788.744,1056.5 799.712,1043.4 810.679,1030.87 821.646,1018.94 832.613,1007.69 843.58,997.148 854.547,987.37 865.514,978.398 876.481,970.271 887.448,963.025 \n",
       "  898.415,961.474 909.382,966.169 920.349,969.367 931.316,971.54 942.283,972.991 953.25,973.928 964.217,974.494 975.184,974.79 986.151,974.892 997.118,974.855 \n",
       "  1008.09,974.721 1019.05,974.521 1030.02,974.279 1040.99,974.012 1051.95,973.734 1062.92,973.454 1073.89,973.179 1084.85,972.914 1095.82,972.662 1106.79,972.424 \n",
       "  1117.76,972.202 1128.72,971.997 1139.69,971.808 1150.66,971.634 1161.62,971.476 1172.59,971.332 1183.56,971.201 1194.53,971.083 1205.49,970.976 1216.46,970.88 \n",
       "  1227.43,970.793 1238.39,970.716 1249.36,970.646 1260.33,970.584 1271.29,970.528 1282.26,970.478 1293.23,970.433 1304.2,970.393 1315.16,970.358 1326.13,970.326 \n",
       "  1337.1,970.298 1348.06,970.273 1359.03,970.251 1370,970.231 1380.97,970.213 1391.93,970.198 1402.9,970.184 1413.87,970.172 1424.83,970.161 1435.8,970.151 \n",
       "  1446.77,970.142 1457.73,970.135 1468.7,970.128 1479.67,970.122 1490.64,970.117 1501.6,970.112 1512.57,970.108 1523.54,970.104 1534.5,970.101 1545.47,970.098 \n",
       "  1556.44,970.096 1567.41,970.093 1578.37,970.091 1589.34,970.09 1600.31,970.088 1611.27,970.087 1622.24,970.086 1633.21,970.085 1644.17,970.084 1655.14,970.083 \n",
       "  1666.11,970.082 1677.08,970.081 1688.04,970.081 1699.01,970.08 1709.98,970.08 1720.94,970.08 1731.91,970.079 1742.88,970.079 1753.85,970.079 1764.81,970.078 \n",
       "  1775.78,970.078 1786.75,970.078 1797.71,970.078 1808.68,970.078 1819.65,970.078 1830.61,970.077 1841.58,970.077 1852.55,970.077 1863.52,970.077 1874.48,970.077 \n",
       "  1885.45,970.077 1896.42,970.077 1907.38,970.077 1918.35,970.077 1929.32,970.077 1940.29,970.077 1951.25,970.077 1962.22,970.077 1973.19,970.077 1984.15,970.077 \n",
       "  1995.12,970.077 2006.09,970.077 2017.05,970.077 2028.02,970.077 2038.99,970.077 2049.96,970.077 2060.92,970.077 2071.89,970.077 2082.86,970.077 2093.82,970.077 \n",
       "  2104.79,970.077 2115.76,970.077 2126.72,970.077 2137.69,970.077 2148.66,970.077 2159.63,970.077 2170.59,970.077 2181.56,970.077 2192.53,970.077 2203.49,970.077 \n",
       "  2214.46,970.077 2225.43,970.077 2236.4,970.077 2247.36,970.077 2258.33,970.077 2269.3,970.077 2280.26,970.077 2291.23,970.077 \n",
       "  \"/>\n",
       "<polyline clip-path=\"url(#clip042)\" style=\"stroke:#00a9ad; stroke-linecap:round; stroke-linejoin:round; stroke-width:4; stroke-opacity:1; fill:none\" points=\"\n",
       "  240.392,970.077 251.359,970.077 262.326,970.077 273.293,970.077 284.26,970.077 295.227,970.077 306.194,970.077 317.161,970.077 328.128,970.077 339.095,970.077 \n",
       "  350.062,970.077 361.029,970.077 371.996,970.077 382.963,970.077 393.931,970.077 404.898,970.077 415.865,970.077 426.832,970.077 437.799,970.077 448.766,970.077 \n",
       "  459.733,970.077 470.7,970.077 481.667,970.077 492.634,970.077 503.601,970.077 514.568,970.077 525.535,970.077 536.502,970.077 547.469,970.077 558.436,970.077 \n",
       "  569.403,970.077 580.37,970.077 591.338,970.077 602.305,970.077 613.272,970.077 624.239,970.077 635.206,970.077 646.173,970.077 657.14,970.077 668.107,970.077 \n",
       "  679.074,970.077 690.041,970.077 701.008,970.077 711.975,970.077 722.942,970.077 733.909,970.077 744.876,970.077 755.843,970.077 766.81,970.077 777.777,970.077 \n",
       "  788.744,970.077 799.712,970.077 810.679,970.077 821.646,970.077 832.613,970.077 843.58,970.077 854.547,970.077 865.514,970.077 876.481,970.077 887.448,970.077 \n",
       "  898.415,970.077 909.382,970.077 920.349,970.077 931.316,970.077 942.283,970.077 953.25,970.077 964.217,970.077 975.184,970.077 986.151,970.077 997.118,970.077 \n",
       "  1008.09,970.077 1019.05,970.077 1030.02,970.077 1040.99,970.077 1051.95,970.077 1062.92,970.077 1073.89,970.077 1084.85,970.077 1095.82,970.077 1106.79,970.077 \n",
       "  1117.76,970.077 1128.72,970.077 1139.69,970.077 1150.66,970.077 1161.62,970.077 1172.59,970.077 1183.56,970.077 1194.53,970.077 1205.49,970.077 1216.46,970.077 \n",
       "  1227.43,970.077 1238.39,970.077 1249.36,970.077 1260.33,970.077 1271.29,970.077 1282.26,970.077 1293.23,970.077 1304.2,970.077 1315.16,970.077 1326.13,970.077 \n",
       "  1337.1,970.077 1348.06,970.077 1359.03,970.077 1370,970.077 1380.97,970.077 1391.93,970.077 1402.9,970.077 1413.87,970.077 1424.83,970.077 1435.8,970.077 \n",
       "  1446.77,970.077 1457.73,970.077 1468.7,970.077 1479.67,970.077 1490.64,970.077 1501.6,970.077 1512.57,970.077 1523.54,970.077 1534.5,970.077 1545.47,970.077 \n",
       "  1556.44,970.077 1567.41,970.077 1578.37,970.077 1589.34,970.077 1600.31,970.077 1611.27,970.077 1622.24,970.077 1633.21,970.077 1644.17,970.077 1655.14,970.077 \n",
       "  1666.11,970.077 1677.08,970.077 1688.04,970.077 1699.01,970.077 1709.98,970.077 1720.94,970.077 1731.91,970.077 1742.88,970.077 1753.85,970.077 1764.81,970.077 \n",
       "  1775.78,970.077 1786.75,970.077 1797.71,970.077 1808.68,970.077 1819.65,970.077 1830.61,970.077 1841.58,970.077 1852.55,970.077 1863.52,970.077 1874.48,970.077 \n",
       "  1885.45,970.077 1896.42,970.077 1907.38,970.077 1918.35,970.077 1929.32,970.077 1940.29,970.077 1951.25,970.077 1962.22,970.077 1973.19,970.077 1984.15,970.077 \n",
       "  1995.12,970.077 2006.09,970.077 2017.05,970.077 2028.02,970.077 2038.99,970.077 2049.96,970.077 2060.92,970.077 2071.89,970.077 2082.86,970.077 2093.82,970.077 \n",
       "  2104.79,970.077 2115.76,970.077 2126.72,970.077 2137.69,970.077 2148.66,970.077 2159.63,970.077 2170.59,970.077 2181.56,970.077 2192.53,970.077 2203.49,970.077 \n",
       "  2214.46,970.077 2225.43,970.077 2236.4,970.077 2247.36,970.077 2258.33,970.077 2269.3,970.077 2280.26,970.077 2291.23,970.077 \n",
       "  \"/>\n",
       "<path clip-path=\"url(#clip040)\" d=\"\n",
       "M1984.61 458.098 L2280.29 458.098 L2280.29 95.2176 L1984.61 95.2176  Z\n",
       "  \" fill=\"#ffffff\" fill-rule=\"evenodd\" fill-opacity=\"1\"/>\n",
       "<polyline clip-path=\"url(#clip040)\" style=\"stroke:#000000; stroke-linecap:round; stroke-linejoin:round; stroke-width:4; stroke-opacity:1; fill:none\" points=\"\n",
       "  1984.61,458.098 2280.29,458.098 2280.29,95.2176 1984.61,95.2176 1984.61,458.098 \n",
       "  \"/>\n",
       "<polyline clip-path=\"url(#clip040)\" style=\"stroke:#009af9; stroke-linecap:round; stroke-linejoin:round; stroke-width:4; stroke-opacity:1; fill:none\" points=\"\n",
       "  2008.76,147.058 2153.69,147.058 \n",
       "  \"/>\n",
       "<path clip-path=\"url(#clip040)\" d=\"M2191.68 166.745 Q2189.88 171.375 2188.17 172.787 Q2186.45 174.199 2183.58 174.199 L2180.18 174.199 L2180.18 170.634 L2182.68 170.634 Q2184.44 170.634 2185.41 169.8 Q2186.38 168.967 2187.56 165.865 L2188.33 163.921 L2177.84 138.412 L2182.35 138.412 L2190.46 158.689 L2198.56 138.412 L2203.07 138.412 L2191.68 166.745 Z\" fill=\"#000000\" fill-rule=\"evenodd\" fill-opacity=\"1\" /><path clip-path=\"url(#clip040)\" d=\"M2210.36 160.402 L2218 160.402 L2218 134.037 L2209.69 135.703 L2209.69 131.444 L2217.96 129.778 L2222.63 129.778 L2222.63 160.402 L2230.27 160.402 L2230.27 164.338 L2210.36 164.338 L2210.36 160.402 Z\" fill=\"#000000\" fill-rule=\"evenodd\" fill-opacity=\"1\" /><polyline clip-path=\"url(#clip040)\" style=\"stroke:#e26f46; stroke-linecap:round; stroke-linejoin:round; stroke-width:4; stroke-opacity:1; fill:none\" points=\"\n",
       "  2008.76,198.898 2153.69,198.898 \n",
       "  \"/>\n",
       "<path clip-path=\"url(#clip040)\" d=\"M2191.68 218.585 Q2189.88 223.215 2188.17 224.627 Q2186.45 226.039 2183.58 226.039 L2180.18 226.039 L2180.18 222.474 L2182.68 222.474 Q2184.44 222.474 2185.41 221.64 Q2186.38 220.807 2187.56 217.705 L2188.33 215.761 L2177.84 190.252 L2182.35 190.252 L2190.46 210.529 L2198.56 190.252 L2203.07 190.252 L2191.68 218.585 Z\" fill=\"#000000\" fill-rule=\"evenodd\" fill-opacity=\"1\" /><path clip-path=\"url(#clip040)\" d=\"M2213.58 212.242 L2229.9 212.242 L2229.9 216.178 L2207.96 216.178 L2207.96 212.242 Q2210.62 209.488 2215.2 204.858 Q2219.81 200.205 2220.99 198.863 Q2223.23 196.34 2224.11 194.604 Q2225.02 192.844 2225.02 191.155 Q2225.02 188.4 2223.07 186.664 Q2221.15 184.928 2218.05 184.928 Q2215.85 184.928 2213.4 185.692 Q2210.97 186.455 2208.19 188.006 L2208.19 183.284 Q2211.01 182.15 2213.47 181.571 Q2215.92 180.993 2217.96 180.993 Q2223.33 180.993 2226.52 183.678 Q2229.72 186.363 2229.72 190.854 Q2229.72 192.983 2228.91 194.905 Q2228.12 196.803 2226.01 199.395 Q2225.43 200.067 2222.33 203.284 Q2219.23 206.479 2213.58 212.242 Z\" fill=\"#000000\" fill-rule=\"evenodd\" fill-opacity=\"1\" /><polyline clip-path=\"url(#clip040)\" style=\"stroke:#3da44d; stroke-linecap:round; stroke-linejoin:round; stroke-width:4; stroke-opacity:1; fill:none\" points=\"\n",
       "  2008.76,250.738 2153.69,250.738 \n",
       "  \"/>\n",
       "<path clip-path=\"url(#clip040)\" d=\"M2191.68 270.425 Q2189.88 275.055 2188.17 276.467 Q2186.45 277.879 2183.58 277.879 L2180.18 277.879 L2180.18 274.314 L2182.68 274.314 Q2184.44 274.314 2185.41 273.48 Q2186.38 272.647 2187.56 269.545 L2188.33 267.601 L2177.84 242.092 L2182.35 242.092 L2190.46 262.369 L2198.56 242.092 L2203.07 242.092 L2191.68 270.425 Z\" fill=\"#000000\" fill-rule=\"evenodd\" fill-opacity=\"1\" /><path clip-path=\"url(#clip040)\" d=\"M2223.72 249.383 Q2227.08 250.101 2228.95 252.369 Q2230.85 254.638 2230.85 257.971 Q2230.85 263.087 2227.33 265.888 Q2223.81 268.689 2217.33 268.689 Q2215.16 268.689 2212.84 268.249 Q2210.55 267.832 2208.1 266.976 L2208.1 262.462 Q2210.04 263.596 2212.35 264.175 Q2214.67 264.754 2217.19 264.754 Q2221.59 264.754 2223.88 263.018 Q2226.2 261.281 2226.2 257.971 Q2226.2 254.916 2224.04 253.203 Q2221.91 251.467 2218.1 251.467 L2214.07 251.467 L2214.07 247.624 L2218.28 247.624 Q2221.73 247.624 2223.56 246.258 Q2225.39 244.87 2225.39 242.277 Q2225.39 239.615 2223.49 238.203 Q2221.61 236.768 2218.1 236.768 Q2216.17 236.768 2213.98 237.184 Q2211.78 237.601 2209.14 238.481 L2209.14 234.314 Q2211.8 233.573 2214.11 233.203 Q2216.45 232.833 2218.51 232.833 Q2223.84 232.833 2226.94 235.263 Q2230.04 237.67 2230.04 241.791 Q2230.04 244.661 2228.4 246.652 Q2226.75 248.62 2223.72 249.383 Z\" fill=\"#000000\" fill-rule=\"evenodd\" fill-opacity=\"1\" /><polyline clip-path=\"url(#clip040)\" style=\"stroke:#c271d2; stroke-linecap:round; stroke-linejoin:round; stroke-width:4; stroke-opacity:1; fill:none\" points=\"\n",
       "  2008.76,302.578 2153.69,302.578 \n",
       "  \"/>\n",
       "<path clip-path=\"url(#clip040)\" d=\"M2191.68 322.265 Q2189.88 326.895 2188.17 328.307 Q2186.45 329.719 2183.58 329.719 L2180.18 329.719 L2180.18 326.154 L2182.68 326.154 Q2184.44 326.154 2185.41 325.32 Q2186.38 324.487 2187.56 321.385 L2188.33 319.441 L2177.84 293.932 L2182.35 293.932 L2190.46 314.209 L2198.56 293.932 L2203.07 293.932 L2191.68 322.265 Z\" fill=\"#000000\" fill-rule=\"evenodd\" fill-opacity=\"1\" /><path clip-path=\"url(#clip040)\" d=\"M2222.4 289.372 L2210.6 307.821 L2222.4 307.821 L2222.4 289.372 M2221.17 285.298 L2227.05 285.298 L2227.05 307.821 L2231.98 307.821 L2231.98 311.709 L2227.05 311.709 L2227.05 319.858 L2222.4 319.858 L2222.4 311.709 L2206.8 311.709 L2206.8 307.196 L2221.17 285.298 Z\" fill=\"#000000\" fill-rule=\"evenodd\" fill-opacity=\"1\" /><polyline clip-path=\"url(#clip040)\" style=\"stroke:#ac8d18; stroke-linecap:round; stroke-linejoin:round; stroke-width:4; stroke-opacity:1; fill:none\" points=\"\n",
       "  2008.76,354.418 2153.69,354.418 \n",
       "  \"/>\n",
       "<path clip-path=\"url(#clip040)\" d=\"M2191.68 374.105 Q2189.88 378.735 2188.17 380.147 Q2186.45 381.559 2183.58 381.559 L2180.18 381.559 L2180.18 377.994 L2182.68 377.994 Q2184.44 377.994 2185.41 377.16 Q2186.38 376.327 2187.56 373.225 L2188.33 371.281 L2177.84 345.772 L2182.35 345.772 L2190.46 366.049 L2198.56 345.772 L2203.07 345.772 L2191.68 374.105 Z\" fill=\"#000000\" fill-rule=\"evenodd\" fill-opacity=\"1\" /><path clip-path=\"url(#clip040)\" d=\"M2209.6 337.138 L2227.96 337.138 L2227.96 341.073 L2213.88 341.073 L2213.88 349.545 Q2214.9 349.198 2215.92 349.036 Q2216.94 348.85 2217.96 348.85 Q2223.74 348.85 2227.12 352.022 Q2230.5 355.193 2230.5 360.61 Q2230.5 366.188 2227.03 369.29 Q2223.56 372.369 2217.24 372.369 Q2215.06 372.369 2212.79 371.998 Q2210.55 371.628 2208.14 370.887 L2208.14 366.188 Q2210.23 367.323 2212.45 367.878 Q2214.67 368.434 2217.15 368.434 Q2221.15 368.434 2223.49 366.327 Q2225.83 364.221 2225.83 360.61 Q2225.83 356.999 2223.49 354.892 Q2221.15 352.786 2217.15 352.786 Q2215.27 352.786 2213.4 353.202 Q2211.54 353.619 2209.6 354.499 L2209.6 337.138 Z\" fill=\"#000000\" fill-rule=\"evenodd\" fill-opacity=\"1\" /><polyline clip-path=\"url(#clip040)\" style=\"stroke:#00a9ad; stroke-linecap:round; stroke-linejoin:round; stroke-width:4; stroke-opacity:1; fill:none\" points=\"\n",
       "  2008.76,406.258 2153.69,406.258 \n",
       "  \"/>\n",
       "<path clip-path=\"url(#clip040)\" d=\"M2191.68 425.945 Q2189.88 430.575 2188.17 431.987 Q2186.45 433.399 2183.58 433.399 L2180.18 433.399 L2180.18 429.834 L2182.68 429.834 Q2184.44 429.834 2185.41 429 Q2186.38 428.167 2187.56 425.065 L2188.33 423.121 L2177.84 397.612 L2182.35 397.612 L2190.46 417.889 L2198.56 397.612 L2203.07 397.612 L2191.68 425.945 Z\" fill=\"#000000\" fill-rule=\"evenodd\" fill-opacity=\"1\" /><path clip-path=\"url(#clip040)\" d=\"M2220.13 404.394 Q2216.98 404.394 2215.13 406.547 Q2213.3 408.7 2213.3 412.45 Q2213.3 416.176 2215.13 418.352 Q2216.98 420.505 2220.13 420.505 Q2223.28 420.505 2225.11 418.352 Q2226.96 416.176 2226.96 412.45 Q2226.96 408.7 2225.11 406.547 Q2223.28 404.394 2220.13 404.394 M2229.41 389.741 L2229.41 394.001 Q2227.66 393.167 2225.85 392.728 Q2224.07 392.288 2222.31 392.288 Q2217.68 392.288 2215.23 395.413 Q2212.79 398.538 2212.45 404.857 Q2213.81 402.843 2215.87 401.778 Q2217.93 400.69 2220.41 400.69 Q2225.62 400.69 2228.63 403.862 Q2231.66 407.01 2231.66 412.45 Q2231.66 417.774 2228.51 420.991 Q2225.36 424.209 2220.13 424.209 Q2214.14 424.209 2210.97 419.626 Q2207.79 415.019 2207.79 406.292 Q2207.79 398.098 2211.68 393.237 Q2215.57 388.353 2222.12 388.353 Q2223.88 388.353 2225.66 388.7 Q2227.47 389.047 2229.41 389.741 Z\" fill=\"#000000\" fill-rule=\"evenodd\" fill-opacity=\"1\" /></svg>\n"
      ],
      "text/html": [
       "<?xml version=\"1.0\" encoding=\"utf-8\"?>\n",
       "<svg xmlns=\"http://www.w3.org/2000/svg\" xmlns:xlink=\"http://www.w3.org/1999/xlink\" width=\"600\" height=\"400\" viewBox=\"0 0 2400 1600\">\n",
       "<defs>\n",
       "  <clipPath id=\"clip090\">\n",
       "    <rect x=\"0\" y=\"0\" width=\"2400\" height=\"1600\"/>\n",
       "  </clipPath>\n",
       "</defs>\n",
       "<path clip-path=\"url(#clip090)\" d=\"\n",
       "M0 1600 L2400 1600 L2400 0 L0 0  Z\n",
       "  \" fill=\"#ffffff\" fill-rule=\"evenodd\" fill-opacity=\"1\"/>\n",
       "<defs>\n",
       "  <clipPath id=\"clip091\">\n",
       "    <rect x=\"480\" y=\"0\" width=\"1681\" height=\"1600\"/>\n",
       "  </clipPath>\n",
       "</defs>\n",
       "<path clip-path=\"url(#clip090)\" d=\"\n",
       "M178.867 1486.45 L2352.76 1486.45 L2352.76 47.2441 L178.867 47.2441  Z\n",
       "  \" fill=\"#ffffff\" fill-rule=\"evenodd\" fill-opacity=\"1\"/>\n",
       "<defs>\n",
       "  <clipPath id=\"clip092\">\n",
       "    <rect x=\"178\" y=\"47\" width=\"2175\" height=\"1440\"/>\n",
       "  </clipPath>\n",
       "</defs>\n",
       "<polyline clip-path=\"url(#clip092)\" style=\"stroke:#000000; stroke-linecap:round; stroke-linejoin:round; stroke-width:2; stroke-opacity:0.1; fill:none\" points=\"\n",
       "  229.425,1486.45 229.425,47.2441 \n",
       "  \"/>\n",
       "<polyline clip-path=\"url(#clip092)\" style=\"stroke:#000000; stroke-linecap:round; stroke-linejoin:round; stroke-width:2; stroke-opacity:0.1; fill:none\" points=\"\n",
       "  777.777,1486.45 777.777,47.2441 \n",
       "  \"/>\n",
       "<polyline clip-path=\"url(#clip092)\" style=\"stroke:#000000; stroke-linecap:round; stroke-linejoin:round; stroke-width:2; stroke-opacity:0.1; fill:none\" points=\"\n",
       "  1326.13,1486.45 1326.13,47.2441 \n",
       "  \"/>\n",
       "<polyline clip-path=\"url(#clip092)\" style=\"stroke:#000000; stroke-linecap:round; stroke-linejoin:round; stroke-width:2; stroke-opacity:0.1; fill:none\" points=\"\n",
       "  1874.48,1486.45 1874.48,47.2441 \n",
       "  \"/>\n",
       "<polyline clip-path=\"url(#clip090)\" style=\"stroke:#000000; stroke-linecap:round; stroke-linejoin:round; stroke-width:4; stroke-opacity:1; fill:none\" points=\"\n",
       "  178.867,1486.45 2352.76,1486.45 \n",
       "  \"/>\n",
       "<polyline clip-path=\"url(#clip090)\" style=\"stroke:#000000; stroke-linecap:round; stroke-linejoin:round; stroke-width:4; stroke-opacity:1; fill:none\" points=\"\n",
       "  229.425,1486.45 229.425,1467.55 \n",
       "  \"/>\n",
       "<polyline clip-path=\"url(#clip090)\" style=\"stroke:#000000; stroke-linecap:round; stroke-linejoin:round; stroke-width:4; stroke-opacity:1; fill:none\" points=\"\n",
       "  777.777,1486.45 777.777,1467.55 \n",
       "  \"/>\n",
       "<polyline clip-path=\"url(#clip090)\" style=\"stroke:#000000; stroke-linecap:round; stroke-linejoin:round; stroke-width:4; stroke-opacity:1; fill:none\" points=\"\n",
       "  1326.13,1486.45 1326.13,1467.55 \n",
       "  \"/>\n",
       "<polyline clip-path=\"url(#clip090)\" style=\"stroke:#000000; stroke-linecap:round; stroke-linejoin:round; stroke-width:4; stroke-opacity:1; fill:none\" points=\"\n",
       "  1874.48,1486.45 1874.48,1467.55 \n",
       "  \"/>\n",
       "<path clip-path=\"url(#clip090)\" d=\"M229.425 1517.37 Q225.814 1517.37 223.985 1520.93 Q222.179 1524.47 222.179 1531.6 Q222.179 1538.71 223.985 1542.27 Q225.814 1545.82 229.425 1545.82 Q233.059 1545.82 234.865 1542.27 Q236.693 1538.71 236.693 1531.6 Q236.693 1524.47 234.865 1520.93 Q233.059 1517.37 229.425 1517.37 M229.425 1513.66 Q235.235 1513.66 238.29 1518.27 Q241.369 1522.85 241.369 1531.6 Q241.369 1540.33 238.29 1544.94 Q235.235 1549.52 229.425 1549.52 Q223.615 1549.52 220.536 1544.94 Q217.48 1540.33 217.48 1531.6 Q217.48 1522.85 220.536 1518.27 Q223.615 1513.66 229.425 1513.66 Z\" fill=\"#000000\" fill-rule=\"evenodd\" fill-opacity=\"1\" /><path clip-path=\"url(#clip090)\" d=\"M752.477 1514.29 L770.833 1514.29 L770.833 1518.22 L756.759 1518.22 L756.759 1526.7 Q757.778 1526.35 758.796 1526.19 Q759.815 1526 760.833 1526 Q766.62 1526 770 1529.17 Q773.379 1532.34 773.379 1537.76 Q773.379 1543.34 769.907 1546.44 Q766.435 1549.52 760.115 1549.52 Q757.94 1549.52 755.671 1549.15 Q753.426 1548.78 751.018 1548.04 L751.018 1543.34 Q753.102 1544.47 755.324 1545.03 Q757.546 1545.58 760.023 1545.58 Q764.027 1545.58 766.365 1543.48 Q768.703 1541.37 768.703 1537.76 Q768.703 1534.15 766.365 1532.04 Q764.027 1529.94 760.023 1529.94 Q758.148 1529.94 756.273 1530.35 Q754.421 1530.77 752.477 1531.65 L752.477 1514.29 Z\" fill=\"#000000\" fill-rule=\"evenodd\" fill-opacity=\"1\" /><path clip-path=\"url(#clip090)\" d=\"M792.592 1517.37 Q788.981 1517.37 787.152 1520.93 Q785.347 1524.47 785.347 1531.6 Q785.347 1538.71 787.152 1542.27 Q788.981 1545.82 792.592 1545.82 Q796.226 1545.82 798.032 1542.27 Q799.861 1538.71 799.861 1531.6 Q799.861 1524.47 798.032 1520.93 Q796.226 1517.37 792.592 1517.37 M792.592 1513.66 Q798.402 1513.66 801.458 1518.27 Q804.537 1522.85 804.537 1531.6 Q804.537 1540.33 801.458 1544.94 Q798.402 1549.52 792.592 1549.52 Q786.782 1549.52 783.703 1544.94 Q780.648 1540.33 780.648 1531.6 Q780.648 1522.85 783.703 1518.27 Q786.782 1513.66 792.592 1513.66 Z\" fill=\"#000000\" fill-rule=\"evenodd\" fill-opacity=\"1\" /><path clip-path=\"url(#clip090)\" d=\"M1285.74 1544.91 L1293.38 1544.91 L1293.38 1518.55 L1285.07 1520.21 L1285.07 1515.95 L1293.33 1514.29 L1298.01 1514.29 L1298.01 1544.91 L1305.64 1544.91 L1305.64 1548.85 L1285.74 1548.85 L1285.74 1544.91 Z\" fill=\"#000000\" fill-rule=\"evenodd\" fill-opacity=\"1\" /><path clip-path=\"url(#clip090)\" d=\"M1325.09 1517.37 Q1321.48 1517.37 1319.65 1520.93 Q1317.84 1524.47 1317.84 1531.6 Q1317.84 1538.71 1319.65 1542.27 Q1321.48 1545.82 1325.09 1545.82 Q1328.72 1545.82 1330.53 1542.27 Q1332.36 1538.71 1332.36 1531.6 Q1332.36 1524.47 1330.53 1520.93 Q1328.72 1517.37 1325.09 1517.37 M1325.09 1513.66 Q1330.9 1513.66 1333.95 1518.27 Q1337.03 1522.85 1337.03 1531.6 Q1337.03 1540.33 1333.95 1544.94 Q1330.9 1549.52 1325.09 1549.52 Q1319.28 1549.52 1316.2 1544.94 Q1313.14 1540.33 1313.14 1531.6 Q1313.14 1522.85 1316.2 1518.27 Q1319.28 1513.66 1325.09 1513.66 Z\" fill=\"#000000\" fill-rule=\"evenodd\" fill-opacity=\"1\" /><path clip-path=\"url(#clip090)\" d=\"M1355.25 1517.37 Q1351.64 1517.37 1349.81 1520.93 Q1348 1524.47 1348 1531.6 Q1348 1538.71 1349.81 1542.27 Q1351.64 1545.82 1355.25 1545.82 Q1358.88 1545.82 1360.69 1542.27 Q1362.52 1538.71 1362.52 1531.6 Q1362.52 1524.47 1360.69 1520.93 Q1358.88 1517.37 1355.25 1517.37 M1355.25 1513.66 Q1361.06 1513.66 1364.12 1518.27 Q1367.19 1522.85 1367.19 1531.6 Q1367.19 1540.33 1364.12 1544.94 Q1361.06 1549.52 1355.25 1549.52 Q1349.44 1549.52 1346.36 1544.94 Q1343.31 1540.33 1343.31 1531.6 Q1343.31 1522.85 1346.36 1518.27 Q1349.44 1513.66 1355.25 1513.66 Z\" fill=\"#000000\" fill-rule=\"evenodd\" fill-opacity=\"1\" /><path clip-path=\"url(#clip090)\" d=\"M1834.09 1544.91 L1841.73 1544.91 L1841.73 1518.55 L1833.42 1520.21 L1833.42 1515.95 L1841.68 1514.29 L1846.36 1514.29 L1846.36 1544.91 L1854 1544.91 L1854 1548.85 L1834.09 1548.85 L1834.09 1544.91 Z\" fill=\"#000000\" fill-rule=\"evenodd\" fill-opacity=\"1\" /><path clip-path=\"url(#clip090)\" d=\"M1863.49 1514.29 L1881.84 1514.29 L1881.84 1518.22 L1867.77 1518.22 L1867.77 1526.7 Q1868.79 1526.35 1869.81 1526.19 Q1870.83 1526 1871.84 1526 Q1877.63 1526 1881.01 1529.17 Q1884.39 1532.34 1884.39 1537.76 Q1884.39 1543.34 1880.92 1546.44 Q1877.45 1549.52 1871.13 1549.52 Q1868.95 1549.52 1866.68 1549.15 Q1864.44 1548.78 1862.03 1548.04 L1862.03 1543.34 Q1864.11 1544.47 1866.33 1545.03 Q1868.56 1545.58 1871.03 1545.58 Q1875.04 1545.58 1877.38 1543.48 Q1879.71 1541.37 1879.71 1537.76 Q1879.71 1534.15 1877.38 1532.04 Q1875.04 1529.94 1871.03 1529.94 Q1869.16 1529.94 1867.28 1530.35 Q1865.43 1530.77 1863.49 1531.65 L1863.49 1514.29 Z\" fill=\"#000000\" fill-rule=\"evenodd\" fill-opacity=\"1\" /><path clip-path=\"url(#clip090)\" d=\"M1903.6 1517.37 Q1899.99 1517.37 1898.16 1520.93 Q1896.36 1524.47 1896.36 1531.6 Q1896.36 1538.71 1898.16 1542.27 Q1899.99 1545.82 1903.6 1545.82 Q1907.24 1545.82 1909.04 1542.27 Q1910.87 1538.71 1910.87 1531.6 Q1910.87 1524.47 1909.04 1520.93 Q1907.24 1517.37 1903.6 1517.37 M1903.6 1513.66 Q1909.41 1513.66 1912.47 1518.27 Q1915.55 1522.85 1915.55 1531.6 Q1915.55 1540.33 1912.47 1544.94 Q1909.41 1549.52 1903.6 1549.52 Q1897.79 1549.52 1894.71 1544.94 Q1891.66 1540.33 1891.66 1531.6 Q1891.66 1522.85 1894.71 1518.27 Q1897.79 1513.66 1903.6 1513.66 Z\" fill=\"#000000\" fill-rule=\"evenodd\" fill-opacity=\"1\" /><polyline clip-path=\"url(#clip092)\" style=\"stroke:#000000; stroke-linecap:round; stroke-linejoin:round; stroke-width:2; stroke-opacity:0.1; fill:none\" points=\"\n",
       "  178.867,1410.48 2352.76,1410.48 \n",
       "  \"/>\n",
       "<polyline clip-path=\"url(#clip092)\" style=\"stroke:#000000; stroke-linecap:round; stroke-linejoin:round; stroke-width:2; stroke-opacity:0.1; fill:none\" points=\"\n",
       "  178.867,970.077 2352.76,970.077 \n",
       "  \"/>\n",
       "<polyline clip-path=\"url(#clip092)\" style=\"stroke:#000000; stroke-linecap:round; stroke-linejoin:round; stroke-width:2; stroke-opacity:0.1; fill:none\" points=\"\n",
       "  178.867,529.676 2352.76,529.676 \n",
       "  \"/>\n",
       "<polyline clip-path=\"url(#clip092)\" style=\"stroke:#000000; stroke-linecap:round; stroke-linejoin:round; stroke-width:2; stroke-opacity:0.1; fill:none\" points=\"\n",
       "  178.867,89.2763 2352.76,89.2763 \n",
       "  \"/>\n",
       "<polyline clip-path=\"url(#clip090)\" style=\"stroke:#000000; stroke-linecap:round; stroke-linejoin:round; stroke-width:4; stroke-opacity:1; fill:none\" points=\"\n",
       "  178.867,1486.45 178.867,47.2441 \n",
       "  \"/>\n",
       "<polyline clip-path=\"url(#clip090)\" style=\"stroke:#000000; stroke-linecap:round; stroke-linejoin:round; stroke-width:4; stroke-opacity:1; fill:none\" points=\"\n",
       "  178.867,1410.48 197.764,1410.48 \n",
       "  \"/>\n",
       "<polyline clip-path=\"url(#clip090)\" style=\"stroke:#000000; stroke-linecap:round; stroke-linejoin:round; stroke-width:4; stroke-opacity:1; fill:none\" points=\"\n",
       "  178.867,970.077 197.764,970.077 \n",
       "  \"/>\n",
       "<polyline clip-path=\"url(#clip090)\" style=\"stroke:#000000; stroke-linecap:round; stroke-linejoin:round; stroke-width:4; stroke-opacity:1; fill:none\" points=\"\n",
       "  178.867,529.676 197.764,529.676 \n",
       "  \"/>\n",
       "<polyline clip-path=\"url(#clip090)\" style=\"stroke:#000000; stroke-linecap:round; stroke-linejoin:round; stroke-width:4; stroke-opacity:1; fill:none\" points=\"\n",
       "  178.867,89.2763 197.764,89.2763 \n",
       "  \"/>\n",
       "<path clip-path=\"url(#clip090)\" d=\"M50.9921 1410.93 L80.6679 1410.93 L80.6679 1414.86 L50.9921 1414.86 L50.9921 1410.93 Z\" fill=\"#000000\" fill-rule=\"evenodd\" fill-opacity=\"1\" /><path clip-path=\"url(#clip090)\" d=\"M91.5706 1423.82 L99.2095 1423.82 L99.2095 1397.46 L90.8993 1399.12 L90.8993 1394.86 L99.1632 1393.2 L103.839 1393.2 L103.839 1423.82 L111.478 1423.82 L111.478 1427.76 L91.5706 1427.76 L91.5706 1423.82 Z\" fill=\"#000000\" fill-rule=\"evenodd\" fill-opacity=\"1\" /><path clip-path=\"url(#clip090)\" d=\"M130.922 1396.28 Q127.311 1396.28 125.482 1399.84 Q123.677 1403.38 123.677 1410.51 Q123.677 1417.62 125.482 1421.18 Q127.311 1424.72 130.922 1424.72 Q134.556 1424.72 136.362 1421.18 Q138.191 1417.62 138.191 1410.51 Q138.191 1403.38 136.362 1399.84 Q134.556 1396.28 130.922 1396.28 M130.922 1392.57 Q136.732 1392.57 139.788 1397.18 Q142.867 1401.76 142.867 1410.51 Q142.867 1419.24 139.788 1423.84 Q136.732 1428.43 130.922 1428.43 Q125.112 1428.43 122.033 1423.84 Q118.978 1419.24 118.978 1410.51 Q118.978 1401.76 122.033 1397.18 Q125.112 1392.57 130.922 1392.57 Z\" fill=\"#000000\" fill-rule=\"evenodd\" fill-opacity=\"1\" /><path clip-path=\"url(#clip090)\" d=\"M130.922 955.875 Q127.311 955.875 125.482 959.44 Q123.677 962.982 123.677 970.111 Q123.677 977.218 125.482 980.783 Q127.311 984.324 130.922 984.324 Q134.556 984.324 136.362 980.783 Q138.191 977.218 138.191 970.111 Q138.191 962.982 136.362 959.44 Q134.556 955.875 130.922 955.875 M130.922 952.172 Q136.732 952.172 139.788 956.778 Q142.867 961.361 142.867 970.111 Q142.867 978.838 139.788 983.445 Q136.732 988.028 130.922 988.028 Q125.112 988.028 122.033 983.445 Q118.978 978.838 118.978 970.111 Q118.978 961.361 122.033 956.778 Q125.112 952.172 130.922 952.172 Z\" fill=\"#000000\" fill-rule=\"evenodd\" fill-opacity=\"1\" /><path clip-path=\"url(#clip090)\" d=\"M91.5706 543.021 L99.2095 543.021 L99.2095 516.656 L90.8993 518.322 L90.8993 514.063 L99.1632 512.396 L103.839 512.396 L103.839 543.021 L111.478 543.021 L111.478 546.956 L91.5706 546.956 L91.5706 543.021 Z\" fill=\"#000000\" fill-rule=\"evenodd\" fill-opacity=\"1\" /><path clip-path=\"url(#clip090)\" d=\"M130.922 515.475 Q127.311 515.475 125.482 519.04 Q123.677 522.582 123.677 529.711 Q123.677 536.818 125.482 540.382 Q127.311 543.924 130.922 543.924 Q134.556 543.924 136.362 540.382 Q138.191 536.818 138.191 529.711 Q138.191 522.582 136.362 519.04 Q134.556 515.475 130.922 515.475 M130.922 511.771 Q136.732 511.771 139.788 516.378 Q142.867 520.961 142.867 529.711 Q142.867 538.438 139.788 543.044 Q136.732 547.628 130.922 547.628 Q125.112 547.628 122.033 543.044 Q118.978 538.438 118.978 529.711 Q118.978 520.961 122.033 516.378 Q125.112 511.771 130.922 511.771 Z\" fill=\"#000000\" fill-rule=\"evenodd\" fill-opacity=\"1\" /><path clip-path=\"url(#clip090)\" d=\"M94.7882 102.621 L111.108 102.621 L111.108 106.556 L89.1632 106.556 L89.1632 102.621 Q91.8252 99.8666 96.4085 95.237 Q101.015 90.5842 102.196 89.2416 Q104.441 86.7185 105.321 84.9824 Q106.223 83.2231 106.223 81.5333 Q106.223 78.7787 104.279 77.0426 Q102.358 75.3065 99.2558 75.3065 Q97.0567 75.3065 94.603 76.0704 Q92.1725 76.8343 89.3947 78.3852 L89.3947 73.663 Q92.2188 72.5287 94.6724 71.95 Q97.1261 71.3713 99.1632 71.3713 Q104.534 71.3713 107.728 74.0565 Q110.922 76.7417 110.922 81.2324 Q110.922 83.362 110.112 85.2833 Q109.325 87.1814 107.219 89.774 Q106.64 90.4453 103.538 93.6629 Q100.436 96.8573 94.7882 102.621 Z\" fill=\"#000000\" fill-rule=\"evenodd\" fill-opacity=\"1\" /><path clip-path=\"url(#clip090)\" d=\"M130.922 75.075 Q127.311 75.075 125.482 78.6398 Q123.677 82.1815 123.677 89.3111 Q123.677 96.4175 125.482 99.9823 Q127.311 103.524 130.922 103.524 Q134.556 103.524 136.362 99.9823 Q138.191 96.4175 138.191 89.3111 Q138.191 82.1815 136.362 78.6398 Q134.556 75.075 130.922 75.075 M130.922 71.3713 Q136.732 71.3713 139.788 75.9778 Q142.867 80.5611 142.867 89.3111 Q142.867 98.0379 139.788 102.644 Q136.732 107.228 130.922 107.228 Q125.112 107.228 122.033 102.644 Q118.978 98.0379 118.978 89.3111 Q118.978 80.5611 122.033 75.9778 Q125.112 71.3713 130.922 71.3713 Z\" fill=\"#000000\" fill-rule=\"evenodd\" fill-opacity=\"1\" /><polyline clip-path=\"url(#clip092)\" style=\"stroke:#009af9; stroke-linecap:round; stroke-linejoin:round; stroke-width:4; stroke-opacity:1; fill:none\" points=\"\n",
       "  240.392,970.205 251.359,966.497 262.326,955.516 273.293,940.963 284.26,926.57 295.227,912.406 306.194,898.534 317.161,885.014 328.128,871.907 339.095,859.269 \n",
       "  350.062,847.156 361.029,835.621 371.996,824.716 382.963,814.487 393.931,804.98 404.898,796.237 415.865,788.296 426.832,781.192 437.799,774.956 448.766,769.616 \n",
       "  459.733,765.195 470.7,761.712 481.667,759.183 492.634,757.618 503.601,757.026 514.568,757.408 525.535,758.762 536.502,761.084 547.469,764.362 558.436,768.494 \n",
       "  569.403,773.105 580.37,778.058 591.338,783.322 602.305,788.875 613.272,794.692 624.239,800.748 635.206,807.016 646.173,813.469 657.14,820.078 668.107,826.814 \n",
       "  679.074,833.648 690.041,840.549 701.008,847.488 711.975,854.433 722.942,861.355 733.909,868.223 744.876,875.006 755.843,881.675 766.81,888.2 777.777,894.554 \n",
       "  788.744,900.707 799.712,906.634 810.679,912.307 821.646,917.702 832.613,922.796 843.58,927.565 854.547,931.989 865.514,936.049 876.481,939.727 887.448,943.005 \n",
       "  898.415,945.878 909.382,948.37 920.349,950.542 931.316,952.449 942.283,954.133 953.25,955.629 964.217,956.964 975.184,958.161 986.151,959.238 997.118,960.21 \n",
       "  1008.09,961.089 1019.05,961.886 1030.02,962.61 1040.99,963.27 1051.95,963.87 1062.92,964.418 1073.89,964.918 1084.85,965.374 1095.82,965.791 1106.79,966.172 \n",
       "  1117.76,966.52 1128.72,966.838 1139.69,967.128 1150.66,967.393 1161.62,967.636 1172.59,967.857 1183.56,968.059 1194.53,968.243 1205.49,968.411 1216.46,968.564 \n",
       "  1227.43,968.703 1238.39,968.83 1249.36,968.946 1260.33,969.052 1271.29,969.147 1282.26,969.235 1293.23,969.314 1304.2,969.386 1315.16,969.451 1326.13,969.511 \n",
       "  1337.1,969.565 1348.06,969.614 1359.03,969.658 1370,969.698 1380.97,969.735 1391.93,969.768 1402.9,969.798 1413.87,969.825 1424.83,969.849 1435.8,969.871 \n",
       "  1446.77,969.891 1457.73,969.91 1468.7,969.926 1479.67,969.941 1490.64,969.954 1501.6,969.966 1512.57,969.977 1523.54,969.987 1534.5,969.996 1545.47,970.004 \n",
       "  1556.44,970.011 1567.41,970.018 1578.37,970.024 1589.34,970.029 1600.31,970.034 1611.27,970.038 1622.24,970.042 1633.21,970.045 1644.17,970.049 1655.14,970.051 \n",
       "  1666.11,970.054 1677.08,970.056 1688.04,970.058 1699.01,970.06 1709.98,970.062 1720.94,970.063 1731.91,970.065 1742.88,970.066 1753.85,970.067 1764.81,970.068 \n",
       "  1775.78,970.069 1786.75,970.07 1797.71,970.07 1808.68,970.071 1819.65,970.072 1830.61,970.072 1841.58,970.073 1852.55,970.073 1863.52,970.073 1874.48,970.074 \n",
       "  1885.45,970.074 1896.42,970.074 1907.38,970.075 1918.35,970.075 1929.32,970.075 1940.29,970.075 1951.25,970.075 1962.22,970.075 1973.19,970.076 1984.15,970.076 \n",
       "  1995.12,970.076 2006.09,970.076 2017.05,970.076 2028.02,970.076 2038.99,970.076 2049.96,970.076 2060.92,970.076 2071.89,970.076 2082.86,970.076 2093.82,970.076 \n",
       "  2104.79,970.076 2115.76,970.076 2126.72,970.076 2137.69,970.076 2148.66,970.076 2159.63,970.076 2170.59,970.076 2181.56,970.076 2192.53,970.077 2203.49,970.077 \n",
       "  2214.46,970.077 2225.43,970.077 2236.4,970.077 2247.36,970.077 2258.33,970.077 2269.3,970.077 2280.26,970.077 2291.23,970.077 \n",
       "  \"/>\n",
       "<polyline clip-path=\"url(#clip092)\" style=\"stroke:#e26f46; stroke-linecap:round; stroke-linejoin:round; stroke-width:4; stroke-opacity:1; fill:none\" points=\"\n",
       "  240.392,87.9763 251.359,88.1416 262.326,89.2811 273.293,92.3306 284.26,97.4359 295.227,104.435 306.194,113.294 317.161,123.969 328.128,136.411 339.095,150.559 \n",
       "  350.062,166.35 361.029,183.709 371.996,202.556 382.963,222.804 393.931,244.362 404.898,267.13 415.865,291.005 426.832,315.877 437.799,341.634 448.766,368.159 \n",
       "  459.733,395.332 470.7,423.028 481.667,451.124 492.634,479.49 503.601,508 514.568,536.524 525.535,564.933 536.502,593.097 547.469,620.891 558.436,646.209 \n",
       "  569.403,668.793 580.37,690.574 591.338,711.677 602.305,732.062 613.272,751.694 624.239,770.538 635.206,788.564 646.173,805.747 657.14,822.063 668.107,837.495 \n",
       "  679.074,852.026 690.041,865.646 701.008,878.349 711.975,890.131 722.942,900.993 733.909,910.94 744.876,919.982 755.843,928.132 766.81,935.407 777.777,941.827 \n",
       "  788.744,947.418 799.712,952.208 810.679,956.229 821.646,959.516 832.613,962.106 843.58,964.043 854.547,965.37 865.514,966.134 876.481,966.386 887.448,966.175 \n",
       "  898.415,965.701 909.382,965.322 920.349,965.181 931.316,965.2 942.283,965.33 953.25,965.531 964.217,965.777 975.184,966.05 986.151,966.334 997.118,966.621 \n",
       "  1008.09,966.903 1019.05,967.174 1030.02,967.433 1040.99,967.676 1051.95,967.904 1062.92,968.114 1073.89,968.308 1084.85,968.486 1095.82,968.648 1106.79,968.796 \n",
       "  1117.76,968.93 1128.72,969.051 1139.69,969.16 1150.66,969.258 1161.62,969.347 1172.59,969.426 1183.56,969.497 1194.53,969.561 1205.49,969.618 1216.46,969.669 \n",
       "  1227.43,969.714 1238.39,969.755 1249.36,969.791 1260.33,969.823 1271.29,969.852 1282.26,969.877 1293.23,969.9 1304.2,969.92 1315.16,969.938 1326.13,969.954 \n",
       "  1337.1,969.968 1348.06,969.981 1359.03,969.992 1370,970.001 1380.97,970.01 1391.93,970.018 1402.9,970.025 1413.87,970.031 1424.83,970.036 1435.8,970.041 \n",
       "  1446.77,970.045 1457.73,970.049 1468.7,970.052 1479.67,970.055 1490.64,970.057 1501.6,970.06 1512.57,970.062 1523.54,970.063 1534.5,970.065 1545.47,970.066 \n",
       "  1556.44,970.068 1567.41,970.069 1578.37,970.07 1589.34,970.07 1600.31,970.071 1611.27,970.072 1622.24,970.072 1633.21,970.073 1644.17,970.073 1655.14,970.074 \n",
       "  1666.11,970.074 1677.08,970.074 1688.04,970.075 1699.01,970.075 1709.98,970.075 1720.94,970.075 1731.91,970.075 1742.88,970.076 1753.85,970.076 1764.81,970.076 \n",
       "  1775.78,970.076 1786.75,970.076 1797.71,970.076 1808.68,970.076 1819.65,970.076 1830.61,970.076 1841.58,970.076 1852.55,970.076 1863.52,970.076 1874.48,970.076 \n",
       "  1885.45,970.076 1896.42,970.076 1907.38,970.076 1918.35,970.076 1929.32,970.076 1940.29,970.077 1951.25,970.077 1962.22,970.077 1973.19,970.077 1984.15,970.077 \n",
       "  1995.12,970.077 2006.09,970.077 2017.05,970.077 2028.02,970.077 2038.99,970.077 2049.96,970.077 2060.92,970.077 2071.89,970.077 2082.86,970.077 2093.82,970.077 \n",
       "  2104.79,970.077 2115.76,970.077 2126.72,970.077 2137.69,970.077 2148.66,970.077 2159.63,970.077 2170.59,970.077 2181.56,970.077 2192.53,970.077 2203.49,970.077 \n",
       "  2214.46,970.077 2225.43,970.077 2236.4,970.077 2247.36,970.077 2258.33,970.077 2269.3,970.077 2280.26,970.077 2291.23,970.077 \n",
       "  \"/>\n",
       "<polyline clip-path=\"url(#clip092)\" style=\"stroke:#3da44d; stroke-linecap:round; stroke-linejoin:round; stroke-width:4; stroke-opacity:1; fill:none\" points=\"\n",
       "  240.392,970.077 251.359,970.077 262.326,970.077 273.293,970.077 284.26,970.077 295.227,970.077 306.194,970.077 317.161,970.077 328.128,970.077 339.095,970.077 \n",
       "  350.062,970.077 361.029,970.077 371.996,970.077 382.963,970.077 393.931,970.077 404.898,970.077 415.865,970.077 426.832,970.077 437.799,970.077 448.766,970.077 \n",
       "  459.733,970.077 470.7,970.077 481.667,970.077 492.634,970.077 503.601,970.077 514.568,970.077 525.535,970.077 536.502,970.077 547.469,970.077 558.436,970.077 \n",
       "  569.403,970.077 580.37,970.077 591.338,970.077 602.305,970.077 613.272,970.077 624.239,970.077 635.206,970.077 646.173,970.077 657.14,970.077 668.107,970.077 \n",
       "  679.074,970.077 690.041,970.077 701.008,970.077 711.975,970.077 722.942,970.077 733.909,970.077 744.876,970.077 755.843,970.077 766.81,970.077 777.777,970.077 \n",
       "  788.744,970.077 799.712,970.077 810.679,970.077 821.646,970.077 832.613,970.077 843.58,970.077 854.547,970.077 865.514,970.077 876.481,970.077 887.448,970.077 \n",
       "  898.415,970.077 909.382,970.077 920.349,970.077 931.316,970.077 942.283,970.077 953.25,970.077 964.217,970.077 975.184,970.077 986.151,970.077 997.118,970.077 \n",
       "  1008.09,970.077 1019.05,970.077 1030.02,970.077 1040.99,970.077 1051.95,970.077 1062.92,970.077 1073.89,970.077 1084.85,970.077 1095.82,970.077 1106.79,970.077 \n",
       "  1117.76,970.077 1128.72,970.077 1139.69,970.077 1150.66,970.077 1161.62,970.077 1172.59,970.077 1183.56,970.077 1194.53,970.077 1205.49,970.077 1216.46,970.077 \n",
       "  1227.43,970.077 1238.39,970.077 1249.36,970.077 1260.33,970.077 1271.29,970.077 1282.26,970.077 1293.23,970.077 1304.2,970.077 1315.16,970.077 1326.13,970.077 \n",
       "  1337.1,970.077 1348.06,970.077 1359.03,970.077 1370,970.077 1380.97,970.077 1391.93,970.077 1402.9,970.077 1413.87,970.077 1424.83,970.077 1435.8,970.077 \n",
       "  1446.77,970.077 1457.73,970.077 1468.7,970.077 1479.67,970.077 1490.64,970.077 1501.6,970.077 1512.57,970.077 1523.54,970.077 1534.5,970.077 1545.47,970.077 \n",
       "  1556.44,970.077 1567.41,970.077 1578.37,970.077 1589.34,970.077 1600.31,970.077 1611.27,970.077 1622.24,970.077 1633.21,970.077 1644.17,970.077 1655.14,970.077 \n",
       "  1666.11,970.077 1677.08,970.077 1688.04,970.077 1699.01,970.077 1709.98,970.077 1720.94,970.077 1731.91,970.077 1742.88,970.077 1753.85,970.077 1764.81,970.077 \n",
       "  1775.78,970.077 1786.75,970.077 1797.71,970.077 1808.68,970.077 1819.65,970.077 1830.61,970.077 1841.58,970.077 1852.55,970.077 1863.52,970.077 1874.48,970.077 \n",
       "  1885.45,970.077 1896.42,970.077 1907.38,970.077 1918.35,970.077 1929.32,970.077 1940.29,970.077 1951.25,970.077 1962.22,970.077 1973.19,970.077 1984.15,970.077 \n",
       "  1995.12,970.077 2006.09,970.077 2017.05,970.077 2028.02,970.077 2038.99,970.077 2049.96,970.077 2060.92,970.077 2071.89,970.077 2082.86,970.077 2093.82,970.077 \n",
       "  2104.79,970.077 2115.76,970.077 2126.72,970.077 2137.69,970.077 2148.66,970.077 2159.63,970.077 2170.59,970.077 2181.56,970.077 2192.53,970.077 2203.49,970.077 \n",
       "  2214.46,970.077 2225.43,970.077 2236.4,970.077 2247.36,970.077 2258.33,970.077 2269.3,970.077 2280.26,970.077 2291.23,970.077 \n",
       "  \"/>\n",
       "<polyline clip-path=\"url(#clip092)\" style=\"stroke:#c271d2; stroke-linecap:round; stroke-linejoin:round; stroke-width:4; stroke-opacity:1; fill:none\" points=\"\n",
       "  240.392,969.014 251.359,847.583 262.326,726.69 273.293,728.628 284.26,731.927 295.227,736.272 306.194,741.645 317.161,748.021 328.128,755.372 339.095,763.668 \n",
       "  350.062,772.87 361.029,782.938 371.996,793.829 382.963,805.495 393.931,817.883 404.898,830.94 415.865,844.609 426.832,858.829 437.799,873.537 448.766,888.67 \n",
       "  459.733,904.161 470.7,919.941 481.667,935.941 492.634,952.091 503.601,968.321 514.568,984.558 525.535,1000.73 536.502,1016.77 547.469,1032.6 558.436,1043.79 \n",
       "  569.403,1049.89 580.37,1055.28 591.338,1060.29 602.305,1064.9 613.272,1069.09 624.239,1072.85 635.206,1076.16 646.173,1079 657.14,1081.37 668.107,1083.24 \n",
       "  679.074,1084.62 690.041,1085.49 701.008,1085.86 711.975,1085.72 722.942,1085.07 733.909,1083.92 744.876,1082.26 755.843,1080.11 766.81,1077.48 777.777,1074.38 \n",
       "  788.744,1070.82 799.712,1066.81 810.679,1062.38 821.646,1057.55 832.613,1052.33 843.58,1046.75 854.547,1040.83 865.514,1034.6 876.481,1028.09 887.448,1021.32 \n",
       "  898.415,1014.65 909.382,1008.77 920.349,1003.93 931.316,999.896 942.283,996.496 953.25,993.604 964.217,991.123 975.184,988.977 986.151,987.108 997.118,985.468 \n",
       "  1008.09,984.02 1019.05,982.734 1030.02,981.587 1040.99,980.557 1051.95,979.631 1062.92,978.793 1073.89,978.033 1084.85,977.343 1095.82,976.715 1106.79,976.142 \n",
       "  1117.76,975.618 1128.72,975.139 1139.69,974.701 1150.66,974.3 1161.62,973.933 1172.59,973.597 1183.56,973.289 1194.53,973.007 1205.49,972.749 1216.46,972.512 \n",
       "  1227.43,972.296 1238.39,972.098 1249.36,971.917 1260.33,971.751 1271.29,971.6 1282.26,971.462 1293.23,971.335 1304.2,971.22 1315.16,971.115 1326.13,971.02 \n",
       "  1337.1,970.932 1348.06,970.853 1359.03,970.781 1370,970.715 1380.97,970.655 1391.93,970.6 1402.9,970.551 1413.87,970.506 1424.83,970.465 1435.8,970.428 \n",
       "  1446.77,970.395 1457.73,970.364 1468.7,970.336 1479.67,970.311 1490.64,970.289 1501.6,970.268 1512.57,970.25 1523.54,970.233 1534.5,970.217 1545.47,970.204 \n",
       "  1556.44,970.191 1567.41,970.18 1578.37,970.17 1589.34,970.161 1600.31,970.152 1611.27,970.145 1622.24,970.138 1633.21,970.132 1644.17,970.126 1655.14,970.121 \n",
       "  1666.11,970.117 1677.08,970.113 1688.04,970.109 1699.01,970.106 1709.98,970.103 1720.94,970.1 1731.91,970.098 1742.88,970.096 1753.85,970.094 1764.81,970.092 \n",
       "  1775.78,970.091 1786.75,970.089 1797.71,970.088 1808.68,970.087 1819.65,970.086 1830.61,970.085 1841.58,970.084 1852.55,970.083 1863.52,970.082 1874.48,970.082 \n",
       "  1885.45,970.081 1896.42,970.081 1907.38,970.08 1918.35,970.08 1929.32,970.08 1940.29,970.079 1951.25,970.079 1962.22,970.079 1973.19,970.079 1984.15,970.078 \n",
       "  1995.12,970.078 2006.09,970.078 2017.05,970.078 2028.02,970.078 2038.99,970.078 2049.96,970.078 2060.92,970.077 2071.89,970.077 2082.86,970.077 2093.82,970.077 \n",
       "  2104.79,970.077 2115.76,970.077 2126.72,970.077 2137.69,970.077 2148.66,970.077 2159.63,970.077 2170.59,970.077 2181.56,970.077 2192.53,970.077 2203.49,970.077 \n",
       "  2214.46,970.077 2225.43,970.077 2236.4,970.077 2247.36,970.077 2258.33,970.077 2269.3,970.077 2280.26,970.077 2291.23,970.077 \n",
       "  \"/>\n",
       "<polyline clip-path=\"url(#clip092)\" style=\"stroke:#ac8d18; stroke-linecap:round; stroke-linejoin:round; stroke-width:4; stroke-opacity:1; fill:none\" points=\"\n",
       "  240.392,970.077 251.359,978.271 262.326,1002.54 273.293,1039.22 284.26,1071.03 295.227,1102.33 306.194,1132.99 317.161,1162.87 328.128,1191.83 339.095,1219.76 \n",
       "  350.062,1246.53 361.029,1272.02 371.996,1296.12 382.963,1318.73 393.931,1339.74 404.898,1359.06 415.865,1376.61 426.832,1392.31 437.799,1406.09 448.766,1417.89 \n",
       "  459.733,1427.66 470.7,1435.36 481.667,1440.95 492.634,1444.41 503.601,1445.72 514.568,1444.87 525.535,1441.88 536.502,1436.75 547.469,1429.5 558.436,1354.33 \n",
       "  569.403,1338.5 580.37,1327.56 591.338,1315.92 602.305,1303.65 613.272,1290.79 624.239,1277.41 635.206,1263.55 646.173,1249.29 657.14,1234.69 668.107,1219.8 \n",
       "  679.074,1204.7 690.041,1189.45 701.008,1174.11 711.975,1158.76 722.942,1143.47 733.909,1128.29 744.876,1113.3 755.843,1098.56 766.81,1084.14 777.777,1070.1 \n",
       "  788.744,1056.5 799.712,1043.4 810.679,1030.87 821.646,1018.94 832.613,1007.69 843.58,997.148 854.547,987.37 865.514,978.398 876.481,970.271 887.448,963.025 \n",
       "  898.415,961.474 909.382,966.169 920.349,969.367 931.316,971.54 942.283,972.991 953.25,973.928 964.217,974.494 975.184,974.79 986.151,974.892 997.118,974.855 \n",
       "  1008.09,974.721 1019.05,974.521 1030.02,974.279 1040.99,974.012 1051.95,973.734 1062.92,973.454 1073.89,973.179 1084.85,972.914 1095.82,972.662 1106.79,972.424 \n",
       "  1117.76,972.202 1128.72,971.997 1139.69,971.808 1150.66,971.634 1161.62,971.476 1172.59,971.332 1183.56,971.201 1194.53,971.083 1205.49,970.976 1216.46,970.88 \n",
       "  1227.43,970.793 1238.39,970.716 1249.36,970.646 1260.33,970.584 1271.29,970.528 1282.26,970.478 1293.23,970.433 1304.2,970.393 1315.16,970.358 1326.13,970.326 \n",
       "  1337.1,970.298 1348.06,970.273 1359.03,970.251 1370,970.231 1380.97,970.213 1391.93,970.198 1402.9,970.184 1413.87,970.172 1424.83,970.161 1435.8,970.151 \n",
       "  1446.77,970.142 1457.73,970.135 1468.7,970.128 1479.67,970.122 1490.64,970.117 1501.6,970.112 1512.57,970.108 1523.54,970.104 1534.5,970.101 1545.47,970.098 \n",
       "  1556.44,970.096 1567.41,970.093 1578.37,970.091 1589.34,970.09 1600.31,970.088 1611.27,970.087 1622.24,970.086 1633.21,970.085 1644.17,970.084 1655.14,970.083 \n",
       "  1666.11,970.082 1677.08,970.081 1688.04,970.081 1699.01,970.08 1709.98,970.08 1720.94,970.08 1731.91,970.079 1742.88,970.079 1753.85,970.079 1764.81,970.078 \n",
       "  1775.78,970.078 1786.75,970.078 1797.71,970.078 1808.68,970.078 1819.65,970.078 1830.61,970.077 1841.58,970.077 1852.55,970.077 1863.52,970.077 1874.48,970.077 \n",
       "  1885.45,970.077 1896.42,970.077 1907.38,970.077 1918.35,970.077 1929.32,970.077 1940.29,970.077 1951.25,970.077 1962.22,970.077 1973.19,970.077 1984.15,970.077 \n",
       "  1995.12,970.077 2006.09,970.077 2017.05,970.077 2028.02,970.077 2038.99,970.077 2049.96,970.077 2060.92,970.077 2071.89,970.077 2082.86,970.077 2093.82,970.077 \n",
       "  2104.79,970.077 2115.76,970.077 2126.72,970.077 2137.69,970.077 2148.66,970.077 2159.63,970.077 2170.59,970.077 2181.56,970.077 2192.53,970.077 2203.49,970.077 \n",
       "  2214.46,970.077 2225.43,970.077 2236.4,970.077 2247.36,970.077 2258.33,970.077 2269.3,970.077 2280.26,970.077 2291.23,970.077 \n",
       "  \"/>\n",
       "<polyline clip-path=\"url(#clip092)\" style=\"stroke:#00a9ad; stroke-linecap:round; stroke-linejoin:round; stroke-width:4; stroke-opacity:1; fill:none\" points=\"\n",
       "  240.392,970.077 251.359,970.077 262.326,970.077 273.293,970.077 284.26,970.077 295.227,970.077 306.194,970.077 317.161,970.077 328.128,970.077 339.095,970.077 \n",
       "  350.062,970.077 361.029,970.077 371.996,970.077 382.963,970.077 393.931,970.077 404.898,970.077 415.865,970.077 426.832,970.077 437.799,970.077 448.766,970.077 \n",
       "  459.733,970.077 470.7,970.077 481.667,970.077 492.634,970.077 503.601,970.077 514.568,970.077 525.535,970.077 536.502,970.077 547.469,970.077 558.436,970.077 \n",
       "  569.403,970.077 580.37,970.077 591.338,970.077 602.305,970.077 613.272,970.077 624.239,970.077 635.206,970.077 646.173,970.077 657.14,970.077 668.107,970.077 \n",
       "  679.074,970.077 690.041,970.077 701.008,970.077 711.975,970.077 722.942,970.077 733.909,970.077 744.876,970.077 755.843,970.077 766.81,970.077 777.777,970.077 \n",
       "  788.744,970.077 799.712,970.077 810.679,970.077 821.646,970.077 832.613,970.077 843.58,970.077 854.547,970.077 865.514,970.077 876.481,970.077 887.448,970.077 \n",
       "  898.415,970.077 909.382,970.077 920.349,970.077 931.316,970.077 942.283,970.077 953.25,970.077 964.217,970.077 975.184,970.077 986.151,970.077 997.118,970.077 \n",
       "  1008.09,970.077 1019.05,970.077 1030.02,970.077 1040.99,970.077 1051.95,970.077 1062.92,970.077 1073.89,970.077 1084.85,970.077 1095.82,970.077 1106.79,970.077 \n",
       "  1117.76,970.077 1128.72,970.077 1139.69,970.077 1150.66,970.077 1161.62,970.077 1172.59,970.077 1183.56,970.077 1194.53,970.077 1205.49,970.077 1216.46,970.077 \n",
       "  1227.43,970.077 1238.39,970.077 1249.36,970.077 1260.33,970.077 1271.29,970.077 1282.26,970.077 1293.23,970.077 1304.2,970.077 1315.16,970.077 1326.13,970.077 \n",
       "  1337.1,970.077 1348.06,970.077 1359.03,970.077 1370,970.077 1380.97,970.077 1391.93,970.077 1402.9,970.077 1413.87,970.077 1424.83,970.077 1435.8,970.077 \n",
       "  1446.77,970.077 1457.73,970.077 1468.7,970.077 1479.67,970.077 1490.64,970.077 1501.6,970.077 1512.57,970.077 1523.54,970.077 1534.5,970.077 1545.47,970.077 \n",
       "  1556.44,970.077 1567.41,970.077 1578.37,970.077 1589.34,970.077 1600.31,970.077 1611.27,970.077 1622.24,970.077 1633.21,970.077 1644.17,970.077 1655.14,970.077 \n",
       "  1666.11,970.077 1677.08,970.077 1688.04,970.077 1699.01,970.077 1709.98,970.077 1720.94,970.077 1731.91,970.077 1742.88,970.077 1753.85,970.077 1764.81,970.077 \n",
       "  1775.78,970.077 1786.75,970.077 1797.71,970.077 1808.68,970.077 1819.65,970.077 1830.61,970.077 1841.58,970.077 1852.55,970.077 1863.52,970.077 1874.48,970.077 \n",
       "  1885.45,970.077 1896.42,970.077 1907.38,970.077 1918.35,970.077 1929.32,970.077 1940.29,970.077 1951.25,970.077 1962.22,970.077 1973.19,970.077 1984.15,970.077 \n",
       "  1995.12,970.077 2006.09,970.077 2017.05,970.077 2028.02,970.077 2038.99,970.077 2049.96,970.077 2060.92,970.077 2071.89,970.077 2082.86,970.077 2093.82,970.077 \n",
       "  2104.79,970.077 2115.76,970.077 2126.72,970.077 2137.69,970.077 2148.66,970.077 2159.63,970.077 2170.59,970.077 2181.56,970.077 2192.53,970.077 2203.49,970.077 \n",
       "  2214.46,970.077 2225.43,970.077 2236.4,970.077 2247.36,970.077 2258.33,970.077 2269.3,970.077 2280.26,970.077 2291.23,970.077 \n",
       "  \"/>\n",
       "<path clip-path=\"url(#clip090)\" d=\"\n",
       "M1984.61 458.098 L2280.29 458.098 L2280.29 95.2176 L1984.61 95.2176  Z\n",
       "  \" fill=\"#ffffff\" fill-rule=\"evenodd\" fill-opacity=\"1\"/>\n",
       "<polyline clip-path=\"url(#clip090)\" style=\"stroke:#000000; stroke-linecap:round; stroke-linejoin:round; stroke-width:4; stroke-opacity:1; fill:none\" points=\"\n",
       "  1984.61,458.098 2280.29,458.098 2280.29,95.2176 1984.61,95.2176 1984.61,458.098 \n",
       "  \"/>\n",
       "<polyline clip-path=\"url(#clip090)\" style=\"stroke:#009af9; stroke-linecap:round; stroke-linejoin:round; stroke-width:4; stroke-opacity:1; fill:none\" points=\"\n",
       "  2008.76,147.058 2153.69,147.058 \n",
       "  \"/>\n",
       "<path clip-path=\"url(#clip090)\" d=\"M2191.68 166.745 Q2189.88 171.375 2188.17 172.787 Q2186.45 174.199 2183.58 174.199 L2180.18 174.199 L2180.18 170.634 L2182.68 170.634 Q2184.44 170.634 2185.41 169.8 Q2186.38 168.967 2187.56 165.865 L2188.33 163.921 L2177.84 138.412 L2182.35 138.412 L2190.46 158.689 L2198.56 138.412 L2203.07 138.412 L2191.68 166.745 Z\" fill=\"#000000\" fill-rule=\"evenodd\" fill-opacity=\"1\" /><path clip-path=\"url(#clip090)\" d=\"M2210.36 160.402 L2218 160.402 L2218 134.037 L2209.69 135.703 L2209.69 131.444 L2217.96 129.778 L2222.63 129.778 L2222.63 160.402 L2230.27 160.402 L2230.27 164.338 L2210.36 164.338 L2210.36 160.402 Z\" fill=\"#000000\" fill-rule=\"evenodd\" fill-opacity=\"1\" /><polyline clip-path=\"url(#clip090)\" style=\"stroke:#e26f46; stroke-linecap:round; stroke-linejoin:round; stroke-width:4; stroke-opacity:1; fill:none\" points=\"\n",
       "  2008.76,198.898 2153.69,198.898 \n",
       "  \"/>\n",
       "<path clip-path=\"url(#clip090)\" d=\"M2191.68 218.585 Q2189.88 223.215 2188.17 224.627 Q2186.45 226.039 2183.58 226.039 L2180.18 226.039 L2180.18 222.474 L2182.68 222.474 Q2184.44 222.474 2185.41 221.64 Q2186.38 220.807 2187.56 217.705 L2188.33 215.761 L2177.84 190.252 L2182.35 190.252 L2190.46 210.529 L2198.56 190.252 L2203.07 190.252 L2191.68 218.585 Z\" fill=\"#000000\" fill-rule=\"evenodd\" fill-opacity=\"1\" /><path clip-path=\"url(#clip090)\" d=\"M2213.58 212.242 L2229.9 212.242 L2229.9 216.178 L2207.96 216.178 L2207.96 212.242 Q2210.62 209.488 2215.2 204.858 Q2219.81 200.205 2220.99 198.863 Q2223.23 196.34 2224.11 194.604 Q2225.02 192.844 2225.02 191.155 Q2225.02 188.4 2223.07 186.664 Q2221.15 184.928 2218.05 184.928 Q2215.85 184.928 2213.4 185.692 Q2210.97 186.455 2208.19 188.006 L2208.19 183.284 Q2211.01 182.15 2213.47 181.571 Q2215.92 180.993 2217.96 180.993 Q2223.33 180.993 2226.52 183.678 Q2229.72 186.363 2229.72 190.854 Q2229.72 192.983 2228.91 194.905 Q2228.12 196.803 2226.01 199.395 Q2225.43 200.067 2222.33 203.284 Q2219.23 206.479 2213.58 212.242 Z\" fill=\"#000000\" fill-rule=\"evenodd\" fill-opacity=\"1\" /><polyline clip-path=\"url(#clip090)\" style=\"stroke:#3da44d; stroke-linecap:round; stroke-linejoin:round; stroke-width:4; stroke-opacity:1; fill:none\" points=\"\n",
       "  2008.76,250.738 2153.69,250.738 \n",
       "  \"/>\n",
       "<path clip-path=\"url(#clip090)\" d=\"M2191.68 270.425 Q2189.88 275.055 2188.17 276.467 Q2186.45 277.879 2183.58 277.879 L2180.18 277.879 L2180.18 274.314 L2182.68 274.314 Q2184.44 274.314 2185.41 273.48 Q2186.38 272.647 2187.56 269.545 L2188.33 267.601 L2177.84 242.092 L2182.35 242.092 L2190.46 262.369 L2198.56 242.092 L2203.07 242.092 L2191.68 270.425 Z\" fill=\"#000000\" fill-rule=\"evenodd\" fill-opacity=\"1\" /><path clip-path=\"url(#clip090)\" d=\"M2223.72 249.383 Q2227.08 250.101 2228.95 252.369 Q2230.85 254.638 2230.85 257.971 Q2230.85 263.087 2227.33 265.888 Q2223.81 268.689 2217.33 268.689 Q2215.16 268.689 2212.84 268.249 Q2210.55 267.832 2208.1 266.976 L2208.1 262.462 Q2210.04 263.596 2212.35 264.175 Q2214.67 264.754 2217.19 264.754 Q2221.59 264.754 2223.88 263.018 Q2226.2 261.281 2226.2 257.971 Q2226.2 254.916 2224.04 253.203 Q2221.91 251.467 2218.1 251.467 L2214.07 251.467 L2214.07 247.624 L2218.28 247.624 Q2221.73 247.624 2223.56 246.258 Q2225.39 244.87 2225.39 242.277 Q2225.39 239.615 2223.49 238.203 Q2221.61 236.768 2218.1 236.768 Q2216.17 236.768 2213.98 237.184 Q2211.78 237.601 2209.14 238.481 L2209.14 234.314 Q2211.8 233.573 2214.11 233.203 Q2216.45 232.833 2218.51 232.833 Q2223.84 232.833 2226.94 235.263 Q2230.04 237.67 2230.04 241.791 Q2230.04 244.661 2228.4 246.652 Q2226.75 248.62 2223.72 249.383 Z\" fill=\"#000000\" fill-rule=\"evenodd\" fill-opacity=\"1\" /><polyline clip-path=\"url(#clip090)\" style=\"stroke:#c271d2; stroke-linecap:round; stroke-linejoin:round; stroke-width:4; stroke-opacity:1; fill:none\" points=\"\n",
       "  2008.76,302.578 2153.69,302.578 \n",
       "  \"/>\n",
       "<path clip-path=\"url(#clip090)\" d=\"M2191.68 322.265 Q2189.88 326.895 2188.17 328.307 Q2186.45 329.719 2183.58 329.719 L2180.18 329.719 L2180.18 326.154 L2182.68 326.154 Q2184.44 326.154 2185.41 325.32 Q2186.38 324.487 2187.56 321.385 L2188.33 319.441 L2177.84 293.932 L2182.35 293.932 L2190.46 314.209 L2198.56 293.932 L2203.07 293.932 L2191.68 322.265 Z\" fill=\"#000000\" fill-rule=\"evenodd\" fill-opacity=\"1\" /><path clip-path=\"url(#clip090)\" d=\"M2222.4 289.372 L2210.6 307.821 L2222.4 307.821 L2222.4 289.372 M2221.17 285.298 L2227.05 285.298 L2227.05 307.821 L2231.98 307.821 L2231.98 311.709 L2227.05 311.709 L2227.05 319.858 L2222.4 319.858 L2222.4 311.709 L2206.8 311.709 L2206.8 307.196 L2221.17 285.298 Z\" fill=\"#000000\" fill-rule=\"evenodd\" fill-opacity=\"1\" /><polyline clip-path=\"url(#clip090)\" style=\"stroke:#ac8d18; stroke-linecap:round; stroke-linejoin:round; stroke-width:4; stroke-opacity:1; fill:none\" points=\"\n",
       "  2008.76,354.418 2153.69,354.418 \n",
       "  \"/>\n",
       "<path clip-path=\"url(#clip090)\" d=\"M2191.68 374.105 Q2189.88 378.735 2188.17 380.147 Q2186.45 381.559 2183.58 381.559 L2180.18 381.559 L2180.18 377.994 L2182.68 377.994 Q2184.44 377.994 2185.41 377.16 Q2186.38 376.327 2187.56 373.225 L2188.33 371.281 L2177.84 345.772 L2182.35 345.772 L2190.46 366.049 L2198.56 345.772 L2203.07 345.772 L2191.68 374.105 Z\" fill=\"#000000\" fill-rule=\"evenodd\" fill-opacity=\"1\" /><path clip-path=\"url(#clip090)\" d=\"M2209.6 337.138 L2227.96 337.138 L2227.96 341.073 L2213.88 341.073 L2213.88 349.545 Q2214.9 349.198 2215.92 349.036 Q2216.94 348.85 2217.96 348.85 Q2223.74 348.85 2227.12 352.022 Q2230.5 355.193 2230.5 360.61 Q2230.5 366.188 2227.03 369.29 Q2223.56 372.369 2217.24 372.369 Q2215.06 372.369 2212.79 371.998 Q2210.55 371.628 2208.14 370.887 L2208.14 366.188 Q2210.23 367.323 2212.45 367.878 Q2214.67 368.434 2217.15 368.434 Q2221.15 368.434 2223.49 366.327 Q2225.83 364.221 2225.83 360.61 Q2225.83 356.999 2223.49 354.892 Q2221.15 352.786 2217.15 352.786 Q2215.27 352.786 2213.4 353.202 Q2211.54 353.619 2209.6 354.499 L2209.6 337.138 Z\" fill=\"#000000\" fill-rule=\"evenodd\" fill-opacity=\"1\" /><polyline clip-path=\"url(#clip090)\" style=\"stroke:#00a9ad; stroke-linecap:round; stroke-linejoin:round; stroke-width:4; stroke-opacity:1; fill:none\" points=\"\n",
       "  2008.76,406.258 2153.69,406.258 \n",
       "  \"/>\n",
       "<path clip-path=\"url(#clip090)\" d=\"M2191.68 425.945 Q2189.88 430.575 2188.17 431.987 Q2186.45 433.399 2183.58 433.399 L2180.18 433.399 L2180.18 429.834 L2182.68 429.834 Q2184.44 429.834 2185.41 429 Q2186.38 428.167 2187.56 425.065 L2188.33 423.121 L2177.84 397.612 L2182.35 397.612 L2190.46 417.889 L2198.56 397.612 L2203.07 397.612 L2191.68 425.945 Z\" fill=\"#000000\" fill-rule=\"evenodd\" fill-opacity=\"1\" /><path clip-path=\"url(#clip090)\" d=\"M2220.13 404.394 Q2216.98 404.394 2215.13 406.547 Q2213.3 408.7 2213.3 412.45 Q2213.3 416.176 2215.13 418.352 Q2216.98 420.505 2220.13 420.505 Q2223.28 420.505 2225.11 418.352 Q2226.96 416.176 2226.96 412.45 Q2226.96 408.7 2225.11 406.547 Q2223.28 404.394 2220.13 404.394 M2229.41 389.741 L2229.41 394.001 Q2227.66 393.167 2225.85 392.728 Q2224.07 392.288 2222.31 392.288 Q2217.68 392.288 2215.23 395.413 Q2212.79 398.538 2212.45 404.857 Q2213.81 402.843 2215.87 401.778 Q2217.93 400.69 2220.41 400.69 Q2225.62 400.69 2228.63 403.862 Q2231.66 407.01 2231.66 412.45 Q2231.66 417.774 2228.51 420.991 Q2225.36 424.209 2220.13 424.209 Q2214.14 424.209 2210.97 419.626 Q2207.79 415.019 2207.79 406.292 Q2207.79 398.098 2211.68 393.237 Q2215.57 388.353 2222.12 388.353 Q2223.88 388.353 2225.66 388.7 Q2227.47 389.047 2229.41 389.741 Z\" fill=\"#000000\" fill-rule=\"evenodd\" fill-opacity=\"1\" /></svg>\n"
      ]
     },
     "metadata": {},
     "output_type": "display_data"
    }
   ],
   "source": [
    "plot(xhist') "
   ]
  },
  {
   "cell_type": "code",
   "execution_count": 56,
   "metadata": {},
   "outputs": [
    {
     "data": {
      "image/png": "[encoded data removed]",
      "image/svg+xml": [
       "<?xml version=\"1.0\" encoding=\"utf-8\"?>\n",
       "<svg xmlns=\"http://www.w3.org/2000/svg\" xmlns:xlink=\"http://www.w3.org/1999/xlink\" width=\"600\" height=\"400\" viewBox=\"0 0 2400 1600\">\n",
       "<defs>\n",
       "  <clipPath id=\"clip130\">\n",
       "    <rect x=\"0\" y=\"0\" width=\"2400\" height=\"1600\"/>\n",
       "  </clipPath>\n",
       "</defs>\n",
       "<path clip-path=\"url(#clip130)\" d=\"\n",
       "M0 1600 L2400 1600 L2400 0 L0 0  Z\n",
       "  \" fill=\"#ffffff\" fill-rule=\"evenodd\" fill-opacity=\"1\"/>\n",
       "<defs>\n",
       "  <clipPath id=\"clip131\">\n",
       "    <rect x=\"480\" y=\"0\" width=\"1681\" height=\"1600\"/>\n",
       "  </clipPath>\n",
       "</defs>\n",
       "<path clip-path=\"url(#clip130)\" d=\"\n",
       "M141.853 1486.45 L2352.76 1486.45 L2352.76 47.2441 L141.853 47.2441  Z\n",
       "  \" fill=\"#ffffff\" fill-rule=\"evenodd\" fill-opacity=\"1\"/>\n",
       "<defs>\n",
       "  <clipPath id=\"clip132\">\n",
       "    <rect x=\"141\" y=\"47\" width=\"2212\" height=\"1440\"/>\n",
       "  </clipPath>\n",
       "</defs>\n",
       "<polyline clip-path=\"url(#clip132)\" style=\"stroke:#000000; stroke-linecap:round; stroke-linejoin:round; stroke-width:2; stroke-opacity:0.1; fill:none\" points=\"\n",
       "  193.212,1486.45 193.212,47.2441 \n",
       "  \"/>\n",
       "<polyline clip-path=\"url(#clip132)\" style=\"stroke:#000000; stroke-linecap:round; stroke-linejoin:round; stroke-width:2; stroke-opacity:0.1; fill:none\" points=\"\n",
       "  753.899,1486.45 753.899,47.2441 \n",
       "  \"/>\n",
       "<polyline clip-path=\"url(#clip132)\" style=\"stroke:#000000; stroke-linecap:round; stroke-linejoin:round; stroke-width:2; stroke-opacity:0.1; fill:none\" points=\"\n",
       "  1314.59,1486.45 1314.59,47.2441 \n",
       "  \"/>\n",
       "<polyline clip-path=\"url(#clip132)\" style=\"stroke:#000000; stroke-linecap:round; stroke-linejoin:round; stroke-width:2; stroke-opacity:0.1; fill:none\" points=\"\n",
       "  1875.27,1486.45 1875.27,47.2441 \n",
       "  \"/>\n",
       "<polyline clip-path=\"url(#clip130)\" style=\"stroke:#000000; stroke-linecap:round; stroke-linejoin:round; stroke-width:4; stroke-opacity:1; fill:none\" points=\"\n",
       "  141.853,1486.45 2352.76,1486.45 \n",
       "  \"/>\n",
       "<polyline clip-path=\"url(#clip130)\" style=\"stroke:#000000; stroke-linecap:round; stroke-linejoin:round; stroke-width:4; stroke-opacity:1; fill:none\" points=\"\n",
       "  193.212,1486.45 193.212,1467.55 \n",
       "  \"/>\n",
       "<polyline clip-path=\"url(#clip130)\" style=\"stroke:#000000; stroke-linecap:round; stroke-linejoin:round; stroke-width:4; stroke-opacity:1; fill:none\" points=\"\n",
       "  753.899,1486.45 753.899,1467.55 \n",
       "  \"/>\n",
       "<polyline clip-path=\"url(#clip130)\" style=\"stroke:#000000; stroke-linecap:round; stroke-linejoin:round; stroke-width:4; stroke-opacity:1; fill:none\" points=\"\n",
       "  1314.59,1486.45 1314.59,1467.55 \n",
       "  \"/>\n",
       "<polyline clip-path=\"url(#clip130)\" style=\"stroke:#000000; stroke-linecap:round; stroke-linejoin:round; stroke-width:4; stroke-opacity:1; fill:none\" points=\"\n",
       "  1875.27,1486.45 1875.27,1467.55 \n",
       "  \"/>\n",
       "<path clip-path=\"url(#clip130)\" d=\"M193.212 1517.37 Q189.601 1517.37 187.772 1520.93 Q185.967 1524.47 185.967 1531.6 Q185.967 1538.71 187.772 1542.27 Q189.601 1545.82 193.212 1545.82 Q196.846 1545.82 198.652 1542.27 Q200.48 1538.71 200.48 1531.6 Q200.48 1524.47 198.652 1520.93 Q196.846 1517.37 193.212 1517.37 M193.212 1513.66 Q199.022 1513.66 202.078 1518.27 Q205.156 1522.85 205.156 1531.6 Q205.156 1540.33 202.078 1544.94 Q199.022 1549.52 193.212 1549.52 Q187.402 1549.52 184.323 1544.94 Q181.268 1540.33 181.268 1531.6 Q181.268 1522.85 184.323 1518.27 Q187.402 1513.66 193.212 1513.66 Z\" fill=\"#000000\" fill-rule=\"evenodd\" fill-opacity=\"1\" /><path clip-path=\"url(#clip130)\" d=\"M728.599 1514.29 L746.955 1514.29 L746.955 1518.22 L732.881 1518.22 L732.881 1526.7 Q733.9 1526.35 734.918 1526.19 Q735.937 1526 736.955 1526 Q742.742 1526 746.122 1529.17 Q749.501 1532.34 749.501 1537.76 Q749.501 1543.34 746.029 1546.44 Q742.557 1549.52 736.237 1549.52 Q734.062 1549.52 731.793 1549.15 Q729.548 1548.78 727.14 1548.04 L727.14 1543.34 Q729.224 1544.47 731.446 1545.03 Q733.668 1545.58 736.145 1545.58 Q740.149 1545.58 742.487 1543.48 Q744.825 1541.37 744.825 1537.76 Q744.825 1534.15 742.487 1532.04 Q740.149 1529.94 736.145 1529.94 Q734.27 1529.94 732.395 1530.35 Q730.543 1530.77 728.599 1531.65 L728.599 1514.29 Z\" fill=\"#000000\" fill-rule=\"evenodd\" fill-opacity=\"1\" /><path clip-path=\"url(#clip130)\" d=\"M768.714 1517.37 Q765.103 1517.37 763.274 1520.93 Q761.469 1524.47 761.469 1531.6 Q761.469 1538.71 763.274 1542.27 Q765.103 1545.82 768.714 1545.82 Q772.348 1545.82 774.154 1542.27 Q775.983 1538.71 775.983 1531.6 Q775.983 1524.47 774.154 1520.93 Q772.348 1517.37 768.714 1517.37 M768.714 1513.66 Q774.524 1513.66 777.58 1518.27 Q780.659 1522.85 780.659 1531.6 Q780.659 1540.33 777.58 1544.94 Q774.524 1549.52 768.714 1549.52 Q762.904 1549.52 759.825 1544.94 Q756.77 1540.33 756.77 1531.6 Q756.77 1522.85 759.825 1518.27 Q762.904 1513.66 768.714 1513.66 Z\" fill=\"#000000\" fill-rule=\"evenodd\" fill-opacity=\"1\" /><path clip-path=\"url(#clip130)\" d=\"M1274.19 1544.91 L1281.83 1544.91 L1281.83 1518.55 L1273.52 1520.21 L1273.52 1515.95 L1281.79 1514.29 L1286.46 1514.29 L1286.46 1544.91 L1294.1 1544.91 L1294.1 1548.85 L1274.19 1548.85 L1274.19 1544.91 Z\" fill=\"#000000\" fill-rule=\"evenodd\" fill-opacity=\"1\" /><path clip-path=\"url(#clip130)\" d=\"M1313.55 1517.37 Q1309.93 1517.37 1308.11 1520.93 Q1306.3 1524.47 1306.3 1531.6 Q1306.3 1538.71 1308.11 1542.27 Q1309.93 1545.82 1313.55 1545.82 Q1317.18 1545.82 1318.99 1542.27 Q1320.81 1538.71 1320.81 1531.6 Q1320.81 1524.47 1318.99 1520.93 Q1317.18 1517.37 1313.55 1517.37 M1313.55 1513.66 Q1319.36 1513.66 1322.41 1518.27 Q1325.49 1522.85 1325.49 1531.6 Q1325.49 1540.33 1322.41 1544.94 Q1319.36 1549.52 1313.55 1549.52 Q1307.74 1549.52 1304.66 1544.94 Q1301.6 1540.33 1301.6 1531.6 Q1301.6 1522.85 1304.66 1518.27 Q1307.74 1513.66 1313.55 1513.66 Z\" fill=\"#000000\" fill-rule=\"evenodd\" fill-opacity=\"1\" /><path clip-path=\"url(#clip130)\" d=\"M1343.71 1517.37 Q1340.1 1517.37 1338.27 1520.93 Q1336.46 1524.47 1336.46 1531.6 Q1336.46 1538.71 1338.27 1542.27 Q1340.1 1545.82 1343.71 1545.82 Q1347.34 1545.82 1349.15 1542.27 Q1350.98 1538.71 1350.98 1531.6 Q1350.98 1524.47 1349.15 1520.93 Q1347.34 1517.37 1343.71 1517.37 M1343.71 1513.66 Q1349.52 1513.66 1352.57 1518.27 Q1355.65 1522.85 1355.65 1531.6 Q1355.65 1540.33 1352.57 1544.94 Q1349.52 1549.52 1343.71 1549.52 Q1337.9 1549.52 1334.82 1544.94 Q1331.76 1540.33 1331.76 1531.6 Q1331.76 1522.85 1334.82 1518.27 Q1337.9 1513.66 1343.71 1513.66 Z\" fill=\"#000000\" fill-rule=\"evenodd\" fill-opacity=\"1\" /><path clip-path=\"url(#clip130)\" d=\"M1834.88 1544.91 L1842.52 1544.91 L1842.52 1518.55 L1834.21 1520.21 L1834.21 1515.95 L1842.47 1514.29 L1847.15 1514.29 L1847.15 1544.91 L1854.79 1544.91 L1854.79 1548.85 L1834.88 1548.85 L1834.88 1544.91 Z\" fill=\"#000000\" fill-rule=\"evenodd\" fill-opacity=\"1\" /><path clip-path=\"url(#clip130)\" d=\"M1864.28 1514.29 L1882.64 1514.29 L1882.64 1518.22 L1868.56 1518.22 L1868.56 1526.7 Q1869.58 1526.35 1870.6 1526.19 Q1871.62 1526 1872.64 1526 Q1878.42 1526 1881.8 1529.17 Q1885.18 1532.34 1885.18 1537.76 Q1885.18 1543.34 1881.71 1546.44 Q1878.24 1549.52 1871.92 1549.52 Q1869.74 1549.52 1867.47 1549.15 Q1865.23 1548.78 1862.82 1548.04 L1862.82 1543.34 Q1864.9 1544.47 1867.13 1545.03 Q1869.35 1545.58 1871.83 1545.58 Q1875.83 1545.58 1878.17 1543.48 Q1880.51 1541.37 1880.51 1537.76 Q1880.51 1534.15 1878.17 1532.04 Q1875.83 1529.94 1871.83 1529.94 Q1869.95 1529.94 1868.08 1530.35 Q1866.22 1530.77 1864.28 1531.65 L1864.28 1514.29 Z\" fill=\"#000000\" fill-rule=\"evenodd\" fill-opacity=\"1\" /><path clip-path=\"url(#clip130)\" d=\"M1904.39 1517.37 Q1900.78 1517.37 1898.95 1520.93 Q1897.15 1524.47 1897.15 1531.6 Q1897.15 1538.71 1898.95 1542.27 Q1900.78 1545.82 1904.39 1545.82 Q1908.03 1545.82 1909.83 1542.27 Q1911.66 1538.71 1911.66 1531.6 Q1911.66 1524.47 1909.83 1520.93 Q1908.03 1517.37 1904.39 1517.37 M1904.39 1513.66 Q1910.2 1513.66 1913.26 1518.27 Q1916.34 1522.85 1916.34 1531.6 Q1916.34 1540.33 1913.26 1544.94 Q1910.2 1549.52 1904.39 1549.52 Q1898.58 1549.52 1895.51 1544.94 Q1892.45 1540.33 1892.45 1531.6 Q1892.45 1522.85 1895.51 1518.27 Q1898.58 1513.66 1904.39 1513.66 Z\" fill=\"#000000\" fill-rule=\"evenodd\" fill-opacity=\"1\" /><polyline clip-path=\"url(#clip132)\" style=\"stroke:#000000; stroke-linecap:round; stroke-linejoin:round; stroke-width:2; stroke-opacity:0.1; fill:none\" points=\"\n",
       "  141.853,1340.57 2352.76,1340.57 \n",
       "  \"/>\n",
       "<polyline clip-path=\"url(#clip132)\" style=\"stroke:#000000; stroke-linecap:round; stroke-linejoin:round; stroke-width:2; stroke-opacity:0.1; fill:none\" points=\"\n",
       "  141.853,1068.27 2352.76,1068.27 \n",
       "  \"/>\n",
       "<polyline clip-path=\"url(#clip132)\" style=\"stroke:#000000; stroke-linecap:round; stroke-linejoin:round; stroke-width:2; stroke-opacity:0.1; fill:none\" points=\"\n",
       "  141.853,795.965 2352.76,795.965 \n",
       "  \"/>\n",
       "<polyline clip-path=\"url(#clip132)\" style=\"stroke:#000000; stroke-linecap:round; stroke-linejoin:round; stroke-width:2; stroke-opacity:0.1; fill:none\" points=\"\n",
       "  141.853,523.662 2352.76,523.662 \n",
       "  \"/>\n",
       "<polyline clip-path=\"url(#clip132)\" style=\"stroke:#000000; stroke-linecap:round; stroke-linejoin:round; stroke-width:2; stroke-opacity:0.1; fill:none\" points=\"\n",
       "  141.853,251.358 2352.76,251.358 \n",
       "  \"/>\n",
       "<polyline clip-path=\"url(#clip130)\" style=\"stroke:#000000; stroke-linecap:round; stroke-linejoin:round; stroke-width:4; stroke-opacity:1; fill:none\" points=\"\n",
       "  141.853,1486.45 141.853,47.2441 \n",
       "  \"/>\n",
       "<polyline clip-path=\"url(#clip130)\" style=\"stroke:#000000; stroke-linecap:round; stroke-linejoin:round; stroke-width:4; stroke-opacity:1; fill:none\" points=\"\n",
       "  141.853,1340.57 160.751,1340.57 \n",
       "  \"/>\n",
       "<polyline clip-path=\"url(#clip130)\" style=\"stroke:#000000; stroke-linecap:round; stroke-linejoin:round; stroke-width:4; stroke-opacity:1; fill:none\" points=\"\n",
       "  141.853,1068.27 160.751,1068.27 \n",
       "  \"/>\n",
       "<polyline clip-path=\"url(#clip130)\" style=\"stroke:#000000; stroke-linecap:round; stroke-linejoin:round; stroke-width:4; stroke-opacity:1; fill:none\" points=\"\n",
       "  141.853,795.965 160.751,795.965 \n",
       "  \"/>\n",
       "<polyline clip-path=\"url(#clip130)\" style=\"stroke:#000000; stroke-linecap:round; stroke-linejoin:round; stroke-width:4; stroke-opacity:1; fill:none\" points=\"\n",
       "  141.853,523.662 160.751,523.662 \n",
       "  \"/>\n",
       "<polyline clip-path=\"url(#clip130)\" style=\"stroke:#000000; stroke-linecap:round; stroke-linejoin:round; stroke-width:4; stroke-opacity:1; fill:none\" points=\"\n",
       "  141.853,251.358 160.751,251.358 \n",
       "  \"/>\n",
       "<path clip-path=\"url(#clip130)\" d=\"M93.9086 1326.37 Q90.2975 1326.37 88.4688 1329.94 Q86.6632 1333.48 86.6632 1340.61 Q86.6632 1347.71 88.4688 1351.28 Q90.2975 1354.82 93.9086 1354.82 Q97.5428 1354.82 99.3483 1351.28 Q101.177 1347.71 101.177 1340.61 Q101.177 1333.48 99.3483 1329.94 Q97.5428 1326.37 93.9086 1326.37 M93.9086 1322.67 Q99.7187 1322.67 102.774 1327.27 Q105.853 1331.86 105.853 1340.61 Q105.853 1349.33 102.774 1353.94 Q99.7187 1358.52 93.9086 1358.52 Q88.0984 1358.52 85.0197 1353.94 Q81.9642 1349.33 81.9642 1340.61 Q81.9642 1331.86 85.0197 1327.27 Q88.0984 1322.67 93.9086 1322.67 Z\" fill=\"#000000\" fill-rule=\"evenodd\" fill-opacity=\"1\" /><path clip-path=\"url(#clip130)\" d=\"M54.5569 1081.61 L62.1958 1081.61 L62.1958 1055.25 L53.8856 1056.91 L53.8856 1052.66 L62.1495 1050.99 L66.8254 1050.99 L66.8254 1081.61 L74.4642 1081.61 L74.4642 1085.55 L54.5569 1085.55 L54.5569 1081.61 Z\" fill=\"#000000\" fill-rule=\"evenodd\" fill-opacity=\"1\" /><path clip-path=\"url(#clip130)\" d=\"M93.9086 1054.07 Q90.2975 1054.07 88.4688 1057.63 Q86.6632 1061.17 86.6632 1068.3 Q86.6632 1075.41 88.4688 1078.97 Q90.2975 1082.52 93.9086 1082.52 Q97.5428 1082.52 99.3483 1078.97 Q101.177 1075.41 101.177 1068.3 Q101.177 1061.17 99.3483 1057.63 Q97.5428 1054.07 93.9086 1054.07 M93.9086 1050.36 Q99.7187 1050.36 102.774 1054.97 Q105.853 1059.55 105.853 1068.3 Q105.853 1077.03 102.774 1081.64 Q99.7187 1086.22 93.9086 1086.22 Q88.0984 1086.22 85.0197 1081.64 Q81.9642 1077.03 81.9642 1068.3 Q81.9642 1059.55 85.0197 1054.97 Q88.0984 1050.36 93.9086 1050.36 Z\" fill=\"#000000\" fill-rule=\"evenodd\" fill-opacity=\"1\" /><path clip-path=\"url(#clip130)\" d=\"M57.7745 809.31 L74.0939 809.31 L74.0939 813.245 L52.1495 813.245 L52.1495 809.31 Q54.8115 806.555 59.3949 801.926 Q64.0013 797.273 65.1819 795.93 Q67.4272 793.407 68.3068 791.671 Q69.2096 789.912 69.2096 788.222 Q69.2096 785.467 67.2652 783.731 Q65.3439 781.995 62.2421 781.995 Q60.043 781.995 57.5893 782.759 Q55.1588 783.523 52.381 785.074 L52.381 780.352 Q55.2051 779.217 57.6588 778.639 Q60.1124 778.06 62.1495 778.06 Q67.5198 778.06 70.7142 780.745 Q73.9087 783.43 73.9087 787.921 Q73.9087 790.051 73.0985 791.972 Q72.3115 793.87 70.205 796.463 Q69.6263 797.134 66.5245 800.352 Q63.4226 803.546 57.7745 809.31 Z\" fill=\"#000000\" fill-rule=\"evenodd\" fill-opacity=\"1\" /><path clip-path=\"url(#clip130)\" d=\"M93.9086 781.764 Q90.2975 781.764 88.4688 785.328 Q86.6632 788.87 86.6632 796 Q86.6632 803.106 88.4688 806.671 Q90.2975 810.213 93.9086 810.213 Q97.5428 810.213 99.3483 806.671 Q101.177 803.106 101.177 796 Q101.177 788.87 99.3483 785.328 Q97.5428 781.764 93.9086 781.764 M93.9086 778.06 Q99.7187 778.06 102.774 782.666 Q105.853 787.25 105.853 796 Q105.853 804.727 102.774 809.333 Q99.7187 813.916 93.9086 813.916 Q88.0984 813.916 85.0197 809.333 Q81.9642 804.727 81.9642 796 Q81.9642 787.25 85.0197 782.666 Q88.0984 778.06 93.9086 778.06 Z\" fill=\"#000000\" fill-rule=\"evenodd\" fill-opacity=\"1\" /><path clip-path=\"url(#clip130)\" d=\"M67.9133 522.307 Q71.2698 523.025 73.1448 525.294 Q75.0429 527.562 75.0429 530.895 Q75.0429 536.011 71.5244 538.812 Q68.0059 541.613 61.5245 541.613 Q59.3486 541.613 57.0338 541.173 Q54.7421 540.756 52.2884 539.9 L52.2884 535.386 Q54.2328 536.52 56.5477 537.099 Q58.8625 537.678 61.3856 537.678 Q65.7837 537.678 68.0754 535.942 Q70.3902 534.206 70.3902 530.895 Q70.3902 527.84 68.2374 526.127 Q66.1078 524.391 62.2884 524.391 L58.2606 524.391 L58.2606 520.548 L62.4735 520.548 Q65.9226 520.548 67.7513 519.183 Q69.58 517.794 69.58 515.201 Q69.58 512.539 67.6819 511.127 Q65.8069 509.692 62.2884 509.692 Q60.3671 509.692 58.168 510.108 Q55.969 510.525 53.3301 511.405 L53.3301 507.238 Q55.9921 506.497 58.3069 506.127 Q60.6449 505.757 62.705 505.757 Q68.0291 505.757 71.1309 508.187 Q74.2327 510.595 74.2327 514.715 Q74.2327 517.585 72.5892 519.576 Q70.9457 521.544 67.9133 522.307 Z\" fill=\"#000000\" fill-rule=\"evenodd\" fill-opacity=\"1\" /><path clip-path=\"url(#clip130)\" d=\"M93.9086 509.46 Q90.2975 509.46 88.4688 513.025 Q86.6632 516.567 86.6632 523.696 Q86.6632 530.803 88.4688 534.368 Q90.2975 537.909 93.9086 537.909 Q97.5428 537.909 99.3483 534.368 Q101.177 530.803 101.177 523.696 Q101.177 516.567 99.3483 513.025 Q97.5428 509.46 93.9086 509.46 M93.9086 505.757 Q99.7187 505.757 102.774 510.363 Q105.853 514.946 105.853 523.696 Q105.853 532.423 102.774 537.03 Q99.7187 541.613 93.9086 541.613 Q88.0984 541.613 85.0197 537.03 Q81.9642 532.423 81.9642 523.696 Q81.9642 514.946 85.0197 510.363 Q88.0984 505.757 93.9086 505.757 Z\" fill=\"#000000\" fill-rule=\"evenodd\" fill-opacity=\"1\" /><path clip-path=\"url(#clip130)\" d=\"M66.5939 238.152 L54.7884 256.601 L66.5939 256.601 L66.5939 238.152 M65.367 234.078 L71.2466 234.078 L71.2466 256.601 L76.1772 256.601 L76.1772 260.49 L71.2466 260.49 L71.2466 268.638 L66.5939 268.638 L66.5939 260.49 L50.9921 260.49 L50.9921 255.976 L65.367 234.078 Z\" fill=\"#000000\" fill-rule=\"evenodd\" fill-opacity=\"1\" /><path clip-path=\"url(#clip130)\" d=\"M93.9086 237.157 Q90.2975 237.157 88.4688 240.722 Q86.6632 244.263 86.6632 251.393 Q86.6632 258.499 88.4688 262.064 Q90.2975 265.606 93.9086 265.606 Q97.5428 265.606 99.3483 262.064 Q101.177 258.499 101.177 251.393 Q101.177 244.263 99.3483 240.722 Q97.5428 237.157 93.9086 237.157 M93.9086 233.453 Q99.7187 233.453 102.774 238.06 Q105.853 242.643 105.853 251.393 Q105.853 260.12 102.774 264.726 Q99.7187 269.31 93.9086 269.31 Q88.0984 269.31 85.0197 264.726 Q81.9642 260.12 81.9642 251.393 Q81.9642 242.643 85.0197 238.06 Q88.0984 233.453 93.9086 233.453 Z\" fill=\"#000000\" fill-rule=\"evenodd\" fill-opacity=\"1\" /><polyline clip-path=\"url(#clip132)\" style=\"stroke:#009af9; stroke-linecap:round; stroke-linejoin:round; stroke-width:4; stroke-opacity:1; fill:none\" points=\"\n",
       "  204.426,87.9763 215.639,87.9763 226.853,1340.57 238.067,1340.57 249.281,1340.57 260.494,1340.57 271.708,1340.57 282.922,1340.57 294.136,1340.57 305.349,1340.57 \n",
       "  316.563,1340.57 327.777,1340.57 338.991,1340.57 350.204,1340.57 361.418,1340.57 372.632,1340.57 383.846,1340.57 395.059,1340.57 406.273,1340.57 417.487,1340.57 \n",
       "  428.701,1340.57 439.914,1340.57 451.128,1340.57 462.342,1340.57 473.556,1340.57 484.769,1340.57 495.983,1340.57 507.197,1340.57 518.411,1340.57 529.624,1340.57 \n",
       "  540.838,1340.57 552.052,1340.57 563.266,1340.57 574.479,1340.57 585.693,1340.57 596.907,1340.57 608.121,1340.57 619.334,1340.57 630.548,1340.57 641.762,1340.57 \n",
       "  652.976,1340.57 664.189,1340.57 675.403,1340.57 686.617,1340.57 697.831,1340.57 709.044,1340.57 720.258,1340.57 731.472,1340.57 742.686,1340.57 753.899,1340.57 \n",
       "  765.113,1340.57 776.327,1340.57 787.541,1340.57 798.754,1340.57 809.968,1340.57 821.182,1340.57 832.396,1340.57 843.609,1340.57 854.823,1340.57 866.037,1340.57 \n",
       "  877.251,1340.57 888.464,1340.57 899.678,1340.57 910.892,1340.57 922.106,1340.57 933.319,1340.57 944.533,1340.57 955.747,1340.57 966.961,1340.57 978.174,1340.57 \n",
       "  989.388,1340.57 1000.6,1340.57 1011.82,1340.57 1023.03,1340.57 1034.24,1340.57 1045.46,1340.57 1056.67,1340.57 1067.88,1340.57 1079.1,1340.57 1090.31,1340.57 \n",
       "  1101.53,1340.57 1112.74,1340.57 1123.95,1340.57 1135.17,1340.57 1146.38,1340.57 1157.59,1340.57 1168.81,1340.57 1180.02,1340.57 1191.24,1340.57 1202.45,1340.57 \n",
       "  1213.66,1340.57 1224.88,1340.57 1236.09,1340.57 1247.3,1340.57 1258.52,1340.57 1269.73,1340.57 1280.95,1340.57 1292.16,1340.57 1303.37,1340.57 1314.59,1340.57 \n",
       "  1325.8,1340.57 1337.01,1340.57 1348.23,1340.57 1359.44,1340.57 1370.66,1340.57 1381.87,1340.57 1393.08,1340.57 1404.3,1340.57 1415.51,1340.57 1426.72,1340.57 \n",
       "  1437.94,1340.57 1449.15,1340.57 1460.37,1340.57 1471.58,1340.57 1482.79,1340.57 1494.01,1340.57 1505.22,1340.57 1516.43,1340.57 1527.65,1340.57 1538.86,1340.57 \n",
       "  1550.08,1340.57 1561.29,1340.57 1572.5,1340.57 1583.72,1340.57 1594.93,1340.57 1606.14,1340.57 1617.36,1340.57 1628.57,1340.57 1639.79,1340.57 1651,1340.57 \n",
       "  1662.21,1340.57 1673.43,1340.57 1684.64,1340.57 1695.85,1340.57 1707.07,1340.57 1718.28,1340.57 1729.5,1340.57 1740.71,1340.57 1751.92,1340.57 1763.14,1340.57 \n",
       "  1774.35,1340.57 1785.56,1340.57 1796.78,1340.57 1807.99,1340.57 1819.21,1340.57 1830.42,1340.57 1841.63,1340.57 1852.85,1340.57 1864.06,1340.57 1875.27,1340.57 \n",
       "  1886.49,1340.57 1897.7,1340.57 1908.92,1340.57 1920.13,1340.57 1931.34,1340.57 1942.56,1340.57 1953.77,1340.57 1964.98,1340.57 1976.2,1340.57 1987.41,1340.57 \n",
       "  1998.63,1340.57 2009.84,1340.57 2021.05,1340.57 2032.27,1340.57 2043.48,1340.57 2054.69,1340.57 2065.91,1340.57 2077.12,1340.57 2088.34,1340.57 2099.55,1340.57 \n",
       "  2110.76,1340.57 2121.98,1340.57 2133.19,1340.57 2144.4,1340.57 2155.62,1340.57 2166.83,1340.57 2178.05,1340.57 2189.26,1340.57 2200.47,1340.57 2211.69,1340.57 \n",
       "  2222.9,1340.57 2234.11,1340.57 2245.33,1340.57 2256.54,1340.57 2267.76,1340.57 2278.97,1340.57 2290.18,1340.57 \n",
       "  \"/>\n",
       "<polyline clip-path=\"url(#clip132)\" style=\"stroke:#e26f46; stroke-linecap:round; stroke-linejoin:round; stroke-width:4; stroke-opacity:1; fill:none\" points=\"\n",
       "  204.426,1340.57 215.639,1340.57 226.853,1387.19 238.067,1340.57 249.281,1340.57 260.494,1340.57 271.708,1340.57 282.922,1340.57 294.136,1340.57 305.349,1340.57 \n",
       "  316.563,1340.57 327.777,1340.57 338.991,1340.57 350.204,1340.57 361.418,1340.57 372.632,1340.57 383.846,1340.57 395.059,1340.57 406.273,1340.57 417.487,1340.57 \n",
       "  428.701,1340.57 439.914,1340.57 451.128,1340.57 462.342,1340.57 473.556,1340.57 484.769,1340.57 495.983,1340.57 507.197,1340.57 518.411,660.008 529.624,1282.5 \n",
       "  540.838,1340.52 552.052,1340.54 563.266,1340.56 574.479,1340.57 585.693,1340.57 596.907,1340.57 608.121,1340.57 619.334,1340.57 630.548,1340.57 641.762,1340.57 \n",
       "  652.976,1340.57 664.189,1340.57 675.403,1340.57 686.617,1340.57 697.831,1340.57 709.044,1340.57 720.258,1340.57 731.472,1340.57 742.686,1340.57 753.899,1340.57 \n",
       "  765.113,1340.57 776.327,1340.57 787.541,1340.57 798.754,1340.57 809.968,1340.57 821.182,1340.57 832.396,1340.57 843.609,1340.57 854.823,1340.57 866.037,1390 \n",
       "  877.251,1445.72 888.464,1422.99 899.678,1406.38 910.892,1393.89 922.106,1384.3 933.319,1376.81 944.533,1370.88 955.747,1366.14 966.961,1362.32 978.174,1359.21 \n",
       "  989.388,1356.67 1000.6,1354.57 1011.82,1352.84 1023.03,1351.38 1034.24,1350.16 1045.46,1349.12 1056.67,1348.23 1067.88,1347.46 1079.1,1346.8 1090.31,1346.21 \n",
       "  1101.53,1345.7 1112.74,1345.24 1123.95,1344.83 1135.17,1344.46 1146.38,1344.12 1157.59,1343.82 1168.81,1343.55 1180.02,1343.3 1191.24,1343.07 1202.45,1342.86 \n",
       "  1213.66,1342.67 1224.88,1342.49 1236.09,1342.33 1247.3,1342.18 1258.52,1342.04 1269.73,1341.92 1280.95,1341.8 1292.16,1341.7 1303.37,1341.6 1314.59,1341.51 \n",
       "  1325.8,1341.43 1337.01,1341.35 1348.23,1341.28 1359.44,1341.22 1370.66,1341.16 1381.87,1341.11 1393.08,1341.06 1404.3,1341.02 1415.51,1340.98 1426.72,1340.94 \n",
       "  1437.94,1340.91 1449.15,1340.88 1460.37,1340.85 1471.58,1340.82 1482.79,1340.8 1494.01,1340.78 1505.22,1340.76 1516.43,1340.74 1527.65,1340.73 1538.86,1340.71 \n",
       "  1550.08,1340.7 1561.29,1340.69 1572.5,1340.67 1583.72,1340.66 1594.93,1340.66 1606.14,1340.65 1617.36,1340.64 1628.57,1340.63 1639.79,1340.63 1651,1340.62 \n",
       "  1662.21,1340.62 1673.43,1340.61 1684.64,1340.61 1695.85,1340.61 1707.07,1340.6 1718.28,1340.6 1729.5,1340.6 1740.71,1340.59 1751.92,1340.59 1763.14,1340.59 \n",
       "  1774.35,1340.59 1785.56,1340.59 1796.78,1340.58 1807.99,1340.58 1819.21,1340.58 1830.42,1340.58 1841.63,1340.58 1852.85,1340.58 1864.06,1340.58 1875.27,1340.58 \n",
       "  1886.49,1340.58 1897.7,1340.58 1908.92,1340.58 1920.13,1340.58 1931.34,1340.58 1942.56,1340.58 1953.77,1340.57 1964.98,1340.57 1976.2,1340.57 1987.41,1340.57 \n",
       "  1998.63,1340.57 2009.84,1340.57 2021.05,1340.57 2032.27,1340.57 2043.48,1340.57 2054.69,1340.57 2065.91,1340.57 2077.12,1340.57 2088.34,1340.57 2099.55,1340.57 \n",
       "  2110.76,1340.57 2121.98,1340.57 2133.19,1340.57 2144.4,1340.57 2155.62,1340.57 2166.83,1340.57 2178.05,1340.57 2189.26,1340.57 2200.47,1340.57 2211.69,1340.57 \n",
       "  2222.9,1340.57 2234.11,1340.57 2245.33,1340.57 2256.54,1340.57 2267.76,1340.57 2278.97,1340.57 2290.18,1340.57 \n",
       "  \"/>\n",
       "<polyline clip-path=\"url(#clip132)\" style=\"stroke:#3da44d; stroke-linecap:round; stroke-linejoin:round; stroke-width:4; stroke-opacity:1; fill:none\" points=\"\n",
       "  204.426,1340.57 215.639,1340.57 226.853,1340.57 238.067,1340.57 249.281,1340.57 260.494,1340.57 271.708,1340.57 282.922,1340.57 294.136,1340.57 305.349,1340.57 \n",
       "  316.563,1340.57 327.777,1340.57 338.991,1340.57 350.204,1340.57 361.418,1340.57 372.632,1340.57 383.846,1340.57 395.059,1340.57 406.273,1340.57 417.487,1340.57 \n",
       "  428.701,1340.57 439.914,1340.57 451.128,1340.57 462.342,1340.57 473.556,1340.57 484.769,1340.57 495.983,1340.57 507.197,1340.57 518.411,1340.57 529.624,1340.57 \n",
       "  540.838,1340.57 552.052,1340.57 563.266,1340.57 574.479,1340.57 585.693,1340.57 596.907,1340.57 608.121,1340.57 619.334,1340.57 630.548,1340.57 641.762,1340.57 \n",
       "  652.976,1340.57 664.189,1340.57 675.403,1340.57 686.617,1340.57 697.831,1340.57 709.044,1340.57 720.258,1340.57 731.472,1340.57 742.686,1340.57 753.899,1340.57 \n",
       "  765.113,1340.57 776.327,1340.57 787.541,1340.57 798.754,1340.57 809.968,1340.57 821.182,1340.57 832.396,1340.57 843.609,1340.57 854.823,1340.57 866.037,1340.57 \n",
       "  877.251,1340.57 888.464,1340.57 899.678,1340.57 910.892,1340.57 922.106,1340.57 933.319,1340.57 944.533,1340.57 955.747,1340.57 966.961,1340.57 978.174,1340.57 \n",
       "  989.388,1340.57 1000.6,1340.57 1011.82,1340.57 1023.03,1340.57 1034.24,1340.57 1045.46,1340.57 1056.67,1340.57 1067.88,1340.57 1079.1,1340.57 1090.31,1340.57 \n",
       "  1101.53,1340.57 1112.74,1340.57 1123.95,1340.57 1135.17,1340.57 1146.38,1340.57 1157.59,1340.57 1168.81,1340.57 1180.02,1340.57 1191.24,1340.57 1202.45,1340.57 \n",
       "  1213.66,1340.57 1224.88,1340.57 1236.09,1340.57 1247.3,1340.57 1258.52,1340.57 1269.73,1340.57 1280.95,1340.57 1292.16,1340.57 1303.37,1340.57 1314.59,1340.57 \n",
       "  1325.8,1340.57 1337.01,1340.57 1348.23,1340.57 1359.44,1340.57 1370.66,1340.57 1381.87,1340.57 1393.08,1340.57 1404.3,1340.57 1415.51,1340.57 1426.72,1340.57 \n",
       "  1437.94,1340.57 1449.15,1340.57 1460.37,1340.57 1471.58,1340.57 1482.79,1340.57 1494.01,1340.57 1505.22,1340.57 1516.43,1340.57 1527.65,1340.57 1538.86,1340.57 \n",
       "  1550.08,1340.57 1561.29,1340.57 1572.5,1340.57 1583.72,1340.57 1594.93,1340.57 1606.14,1340.57 1617.36,1340.57 1628.57,1340.57 1639.79,1340.57 1651,1340.57 \n",
       "  1662.21,1340.57 1673.43,1340.57 1684.64,1340.57 1695.85,1340.57 1707.07,1340.57 1718.28,1340.57 1729.5,1340.57 1740.71,1340.57 1751.92,1340.57 1763.14,1340.57 \n",
       "  1774.35,1340.57 1785.56,1340.57 1796.78,1340.57 1807.99,1340.57 1819.21,1340.57 1830.42,1340.57 1841.63,1340.57 1852.85,1340.57 1864.06,1340.57 1875.27,1340.57 \n",
       "  1886.49,1340.57 1897.7,1340.57 1908.92,1340.57 1920.13,1340.57 1931.34,1340.57 1942.56,1340.57 1953.77,1340.57 1964.98,1340.57 1976.2,1340.57 1987.41,1340.57 \n",
       "  1998.63,1340.57 2009.84,1340.57 2021.05,1340.57 2032.27,1340.57 2043.48,1340.57 2054.69,1340.57 2065.91,1340.57 2077.12,1340.57 2088.34,1340.57 2099.55,1340.57 \n",
       "  2110.76,1340.57 2121.98,1340.57 2133.19,1340.57 2144.4,1340.57 2155.62,1340.57 2166.83,1340.57 2178.05,1340.57 2189.26,1340.57 2200.47,1340.57 2211.69,1340.57 \n",
       "  2222.9,1340.57 2234.11,1340.57 2245.33,1340.57 2256.54,1340.57 2267.76,1340.57 2278.97,1340.57 2290.18,1340.57 \n",
       "  \"/>\n",
       "<path clip-path=\"url(#clip130)\" d=\"\n",
       "M1980.39 302.578 L2279.06 302.578 L2279.06 95.2176 L1980.39 95.2176  Z\n",
       "  \" fill=\"#ffffff\" fill-rule=\"evenodd\" fill-opacity=\"1\"/>\n",
       "<polyline clip-path=\"url(#clip130)\" style=\"stroke:#000000; stroke-linecap:round; stroke-linejoin:round; stroke-width:4; stroke-opacity:1; fill:none\" points=\"\n",
       "  1980.39,302.578 2279.06,302.578 2279.06,95.2176 1980.39,95.2176 1980.39,302.578 \n",
       "  \"/>\n",
       "<polyline clip-path=\"url(#clip130)\" style=\"stroke:#009af9; stroke-linecap:round; stroke-linejoin:round; stroke-width:4; stroke-opacity:1; fill:none\" points=\"\n",
       "  2004.96,147.058 2152.35,147.058 \n",
       "  \"/>\n",
       "<path clip-path=\"url(#clip130)\" d=\"M2190.76 166.745 Q2188.96 171.375 2187.24 172.787 Q2185.53 174.199 2182.66 174.199 L2179.26 174.199 L2179.26 170.634 L2181.76 170.634 Q2183.52 170.634 2184.49 169.8 Q2185.46 168.967 2186.64 165.865 L2187.41 163.921 L2176.92 138.412 L2181.43 138.412 L2189.53 158.689 L2197.64 138.412 L2202.15 138.412 L2190.76 166.745 Z\" fill=\"#000000\" fill-rule=\"evenodd\" fill-opacity=\"1\" /><path clip-path=\"url(#clip130)\" d=\"M2209.44 160.402 L2217.08 160.402 L2217.08 134.037 L2208.77 135.703 L2208.77 131.444 L2217.03 129.778 L2221.71 129.778 L2221.71 160.402 L2229.35 160.402 L2229.35 164.338 L2209.44 164.338 L2209.44 160.402 Z\" fill=\"#000000\" fill-rule=\"evenodd\" fill-opacity=\"1\" /><polyline clip-path=\"url(#clip130)\" style=\"stroke:#e26f46; stroke-linecap:round; stroke-linejoin:round; stroke-width:4; stroke-opacity:1; fill:none\" points=\"\n",
       "  2004.96,198.898 2152.35,198.898 \n",
       "  \"/>\n",
       "<path clip-path=\"url(#clip130)\" d=\"M2190.76 218.585 Q2188.96 223.215 2187.24 224.627 Q2185.53 226.039 2182.66 226.039 L2179.26 226.039 L2179.26 222.474 L2181.76 222.474 Q2183.52 222.474 2184.49 221.64 Q2185.46 220.807 2186.64 217.705 L2187.41 215.761 L2176.92 190.252 L2181.43 190.252 L2189.53 210.529 L2197.64 190.252 L2202.15 190.252 L2190.76 218.585 Z\" fill=\"#000000\" fill-rule=\"evenodd\" fill-opacity=\"1\" /><path clip-path=\"url(#clip130)\" d=\"M2212.66 212.242 L2228.98 212.242 L2228.98 216.178 L2207.03 216.178 L2207.03 212.242 Q2209.7 209.488 2214.28 204.858 Q2218.89 200.205 2220.07 198.863 Q2222.31 196.34 2223.19 194.604 Q2224.09 192.844 2224.09 191.155 Q2224.09 188.4 2222.15 186.664 Q2220.23 184.928 2217.13 184.928 Q2214.93 184.928 2212.47 185.692 Q2210.04 186.455 2207.27 188.006 L2207.27 183.284 Q2210.09 182.15 2212.54 181.571 Q2215 180.993 2217.03 180.993 Q2222.4 180.993 2225.6 183.678 Q2228.79 186.363 2228.79 190.854 Q2228.79 192.983 2227.98 194.905 Q2227.2 196.803 2225.09 199.395 Q2224.51 200.067 2221.41 203.284 Q2218.31 206.479 2212.66 212.242 Z\" fill=\"#000000\" fill-rule=\"evenodd\" fill-opacity=\"1\" /><polyline clip-path=\"url(#clip130)\" style=\"stroke:#3da44d; stroke-linecap:round; stroke-linejoin:round; stroke-width:4; stroke-opacity:1; fill:none\" points=\"\n",
       "  2004.96,250.738 2152.35,250.738 \n",
       "  \"/>\n",
       "<path clip-path=\"url(#clip130)\" d=\"M2190.76 270.425 Q2188.96 275.055 2187.24 276.467 Q2185.53 277.879 2182.66 277.879 L2179.26 277.879 L2179.26 274.314 L2181.76 274.314 Q2183.52 274.314 2184.49 273.48 Q2185.46 272.647 2186.64 269.545 L2187.41 267.601 L2176.92 242.092 L2181.43 242.092 L2189.53 262.369 L2197.64 242.092 L2202.15 242.092 L2190.76 270.425 Z\" fill=\"#000000\" fill-rule=\"evenodd\" fill-opacity=\"1\" /><path clip-path=\"url(#clip130)\" d=\"M2222.8 249.383 Q2226.15 250.101 2228.03 252.369 Q2229.93 254.638 2229.93 257.971 Q2229.93 263.087 2226.41 265.888 Q2222.89 268.689 2216.41 268.689 Q2214.23 268.689 2211.92 268.249 Q2209.63 267.832 2207.17 266.976 L2207.17 262.462 Q2209.12 263.596 2211.43 264.175 Q2213.75 264.754 2216.27 264.754 Q2220.67 264.754 2222.96 263.018 Q2225.28 261.281 2225.28 257.971 Q2225.28 254.916 2223.12 253.203 Q2220.99 251.467 2217.17 251.467 L2213.15 251.467 L2213.15 247.624 L2217.36 247.624 Q2220.81 247.624 2222.64 246.258 Q2224.47 244.87 2224.47 242.277 Q2224.47 239.615 2222.57 238.203 Q2220.69 236.768 2217.17 236.768 Q2215.25 236.768 2213.05 237.184 Q2210.85 237.601 2208.22 238.481 L2208.22 234.314 Q2210.88 233.573 2213.19 233.203 Q2215.53 232.833 2217.59 232.833 Q2222.91 232.833 2226.02 235.263 Q2229.12 237.67 2229.12 241.791 Q2229.12 244.661 2227.47 246.652 Q2225.83 248.62 2222.8 249.383 Z\" fill=\"#000000\" fill-rule=\"evenodd\" fill-opacity=\"1\" /></svg>\n"
      ],
      "text/html": [
       "<?xml version=\"1.0\" encoding=\"utf-8\"?>\n",
       "<svg xmlns=\"http://www.w3.org/2000/svg\" xmlns:xlink=\"http://www.w3.org/1999/xlink\" width=\"600\" height=\"400\" viewBox=\"0 0 2400 1600\">\n",
       "<defs>\n",
       "  <clipPath id=\"clip180\">\n",
       "    <rect x=\"0\" y=\"0\" width=\"2400\" height=\"1600\"/>\n",
       "  </clipPath>\n",
       "</defs>\n",
       "<path clip-path=\"url(#clip180)\" d=\"\n",
       "M0 1600 L2400 1600 L2400 0 L0 0  Z\n",
       "  \" fill=\"#ffffff\" fill-rule=\"evenodd\" fill-opacity=\"1\"/>\n",
       "<defs>\n",
       "  <clipPath id=\"clip181\">\n",
       "    <rect x=\"480\" y=\"0\" width=\"1681\" height=\"1600\"/>\n",
       "  </clipPath>\n",
       "</defs>\n",
       "<path clip-path=\"url(#clip180)\" d=\"\n",
       "M141.853 1486.45 L2352.76 1486.45 L2352.76 47.2441 L141.853 47.2441  Z\n",
       "  \" fill=\"#ffffff\" fill-rule=\"evenodd\" fill-opacity=\"1\"/>\n",
       "<defs>\n",
       "  <clipPath id=\"clip182\">\n",
       "    <rect x=\"141\" y=\"47\" width=\"2212\" height=\"1440\"/>\n",
       "  </clipPath>\n",
       "</defs>\n",
       "<polyline clip-path=\"url(#clip182)\" style=\"stroke:#000000; stroke-linecap:round; stroke-linejoin:round; stroke-width:2; stroke-opacity:0.1; fill:none\" points=\"\n",
       "  193.212,1486.45 193.212,47.2441 \n",
       "  \"/>\n",
       "<polyline clip-path=\"url(#clip182)\" style=\"stroke:#000000; stroke-linecap:round; stroke-linejoin:round; stroke-width:2; stroke-opacity:0.1; fill:none\" points=\"\n",
       "  753.899,1486.45 753.899,47.2441 \n",
       "  \"/>\n",
       "<polyline clip-path=\"url(#clip182)\" style=\"stroke:#000000; stroke-linecap:round; stroke-linejoin:round; stroke-width:2; stroke-opacity:0.1; fill:none\" points=\"\n",
       "  1314.59,1486.45 1314.59,47.2441 \n",
       "  \"/>\n",
       "<polyline clip-path=\"url(#clip182)\" style=\"stroke:#000000; stroke-linecap:round; stroke-linejoin:round; stroke-width:2; stroke-opacity:0.1; fill:none\" points=\"\n",
       "  1875.27,1486.45 1875.27,47.2441 \n",
       "  \"/>\n",
       "<polyline clip-path=\"url(#clip180)\" style=\"stroke:#000000; stroke-linecap:round; stroke-linejoin:round; stroke-width:4; stroke-opacity:1; fill:none\" points=\"\n",
       "  141.853,1486.45 2352.76,1486.45 \n",
       "  \"/>\n",
       "<polyline clip-path=\"url(#clip180)\" style=\"stroke:#000000; stroke-linecap:round; stroke-linejoin:round; stroke-width:4; stroke-opacity:1; fill:none\" points=\"\n",
       "  193.212,1486.45 193.212,1467.55 \n",
       "  \"/>\n",
       "<polyline clip-path=\"url(#clip180)\" style=\"stroke:#000000; stroke-linecap:round; stroke-linejoin:round; stroke-width:4; stroke-opacity:1; fill:none\" points=\"\n",
       "  753.899,1486.45 753.899,1467.55 \n",
       "  \"/>\n",
       "<polyline clip-path=\"url(#clip180)\" style=\"stroke:#000000; stroke-linecap:round; stroke-linejoin:round; stroke-width:4; stroke-opacity:1; fill:none\" points=\"\n",
       "  1314.59,1486.45 1314.59,1467.55 \n",
       "  \"/>\n",
       "<polyline clip-path=\"url(#clip180)\" style=\"stroke:#000000; stroke-linecap:round; stroke-linejoin:round; stroke-width:4; stroke-opacity:1; fill:none\" points=\"\n",
       "  1875.27,1486.45 1875.27,1467.55 \n",
       "  \"/>\n",
       "<path clip-path=\"url(#clip180)\" d=\"M193.212 1517.37 Q189.601 1517.37 187.772 1520.93 Q185.967 1524.47 185.967 1531.6 Q185.967 1538.71 187.772 1542.27 Q189.601 1545.82 193.212 1545.82 Q196.846 1545.82 198.652 1542.27 Q200.48 1538.71 200.48 1531.6 Q200.48 1524.47 198.652 1520.93 Q196.846 1517.37 193.212 1517.37 M193.212 1513.66 Q199.022 1513.66 202.078 1518.27 Q205.156 1522.85 205.156 1531.6 Q205.156 1540.33 202.078 1544.94 Q199.022 1549.52 193.212 1549.52 Q187.402 1549.52 184.323 1544.94 Q181.268 1540.33 181.268 1531.6 Q181.268 1522.85 184.323 1518.27 Q187.402 1513.66 193.212 1513.66 Z\" fill=\"#000000\" fill-rule=\"evenodd\" fill-opacity=\"1\" /><path clip-path=\"url(#clip180)\" d=\"M728.599 1514.29 L746.955 1514.29 L746.955 1518.22 L732.881 1518.22 L732.881 1526.7 Q733.9 1526.35 734.918 1526.19 Q735.937 1526 736.955 1526 Q742.742 1526 746.122 1529.17 Q749.501 1532.34 749.501 1537.76 Q749.501 1543.34 746.029 1546.44 Q742.557 1549.52 736.237 1549.52 Q734.062 1549.52 731.793 1549.15 Q729.548 1548.78 727.14 1548.04 L727.14 1543.34 Q729.224 1544.47 731.446 1545.03 Q733.668 1545.58 736.145 1545.58 Q740.149 1545.58 742.487 1543.48 Q744.825 1541.37 744.825 1537.76 Q744.825 1534.15 742.487 1532.04 Q740.149 1529.94 736.145 1529.94 Q734.27 1529.94 732.395 1530.35 Q730.543 1530.77 728.599 1531.65 L728.599 1514.29 Z\" fill=\"#000000\" fill-rule=\"evenodd\" fill-opacity=\"1\" /><path clip-path=\"url(#clip180)\" d=\"M768.714 1517.37 Q765.103 1517.37 763.274 1520.93 Q761.469 1524.47 761.469 1531.6 Q761.469 1538.71 763.274 1542.27 Q765.103 1545.82 768.714 1545.82 Q772.348 1545.82 774.154 1542.27 Q775.983 1538.71 775.983 1531.6 Q775.983 1524.47 774.154 1520.93 Q772.348 1517.37 768.714 1517.37 M768.714 1513.66 Q774.524 1513.66 777.58 1518.27 Q780.659 1522.85 780.659 1531.6 Q780.659 1540.33 777.58 1544.94 Q774.524 1549.52 768.714 1549.52 Q762.904 1549.52 759.825 1544.94 Q756.77 1540.33 756.77 1531.6 Q756.77 1522.85 759.825 1518.27 Q762.904 1513.66 768.714 1513.66 Z\" fill=\"#000000\" fill-rule=\"evenodd\" fill-opacity=\"1\" /><path clip-path=\"url(#clip180)\" d=\"M1274.19 1544.91 L1281.83 1544.91 L1281.83 1518.55 L1273.52 1520.21 L1273.52 1515.95 L1281.79 1514.29 L1286.46 1514.29 L1286.46 1544.91 L1294.1 1544.91 L1294.1 1548.85 L1274.19 1548.85 L1274.19 1544.91 Z\" fill=\"#000000\" fill-rule=\"evenodd\" fill-opacity=\"1\" /><path clip-path=\"url(#clip180)\" d=\"M1313.55 1517.37 Q1309.93 1517.37 1308.11 1520.93 Q1306.3 1524.47 1306.3 1531.6 Q1306.3 1538.71 1308.11 1542.27 Q1309.93 1545.82 1313.55 1545.82 Q1317.18 1545.82 1318.99 1542.27 Q1320.81 1538.71 1320.81 1531.6 Q1320.81 1524.47 1318.99 1520.93 Q1317.18 1517.37 1313.55 1517.37 M1313.55 1513.66 Q1319.36 1513.66 1322.41 1518.27 Q1325.49 1522.85 1325.49 1531.6 Q1325.49 1540.33 1322.41 1544.94 Q1319.36 1549.52 1313.55 1549.52 Q1307.74 1549.52 1304.66 1544.94 Q1301.6 1540.33 1301.6 1531.6 Q1301.6 1522.85 1304.66 1518.27 Q1307.74 1513.66 1313.55 1513.66 Z\" fill=\"#000000\" fill-rule=\"evenodd\" fill-opacity=\"1\" /><path clip-path=\"url(#clip180)\" d=\"M1343.71 1517.37 Q1340.1 1517.37 1338.27 1520.93 Q1336.46 1524.47 1336.46 1531.6 Q1336.46 1538.71 1338.27 1542.27 Q1340.1 1545.82 1343.71 1545.82 Q1347.34 1545.82 1349.15 1542.27 Q1350.98 1538.71 1350.98 1531.6 Q1350.98 1524.47 1349.15 1520.93 Q1347.34 1517.37 1343.71 1517.37 M1343.71 1513.66 Q1349.52 1513.66 1352.57 1518.27 Q1355.65 1522.85 1355.65 1531.6 Q1355.65 1540.33 1352.57 1544.94 Q1349.52 1549.52 1343.71 1549.52 Q1337.9 1549.52 1334.82 1544.94 Q1331.76 1540.33 1331.76 1531.6 Q1331.76 1522.85 1334.82 1518.27 Q1337.9 1513.66 1343.71 1513.66 Z\" fill=\"#000000\" fill-rule=\"evenodd\" fill-opacity=\"1\" /><path clip-path=\"url(#clip180)\" d=\"M1834.88 1544.91 L1842.52 1544.91 L1842.52 1518.55 L1834.21 1520.21 L1834.21 1515.95 L1842.47 1514.29 L1847.15 1514.29 L1847.15 1544.91 L1854.79 1544.91 L1854.79 1548.85 L1834.88 1548.85 L1834.88 1544.91 Z\" fill=\"#000000\" fill-rule=\"evenodd\" fill-opacity=\"1\" /><path clip-path=\"url(#clip180)\" d=\"M1864.28 1514.29 L1882.64 1514.29 L1882.64 1518.22 L1868.56 1518.22 L1868.56 1526.7 Q1869.58 1526.35 1870.6 1526.19 Q1871.62 1526 1872.64 1526 Q1878.42 1526 1881.8 1529.17 Q1885.18 1532.34 1885.18 1537.76 Q1885.18 1543.34 1881.71 1546.44 Q1878.24 1549.52 1871.92 1549.52 Q1869.74 1549.52 1867.47 1549.15 Q1865.23 1548.78 1862.82 1548.04 L1862.82 1543.34 Q1864.9 1544.47 1867.13 1545.03 Q1869.35 1545.58 1871.83 1545.58 Q1875.83 1545.58 1878.17 1543.48 Q1880.51 1541.37 1880.51 1537.76 Q1880.51 1534.15 1878.17 1532.04 Q1875.83 1529.94 1871.83 1529.94 Q1869.95 1529.94 1868.08 1530.35 Q1866.22 1530.77 1864.28 1531.65 L1864.28 1514.29 Z\" fill=\"#000000\" fill-rule=\"evenodd\" fill-opacity=\"1\" /><path clip-path=\"url(#clip180)\" d=\"M1904.39 1517.37 Q1900.78 1517.37 1898.95 1520.93 Q1897.15 1524.47 1897.15 1531.6 Q1897.15 1538.71 1898.95 1542.27 Q1900.78 1545.82 1904.39 1545.82 Q1908.03 1545.82 1909.83 1542.27 Q1911.66 1538.71 1911.66 1531.6 Q1911.66 1524.47 1909.83 1520.93 Q1908.03 1517.37 1904.39 1517.37 M1904.39 1513.66 Q1910.2 1513.66 1913.26 1518.27 Q1916.34 1522.85 1916.34 1531.6 Q1916.34 1540.33 1913.26 1544.94 Q1910.2 1549.52 1904.39 1549.52 Q1898.58 1549.52 1895.51 1544.94 Q1892.45 1540.33 1892.45 1531.6 Q1892.45 1522.85 1895.51 1518.27 Q1898.58 1513.66 1904.39 1513.66 Z\" fill=\"#000000\" fill-rule=\"evenodd\" fill-opacity=\"1\" /><polyline clip-path=\"url(#clip182)\" style=\"stroke:#000000; stroke-linecap:round; stroke-linejoin:round; stroke-width:2; stroke-opacity:0.1; fill:none\" points=\"\n",
       "  141.853,1340.57 2352.76,1340.57 \n",
       "  \"/>\n",
       "<polyline clip-path=\"url(#clip182)\" style=\"stroke:#000000; stroke-linecap:round; stroke-linejoin:round; stroke-width:2; stroke-opacity:0.1; fill:none\" points=\"\n",
       "  141.853,1068.27 2352.76,1068.27 \n",
       "  \"/>\n",
       "<polyline clip-path=\"url(#clip182)\" style=\"stroke:#000000; stroke-linecap:round; stroke-linejoin:round; stroke-width:2; stroke-opacity:0.1; fill:none\" points=\"\n",
       "  141.853,795.965 2352.76,795.965 \n",
       "  \"/>\n",
       "<polyline clip-path=\"url(#clip182)\" style=\"stroke:#000000; stroke-linecap:round; stroke-linejoin:round; stroke-width:2; stroke-opacity:0.1; fill:none\" points=\"\n",
       "  141.853,523.662 2352.76,523.662 \n",
       "  \"/>\n",
       "<polyline clip-path=\"url(#clip182)\" style=\"stroke:#000000; stroke-linecap:round; stroke-linejoin:round; stroke-width:2; stroke-opacity:0.1; fill:none\" points=\"\n",
       "  141.853,251.358 2352.76,251.358 \n",
       "  \"/>\n",
       "<polyline clip-path=\"url(#clip180)\" style=\"stroke:#000000; stroke-linecap:round; stroke-linejoin:round; stroke-width:4; stroke-opacity:1; fill:none\" points=\"\n",
       "  141.853,1486.45 141.853,47.2441 \n",
       "  \"/>\n",
       "<polyline clip-path=\"url(#clip180)\" style=\"stroke:#000000; stroke-linecap:round; stroke-linejoin:round; stroke-width:4; stroke-opacity:1; fill:none\" points=\"\n",
       "  141.853,1340.57 160.751,1340.57 \n",
       "  \"/>\n",
       "<polyline clip-path=\"url(#clip180)\" style=\"stroke:#000000; stroke-linecap:round; stroke-linejoin:round; stroke-width:4; stroke-opacity:1; fill:none\" points=\"\n",
       "  141.853,1068.27 160.751,1068.27 \n",
       "  \"/>\n",
       "<polyline clip-path=\"url(#clip180)\" style=\"stroke:#000000; stroke-linecap:round; stroke-linejoin:round; stroke-width:4; stroke-opacity:1; fill:none\" points=\"\n",
       "  141.853,795.965 160.751,795.965 \n",
       "  \"/>\n",
       "<polyline clip-path=\"url(#clip180)\" style=\"stroke:#000000; stroke-linecap:round; stroke-linejoin:round; stroke-width:4; stroke-opacity:1; fill:none\" points=\"\n",
       "  141.853,523.662 160.751,523.662 \n",
       "  \"/>\n",
       "<polyline clip-path=\"url(#clip180)\" style=\"stroke:#000000; stroke-linecap:round; stroke-linejoin:round; stroke-width:4; stroke-opacity:1; fill:none\" points=\"\n",
       "  141.853,251.358 160.751,251.358 \n",
       "  \"/>\n",
       "<path clip-path=\"url(#clip180)\" d=\"M93.9086 1326.37 Q90.2975 1326.37 88.4688 1329.94 Q86.6632 1333.48 86.6632 1340.61 Q86.6632 1347.71 88.4688 1351.28 Q90.2975 1354.82 93.9086 1354.82 Q97.5428 1354.82 99.3483 1351.28 Q101.177 1347.71 101.177 1340.61 Q101.177 1333.48 99.3483 1329.94 Q97.5428 1326.37 93.9086 1326.37 M93.9086 1322.67 Q99.7187 1322.67 102.774 1327.27 Q105.853 1331.86 105.853 1340.61 Q105.853 1349.33 102.774 1353.94 Q99.7187 1358.52 93.9086 1358.52 Q88.0984 1358.52 85.0197 1353.94 Q81.9642 1349.33 81.9642 1340.61 Q81.9642 1331.86 85.0197 1327.27 Q88.0984 1322.67 93.9086 1322.67 Z\" fill=\"#000000\" fill-rule=\"evenodd\" fill-opacity=\"1\" /><path clip-path=\"url(#clip180)\" d=\"M54.5569 1081.61 L62.1958 1081.61 L62.1958 1055.25 L53.8856 1056.91 L53.8856 1052.66 L62.1495 1050.99 L66.8254 1050.99 L66.8254 1081.61 L74.4642 1081.61 L74.4642 1085.55 L54.5569 1085.55 L54.5569 1081.61 Z\" fill=\"#000000\" fill-rule=\"evenodd\" fill-opacity=\"1\" /><path clip-path=\"url(#clip180)\" d=\"M93.9086 1054.07 Q90.2975 1054.07 88.4688 1057.63 Q86.6632 1061.17 86.6632 1068.3 Q86.6632 1075.41 88.4688 1078.97 Q90.2975 1082.52 93.9086 1082.52 Q97.5428 1082.52 99.3483 1078.97 Q101.177 1075.41 101.177 1068.3 Q101.177 1061.17 99.3483 1057.63 Q97.5428 1054.07 93.9086 1054.07 M93.9086 1050.36 Q99.7187 1050.36 102.774 1054.97 Q105.853 1059.55 105.853 1068.3 Q105.853 1077.03 102.774 1081.64 Q99.7187 1086.22 93.9086 1086.22 Q88.0984 1086.22 85.0197 1081.64 Q81.9642 1077.03 81.9642 1068.3 Q81.9642 1059.55 85.0197 1054.97 Q88.0984 1050.36 93.9086 1050.36 Z\" fill=\"#000000\" fill-rule=\"evenodd\" fill-opacity=\"1\" /><path clip-path=\"url(#clip180)\" d=\"M57.7745 809.31 L74.0939 809.31 L74.0939 813.245 L52.1495 813.245 L52.1495 809.31 Q54.8115 806.555 59.3949 801.926 Q64.0013 797.273 65.1819 795.93 Q67.4272 793.407 68.3068 791.671 Q69.2096 789.912 69.2096 788.222 Q69.2096 785.467 67.2652 783.731 Q65.3439 781.995 62.2421 781.995 Q60.043 781.995 57.5893 782.759 Q55.1588 783.523 52.381 785.074 L52.381 780.352 Q55.2051 779.217 57.6588 778.639 Q60.1124 778.06 62.1495 778.06 Q67.5198 778.06 70.7142 780.745 Q73.9087 783.43 73.9087 787.921 Q73.9087 790.051 73.0985 791.972 Q72.3115 793.87 70.205 796.463 Q69.6263 797.134 66.5245 800.352 Q63.4226 803.546 57.7745 809.31 Z\" fill=\"#000000\" fill-rule=\"evenodd\" fill-opacity=\"1\" /><path clip-path=\"url(#clip180)\" d=\"M93.9086 781.764 Q90.2975 781.764 88.4688 785.328 Q86.6632 788.87 86.6632 796 Q86.6632 803.106 88.4688 806.671 Q90.2975 810.213 93.9086 810.213 Q97.5428 810.213 99.3483 806.671 Q101.177 803.106 101.177 796 Q101.177 788.87 99.3483 785.328 Q97.5428 781.764 93.9086 781.764 M93.9086 778.06 Q99.7187 778.06 102.774 782.666 Q105.853 787.25 105.853 796 Q105.853 804.727 102.774 809.333 Q99.7187 813.916 93.9086 813.916 Q88.0984 813.916 85.0197 809.333 Q81.9642 804.727 81.9642 796 Q81.9642 787.25 85.0197 782.666 Q88.0984 778.06 93.9086 778.06 Z\" fill=\"#000000\" fill-rule=\"evenodd\" fill-opacity=\"1\" /><path clip-path=\"url(#clip180)\" d=\"M67.9133 522.307 Q71.2698 523.025 73.1448 525.294 Q75.0429 527.562 75.0429 530.895 Q75.0429 536.011 71.5244 538.812 Q68.0059 541.613 61.5245 541.613 Q59.3486 541.613 57.0338 541.173 Q54.7421 540.756 52.2884 539.9 L52.2884 535.386 Q54.2328 536.52 56.5477 537.099 Q58.8625 537.678 61.3856 537.678 Q65.7837 537.678 68.0754 535.942 Q70.3902 534.206 70.3902 530.895 Q70.3902 527.84 68.2374 526.127 Q66.1078 524.391 62.2884 524.391 L58.2606 524.391 L58.2606 520.548 L62.4735 520.548 Q65.9226 520.548 67.7513 519.183 Q69.58 517.794 69.58 515.201 Q69.58 512.539 67.6819 511.127 Q65.8069 509.692 62.2884 509.692 Q60.3671 509.692 58.168 510.108 Q55.969 510.525 53.3301 511.405 L53.3301 507.238 Q55.9921 506.497 58.3069 506.127 Q60.6449 505.757 62.705 505.757 Q68.0291 505.757 71.1309 508.187 Q74.2327 510.595 74.2327 514.715 Q74.2327 517.585 72.5892 519.576 Q70.9457 521.544 67.9133 522.307 Z\" fill=\"#000000\" fill-rule=\"evenodd\" fill-opacity=\"1\" /><path clip-path=\"url(#clip180)\" d=\"M93.9086 509.46 Q90.2975 509.46 88.4688 513.025 Q86.6632 516.567 86.6632 523.696 Q86.6632 530.803 88.4688 534.368 Q90.2975 537.909 93.9086 537.909 Q97.5428 537.909 99.3483 534.368 Q101.177 530.803 101.177 523.696 Q101.177 516.567 99.3483 513.025 Q97.5428 509.46 93.9086 509.46 M93.9086 505.757 Q99.7187 505.757 102.774 510.363 Q105.853 514.946 105.853 523.696 Q105.853 532.423 102.774 537.03 Q99.7187 541.613 93.9086 541.613 Q88.0984 541.613 85.0197 537.03 Q81.9642 532.423 81.9642 523.696 Q81.9642 514.946 85.0197 510.363 Q88.0984 505.757 93.9086 505.757 Z\" fill=\"#000000\" fill-rule=\"evenodd\" fill-opacity=\"1\" /><path clip-path=\"url(#clip180)\" d=\"M66.5939 238.152 L54.7884 256.601 L66.5939 256.601 L66.5939 238.152 M65.367 234.078 L71.2466 234.078 L71.2466 256.601 L76.1772 256.601 L76.1772 260.49 L71.2466 260.49 L71.2466 268.638 L66.5939 268.638 L66.5939 260.49 L50.9921 260.49 L50.9921 255.976 L65.367 234.078 Z\" fill=\"#000000\" fill-rule=\"evenodd\" fill-opacity=\"1\" /><path clip-path=\"url(#clip180)\" d=\"M93.9086 237.157 Q90.2975 237.157 88.4688 240.722 Q86.6632 244.263 86.6632 251.393 Q86.6632 258.499 88.4688 262.064 Q90.2975 265.606 93.9086 265.606 Q97.5428 265.606 99.3483 262.064 Q101.177 258.499 101.177 251.393 Q101.177 244.263 99.3483 240.722 Q97.5428 237.157 93.9086 237.157 M93.9086 233.453 Q99.7187 233.453 102.774 238.06 Q105.853 242.643 105.853 251.393 Q105.853 260.12 102.774 264.726 Q99.7187 269.31 93.9086 269.31 Q88.0984 269.31 85.0197 264.726 Q81.9642 260.12 81.9642 251.393 Q81.9642 242.643 85.0197 238.06 Q88.0984 233.453 93.9086 233.453 Z\" fill=\"#000000\" fill-rule=\"evenodd\" fill-opacity=\"1\" /><polyline clip-path=\"url(#clip182)\" style=\"stroke:#009af9; stroke-linecap:round; stroke-linejoin:round; stroke-width:4; stroke-opacity:1; fill:none\" points=\"\n",
       "  204.426,87.9763 215.639,87.9763 226.853,1340.57 238.067,1340.57 249.281,1340.57 260.494,1340.57 271.708,1340.57 282.922,1340.57 294.136,1340.57 305.349,1340.57 \n",
       "  316.563,1340.57 327.777,1340.57 338.991,1340.57 350.204,1340.57 361.418,1340.57 372.632,1340.57 383.846,1340.57 395.059,1340.57 406.273,1340.57 417.487,1340.57 \n",
       "  428.701,1340.57 439.914,1340.57 451.128,1340.57 462.342,1340.57 473.556,1340.57 484.769,1340.57 495.983,1340.57 507.197,1340.57 518.411,1340.57 529.624,1340.57 \n",
       "  540.838,1340.57 552.052,1340.57 563.266,1340.57 574.479,1340.57 585.693,1340.57 596.907,1340.57 608.121,1340.57 619.334,1340.57 630.548,1340.57 641.762,1340.57 \n",
       "  652.976,1340.57 664.189,1340.57 675.403,1340.57 686.617,1340.57 697.831,1340.57 709.044,1340.57 720.258,1340.57 731.472,1340.57 742.686,1340.57 753.899,1340.57 \n",
       "  765.113,1340.57 776.327,1340.57 787.541,1340.57 798.754,1340.57 809.968,1340.57 821.182,1340.57 832.396,1340.57 843.609,1340.57 854.823,1340.57 866.037,1340.57 \n",
       "  877.251,1340.57 888.464,1340.57 899.678,1340.57 910.892,1340.57 922.106,1340.57 933.319,1340.57 944.533,1340.57 955.747,1340.57 966.961,1340.57 978.174,1340.57 \n",
       "  989.388,1340.57 1000.6,1340.57 1011.82,1340.57 1023.03,1340.57 1034.24,1340.57 1045.46,1340.57 1056.67,1340.57 1067.88,1340.57 1079.1,1340.57 1090.31,1340.57 \n",
       "  1101.53,1340.57 1112.74,1340.57 1123.95,1340.57 1135.17,1340.57 1146.38,1340.57 1157.59,1340.57 1168.81,1340.57 1180.02,1340.57 1191.24,1340.57 1202.45,1340.57 \n",
       "  1213.66,1340.57 1224.88,1340.57 1236.09,1340.57 1247.3,1340.57 1258.52,1340.57 1269.73,1340.57 1280.95,1340.57 1292.16,1340.57 1303.37,1340.57 1314.59,1340.57 \n",
       "  1325.8,1340.57 1337.01,1340.57 1348.23,1340.57 1359.44,1340.57 1370.66,1340.57 1381.87,1340.57 1393.08,1340.57 1404.3,1340.57 1415.51,1340.57 1426.72,1340.57 \n",
       "  1437.94,1340.57 1449.15,1340.57 1460.37,1340.57 1471.58,1340.57 1482.79,1340.57 1494.01,1340.57 1505.22,1340.57 1516.43,1340.57 1527.65,1340.57 1538.86,1340.57 \n",
       "  1550.08,1340.57 1561.29,1340.57 1572.5,1340.57 1583.72,1340.57 1594.93,1340.57 1606.14,1340.57 1617.36,1340.57 1628.57,1340.57 1639.79,1340.57 1651,1340.57 \n",
       "  1662.21,1340.57 1673.43,1340.57 1684.64,1340.57 1695.85,1340.57 1707.07,1340.57 1718.28,1340.57 1729.5,1340.57 1740.71,1340.57 1751.92,1340.57 1763.14,1340.57 \n",
       "  1774.35,1340.57 1785.56,1340.57 1796.78,1340.57 1807.99,1340.57 1819.21,1340.57 1830.42,1340.57 1841.63,1340.57 1852.85,1340.57 1864.06,1340.57 1875.27,1340.57 \n",
       "  1886.49,1340.57 1897.7,1340.57 1908.92,1340.57 1920.13,1340.57 1931.34,1340.57 1942.56,1340.57 1953.77,1340.57 1964.98,1340.57 1976.2,1340.57 1987.41,1340.57 \n",
       "  1998.63,1340.57 2009.84,1340.57 2021.05,1340.57 2032.27,1340.57 2043.48,1340.57 2054.69,1340.57 2065.91,1340.57 2077.12,1340.57 2088.34,1340.57 2099.55,1340.57 \n",
       "  2110.76,1340.57 2121.98,1340.57 2133.19,1340.57 2144.4,1340.57 2155.62,1340.57 2166.83,1340.57 2178.05,1340.57 2189.26,1340.57 2200.47,1340.57 2211.69,1340.57 \n",
       "  2222.9,1340.57 2234.11,1340.57 2245.33,1340.57 2256.54,1340.57 2267.76,1340.57 2278.97,1340.57 2290.18,1340.57 \n",
       "  \"/>\n",
       "<polyline clip-path=\"url(#clip182)\" style=\"stroke:#e26f46; stroke-linecap:round; stroke-linejoin:round; stroke-width:4; stroke-opacity:1; fill:none\" points=\"\n",
       "  204.426,1340.57 215.639,1340.57 226.853,1387.19 238.067,1340.57 249.281,1340.57 260.494,1340.57 271.708,1340.57 282.922,1340.57 294.136,1340.57 305.349,1340.57 \n",
       "  316.563,1340.57 327.777,1340.57 338.991,1340.57 350.204,1340.57 361.418,1340.57 372.632,1340.57 383.846,1340.57 395.059,1340.57 406.273,1340.57 417.487,1340.57 \n",
       "  428.701,1340.57 439.914,1340.57 451.128,1340.57 462.342,1340.57 473.556,1340.57 484.769,1340.57 495.983,1340.57 507.197,1340.57 518.411,660.008 529.624,1282.5 \n",
       "  540.838,1340.52 552.052,1340.54 563.266,1340.56 574.479,1340.57 585.693,1340.57 596.907,1340.57 608.121,1340.57 619.334,1340.57 630.548,1340.57 641.762,1340.57 \n",
       "  652.976,1340.57 664.189,1340.57 675.403,1340.57 686.617,1340.57 697.831,1340.57 709.044,1340.57 720.258,1340.57 731.472,1340.57 742.686,1340.57 753.899,1340.57 \n",
       "  765.113,1340.57 776.327,1340.57 787.541,1340.57 798.754,1340.57 809.968,1340.57 821.182,1340.57 832.396,1340.57 843.609,1340.57 854.823,1340.57 866.037,1390 \n",
       "  877.251,1445.72 888.464,1422.99 899.678,1406.38 910.892,1393.89 922.106,1384.3 933.319,1376.81 944.533,1370.88 955.747,1366.14 966.961,1362.32 978.174,1359.21 \n",
       "  989.388,1356.67 1000.6,1354.57 1011.82,1352.84 1023.03,1351.38 1034.24,1350.16 1045.46,1349.12 1056.67,1348.23 1067.88,1347.46 1079.1,1346.8 1090.31,1346.21 \n",
       "  1101.53,1345.7 1112.74,1345.24 1123.95,1344.83 1135.17,1344.46 1146.38,1344.12 1157.59,1343.82 1168.81,1343.55 1180.02,1343.3 1191.24,1343.07 1202.45,1342.86 \n",
       "  1213.66,1342.67 1224.88,1342.49 1236.09,1342.33 1247.3,1342.18 1258.52,1342.04 1269.73,1341.92 1280.95,1341.8 1292.16,1341.7 1303.37,1341.6 1314.59,1341.51 \n",
       "  1325.8,1341.43 1337.01,1341.35 1348.23,1341.28 1359.44,1341.22 1370.66,1341.16 1381.87,1341.11 1393.08,1341.06 1404.3,1341.02 1415.51,1340.98 1426.72,1340.94 \n",
       "  1437.94,1340.91 1449.15,1340.88 1460.37,1340.85 1471.58,1340.82 1482.79,1340.8 1494.01,1340.78 1505.22,1340.76 1516.43,1340.74 1527.65,1340.73 1538.86,1340.71 \n",
       "  1550.08,1340.7 1561.29,1340.69 1572.5,1340.67 1583.72,1340.66 1594.93,1340.66 1606.14,1340.65 1617.36,1340.64 1628.57,1340.63 1639.79,1340.63 1651,1340.62 \n",
       "  1662.21,1340.62 1673.43,1340.61 1684.64,1340.61 1695.85,1340.61 1707.07,1340.6 1718.28,1340.6 1729.5,1340.6 1740.71,1340.59 1751.92,1340.59 1763.14,1340.59 \n",
       "  1774.35,1340.59 1785.56,1340.59 1796.78,1340.58 1807.99,1340.58 1819.21,1340.58 1830.42,1340.58 1841.63,1340.58 1852.85,1340.58 1864.06,1340.58 1875.27,1340.58 \n",
       "  1886.49,1340.58 1897.7,1340.58 1908.92,1340.58 1920.13,1340.58 1931.34,1340.58 1942.56,1340.58 1953.77,1340.57 1964.98,1340.57 1976.2,1340.57 1987.41,1340.57 \n",
       "  1998.63,1340.57 2009.84,1340.57 2021.05,1340.57 2032.27,1340.57 2043.48,1340.57 2054.69,1340.57 2065.91,1340.57 2077.12,1340.57 2088.34,1340.57 2099.55,1340.57 \n",
       "  2110.76,1340.57 2121.98,1340.57 2133.19,1340.57 2144.4,1340.57 2155.62,1340.57 2166.83,1340.57 2178.05,1340.57 2189.26,1340.57 2200.47,1340.57 2211.69,1340.57 \n",
       "  2222.9,1340.57 2234.11,1340.57 2245.33,1340.57 2256.54,1340.57 2267.76,1340.57 2278.97,1340.57 2290.18,1340.57 \n",
       "  \"/>\n",
       "<polyline clip-path=\"url(#clip182)\" style=\"stroke:#3da44d; stroke-linecap:round; stroke-linejoin:round; stroke-width:4; stroke-opacity:1; fill:none\" points=\"\n",
       "  204.426,1340.57 215.639,1340.57 226.853,1340.57 238.067,1340.57 249.281,1340.57 260.494,1340.57 271.708,1340.57 282.922,1340.57 294.136,1340.57 305.349,1340.57 \n",
       "  316.563,1340.57 327.777,1340.57 338.991,1340.57 350.204,1340.57 361.418,1340.57 372.632,1340.57 383.846,1340.57 395.059,1340.57 406.273,1340.57 417.487,1340.57 \n",
       "  428.701,1340.57 439.914,1340.57 451.128,1340.57 462.342,1340.57 473.556,1340.57 484.769,1340.57 495.983,1340.57 507.197,1340.57 518.411,1340.57 529.624,1340.57 \n",
       "  540.838,1340.57 552.052,1340.57 563.266,1340.57 574.479,1340.57 585.693,1340.57 596.907,1340.57 608.121,1340.57 619.334,1340.57 630.548,1340.57 641.762,1340.57 \n",
       "  652.976,1340.57 664.189,1340.57 675.403,1340.57 686.617,1340.57 697.831,1340.57 709.044,1340.57 720.258,1340.57 731.472,1340.57 742.686,1340.57 753.899,1340.57 \n",
       "  765.113,1340.57 776.327,1340.57 787.541,1340.57 798.754,1340.57 809.968,1340.57 821.182,1340.57 832.396,1340.57 843.609,1340.57 854.823,1340.57 866.037,1340.57 \n",
       "  877.251,1340.57 888.464,1340.57 899.678,1340.57 910.892,1340.57 922.106,1340.57 933.319,1340.57 944.533,1340.57 955.747,1340.57 966.961,1340.57 978.174,1340.57 \n",
       "  989.388,1340.57 1000.6,1340.57 1011.82,1340.57 1023.03,1340.57 1034.24,1340.57 1045.46,1340.57 1056.67,1340.57 1067.88,1340.57 1079.1,1340.57 1090.31,1340.57 \n",
       "  1101.53,1340.57 1112.74,1340.57 1123.95,1340.57 1135.17,1340.57 1146.38,1340.57 1157.59,1340.57 1168.81,1340.57 1180.02,1340.57 1191.24,1340.57 1202.45,1340.57 \n",
       "  1213.66,1340.57 1224.88,1340.57 1236.09,1340.57 1247.3,1340.57 1258.52,1340.57 1269.73,1340.57 1280.95,1340.57 1292.16,1340.57 1303.37,1340.57 1314.59,1340.57 \n",
       "  1325.8,1340.57 1337.01,1340.57 1348.23,1340.57 1359.44,1340.57 1370.66,1340.57 1381.87,1340.57 1393.08,1340.57 1404.3,1340.57 1415.51,1340.57 1426.72,1340.57 \n",
       "  1437.94,1340.57 1449.15,1340.57 1460.37,1340.57 1471.58,1340.57 1482.79,1340.57 1494.01,1340.57 1505.22,1340.57 1516.43,1340.57 1527.65,1340.57 1538.86,1340.57 \n",
       "  1550.08,1340.57 1561.29,1340.57 1572.5,1340.57 1583.72,1340.57 1594.93,1340.57 1606.14,1340.57 1617.36,1340.57 1628.57,1340.57 1639.79,1340.57 1651,1340.57 \n",
       "  1662.21,1340.57 1673.43,1340.57 1684.64,1340.57 1695.85,1340.57 1707.07,1340.57 1718.28,1340.57 1729.5,1340.57 1740.71,1340.57 1751.92,1340.57 1763.14,1340.57 \n",
       "  1774.35,1340.57 1785.56,1340.57 1796.78,1340.57 1807.99,1340.57 1819.21,1340.57 1830.42,1340.57 1841.63,1340.57 1852.85,1340.57 1864.06,1340.57 1875.27,1340.57 \n",
       "  1886.49,1340.57 1897.7,1340.57 1908.92,1340.57 1920.13,1340.57 1931.34,1340.57 1942.56,1340.57 1953.77,1340.57 1964.98,1340.57 1976.2,1340.57 1987.41,1340.57 \n",
       "  1998.63,1340.57 2009.84,1340.57 2021.05,1340.57 2032.27,1340.57 2043.48,1340.57 2054.69,1340.57 2065.91,1340.57 2077.12,1340.57 2088.34,1340.57 2099.55,1340.57 \n",
       "  2110.76,1340.57 2121.98,1340.57 2133.19,1340.57 2144.4,1340.57 2155.62,1340.57 2166.83,1340.57 2178.05,1340.57 2189.26,1340.57 2200.47,1340.57 2211.69,1340.57 \n",
       "  2222.9,1340.57 2234.11,1340.57 2245.33,1340.57 2256.54,1340.57 2267.76,1340.57 2278.97,1340.57 2290.18,1340.57 \n",
       "  \"/>\n",
       "<path clip-path=\"url(#clip180)\" d=\"\n",
       "M1980.39 302.578 L2279.06 302.578 L2279.06 95.2176 L1980.39 95.2176  Z\n",
       "  \" fill=\"#ffffff\" fill-rule=\"evenodd\" fill-opacity=\"1\"/>\n",
       "<polyline clip-path=\"url(#clip180)\" style=\"stroke:#000000; stroke-linecap:round; stroke-linejoin:round; stroke-width:4; stroke-opacity:1; fill:none\" points=\"\n",
       "  1980.39,302.578 2279.06,302.578 2279.06,95.2176 1980.39,95.2176 1980.39,302.578 \n",
       "  \"/>\n",
       "<polyline clip-path=\"url(#clip180)\" style=\"stroke:#009af9; stroke-linecap:round; stroke-linejoin:round; stroke-width:4; stroke-opacity:1; fill:none\" points=\"\n",
       "  2004.96,147.058 2152.35,147.058 \n",
       "  \"/>\n",
       "<path clip-path=\"url(#clip180)\" d=\"M2190.76 166.745 Q2188.96 171.375 2187.24 172.787 Q2185.53 174.199 2182.66 174.199 L2179.26 174.199 L2179.26 170.634 L2181.76 170.634 Q2183.52 170.634 2184.49 169.8 Q2185.46 168.967 2186.64 165.865 L2187.41 163.921 L2176.92 138.412 L2181.43 138.412 L2189.53 158.689 L2197.64 138.412 L2202.15 138.412 L2190.76 166.745 Z\" fill=\"#000000\" fill-rule=\"evenodd\" fill-opacity=\"1\" /><path clip-path=\"url(#clip180)\" d=\"M2209.44 160.402 L2217.08 160.402 L2217.08 134.037 L2208.77 135.703 L2208.77 131.444 L2217.03 129.778 L2221.71 129.778 L2221.71 160.402 L2229.35 160.402 L2229.35 164.338 L2209.44 164.338 L2209.44 160.402 Z\" fill=\"#000000\" fill-rule=\"evenodd\" fill-opacity=\"1\" /><polyline clip-path=\"url(#clip180)\" style=\"stroke:#e26f46; stroke-linecap:round; stroke-linejoin:round; stroke-width:4; stroke-opacity:1; fill:none\" points=\"\n",
       "  2004.96,198.898 2152.35,198.898 \n",
       "  \"/>\n",
       "<path clip-path=\"url(#clip180)\" d=\"M2190.76 218.585 Q2188.96 223.215 2187.24 224.627 Q2185.53 226.039 2182.66 226.039 L2179.26 226.039 L2179.26 222.474 L2181.76 222.474 Q2183.52 222.474 2184.49 221.64 Q2185.46 220.807 2186.64 217.705 L2187.41 215.761 L2176.92 190.252 L2181.43 190.252 L2189.53 210.529 L2197.64 190.252 L2202.15 190.252 L2190.76 218.585 Z\" fill=\"#000000\" fill-rule=\"evenodd\" fill-opacity=\"1\" /><path clip-path=\"url(#clip180)\" d=\"M2212.66 212.242 L2228.98 212.242 L2228.98 216.178 L2207.03 216.178 L2207.03 212.242 Q2209.7 209.488 2214.28 204.858 Q2218.89 200.205 2220.07 198.863 Q2222.31 196.34 2223.19 194.604 Q2224.09 192.844 2224.09 191.155 Q2224.09 188.4 2222.15 186.664 Q2220.23 184.928 2217.13 184.928 Q2214.93 184.928 2212.47 185.692 Q2210.04 186.455 2207.27 188.006 L2207.27 183.284 Q2210.09 182.15 2212.54 181.571 Q2215 180.993 2217.03 180.993 Q2222.4 180.993 2225.6 183.678 Q2228.79 186.363 2228.79 190.854 Q2228.79 192.983 2227.98 194.905 Q2227.2 196.803 2225.09 199.395 Q2224.51 200.067 2221.41 203.284 Q2218.31 206.479 2212.66 212.242 Z\" fill=\"#000000\" fill-rule=\"evenodd\" fill-opacity=\"1\" /><polyline clip-path=\"url(#clip180)\" style=\"stroke:#3da44d; stroke-linecap:round; stroke-linejoin:round; stroke-width:4; stroke-opacity:1; fill:none\" points=\"\n",
       "  2004.96,250.738 2152.35,250.738 \n",
       "  \"/>\n",
       "<path clip-path=\"url(#clip180)\" d=\"M2190.76 270.425 Q2188.96 275.055 2187.24 276.467 Q2185.53 277.879 2182.66 277.879 L2179.26 277.879 L2179.26 274.314 L2181.76 274.314 Q2183.52 274.314 2184.49 273.48 Q2185.46 272.647 2186.64 269.545 L2187.41 267.601 L2176.92 242.092 L2181.43 242.092 L2189.53 262.369 L2197.64 242.092 L2202.15 242.092 L2190.76 270.425 Z\" fill=\"#000000\" fill-rule=\"evenodd\" fill-opacity=\"1\" /><path clip-path=\"url(#clip180)\" d=\"M2222.8 249.383 Q2226.15 250.101 2228.03 252.369 Q2229.93 254.638 2229.93 257.971 Q2229.93 263.087 2226.41 265.888 Q2222.89 268.689 2216.41 268.689 Q2214.23 268.689 2211.92 268.249 Q2209.63 267.832 2207.17 266.976 L2207.17 262.462 Q2209.12 263.596 2211.43 264.175 Q2213.75 264.754 2216.27 264.754 Q2220.67 264.754 2222.96 263.018 Q2225.28 261.281 2225.28 257.971 Q2225.28 254.916 2223.12 253.203 Q2220.99 251.467 2217.17 251.467 L2213.15 251.467 L2213.15 247.624 L2217.36 247.624 Q2220.81 247.624 2222.64 246.258 Q2224.47 244.87 2224.47 242.277 Q2224.47 239.615 2222.57 238.203 Q2220.69 236.768 2217.17 236.768 Q2215.25 236.768 2213.05 237.184 Q2210.85 237.601 2208.22 238.481 L2208.22 234.314 Q2210.88 233.573 2213.19 233.203 Q2215.53 232.833 2217.59 232.833 Q2222.91 232.833 2226.02 235.263 Q2229.12 237.67 2229.12 241.791 Q2229.12 244.661 2227.47 246.652 Q2225.83 248.62 2222.8 249.383 Z\" fill=\"#000000\" fill-rule=\"evenodd\" fill-opacity=\"1\" /></svg>\n"
      ]
     },
     "metadata": {},
     "output_type": "display_data"
    }
   ],
   "source": [
    "plot(uhist')"
   ]
  },
  {
   "cell_type": "code",
   "execution_count": 57,
   "metadata": {},
   "outputs": [],
   "source": [
    "control_normz = zeros(iterations-1)\n",
    "\n",
    "for i=1:iterations-1\n",
    "\n",
    "    control_normz[i] = norm(uhist[:,i], 1)\n",
    "\n",
    "end"
   ]
  },
  {
   "cell_type": "code",
   "execution_count": 58,
   "metadata": {},
   "outputs": [],
   "source": [
    "state_normz = zeros(iterations)\n",
    "\n",
    "for i=1:iterations\n",
    "\n",
    "    state_normz[i] = norm(xhist[:,i], 2)\n",
    "end"
   ]
  },
  {
   "cell_type": "code",
   "execution_count": 59,
   "metadata": {},
   "outputs": [],
   "source": [
    "#checked that the norms are pushed against the slacks. all good"
   ]
  },
  {
   "cell_type": "code",
   "execution_count": 60,
   "metadata": {},
   "outputs": [
    {
     "data": {
      "text/plain": [
       "188-element Vector{Float64}:\n",
       " 20.029534657913143\n",
       " 20.219020616773886\n",
       " 20.76512008762045\n",
       " 20.741032632573646\n",
       " 20.690479461926277\n",
       " 20.622032239924636\n",
       " 20.535591229242492\n",
       " 20.431048893854268\n",
       " 20.308292552664852\n",
       " 20.167207446232453\n",
       "  ⋮\n",
       "  5.0423195631273445e-6\n",
       "  4.5126661349469585e-6\n",
       "  4.0378557383879556e-6\n",
       "  3.6122301501325173e-6\n",
       "  3.2307927573919848e-6\n",
       "  2.889438800795177e-6\n",
       "  2.5841569741538607e-6\n",
       "  2.311119962957328e-6\n",
       "  0.0"
      ]
     },
     "metadata": {},
     "output_type": "display_data"
    }
   ],
   "source": [
    "shist "
   ]
  },
  {
   "cell_type": "code",
   "execution_count": 61,
   "metadata": {},
   "outputs": [
    {
     "data": {
      "text/plain": [
       "188-element Vector{Float64}:\n",
       " 0.0\n",
       " 0.0\n",
       " 0.0\n",
       " 0.0\n",
       " 0.0\n",
       " 0.0\n",
       " 0.0\n",
       " 0.0\n",
       " 0.0\n",
       " 0.0\n",
       " ⋮\n",
       " 0.0\n",
       " 0.0\n",
       " 0.0\n",
       " 0.0\n",
       " 0.0\n",
       " 0.0\n",
       " 0.0\n",
       " 0.0\n",
       " 2.0669234181691378e-6"
      ]
     },
     "metadata": {},
     "output_type": "display_data"
    }
   ],
   "source": [
    "slack_diff_state = state_normz - shist"
   ]
  },
  {
   "cell_type": "code",
   "execution_count": 62,
   "metadata": {},
   "outputs": [
    {
     "data": {
      "text/plain": [
       "187-element Vector{Float64}:\n",
       " 1.159902964786852e-7\n",
       " 7.878979388920015e-7\n",
       " 2.6079379478183284e-7\n",
       " 4.376329442403453e-8\n",
       " 3.107579478065982e-7\n",
       " 3.1123194060607125e-7\n",
       " 3.851168531912496e-8\n",
       " 6.843774782517884e-8\n",
       " 9.062092916367449e-7\n",
       " 2.1754065284014602e-8\n",
       " ⋮\n",
       " 6.311395851220876e-9\n",
       " 8.062510324450604e-9\n",
       " 6.9285159284083385e-9\n",
       " 5.4881590636080685e-9\n",
       " 4.053929391423823e-9\n",
       " 3.576690188027967e-9\n",
       " 3.1645740270972776e-9\n",
       " 3.280980397433439e-9\n",
       " 2.925786644859471e-9"
      ]
     },
     "metadata": {},
     "output_type": "display_data"
    }
   ],
   "source": [
    "ctrl_diff_state = control_normz - thist"
   ]
  },
  {
   "cell_type": "code",
   "execution_count": null,
   "metadata": {},
   "outputs": [],
   "source": [
    "xhist[:,150]"
   ]
  },
  {
   "cell_type": "code",
   "execution_count": null,
   "metadata": {},
   "outputs": [],
   "source": [
    "xhist[1:3, 106]*position_scale "
   ]
  },
  {
   "cell_type": "code",
   "execution_count": null,
   "metadata": {},
   "outputs": [],
   "source": [
    "xhist[1:3, 106]*position_scale "
   ]
  },
  {
   "cell_type": "code",
   "execution_count": null,
   "metadata": {},
   "outputs": [],
   "source": [
    "plot(slack_diff_state)"
   ]
  },
  {
   "cell_type": "code",
   "execution_count": null,
   "metadata": {},
   "outputs": [],
   "source": [
    "all_norms = zeros(iterations-1)\n",
    "\n",
    "for i=1:iterations-1\n",
    "\n",
    "    all_norms[i] = norm(uhist[:,i],1)\n",
    "\n",
    "end"
   ]
  },
  {
   "cell_type": "code",
   "execution_count": null,
   "metadata": {},
   "outputs": [],
   "source": [
    "xhist "
   ]
  },
  {
   "cell_type": "code",
   "execution_count": null,
   "metadata": {},
   "outputs": [],
   "source": [
    "uhist "
   ]
  },
  {
   "cell_type": "code",
   "execution_count": null,
   "metadata": {},
   "outputs": [],
   "source": [
    "#does full on norm for all the iterations...\n",
    "plot(all_norms) \n",
    "#plot!(4.6e-3*ones(iterations))"
   ]
  },
  {
   "cell_type": "code",
   "execution_count": null,
   "metadata": {},
   "outputs": [],
   "source": [
    "all_norms \n"
   ]
  },
  {
   "cell_type": "code",
   "execution_count": null,
   "metadata": {},
   "outputs": [],
   "source": [
    "xhist "
   ]
  },
  {
   "cell_type": "code",
   "execution_count": null,
   "metadata": {},
   "outputs": [],
   "source": [
    "plot(xhist[1,:], xhist[2,:], xhist[3,:], label = \"Chaser Trajectory\", zlim = (-1,1))\n",
    "\n",
    "scatter!([xhist[1,1]], [xhist[2,1]], [xhist[3,1]], label = \"Initial State\")\n",
    "scatter!([xhist[1,end]], [xhist[2,end]], [xhist[3,end]], label = \"End State\")\n",
    "\n",
    "scatter!([0], [0], [0], label= \"Target\")"
   ]
  },
  {
   "cell_type": "code",
   "execution_count": null,
   "metadata": {},
   "outputs": [],
   "source": [
    "plot(xhist[2,:], xhist[1,:], xlabel= \"Tangential (m)\", ylabel=\"Radial (m)\")"
   ]
  },
  {
   "cell_type": "code",
   "execution_count": null,
   "metadata": {},
   "outputs": [],
   "source": [
    "plot(xhist[3,:], xhist[1,:], xlabel= \"Normal (m)\", ylabel=\"Radial (m)\", label=false)"
   ]
  },
  {
   "cell_type": "code",
   "execution_count": null,
   "metadata": {},
   "outputs": [],
   "source": [
    "plot(xhist[1,:], title=\"Positions\") \n",
    "plot!(xhist[2,:])\n",
    "plot!(xhist[3,:])"
   ]
  },
  {
   "cell_type": "code",
   "execution_count": null,
   "metadata": {},
   "outputs": [],
   "source": [
    "plot(xhist[4,:], title=\"Velocities\") \n",
    "plot!(xhist[5,:])\n",
    "plot!(xhist[6,:])"
   ]
  },
  {
   "cell_type": "code",
   "execution_count": null,
   "metadata": {},
   "outputs": [],
   "source": [
    "plot(uhist[1,:], title = \"Controls\")\n",
    "plot!(uhist[2,:])\n",
    "plot!(uhist[3,:])"
   ]
  },
  {
   "cell_type": "code",
   "execution_count": null,
   "metadata": {},
   "outputs": [],
   "source": [
    "plot(uhist[1,1:50], title = \"Controls\")\n",
    "plot!(uhist[2,1:50])\n",
    "plot!(uhist[3,1:50])"
   ]
  },
  {
   "cell_type": "code",
   "execution_count": null,
   "metadata": {},
   "outputs": [],
   "source": [
    "fuel_usage = sum(abs.(vec(uhist)))"
   ]
  },
  {
   "cell_type": "code",
   "execution_count": null,
   "metadata": {},
   "outputs": [],
   "source": [
    "dt*fuel_usage "
   ]
  },
  {
   "cell_type": "code",
   "execution_count": null,
   "metadata": {},
   "outputs": [],
   "source": [
    "no_control = zeros(nx, iterations)"
   ]
  },
  {
   "cell_type": "code",
   "execution_count": null,
   "metadata": {},
   "outputs": [],
   "source": [
    "no_control[:,1] = x0_chaser"
   ]
  },
  {
   "cell_type": "code",
   "execution_count": null,
   "metadata": {},
   "outputs": [],
   "source": [
    "for i = 1:iterations-1\n",
    "\n",
    "    no_control[:, i+1] = Ad*no_control[:,i]\n",
    "\n",
    "end"
   ]
  },
  {
   "cell_type": "code",
   "execution_count": null,
   "metadata": {},
   "outputs": [],
   "source": [
    "# plot(no_control[1,:], no_control[2,:], no_control[3,:], zlims=(-1,1))\n",
    "# scatter!([0], [0], [0])"
   ]
  },
  {
   "cell_type": "code",
   "execution_count": null,
   "metadata": {},
   "outputs": [],
   "source": [
    "plot(no_control[2,:], no_control[1,:])"
   ]
  },
  {
   "cell_type": "code",
   "execution_count": null,
   "metadata": {},
   "outputs": [],
   "source": [
    "plot(no_control[3,:], no_control[1,:])"
   ]
  },
  {
   "cell_type": "code",
   "execution_count": null,
   "metadata": {},
   "outputs": [],
   "source": []
  }
 ],
 "metadata": {
  "kernelspec": {
   "display_name": "Julia 1.10.0",
   "language": "julia",
   "name": "julia-1.10"
  },
  "language_info": {
   "file_extension": ".jl",
   "mimetype": "application/julia",
   "name": "julia",
   "version": "1.10.0"
  }
 },
 "nbformat": 4,
 "nbformat_minor": 2
}
