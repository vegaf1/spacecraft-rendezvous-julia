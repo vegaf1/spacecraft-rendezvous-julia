{
 "cells": [
  {
   "cell_type": "code",
   "execution_count": 1,
   "metadata": {},
   "outputs": [
    {
     "name": "stderr",
     "output_type": "stream",
     "text": [
      "WARNING: Method definition isapprox(IntervalSets.AbstractInterval{T} where T, IntervalSets.AbstractInterval{T} where T) in module IntervalSets at /home/faustovega/.julia/packages/IntervalSets/kyCuf/src/IntervalSets.jl:296 overwritten in module DomainSets at /home/faustovega/.julia/packages/DomainSets/aafhp/src/domains/interval.jl:52.\n",
      "ERROR: Method overwriting is not permitted during Module precompilation. Use `__precompile__(false)` to opt-out of precompilation.\n",
      "WARNING: Method definition isapprox(IntervalSets.AbstractInterval{T} where T, IntervalSets.AbstractInterval{T} where T) in module IntervalSets at /home/faustovega/.julia/packages/IntervalSets/kyCuf/src/IntervalSets.jl:296 overwritten in module DomainSets at /home/faustovega/.julia/packages/DomainSets/aafhp/src/domains/interval.jl:52.\n",
      "ERROR: Method overwriting is not permitted during Module precompilation. Use `__precompile__(false)` to opt-out of precompilation.\n",
      "WARNING: Method definition isapprox(IntervalSets.AbstractInterval{T} where T, IntervalSets.AbstractInterval{T} where T) in module IntervalSets at /home/faustovega/.julia/packages/IntervalSets/kyCuf/src/IntervalSets.jl:296 overwritten in module DomainSets at /home/faustovega/.julia/packages/DomainSets/aafhp/src/domains/interval.jl:52.\n",
      "ERROR: Method overwriting is not permitted during Module precompilation. Use `__precompile__(false)` to opt-out of precompilation.\n",
      "WARNING: Method definition isapprox(IntervalSets.AbstractInterval{T} where T, IntervalSets.AbstractInterval{T} where T) in module IntervalSets at /home/faustovega/.julia/packages/IntervalSets/kyCuf/src/IntervalSets.jl:296 overwritten in module DomainSets at /home/faustovega/.julia/packages/DomainSets/aafhp/src/domains/interval.jl:52.\n",
      "ERROR: Method overwriting is not permitted during Module precompilation. Use `__precompile__(false)` to opt-out of precompilation.\n",
      "WARNING: Method definition isapprox(IntervalSets.AbstractInterval{T} where T, IntervalSets.AbstractInterval{T} where T) in module IntervalSets at /home/faustovega/.julia/packages/IntervalSets/kyCuf/src/IntervalSets.jl:296 overwritten in module DomainSets at /home/faustovega/.julia/packages/DomainSets/aafhp/src/domains/interval.jl:52.\n",
      "ERROR: Method overwriting is not permitted during Module precompilation. Use `__precompile__(false)` to opt-out of precompilation.\n",
      "WARNING: method definition for namespace_expr at /home/faustovega/.julia/packages/ModelingToolkit/H0KaK/src/systems/abstractsystem.jl:405 declares type variable T but does not use it.\n",
      "WARNING: both DiffEqJump and DelayDiffEq export \"first_tstop\"; uses of it in module DifferentialEquations must be qualified\n",
      "WARNING: both DiffEqJump and DelayDiffEq export \"has_tstop\"; uses of it in module DifferentialEquations must be qualified\n",
      "WARNING: both DiffEqJump and DelayDiffEq export \"pop_tstop!\"; uses of it in module DifferentialEquations must be qualified\n"
     ]
    }
   ],
   "source": [
    "using LinearAlgebra\n",
    "using ForwardDiff\n",
    "using SatelliteDynamics\n",
    "using DifferentialEquations\n",
    "using Plots\n",
    "using ECOS, Convex\n",
    "using Mosek, MosekTools"
   ]
  },
  {
   "cell_type": "code",
   "execution_count": 2,
   "metadata": {},
   "outputs": [
    {
     "data": {
      "text/plain": [
       "6-element Vector{Float64}:\n",
       "  6.885635e6\n",
       "  0.001089\n",
       " 97.43\n",
       "  0.0\n",
       "  0.0\n",
       "  0.016667"
      ]
     },
     "metadata": {},
     "output_type": "display_data"
    }
   ],
   "source": [
    "#From RoadsMPC slide deck\n",
    "#values are in m and degrees \n",
    "#orbits elements of und roads 1\n",
    "#last is the true anomaly \n",
    "elements1 = [6885.635e3, 0.001089, 97.43, 0, 0, 0]\n",
    "\n",
    "#orbital elements of und roads 2\n",
    "#last is the true anomaly\n",
    "elements2 = [6885.635e3, 0.001089, 97.43, 0, 0, 0.016667]"
   ]
  },
  {
   "cell_type": "code",
   "execution_count": 3,
   "metadata": {},
   "outputs": [],
   "source": [
    "#convert the true anomaly to mean anomaly to be able to do the conversion and degrees to radians"
   ]
  },
  {
   "cell_type": "code",
   "execution_count": 4,
   "metadata": {},
   "outputs": [
    {
     "data": {
      "text/plain": [
       "degrees_to_rad (generic function with 1 method)"
      ]
     },
     "metadata": {},
     "output_type": "display_data"
    }
   ],
   "source": [
    "function degrees_to_rad(x)\n",
    "\n",
    "    return x*pi/180\n",
    "    \n",
    "end"
   ]
  },
  {
   "cell_type": "code",
   "execution_count": 5,
   "metadata": {},
   "outputs": [
    {
     "data": {
      "text/plain": [
       "true_anom_to_eccentric_anom (generic function with 1 method)"
      ]
     },
     "metadata": {},
     "output_type": "display_data"
    }
   ],
   "source": [
    "#v is true anomaly \n",
    "#e is the eccentricity\n",
    "function true_anom_to_eccentric_anom(v, e)\n",
    "\n",
    "    E = 2*atand(sqrt((1-e)/(1+e))*tand(v/2))\n",
    "\n",
    "    #eccentric anomaly\n",
    "    return E\n",
    "\n",
    "end"
   ]
  },
  {
   "cell_type": "code",
   "execution_count": 6,
   "metadata": {},
   "outputs": [
    {
     "data": {
      "text/plain": [
       "eccentric_anom_to_mean_anom (generic function with 1 method)"
      ]
     },
     "metadata": {},
     "output_type": "display_data"
    }
   ],
   "source": [
    "function eccentric_anom_to_mean_anom(E, e)\n",
    "\n",
    "    M = E - e*sind(E)\n",
    "\n",
    "    #mean anomaly\n",
    "    return M\n",
    "\n",
    "end"
   ]
  },
  {
   "cell_type": "code",
   "execution_count": 7,
   "metadata": {},
   "outputs": [
    {
     "data": {
      "text/plain": [
       "0.0"
      ]
     },
     "metadata": {},
     "output_type": "display_data"
    }
   ],
   "source": [
    "#eccentric anomaly sat 1\n",
    "E1 = true_anom_to_eccentric_anom(elements1[end], elements1[2])\n",
    "\n",
    "#mean anomaly sat 1\n",
    "M1 = eccentric_anom_to_mean_anom(E1, elements1[2])"
   ]
  },
  {
   "cell_type": "code",
   "execution_count": 8,
   "metadata": {},
   "outputs": [
    {
     "data": {
      "text/plain": [
       "0.016648543070573774"
      ]
     },
     "metadata": {},
     "output_type": "display_data"
    }
   ],
   "source": [
    "#eccentric anomaly sat 2\n",
    "E2 = true_anom_to_eccentric_anom(elements2[end], elements2[2])\n",
    "\n",
    "#eccentric anomaly sat 2\n",
    "M2  = eccentric_anom_to_mean_anom(E2, elements2[2])"
   ]
  },
  {
   "cell_type": "code",
   "execution_count": 9,
   "metadata": {},
   "outputs": [
    {
     "data": {
      "text/plain": [
       "6-element Vector{Float64}:\n",
       " 6.885635e6\n",
       " 0.001089\n",
       " 1.7004742902180754\n",
       " 0.0\n",
       " 0.0\n",
       " 0.00029057189224159907"
      ]
     },
     "metadata": {},
     "output_type": "display_data"
    }
   ],
   "source": [
    "#get all the units consistent (m, radians)\n",
    "\n",
    "elements1_m = [elements1[1:2]; degrees_to_rad(elements1[3]); degrees_to_rad(elements1[4]); degrees_to_rad(elements1[5]); degrees_to_rad(M1)]\n",
    "\n",
    "elements2_m = [elements2[1:2]; degrees_to_rad(elements2[3]); degrees_to_rad(elements2[4]); degrees_to_rad(elements2[5]); degrees_to_rad(M2)]"
   ]
  },
  {
   "cell_type": "code",
   "execution_count": 10,
   "metadata": {},
   "outputs": [
    {
     "data": {
      "text/plain": [
       "6-element Vector{Float64}:\n",
       "    6.878136543485e6\n",
       "    0.0\n",
       "    0.0\n",
       "    0.0\n",
       " -984.9589353739226\n",
       " 7552.79897887146"
      ]
     },
     "metadata": {},
     "output_type": "display_data"
    }
   ],
   "source": [
    "#state satellite 1 (target)\n",
    "\n",
    "x_1 = sOSCtoCART(elements1_m, use_degrees=false)"
   ]
  },
  {
   "cell_type": "code",
   "execution_count": 11,
   "metadata": {},
   "outputs": [
    {
     "data": {
      "text/plain": [
       "6-element Vector{Float64}:\n",
       "    6.878136252166805e6\n",
       " -259.0113696278884\n",
       " 1986.134383662354\n",
       "   -2.2156282462577286\n",
       " -984.9588936567426\n",
       " 7552.798658978454"
      ]
     },
     "metadata": {},
     "output_type": "display_data"
    }
   ],
   "source": [
    "#state satellite 2 (chaser)\n",
    "\n",
    "x_2 = sOSCtoCART(elements2_m, use_degrees=false)"
   ]
  },
  {
   "cell_type": "code",
   "execution_count": 12,
   "metadata": {},
   "outputs": [
    {
     "data": {
      "text/plain": [
       "6-element Vector{Float64}:\n",
       "   -0.2913181949406862\n",
       " -259.0113696278884\n",
       " 1986.134383662354\n",
       "   -2.2156282462577286\n",
       "    4.171718001089175e-5\n",
       "   -0.0003198930062353611"
      ]
     },
     "metadata": {},
     "output_type": "display_data"
    }
   ],
   "source": [
    "#relative state of chaser wrt target\n",
    "#this is in ECI frame\n",
    "difference = x_2 - x_1 "
   ]
  },
  {
   "cell_type": "code",
   "execution_count": 13,
   "metadata": {},
   "outputs": [
    {
     "data": {
      "text/plain": [
       "6-element StaticArraysCore.SVector{6, Float64} with indices SOneTo(6):\n",
       "   -0.2913181949406862\n",
       " 2002.9519913273894\n",
       "    2.7017514072632172e-14\n",
       "    0.002412819262479271\n",
       "   -1.5962127995240716e-12\n",
       "    3.511794450825904e-14"
      ]
     },
     "metadata": {},
     "output_type": "display_data"
    }
   ],
   "source": [
    "#this is in the LVLH (RTN) frame of the target (primary observing satellite) \n",
    "initial_difference = sECItoRTN(x_1, x_2) "
   ]
  },
  {
   "cell_type": "code",
   "execution_count": 14,
   "metadata": {},
   "outputs": [
    {
     "data": {
      "text/plain": [
       "0.0001"
      ]
     },
     "metadata": {},
     "output_type": "display_data"
    }
   ],
   "source": [
    "#unit scaling to make the numerics better (no overshoot)\n",
    "position_scale = 100\n",
    "time_scale = 1000\n",
    "\n",
    "velocity_scale = position_scale/time_scale\n",
    "acceleration_scale = position_scale/(time_scale)^2"
   ]
  },
  {
   "cell_type": "code",
   "execution_count": 15,
   "metadata": {},
   "outputs": [
    {
     "data": {
      "text/plain": [
       "3.986e14"
      ]
     },
     "metadata": {},
     "output_type": "display_data"
    }
   ],
   "source": [
    "#mu - gravitational parameter (m3/s2)\n",
    "mu = 3.986e14"
   ]
  },
  {
   "cell_type": "code",
   "execution_count": 16,
   "metadata": {},
   "outputs": [
    {
     "data": {
      "text/plain": [
       "3.986e14"
      ]
     },
     "metadata": {},
     "output_type": "display_data"
    }
   ],
   "source": [
    "mu_scaled = mu/(position_scale^3/time_scale^2)"
   ]
  },
  {
   "cell_type": "code",
   "execution_count": 17,
   "metadata": {},
   "outputs": [
    {
     "data": {
      "text/plain": [
       "5686.266596687438"
      ]
     },
     "metadata": {},
     "output_type": "display_data"
    }
   ],
   "source": [
    "#target orbit period in seconds\n",
    "T = 2*pi*sqrt((elements1[1]^3)/(mu))"
   ]
  },
  {
   "cell_type": "code",
   "execution_count": 18,
   "metadata": {},
   "outputs": [
    {
     "data": {
      "text/plain": [
       "6.885635e6"
      ]
     },
     "metadata": {},
     "output_type": "display_data"
    }
   ],
   "source": [
    "#semi major axis of target satellite (meters)\n",
    "a = elements1[1]"
   ]
  },
  {
   "cell_type": "code",
   "execution_count": 19,
   "metadata": {},
   "outputs": [
    {
     "data": {
      "text/plain": [
       "68856.35"
      ]
     },
     "metadata": {},
     "output_type": "display_data"
    }
   ],
   "source": [
    "#scaled semi major axis\n",
    "a_scaled = a/position_scale"
   ]
  },
  {
   "cell_type": "code",
   "execution_count": 20,
   "metadata": {},
   "outputs": [
    {
     "data": {
      "text/plain": [
       "0.0011049755055170796"
      ]
     },
     "metadata": {},
     "output_type": "display_data"
    }
   ],
   "source": [
    "#constant mean motion of target n = sqrt(mu/a^3)\n",
    "#units: rad/s\n",
    "n = sqrt(mu/a^3)"
   ]
  },
  {
   "cell_type": "code",
   "execution_count": 21,
   "metadata": {},
   "outputs": [
    {
     "data": {
      "text/plain": [
       "1.1049755055170793"
      ]
     },
     "metadata": {},
     "output_type": "display_data"
    }
   ],
   "source": [
    "n_scaled = sqrt(mu_scaled/a_scaled^3)"
   ]
  },
  {
   "cell_type": "code",
   "execution_count": 22,
   "metadata": {},
   "outputs": [
    {
     "data": {
      "text/plain": [
       "3"
      ]
     },
     "metadata": {},
     "output_type": "display_data"
    }
   ],
   "source": [
    "#number of states\n",
    "nx = 6\n",
    "\n",
    "#number of control inputs\n",
    "nu = 3"
   ]
  },
  {
   "cell_type": "code",
   "execution_count": 23,
   "metadata": {},
   "outputs": [
    {
     "data": {
      "text/plain": [
       "60"
      ]
     },
     "metadata": {},
     "output_type": "display_data"
    }
   ],
   "source": [
    "#timestep\n",
    "dt = 60"
   ]
  },
  {
   "cell_type": "code",
   "execution_count": 24,
   "metadata": {},
   "outputs": [
    {
     "data": {
      "text/plain": [
       "0.06"
      ]
     },
     "metadata": {},
     "output_type": "display_data"
    }
   ],
   "source": [
    "dt_scaled = dt/time_scale "
   ]
  },
  {
   "cell_type": "code",
   "execution_count": 25,
   "metadata": {},
   "outputs": [
    {
     "data": {
      "text/plain": [
       "94"
      ]
     },
     "metadata": {},
     "output_type": "display_data"
    }
   ],
   "source": [
    "#this is a 5 orbits for dt=60\n",
    "\n",
    "#worked with 470 for some reason? \n",
    "#N = 470\n",
    "#one orbit \n",
    "N = 94\n",
    "\n",
    "#2 orbit look ahead? \n",
    "#N = 188"
   ]
  },
  {
   "cell_type": "code",
   "execution_count": 26,
   "metadata": {},
   "outputs": [
    {
     "data": {
      "text/plain": [
       "94-element LinRange{Float64, Int64}:\n",
       " 1.0, 61.6344, 122.269, 182.903, 243.538, …, 5458.1, 5518.73, 5579.37, 5640.0"
      ]
     },
     "metadata": {},
     "output_type": "display_data"
    }
   ],
   "source": [
    "thist = LinRange(1, N*dt, N)"
   ]
  },
  {
   "cell_type": "code",
   "execution_count": 27,
   "metadata": {},
   "outputs": [
    {
     "data": {
      "text/plain": [
       "6-element Vector{Float64}:\n",
       " 0.0\n",
       " 0.0\n",
       " 0.0\n",
       " 0.0\n",
       " 0.0\n",
       " 0.0"
      ]
     },
     "metadata": {},
     "output_type": "display_data"
    }
   ],
   "source": [
    "x0_target = zeros(nx) "
   ]
  },
  {
   "cell_type": "code",
   "execution_count": 28,
   "metadata": {},
   "outputs": [
    {
     "data": {
      "text/plain": [
       "6-element StaticArraysCore.SVector{6, Float64} with indices SOneTo(6):\n",
       "   -0.2913181949406862\n",
       " 2002.9519913273894\n",
       "    2.7017514072632172e-14\n",
       "    0.002412819262479271\n",
       "   -1.5962127995240716e-12\n",
       "    3.511794450825904e-14"
      ]
     },
     "metadata": {},
     "output_type": "display_data"
    }
   ],
   "source": [
    "#using the true data from the ppt\n",
    "#relative state of the chaser wrt target \n",
    "#in the target RTN frame\n",
    "x0_chaser = initial_difference"
   ]
  },
  {
   "cell_type": "code",
   "execution_count": 29,
   "metadata": {},
   "outputs": [
    {
     "data": {
      "text/plain": [
       "-0.002209951011034159"
      ]
     },
     "metadata": {},
     "output_type": "display_data"
    }
   ],
   "source": [
    "A = zeros(nx, nx)\n",
    "A[1:3, 4:6] = I(3)\n",
    "A[4, 1] = 3*n^2\n",
    "A[6, 3] = -n^2\n",
    "A[4, 5] = 2*n\n",
    "A[5, 4] = -2*n"
   ]
  },
  {
   "cell_type": "code",
   "execution_count": 30,
   "metadata": {},
   "outputs": [
    {
     "data": {
      "text/plain": [
       "-2.2099510110341587"
      ]
     },
     "metadata": {},
     "output_type": "display_data"
    }
   ],
   "source": [
    "A_scaled = zeros(nx, nx)\n",
    "A_scaled[1:3, 4:6] = I(3)\n",
    "A_scaled[4, 1] = 3*n_scaled^2\n",
    "A_scaled[6, 3] = -n_scaled^2\n",
    "A_scaled[4, 5] = 2*n_scaled\n",
    "A_scaled[5, 4] = -2*n_scaled"
   ]
  },
  {
   "cell_type": "code",
   "execution_count": 31,
   "metadata": {},
   "outputs": [
    {
     "data": {
      "text/plain": [
       "5.22"
      ]
     },
     "metadata": {},
     "output_type": "display_data"
    }
   ],
   "source": [
    "#mass of the satellite (kg) from data\n",
    "m = 5.22"
   ]
  },
  {
   "cell_type": "code",
   "execution_count": 32,
   "metadata": {},
   "outputs": [
    {
     "data": {
      "text/plain": [
       "0.0046"
      ]
     },
     "metadata": {},
     "output_type": "display_data"
    }
   ],
   "source": [
    "#in m/s2. L1 norm \n",
    "umax = 4.6e-3"
   ]
  },
  {
   "cell_type": "code",
   "execution_count": 33,
   "metadata": {},
   "outputs": [
    {
     "data": {
      "text/plain": [
       "46.0"
      ]
     },
     "metadata": {},
     "output_type": "display_data"
    }
   ],
   "source": [
    "umax_scaled = umax/acceleration_scale "
   ]
  },
  {
   "cell_type": "code",
   "execution_count": 34,
   "metadata": {},
   "outputs": [
    {
     "data": {
      "text/plain": [
       "6×3 Matrix{Float64}:\n",
       " 0.0  0.0  0.0\n",
       " 0.0  0.0  0.0\n",
       " 0.0  0.0  0.0\n",
       " 1.0  0.0  0.0\n",
       " 0.0  1.0  0.0\n",
       " 0.0  0.0  1.0"
      ]
     },
     "metadata": {},
     "output_type": "display_data"
    }
   ],
   "source": [
    "#si units\n",
    "B = [zeros(3,3); I(3)]\n",
    "\n",
    "#scaled\n",
    "#B = [zeros(3,3); 1/acceleration_scale*I(3)]\n",
    "\n",
    "#trying new\n",
    "#this maps an l1 norm of 1 to 4.66e-3 (bug, not working)\n",
    "\n",
    "#B = [zeros(3,3); 1/acceleration_scale*I(3)]"
   ]
  },
  {
   "cell_type": "code",
   "execution_count": 35,
   "metadata": {},
   "outputs": [
    {
     "data": {
      "text/plain": [
       "spacecraft_dynamics (generic function with 1 method)"
      ]
     },
     "metadata": {},
     "output_type": "display_data"
    }
   ],
   "source": [
    "#continous dynamics\n",
    "function spacecraft_dynamics(x,u)\n",
    "\n",
    "    xdot = A*x + B*u\n",
    "\n",
    "    return xdot\n",
    "\n",
    "end"
   ]
  },
  {
   "cell_type": "code",
   "execution_count": 36,
   "metadata": {},
   "outputs": [
    {
     "data": {
      "text/plain": [
       "9×9 Matrix{Float64}:\n",
       "  1.00659      0.0   0.0        …   0.00179934  7.95408e-5  0.0\n",
       " -0.000291351  1.0   0.0           -7.95408e-5  0.00179736  0.0\n",
       "  0.0          0.0   0.997803       0.0         0.0         0.00179934\n",
       "  0.219614     0.0   0.0            0.0599561   0.00397645  0.0\n",
       " -0.0145654    0.0   0.0           -0.00397645  0.0598242   0.0\n",
       "  0.0          0.0  -0.0732046  …   0.0         0.0         0.0599561\n",
       "  0.0          0.0   0.0            1.0         0.0         0.0\n",
       "  0.0          0.0   0.0            0.0         1.0         0.0\n",
       "  0.0          0.0   0.0            0.0         0.0         1.0"
      ]
     },
     "metadata": {},
     "output_type": "display_data"
    }
   ],
   "source": [
    "#discretize the dynamics model \n",
    "H_scaled = exp(dt_scaled*[A_scaled B; zeros(nu, nx+nu)])"
   ]
  },
  {
   "cell_type": "code",
   "execution_count": 37,
   "metadata": {},
   "outputs": [
    {
     "data": {
      "text/plain": [
       "6×3 Matrix{Float64}:\n",
       "  0.00179934  7.95408e-5  0.0\n",
       " -7.95408e-5  0.00179736  0.0\n",
       "  0.0         0.0         0.00179934\n",
       "  0.0599561   0.00397645  0.0\n",
       " -0.00397645  0.0598242   0.0\n",
       "  0.0         0.0         0.0599561"
      ]
     },
     "metadata": {},
     "output_type": "display_data"
    }
   ],
   "source": [
    "#Scaled Discrete Dynamics Matrices\n",
    "Ad_scaled  = H_scaled[1:nx, 1:nx]\n",
    "Bd_scaled = H_scaled[1:nx, (nx+1):end]"
   ]
  },
  {
   "cell_type": "code",
   "execution_count": 38,
   "metadata": {},
   "outputs": [
    {
     "data": {
      "text/plain": [
       "9×9 Matrix{Float64}:\n",
       "  1.00659      0.0   0.0         …  1799.34       79.5408      0.0\n",
       " -0.000291351  1.0   0.0             -79.5408   1797.36        0.0\n",
       "  0.0          0.0   0.997803          0.0         0.0      1799.34\n",
       "  0.000219614  0.0   0.0              59.9561      3.97645     0.0\n",
       " -1.45654e-5   0.0   0.0              -3.97645    59.8242      0.0\n",
       "  0.0          0.0  -7.32046e-5  …     0.0         0.0        59.9561\n",
       "  0.0          0.0   0.0               1.0         0.0         0.0\n",
       "  0.0          0.0   0.0               0.0         1.0         0.0\n",
       "  0.0          0.0   0.0               0.0         0.0         1.0"
      ]
     },
     "metadata": {},
     "output_type": "display_data"
    }
   ],
   "source": [
    "#discretize the dynamics model \n",
    "H = exp(dt*[A B; zeros(nu, nx+nu)])"
   ]
  },
  {
   "cell_type": "code",
   "execution_count": 39,
   "metadata": {},
   "outputs": [
    {
     "data": {
      "text/plain": [
       "6×3 Matrix{Float64}:\n",
       " 1799.34       79.5408      0.0\n",
       "  -79.5408   1797.36        0.0\n",
       "    0.0         0.0      1799.34\n",
       "   59.9561      3.97645     0.0\n",
       "   -3.97645    59.8242      0.0\n",
       "    0.0         0.0        59.9561"
      ]
     },
     "metadata": {},
     "output_type": "display_data"
    }
   ],
   "source": [
    "#Discrete Dynamics Matrices\n",
    "Ad  = H[1:nx, 1:nx]\n",
    "Bd = H[1:nx, (nx+1):end]"
   ]
  },
  {
   "cell_type": "code",
   "execution_count": 40,
   "metadata": {},
   "outputs": [
    {
     "data": {
      "text/plain": [
       "spacecraft_dynamics_discrete (generic function with 1 method)"
      ]
     },
     "metadata": {},
     "output_type": "display_data"
    }
   ],
   "source": [
    "#discrete dynamics\n",
    "function spacecraft_dynamics_discrete(x,u)\n",
    "\n",
    "    xnext = Ad*x + Bd*u\n",
    "\n",
    "    return xnext\n",
    "\n",
    "end"
   ]
  },
  {
   "cell_type": "code",
   "execution_count": 41,
   "metadata": {},
   "outputs": [
    {
     "data": {
      "text/plain": [
       "spacecraft_dynamics_discrete_scaled (generic function with 1 method)"
      ]
     },
     "metadata": {},
     "output_type": "display_data"
    }
   ],
   "source": [
    "function spacecraft_dynamics_discrete_scaled(x_scaled, u_scaled)\n",
    "\n",
    "    xnext_scaled = Ad_scaled*x_scaled + Bd_scaled*u_scaled\n",
    "\n",
    "    return xnext_scaled\n",
    "\n",
    "end"
   ]
  },
  {
   "cell_type": "code",
   "execution_count": 42,
   "metadata": {},
   "outputs": [
    {
     "data": {
      "text/plain": [
       "94"
      ]
     },
     "metadata": {},
     "output_type": "display_data"
    }
   ],
   "source": [
    "N_h = N"
   ]
  },
  {
   "cell_type": "code",
   "execution_count": 43,
   "metadata": {},
   "outputs": [
    {
     "data": {
      "text/plain": [
       "6-element StaticArraysCore.SVector{6, Float64} with indices SOneTo(6):\n",
       "   -0.2913181949406862\n",
       " 2002.9519913273894\n",
       "    2.7017514072632172e-14\n",
       "    0.002412819262479271\n",
       "   -1.5962127995240716e-12\n",
       "    3.511794450825904e-14"
      ]
     },
     "metadata": {},
     "output_type": "display_data"
    }
   ],
   "source": [
    "x_initial = x0_chaser"
   ]
  },
  {
   "cell_type": "code",
   "execution_count": 44,
   "metadata": {},
   "outputs": [
    {
     "data": {
      "text/plain": [
       "6-element Vector{Float64}:\n",
       " -0.002913181949406862\n",
       " 20.029519913273894\n",
       "  2.701751407263217e-16\n",
       "  0.02412819262479271\n",
       " -1.5962127995240716e-11\n",
       "  3.511794450825904e-13"
      ]
     },
     "metadata": {},
     "output_type": "display_data"
    }
   ],
   "source": [
    "x_initial_scaled = [x0_chaser[1:3]/position_scale; x0_chaser[4:6]/velocity_scale] "
   ]
  },
  {
   "cell_type": "code",
   "execution_count": 45,
   "metadata": {},
   "outputs": [
    {
     "data": {
      "text/plain": [
       "6-element Vector{Float64}:\n",
       " 0.0\n",
       " 0.0\n",
       " 0.0\n",
       " 0.0\n",
       " 0.0\n",
       " 0.0"
      ]
     },
     "metadata": {},
     "output_type": "display_data"
    }
   ],
   "source": [
    "x_goal = x0_target"
   ]
  },
  {
   "cell_type": "code",
   "execution_count": 46,
   "metadata": {},
   "outputs": [
    {
     "data": {
      "text/plain": [
       "update_prob (generic function with 1 method)"
      ]
     },
     "metadata": {},
     "output_type": "display_data"
    }
   ],
   "source": [
    "function update_prob(x_initial_k)\n",
    "\n",
    "    X = Convex.Variable(nx, N_h)\n",
    "    U = Convex.Variable(nu, N_h-1)\n",
    "\n",
    "    #slack variables \n",
    "    #representing the L2 norm control constraint\n",
    "    t = Convex.Variable(1, N_h-1)\n",
    "\n",
    "    #for the L2 position cost \n",
    "    s = Convex.Variable(1, N_h)\n",
    "\n",
    "    #Initial State Constraint\n",
    "    cons = Constraint[X[:,1] == x_initial_k]\n",
    "\n",
    "    #Dynamics Constraint\n",
    "    for k=1:(N_h-1)\n",
    "\n",
    "        push!(cons, X[:,k+1] - (Ad_scaled*X[:,k] + Bd_scaled*U[:,k]) == zeros(6))\n",
    "\n",
    "    end\n",
    "\n",
    "    #try both l1 and l2\n",
    "    for k=1:(N_h-1)\n",
    "\n",
    "       #L1 works\n",
    "       push!(cons, norm(U[:,k],1) <= t[k])\n",
    "\n",
    "    end\n",
    "\n",
    "\n",
    "    #upper bound for the slack\n",
    "\n",
    "    #have no upper bound on slack (testing)\n",
    "    for k=1:(N_h-1)\n",
    "       push!(cons, t[k] <= umax/acceleration_scale)\n",
    "\n",
    "    end\n",
    "\n",
    "\n",
    "    #slack is the upper bound for the L2 norm cost on position\n",
    "    for k=1:N_h\n",
    "\n",
    "        push!(cons, norm(X[:,k],2) <= s[k])\n",
    "\n",
    "    end\n",
    "        \n",
    "\n",
    "\n",
    "    #need to implement in a way tiny mpc can do it...\n",
    "    # for k=1:(N_h-1)\n",
    "\n",
    "    #     if (k%2) == 0\n",
    "\n",
    "    #         push!(cons, U[:,k] == zeros(3))\n",
    "\n",
    "    #     else\n",
    "    #         continue\n",
    "    #     end\n",
    "\n",
    "\n",
    "    # end\n",
    "\n",
    "    return cons, X, U, t, s\n",
    "\n",
    "end"
   ]
  },
  {
   "cell_type": "code",
   "execution_count": 47,
   "metadata": {},
   "outputs": [
    {
     "data": {
      "text/plain": [
       "solve_prob (generic function with 1 method)"
      ]
     },
     "metadata": {},
     "output_type": "display_data"
    }
   ],
   "source": [
    "function solve_prob(cons, X, U, t, s, N)\n",
    "\n",
    "\n",
    "    #objective \n",
    "    obj = 0\n",
    "\n",
    "    #weights depending how conservative you want to be on fuel vs reaching the goal\n",
    "    beta = 1\n",
    "    alpha = 1\n",
    "\n",
    "    # for k=1:N-1\n",
    "    #     obj += beta*norm(U[:,k], 1) + alpha*norm(X[:,k], 2)\n",
    "    # end\n",
    "\n",
    "    # #terminal cost\n",
    "    # obj += alpha*norm(X[:,N], 2)\n",
    "\n",
    "\n",
    "    #cost function wrt slack variables\n",
    "    for k=1:N-1\n",
    "        obj += alpha*s[k] + beta*t[k]\n",
    "    end\n",
    "\n",
    "    #terminal cost\n",
    "    obj += alpha*s[N]\n",
    "\n",
    "    prob = minimize(obj, cons)\n",
    "\n",
    "    #solve with ECOS\n",
    "    #Convex.solve!(prob, ()-> ECOS.Optimizer(), silent_solver=true);\n",
    "\n",
    "    Convex.solve!(prob, ()-> Mosek.Optimizer(), silent_solver = true)\n",
    "\n",
    "    Xm = X.value\n",
    "    Um = U.value\n",
    "    tm = t.value\n",
    "    sm = s.value\n",
    "\n",
    "    return Xm, Um, tm, sm\n",
    "\n",
    "end"
   ]
  },
  {
   "cell_type": "code",
   "execution_count": 48,
   "metadata": {},
   "outputs": [
    {
     "data": {
      "text/plain": [
       "188"
      ]
     },
     "metadata": {},
     "output_type": "display_data"
    }
   ],
   "source": [
    "#iterations = 1000\n",
    "num_orbits = 2\n",
    "\n",
    "#50 orbits worth of data\n",
    "iterations = N*num_orbits"
   ]
  },
  {
   "cell_type": "code",
   "execution_count": 49,
   "metadata": {},
   "outputs": [],
   "source": [
    "#set up in Convex.jl"
   ]
  },
  {
   "cell_type": "code",
   "execution_count": 50,
   "metadata": {},
   "outputs": [
    {
     "data": {
      "text/plain": [
       "6-element Vector{Float64}:\n",
       " -0.002913181949406862\n",
       " 20.029519913273894\n",
       "  2.701751407263217e-16\n",
       "  0.02412819262479271\n",
       " -1.5962127995240716e-11\n",
       "  3.511794450825904e-13"
      ]
     },
     "metadata": {},
     "output_type": "display_data"
    }
   ],
   "source": [
    "xhist = zeros(nx, iterations)\n",
    "uhist = zeros(nu, iterations-1)\n",
    "\n",
    "thist = zeros(iterations-1)\n",
    "shist = zeros(iterations)\n",
    "\n",
    "xhist[:,1] = x_initial_scaled"
   ]
  },
  {
   "cell_type": "code",
   "execution_count": 51,
   "metadata": {},
   "outputs": [
    {
     "data": {
      "text/plain": [
       "1:2:185"
      ]
     },
     "metadata": {},
     "output_type": "display_data"
    }
   ],
   "source": [
    "iters_odd = 1:2:iterations-2"
   ]
  },
  {
   "cell_type": "code",
   "execution_count": 52,
   "metadata": {},
   "outputs": [],
   "source": [
    "#working with just 1 solve"
   ]
  },
  {
   "cell_type": "code",
   "execution_count": 53,
   "metadata": {},
   "outputs": [
    {
     "name": "stdout",
     "output_type": "stream",
     "text": [
      "Solved Iteration: 1\n"
     ]
    },
    {
     "data": {
      "text/plain": [
       "6-element Vector{Float64}:\n",
       "  0.08128392459106176\n",
       " 20.025765942664442\n",
       " -3.305186058904605e-11\n",
       "  2.781413927900521\n",
       " -0.18607148205044038\n",
       " -1.1016852851298598e-9"
      ]
     },
     "metadata": {},
     "output_type": "display_data"
    }
   ],
   "source": [
    "for i=1:iterations-1\n",
    "\n",
    "# for i in iters_odd\n",
    "\n",
    "#just 1 solve \n",
    "i = 1\n",
    "    \n",
    "    cons, X, U, t, s = update_prob(xhist[:,i])\n",
    "\n",
    "    Xm, Um, tm, sm = solve_prob(cons, X, U, t, s, N_h)\n",
    "\n",
    "    println(\"Solved Iteration: \", i)\n",
    "\n",
    "    #take one step \n",
    "    uhist[:,i] = Um[:,1]\n",
    "\n",
    "    thist[i] = tm[1]\n",
    "\n",
    "    shist[i] = sm[1]\n",
    "\n",
    "    xhist[:,i+1] = spacecraft_dynamics_discrete_scaled(xhist[:,i], uhist[:,i])\n",
    "\n",
    "end"
   ]
  },
  {
   "cell_type": "code",
   "execution_count": null,
   "metadata": {},
   "outputs": [],
   "source": [
    "xhist[:,106]"
   ]
  },
  {
   "cell_type": "code",
   "execution_count": null,
   "metadata": {},
   "outputs": [],
   "source": [
    "plot(xhist') "
   ]
  },
  {
   "cell_type": "code",
   "execution_count": null,
   "metadata": {},
   "outputs": [],
   "source": [
    "plot(uhist')"
   ]
  },
  {
   "cell_type": "code",
   "execution_count": null,
   "metadata": {},
   "outputs": [],
   "source": [
    "control_normz = zeros(iterations-1)\n",
    "\n",
    "for i=1:iterations-1\n",
    "\n",
    "    control_normz[i] = norm(uhist[:,i], 1)\n",
    "\n",
    "end"
   ]
  },
  {
   "cell_type": "code",
   "execution_count": null,
   "metadata": {},
   "outputs": [],
   "source": [
    "state_normz = zeros(iterations)\n",
    "\n",
    "for i=1:iterations\n",
    "\n",
    "    state_normz[i] = norm(xhist[:,i], 2)\n",
    "end"
   ]
  },
  {
   "cell_type": "code",
   "execution_count": null,
   "metadata": {},
   "outputs": [],
   "source": [
    "#checked that the norms are pushed against the slacks. all good"
   ]
  },
  {
   "cell_type": "code",
   "execution_count": null,
   "metadata": {},
   "outputs": [],
   "source": [
    "shist "
   ]
  },
  {
   "cell_type": "code",
   "execution_count": null,
   "metadata": {},
   "outputs": [],
   "source": [
    "slack_diff_state = state_normz - shist"
   ]
  },
  {
   "cell_type": "code",
   "execution_count": null,
   "metadata": {},
   "outputs": [],
   "source": [
    "ctrl_diff_state = control_normz - thist"
   ]
  },
  {
   "cell_type": "code",
   "execution_count": null,
   "metadata": {},
   "outputs": [],
   "source": [
    "xhist[:,150]"
   ]
  },
  {
   "cell_type": "code",
   "execution_count": null,
   "metadata": {},
   "outputs": [],
   "source": [
    "xhist[1:3, 106]*position_scale "
   ]
  },
  {
   "cell_type": "code",
   "execution_count": null,
   "metadata": {},
   "outputs": [],
   "source": [
    "xhist[1:3, 106]*position_scale "
   ]
  },
  {
   "cell_type": "code",
   "execution_count": null,
   "metadata": {},
   "outputs": [],
   "source": [
    "plot(slack_diff_state)"
   ]
  },
  {
   "cell_type": "code",
   "execution_count": null,
   "metadata": {},
   "outputs": [],
   "source": [
    "all_norms = zeros(iterations-1)\n",
    "\n",
    "for i=1:iterations-1\n",
    "\n",
    "    all_norms[i] = norm(uhist[:,i],1)\n",
    "\n",
    "end"
   ]
  },
  {
   "cell_type": "code",
   "execution_count": null,
   "metadata": {},
   "outputs": [],
   "source": [
    "xhist "
   ]
  },
  {
   "cell_type": "code",
   "execution_count": null,
   "metadata": {},
   "outputs": [],
   "source": [
    "uhist "
   ]
  },
  {
   "cell_type": "code",
   "execution_count": null,
   "metadata": {},
   "outputs": [],
   "source": [
    "#does full on norm for all the iterations...\n",
    "plot(all_norms) \n",
    "#plot!(4.6e-3*ones(iterations))"
   ]
  },
  {
   "cell_type": "code",
   "execution_count": null,
   "metadata": {},
   "outputs": [],
   "source": [
    "all_norms \n"
   ]
  },
  {
   "cell_type": "code",
   "execution_count": null,
   "metadata": {},
   "outputs": [],
   "source": [
    "xhist "
   ]
  },
  {
   "cell_type": "code",
   "execution_count": null,
   "metadata": {},
   "outputs": [],
   "source": [
    "plot(xhist[1,:], xhist[2,:], xhist[3,:], label = \"Chaser Trajectory\", zlim = (-1,1))\n",
    "\n",
    "scatter!([xhist[1,1]], [xhist[2,1]], [xhist[3,1]], label = \"Initial State\")\n",
    "scatter!([xhist[1,end]], [xhist[2,end]], [xhist[3,end]], label = \"End State\")\n",
    "\n",
    "scatter!([0], [0], [0], label= \"Target\")"
   ]
  },
  {
   "cell_type": "code",
   "execution_count": null,
   "metadata": {},
   "outputs": [],
   "source": [
    "plot(xhist[2,:], xhist[1,:], xlabel= \"Tangential (m)\", ylabel=\"Radial (m)\")"
   ]
  },
  {
   "cell_type": "code",
   "execution_count": null,
   "metadata": {},
   "outputs": [],
   "source": [
    "plot(xhist[3,:], xhist[1,:], xlabel= \"Normal (m)\", ylabel=\"Radial (m)\", label=false)"
   ]
  },
  {
   "cell_type": "code",
   "execution_count": null,
   "metadata": {},
   "outputs": [],
   "source": [
    "plot(xhist[1,:], title=\"Positions\") \n",
    "plot!(xhist[2,:])\n",
    "plot!(xhist[3,:])"
   ]
  },
  {
   "cell_type": "code",
   "execution_count": null,
   "metadata": {},
   "outputs": [],
   "source": [
    "plot(xhist[4,:], title=\"Velocities\") \n",
    "plot!(xhist[5,:])\n",
    "plot!(xhist[6,:])"
   ]
  },
  {
   "cell_type": "code",
   "execution_count": null,
   "metadata": {},
   "outputs": [],
   "source": [
    "plot(uhist[1,:], title = \"Controls\")\n",
    "plot!(uhist[2,:])\n",
    "plot!(uhist[3,:])"
   ]
  },
  {
   "cell_type": "code",
   "execution_count": null,
   "metadata": {},
   "outputs": [],
   "source": [
    "plot(uhist[1,1:50], title = \"Controls\")\n",
    "plot!(uhist[2,1:50])\n",
    "plot!(uhist[3,1:50])"
   ]
  },
  {
   "cell_type": "code",
   "execution_count": null,
   "metadata": {},
   "outputs": [],
   "source": [
    "fuel_usage = sum(abs.(vec(uhist)))"
   ]
  },
  {
   "cell_type": "code",
   "execution_count": null,
   "metadata": {},
   "outputs": [],
   "source": [
    "dt*fuel_usage "
   ]
  },
  {
   "cell_type": "code",
   "execution_count": null,
   "metadata": {},
   "outputs": [],
   "source": [
    "no_control = zeros(nx, iterations)"
   ]
  },
  {
   "cell_type": "code",
   "execution_count": null,
   "metadata": {},
   "outputs": [],
   "source": [
    "no_control[:,1] = x0_chaser"
   ]
  },
  {
   "cell_type": "code",
   "execution_count": null,
   "metadata": {},
   "outputs": [],
   "source": [
    "for i = 1:iterations-1\n",
    "\n",
    "    no_control[:, i+1] = Ad*no_control[:,i]\n",
    "\n",
    "end"
   ]
  },
  {
   "cell_type": "code",
   "execution_count": null,
   "metadata": {},
   "outputs": [],
   "source": [
    "# plot(no_control[1,:], no_control[2,:], no_control[3,:], zlims=(-1,1))\n",
    "# scatter!([0], [0], [0])"
   ]
  },
  {
   "cell_type": "code",
   "execution_count": null,
   "metadata": {},
   "outputs": [],
   "source": [
    "plot(no_control[2,:], no_control[1,:])"
   ]
  },
  {
   "cell_type": "code",
   "execution_count": null,
   "metadata": {},
   "outputs": [],
   "source": [
    "plot(no_control[3,:], no_control[1,:])"
   ]
  },
  {
   "cell_type": "code",
   "execution_count": null,
   "metadata": {},
   "outputs": [],
   "source": []
  }
 ],
 "metadata": {
  "kernelspec": {
   "display_name": "Julia 1.10.0",
   "language": "julia",
   "name": "julia-1.10"
  },
  "language_info": {
   "file_extension": ".jl",
   "mimetype": "application/julia",
   "name": "julia",
   "version": "1.10.0"
  }
 },
 "nbformat": 4,
 "nbformat_minor": 2
}
